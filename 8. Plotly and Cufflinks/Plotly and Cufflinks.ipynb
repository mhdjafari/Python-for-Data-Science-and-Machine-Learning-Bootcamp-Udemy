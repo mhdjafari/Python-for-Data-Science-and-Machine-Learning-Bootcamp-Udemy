{
 "cells": [
  {
   "cell_type": "markdown",
   "metadata": {},
   "source": [
    "___\n",
    "\n",
    "<a href='http://www.pieriandata.com'> <img src='../Pierian_Data_Logo.png' /></a>\n",
    "___\n",
    "# Plotly and Cufflinks"
   ]
  },
  {
   "cell_type": "markdown",
   "metadata": {},
   "source": [
    "Plotly is a library that allows you to create interactive plots that you can use in dashboards or websites (you can save them as html files or static images).\n",
    "\n",
    "## Installation\n",
    "\n",
    "In order for this all to work, you'll need to install plotly and cufflinks to call plots directly off of a pandas dataframe. These libraries are not currently available through **conda** but are available through **pip**. Install the libraries at your command line/terminal using:\n",
    "\n",
    "    pip install plotly\n",
    "    pip install cufflinks\n",
    "\n",
    "** NOTE: Make sure you only have one installation of Python on your computer when you do this, otherwise the installation may not work. **\n",
    "\n",
    "## Imports and Set-up"
   ]
  },
  {
   "cell_type": "code",
   "execution_count": 1,
   "metadata": {},
   "outputs": [],
   "source": [
    "import pandas as pd\n",
    "import numpy as np\n",
    "%matplotlib inline"
   ]
  },
  {
   "cell_type": "code",
   "execution_count": 2,
   "metadata": {},
   "outputs": [
    {
     "name": "stdout",
     "output_type": "stream",
     "text": [
      "5.1.0\n"
     ]
    }
   ],
   "source": [
    "from plotly import __version__\n",
    "from plotly.offline import download_plotlyjs, init_notebook_mode, plot, iplot\n",
    "\n",
    "print(__version__) # requires version >= 1.9.0"
   ]
  },
  {
   "cell_type": "code",
   "execution_count": 3,
   "metadata": {},
   "outputs": [],
   "source": [
    "import cufflinks as cf"
   ]
  },
  {
   "cell_type": "code",
   "execution_count": 4,
   "metadata": {},
   "outputs": [
    {
     "data": {
      "text/html": [
       "        <script type=\"text/javascript\">\n",
       "        window.PlotlyConfig = {MathJaxConfig: 'local'};\n",
       "        if (window.MathJax) {MathJax.Hub.Config({SVG: {font: \"STIX-Web\"}});}\n",
       "        if (typeof require !== 'undefined') {\n",
       "        require.undef(\"plotly\");\n",
       "        requirejs.config({\n",
       "            paths: {\n",
       "                'plotly': ['https://cdn.plot.ly/plotly-2.2.0.min']\n",
       "            }\n",
       "        });\n",
       "        require(['plotly'], function(Plotly) {\n",
       "            window._Plotly = Plotly;\n",
       "        });\n",
       "        }\n",
       "        </script>\n",
       "        "
      ]
     },
     "metadata": {},
     "output_type": "display_data"
    }
   ],
   "source": [
    "# For Notebooks\n",
    "init_notebook_mode(connected=True)"
   ]
  },
  {
   "cell_type": "code",
   "execution_count": 5,
   "metadata": {},
   "outputs": [
    {
     "data": {
      "text/html": [
       "        <script type=\"text/javascript\">\n",
       "        window.PlotlyConfig = {MathJaxConfig: 'local'};\n",
       "        if (window.MathJax) {MathJax.Hub.Config({SVG: {font: \"STIX-Web\"}});}\n",
       "        if (typeof require !== 'undefined') {\n",
       "        require.undef(\"plotly\");\n",
       "        requirejs.config({\n",
       "            paths: {\n",
       "                'plotly': ['https://cdn.plot.ly/plotly-2.2.0.min']\n",
       "            }\n",
       "        });\n",
       "        require(['plotly'], function(Plotly) {\n",
       "            window._Plotly = Plotly;\n",
       "        });\n",
       "        }\n",
       "        </script>\n",
       "        "
      ]
     },
     "metadata": {},
     "output_type": "display_data"
    }
   ],
   "source": [
    "# For offline use\n",
    "cf.go_offline()"
   ]
  },
  {
   "cell_type": "markdown",
   "metadata": {},
   "source": [
    "### Fake Data"
   ]
  },
  {
   "cell_type": "code",
   "execution_count": 6,
   "metadata": {},
   "outputs": [],
   "source": [
    "df = pd.DataFrame(np.random.randn(100,4),columns='A B C D'.split())"
   ]
  },
  {
   "cell_type": "code",
   "execution_count": 7,
   "metadata": {},
   "outputs": [
    {
     "data": {
      "text/html": [
       "<div>\n",
       "<style scoped>\n",
       "    .dataframe tbody tr th:only-of-type {\n",
       "        vertical-align: middle;\n",
       "    }\n",
       "\n",
       "    .dataframe tbody tr th {\n",
       "        vertical-align: top;\n",
       "    }\n",
       "\n",
       "    .dataframe thead th {\n",
       "        text-align: right;\n",
       "    }\n",
       "</style>\n",
       "<table border=\"1\" class=\"dataframe\">\n",
       "  <thead>\n",
       "    <tr style=\"text-align: right;\">\n",
       "      <th></th>\n",
       "      <th>A</th>\n",
       "      <th>B</th>\n",
       "      <th>C</th>\n",
       "      <th>D</th>\n",
       "    </tr>\n",
       "  </thead>\n",
       "  <tbody>\n",
       "    <tr>\n",
       "      <th>0</th>\n",
       "      <td>-0.895251</td>\n",
       "      <td>-1.117385</td>\n",
       "      <td>0.154020</td>\n",
       "      <td>-0.249282</td>\n",
       "    </tr>\n",
       "    <tr>\n",
       "      <th>1</th>\n",
       "      <td>-0.843368</td>\n",
       "      <td>1.746740</td>\n",
       "      <td>0.265726</td>\n",
       "      <td>0.437666</td>\n",
       "    </tr>\n",
       "    <tr>\n",
       "      <th>2</th>\n",
       "      <td>0.519438</td>\n",
       "      <td>0.146859</td>\n",
       "      <td>-0.343402</td>\n",
       "      <td>0.491164</td>\n",
       "    </tr>\n",
       "    <tr>\n",
       "      <th>3</th>\n",
       "      <td>0.207815</td>\n",
       "      <td>-0.465006</td>\n",
       "      <td>0.049074</td>\n",
       "      <td>1.752397</td>\n",
       "    </tr>\n",
       "    <tr>\n",
       "      <th>4</th>\n",
       "      <td>-0.287870</td>\n",
       "      <td>0.465585</td>\n",
       "      <td>0.828459</td>\n",
       "      <td>-0.915129</td>\n",
       "    </tr>\n",
       "  </tbody>\n",
       "</table>\n",
       "</div>"
      ],
      "text/plain": [
       "          A         B         C         D\n",
       "0 -0.895251 -1.117385  0.154020 -0.249282\n",
       "1 -0.843368  1.746740  0.265726  0.437666\n",
       "2  0.519438  0.146859 -0.343402  0.491164\n",
       "3  0.207815 -0.465006  0.049074  1.752397\n",
       "4 -0.287870  0.465585  0.828459 -0.915129"
      ]
     },
     "execution_count": 7,
     "metadata": {},
     "output_type": "execute_result"
    }
   ],
   "source": [
    "df.head()"
   ]
  },
  {
   "cell_type": "code",
   "execution_count": 8,
   "metadata": {},
   "outputs": [],
   "source": [
    "df2 = pd.DataFrame({'Category':['A','B','C'],'Values':[32,43,50]})"
   ]
  },
  {
   "cell_type": "code",
   "execution_count": 9,
   "metadata": {},
   "outputs": [
    {
     "data": {
      "text/html": [
       "<div>\n",
       "<style scoped>\n",
       "    .dataframe tbody tr th:only-of-type {\n",
       "        vertical-align: middle;\n",
       "    }\n",
       "\n",
       "    .dataframe tbody tr th {\n",
       "        vertical-align: top;\n",
       "    }\n",
       "\n",
       "    .dataframe thead th {\n",
       "        text-align: right;\n",
       "    }\n",
       "</style>\n",
       "<table border=\"1\" class=\"dataframe\">\n",
       "  <thead>\n",
       "    <tr style=\"text-align: right;\">\n",
       "      <th></th>\n",
       "      <th>Category</th>\n",
       "      <th>Values</th>\n",
       "    </tr>\n",
       "  </thead>\n",
       "  <tbody>\n",
       "    <tr>\n",
       "      <th>0</th>\n",
       "      <td>A</td>\n",
       "      <td>32</td>\n",
       "    </tr>\n",
       "    <tr>\n",
       "      <th>1</th>\n",
       "      <td>B</td>\n",
       "      <td>43</td>\n",
       "    </tr>\n",
       "    <tr>\n",
       "      <th>2</th>\n",
       "      <td>C</td>\n",
       "      <td>50</td>\n",
       "    </tr>\n",
       "  </tbody>\n",
       "</table>\n",
       "</div>"
      ],
      "text/plain": [
       "  Category  Values\n",
       "0        A      32\n",
       "1        B      43\n",
       "2        C      50"
      ]
     },
     "execution_count": 9,
     "metadata": {},
     "output_type": "execute_result"
    }
   ],
   "source": [
    "df2.head()"
   ]
  },
  {
   "cell_type": "markdown",
   "metadata": {},
   "source": [
    "## Using Cufflinks and iplot()\n",
    "\n",
    "* scatter\n",
    "* bar\n",
    "* box\n",
    "* spread\n",
    "* ratio\n",
    "* heatmap\n",
    "* surface\n",
    "* histogram\n",
    "* bubble"
   ]
  },
  {
   "cell_type": "markdown",
   "metadata": {},
   "source": [
    "## Scatter"
   ]
  },
  {
   "cell_type": "code",
   "execution_count": 10,
   "metadata": {},
   "outputs": [
    {
     "data": {
      "application/vnd.plotly.v1+json": {
       "config": {
        "linkText": "Export to plot.ly",
        "plotlyServerURL": "https://plot.ly",
        "showLink": true
       },
       "data": [
        {
         "line": {
          "color": "rgba(255, 153, 51, 1.0)",
          "dash": "solid",
          "shape": "linear",
          "width": 1.3
         },
         "marker": {
          "size": 10,
          "symbol": "circle"
         },
         "mode": "markers",
         "name": "B",
         "text": "",
         "type": "scatter",
         "x": [
          -0.8952513651069208,
          -0.8433675626903279,
          0.5194375646796255,
          0.20781533281382147,
          -0.28787023198130957,
          1.6626119003563948,
          0.8455339666282456,
          -0.004764186067881709,
          0.4733015021634591,
          -0.9426534090465928,
          0.3495407603251051,
          1.046237290545855,
          -0.9859596463402309,
          2.1084983582558596,
          -0.9317323755961524,
          0.6494024623069314,
          -0.3843287632960257,
          1.1614039215162952,
          -0.20123156557799382,
          -0.45298390054834,
          0.7347549725847721,
          -0.7677041350495847,
          0.13258824206569836,
          1.054969175247717,
          -1.3104840655184302,
          -0.8013236099028447,
          0.8811067964875391,
          1.37964961408107,
          -0.6967541155402649,
          -0.06015481378112143,
          1.6708711018109184,
          -0.8025842912977741,
          -0.015918404685731493,
          -0.027443107556971016,
          2.406932617211438,
          1.3057326517527597,
          -0.06865890639765183,
          1.1071268608316913,
          0.33981602924630167,
          -1.0872016494434344,
          -1.5039010182317643,
          -1.519624037806377,
          1.4712137408778254,
          -0.0034193275927080374,
          -0.6401644852992978,
          0.4859905760774655,
          0.0390256747991155,
          -1.941050095915409,
          -1.6177636665820099,
          0.613241988243389,
          -0.8362331163350449,
          1.6088686769777236,
          1.0424803246654821,
          0.021383677990268142,
          0.8482607537163633,
          0.2705487692995969,
          -0.29215392518076677,
          -0.10297268388786927,
          -1.1823360718306772,
          -0.291903670774597,
          -0.80294506515156,
          -0.9072759442656589,
          -0.8089516008862685,
          -0.9258452866799369,
          -0.06216798493213476,
          1.2447036743884878,
          0.04545716238838049,
          -0.5767553684691545,
          -0.757567169617877,
          1.5631791168400553,
          1.479076371008533,
          0.3313239929669739,
          -0.8932590257661409,
          -0.8233805286922103,
          1.0906334749242377,
          0.9254639718825185,
          0.3337368137528734,
          0.7499843768463412,
          0.8962171001982022,
          0.8433026224184019,
          0.041966578696571485,
          -0.3215182981515437,
          -2.126805113291232,
          -1.6303569601061727,
          -0.8656966690701975,
          -0.1959710508555525,
          -1.4209840585311801,
          -0.5464709582936679,
          -0.5121202308271431,
          -0.2238616074951767,
          0.3327302146369024,
          0.31238636848963375,
          -1.7015350452825535,
          -0.0549239733602343,
          0.2474203199269791,
          -0.36324706968849796,
          -1.0628515643718848,
          2.5078501395900497,
          -1.8677307647196009,
          0.3231424513059178
         ],
         "y": [
          -1.1173847502936025,
          1.746739718699284,
          0.14685877092398286,
          -0.46500629752162825,
          0.4655854906663578,
          -0.06079797292919306,
          -0.9935139192431094,
          -0.9840906486582907,
          0.3858807133247504,
          -0.05165981535030882,
          -0.28153938365960823,
          1.0444208610245398,
          2.9552086536453,
          -0.6360228636743235,
          -0.7750068348042938,
          0.3759362444110491,
          -1.0465943179905126,
          0.5207368215614654,
          -1.2645230056565269,
          -1.6672266527270678,
          0.8136435929779331,
          -0.5161670126408316,
          0.8295781733415212,
          -0.9370552324792465,
          -0.9434636737018017,
          -0.35376129291561254,
          0.1131341527958107,
          -0.7791813809558733,
          -1.5198565256723666,
          0.08475947400103076,
          0.5503775638643653,
          0.3864508203743008,
          1.24508676785871,
          -0.5944516877815453,
          -1.147388038671117,
          1.6745629245114566,
          -0.35706174852272393,
          0.09238182014036393,
          0.45219988102119246,
          -0.9982111420135565,
          -2.364337501067881,
          -1.5689780423807467,
          -0.6195922861260792,
          0.1332476222569659,
          0.7383518851748205,
          0.8093449800294485,
          0.7730083525819172,
          1.4058264441998591,
          1.6662888676900314,
          1.2187622943223144,
          -0.3569510110710778,
          0.789056791494699,
          -0.8914602748284073,
          1.09081664635188,
          -1.4903431943146759,
          -1.4169926866780527,
          0.8187783046002451,
          -1.2840812231710845,
          -0.7474812226213581,
          -0.18246447267077032,
          -1.7170896576775119,
          1.4251919420917685,
          -0.06684710644568471,
          2.248776203702825,
          -1.4497720828871339,
          0.33515054683217393,
          0.2572901158489185,
          -1.8474817915070532,
          0.07171750340675725,
          -0.33435320566254173,
          0.10383275376154216,
          -0.6284608927287233,
          0.866890297412042,
          -1.2024915815630428,
          0.1822133800005098,
          1.129717939403387,
          0.48778847655426805,
          -0.81404660894497,
          -2.4967023192028366,
          -0.15430570948289024,
          1.1629261282568337,
          0.07178192985158226,
          -2.499979619158677,
          -1.0099283783597963,
          -0.20866740683546953,
          -1.2713725553000081,
          -1.5004531175164042,
          0.9280389877106168,
          -1.5295643193552795,
          1.3793034095187395,
          0.24665735973714437,
          0.02648352346857129,
          -0.3723716925856273,
          1.7407167389351086,
          -0.2904664042394969,
          0.8703273669778087,
          1.8871063314463523,
          -0.15925783536561067,
          -0.01232500299030156,
          1.1049302887625263
         ]
        }
       ],
       "layout": {
        "legend": {
         "bgcolor": "#F5F6F9",
         "font": {
          "color": "#4D5663"
         }
        },
        "paper_bgcolor": "#F5F6F9",
        "plot_bgcolor": "#F5F6F9",
        "template": {
         "data": {
          "bar": [
           {
            "error_x": {
             "color": "#2a3f5f"
            },
            "error_y": {
             "color": "#2a3f5f"
            },
            "marker": {
             "line": {
              "color": "#E5ECF6",
              "width": 0.5
             },
             "pattern": {
              "fillmode": "overlay",
              "size": 10,
              "solidity": 0.2
             }
            },
            "type": "bar"
           }
          ],
          "barpolar": [
           {
            "marker": {
             "line": {
              "color": "#E5ECF6",
              "width": 0.5
             },
             "pattern": {
              "fillmode": "overlay",
              "size": 10,
              "solidity": 0.2
             }
            },
            "type": "barpolar"
           }
          ],
          "carpet": [
           {
            "aaxis": {
             "endlinecolor": "#2a3f5f",
             "gridcolor": "white",
             "linecolor": "white",
             "minorgridcolor": "white",
             "startlinecolor": "#2a3f5f"
            },
            "baxis": {
             "endlinecolor": "#2a3f5f",
             "gridcolor": "white",
             "linecolor": "white",
             "minorgridcolor": "white",
             "startlinecolor": "#2a3f5f"
            },
            "type": "carpet"
           }
          ],
          "choropleth": [
           {
            "colorbar": {
             "outlinewidth": 0,
             "ticks": ""
            },
            "type": "choropleth"
           }
          ],
          "contour": [
           {
            "colorbar": {
             "outlinewidth": 0,
             "ticks": ""
            },
            "colorscale": [
             [
              0,
              "#0d0887"
             ],
             [
              0.1111111111111111,
              "#46039f"
             ],
             [
              0.2222222222222222,
              "#7201a8"
             ],
             [
              0.3333333333333333,
              "#9c179e"
             ],
             [
              0.4444444444444444,
              "#bd3786"
             ],
             [
              0.5555555555555556,
              "#d8576b"
             ],
             [
              0.6666666666666666,
              "#ed7953"
             ],
             [
              0.7777777777777778,
              "#fb9f3a"
             ],
             [
              0.8888888888888888,
              "#fdca26"
             ],
             [
              1,
              "#f0f921"
             ]
            ],
            "type": "contour"
           }
          ],
          "contourcarpet": [
           {
            "colorbar": {
             "outlinewidth": 0,
             "ticks": ""
            },
            "type": "contourcarpet"
           }
          ],
          "heatmap": [
           {
            "colorbar": {
             "outlinewidth": 0,
             "ticks": ""
            },
            "colorscale": [
             [
              0,
              "#0d0887"
             ],
             [
              0.1111111111111111,
              "#46039f"
             ],
             [
              0.2222222222222222,
              "#7201a8"
             ],
             [
              0.3333333333333333,
              "#9c179e"
             ],
             [
              0.4444444444444444,
              "#bd3786"
             ],
             [
              0.5555555555555556,
              "#d8576b"
             ],
             [
              0.6666666666666666,
              "#ed7953"
             ],
             [
              0.7777777777777778,
              "#fb9f3a"
             ],
             [
              0.8888888888888888,
              "#fdca26"
             ],
             [
              1,
              "#f0f921"
             ]
            ],
            "type": "heatmap"
           }
          ],
          "heatmapgl": [
           {
            "colorbar": {
             "outlinewidth": 0,
             "ticks": ""
            },
            "colorscale": [
             [
              0,
              "#0d0887"
             ],
             [
              0.1111111111111111,
              "#46039f"
             ],
             [
              0.2222222222222222,
              "#7201a8"
             ],
             [
              0.3333333333333333,
              "#9c179e"
             ],
             [
              0.4444444444444444,
              "#bd3786"
             ],
             [
              0.5555555555555556,
              "#d8576b"
             ],
             [
              0.6666666666666666,
              "#ed7953"
             ],
             [
              0.7777777777777778,
              "#fb9f3a"
             ],
             [
              0.8888888888888888,
              "#fdca26"
             ],
             [
              1,
              "#f0f921"
             ]
            ],
            "type": "heatmapgl"
           }
          ],
          "histogram": [
           {
            "marker": {
             "pattern": {
              "fillmode": "overlay",
              "size": 10,
              "solidity": 0.2
             }
            },
            "type": "histogram"
           }
          ],
          "histogram2d": [
           {
            "colorbar": {
             "outlinewidth": 0,
             "ticks": ""
            },
            "colorscale": [
             [
              0,
              "#0d0887"
             ],
             [
              0.1111111111111111,
              "#46039f"
             ],
             [
              0.2222222222222222,
              "#7201a8"
             ],
             [
              0.3333333333333333,
              "#9c179e"
             ],
             [
              0.4444444444444444,
              "#bd3786"
             ],
             [
              0.5555555555555556,
              "#d8576b"
             ],
             [
              0.6666666666666666,
              "#ed7953"
             ],
             [
              0.7777777777777778,
              "#fb9f3a"
             ],
             [
              0.8888888888888888,
              "#fdca26"
             ],
             [
              1,
              "#f0f921"
             ]
            ],
            "type": "histogram2d"
           }
          ],
          "histogram2dcontour": [
           {
            "colorbar": {
             "outlinewidth": 0,
             "ticks": ""
            },
            "colorscale": [
             [
              0,
              "#0d0887"
             ],
             [
              0.1111111111111111,
              "#46039f"
             ],
             [
              0.2222222222222222,
              "#7201a8"
             ],
             [
              0.3333333333333333,
              "#9c179e"
             ],
             [
              0.4444444444444444,
              "#bd3786"
             ],
             [
              0.5555555555555556,
              "#d8576b"
             ],
             [
              0.6666666666666666,
              "#ed7953"
             ],
             [
              0.7777777777777778,
              "#fb9f3a"
             ],
             [
              0.8888888888888888,
              "#fdca26"
             ],
             [
              1,
              "#f0f921"
             ]
            ],
            "type": "histogram2dcontour"
           }
          ],
          "mesh3d": [
           {
            "colorbar": {
             "outlinewidth": 0,
             "ticks": ""
            },
            "type": "mesh3d"
           }
          ],
          "parcoords": [
           {
            "line": {
             "colorbar": {
              "outlinewidth": 0,
              "ticks": ""
             }
            },
            "type": "parcoords"
           }
          ],
          "pie": [
           {
            "automargin": true,
            "type": "pie"
           }
          ],
          "scatter": [
           {
            "marker": {
             "colorbar": {
              "outlinewidth": 0,
              "ticks": ""
             }
            },
            "type": "scatter"
           }
          ],
          "scatter3d": [
           {
            "line": {
             "colorbar": {
              "outlinewidth": 0,
              "ticks": ""
             }
            },
            "marker": {
             "colorbar": {
              "outlinewidth": 0,
              "ticks": ""
             }
            },
            "type": "scatter3d"
           }
          ],
          "scattercarpet": [
           {
            "marker": {
             "colorbar": {
              "outlinewidth": 0,
              "ticks": ""
             }
            },
            "type": "scattercarpet"
           }
          ],
          "scattergeo": [
           {
            "marker": {
             "colorbar": {
              "outlinewidth": 0,
              "ticks": ""
             }
            },
            "type": "scattergeo"
           }
          ],
          "scattergl": [
           {
            "marker": {
             "colorbar": {
              "outlinewidth": 0,
              "ticks": ""
             }
            },
            "type": "scattergl"
           }
          ],
          "scattermapbox": [
           {
            "marker": {
             "colorbar": {
              "outlinewidth": 0,
              "ticks": ""
             }
            },
            "type": "scattermapbox"
           }
          ],
          "scatterpolar": [
           {
            "marker": {
             "colorbar": {
              "outlinewidth": 0,
              "ticks": ""
             }
            },
            "type": "scatterpolar"
           }
          ],
          "scatterpolargl": [
           {
            "marker": {
             "colorbar": {
              "outlinewidth": 0,
              "ticks": ""
             }
            },
            "type": "scatterpolargl"
           }
          ],
          "scatterternary": [
           {
            "marker": {
             "colorbar": {
              "outlinewidth": 0,
              "ticks": ""
             }
            },
            "type": "scatterternary"
           }
          ],
          "surface": [
           {
            "colorbar": {
             "outlinewidth": 0,
             "ticks": ""
            },
            "colorscale": [
             [
              0,
              "#0d0887"
             ],
             [
              0.1111111111111111,
              "#46039f"
             ],
             [
              0.2222222222222222,
              "#7201a8"
             ],
             [
              0.3333333333333333,
              "#9c179e"
             ],
             [
              0.4444444444444444,
              "#bd3786"
             ],
             [
              0.5555555555555556,
              "#d8576b"
             ],
             [
              0.6666666666666666,
              "#ed7953"
             ],
             [
              0.7777777777777778,
              "#fb9f3a"
             ],
             [
              0.8888888888888888,
              "#fdca26"
             ],
             [
              1,
              "#f0f921"
             ]
            ],
            "type": "surface"
           }
          ],
          "table": [
           {
            "cells": {
             "fill": {
              "color": "#EBF0F8"
             },
             "line": {
              "color": "white"
             }
            },
            "header": {
             "fill": {
              "color": "#C8D4E3"
             },
             "line": {
              "color": "white"
             }
            },
            "type": "table"
           }
          ]
         },
         "layout": {
          "annotationdefaults": {
           "arrowcolor": "#2a3f5f",
           "arrowhead": 0,
           "arrowwidth": 1
          },
          "autotypenumbers": "strict",
          "coloraxis": {
           "colorbar": {
            "outlinewidth": 0,
            "ticks": ""
           }
          },
          "colorscale": {
           "diverging": [
            [
             0,
             "#8e0152"
            ],
            [
             0.1,
             "#c51b7d"
            ],
            [
             0.2,
             "#de77ae"
            ],
            [
             0.3,
             "#f1b6da"
            ],
            [
             0.4,
             "#fde0ef"
            ],
            [
             0.5,
             "#f7f7f7"
            ],
            [
             0.6,
             "#e6f5d0"
            ],
            [
             0.7,
             "#b8e186"
            ],
            [
             0.8,
             "#7fbc41"
            ],
            [
             0.9,
             "#4d9221"
            ],
            [
             1,
             "#276419"
            ]
           ],
           "sequential": [
            [
             0,
             "#0d0887"
            ],
            [
             0.1111111111111111,
             "#46039f"
            ],
            [
             0.2222222222222222,
             "#7201a8"
            ],
            [
             0.3333333333333333,
             "#9c179e"
            ],
            [
             0.4444444444444444,
             "#bd3786"
            ],
            [
             0.5555555555555556,
             "#d8576b"
            ],
            [
             0.6666666666666666,
             "#ed7953"
            ],
            [
             0.7777777777777778,
             "#fb9f3a"
            ],
            [
             0.8888888888888888,
             "#fdca26"
            ],
            [
             1,
             "#f0f921"
            ]
           ],
           "sequentialminus": [
            [
             0,
             "#0d0887"
            ],
            [
             0.1111111111111111,
             "#46039f"
            ],
            [
             0.2222222222222222,
             "#7201a8"
            ],
            [
             0.3333333333333333,
             "#9c179e"
            ],
            [
             0.4444444444444444,
             "#bd3786"
            ],
            [
             0.5555555555555556,
             "#d8576b"
            ],
            [
             0.6666666666666666,
             "#ed7953"
            ],
            [
             0.7777777777777778,
             "#fb9f3a"
            ],
            [
             0.8888888888888888,
             "#fdca26"
            ],
            [
             1,
             "#f0f921"
            ]
           ]
          },
          "colorway": [
           "#636efa",
           "#EF553B",
           "#00cc96",
           "#ab63fa",
           "#FFA15A",
           "#19d3f3",
           "#FF6692",
           "#B6E880",
           "#FF97FF",
           "#FECB52"
          ],
          "font": {
           "color": "#2a3f5f"
          },
          "geo": {
           "bgcolor": "white",
           "lakecolor": "white",
           "landcolor": "#E5ECF6",
           "showlakes": true,
           "showland": true,
           "subunitcolor": "white"
          },
          "hoverlabel": {
           "align": "left"
          },
          "hovermode": "closest",
          "mapbox": {
           "style": "light"
          },
          "paper_bgcolor": "white",
          "plot_bgcolor": "#E5ECF6",
          "polar": {
           "angularaxis": {
            "gridcolor": "white",
            "linecolor": "white",
            "ticks": ""
           },
           "bgcolor": "#E5ECF6",
           "radialaxis": {
            "gridcolor": "white",
            "linecolor": "white",
            "ticks": ""
           }
          },
          "scene": {
           "xaxis": {
            "backgroundcolor": "#E5ECF6",
            "gridcolor": "white",
            "gridwidth": 2,
            "linecolor": "white",
            "showbackground": true,
            "ticks": "",
            "zerolinecolor": "white"
           },
           "yaxis": {
            "backgroundcolor": "#E5ECF6",
            "gridcolor": "white",
            "gridwidth": 2,
            "linecolor": "white",
            "showbackground": true,
            "ticks": "",
            "zerolinecolor": "white"
           },
           "zaxis": {
            "backgroundcolor": "#E5ECF6",
            "gridcolor": "white",
            "gridwidth": 2,
            "linecolor": "white",
            "showbackground": true,
            "ticks": "",
            "zerolinecolor": "white"
           }
          },
          "shapedefaults": {
           "line": {
            "color": "#2a3f5f"
           }
          },
          "ternary": {
           "aaxis": {
            "gridcolor": "white",
            "linecolor": "white",
            "ticks": ""
           },
           "baxis": {
            "gridcolor": "white",
            "linecolor": "white",
            "ticks": ""
           },
           "bgcolor": "#E5ECF6",
           "caxis": {
            "gridcolor": "white",
            "linecolor": "white",
            "ticks": ""
           }
          },
          "title": {
           "x": 0.05
          },
          "xaxis": {
           "automargin": true,
           "gridcolor": "white",
           "linecolor": "white",
           "ticks": "",
           "title": {
            "standoff": 15
           },
           "zerolinecolor": "white",
           "zerolinewidth": 2
          },
          "yaxis": {
           "automargin": true,
           "gridcolor": "white",
           "linecolor": "white",
           "ticks": "",
           "title": {
            "standoff": 15
           },
           "zerolinecolor": "white",
           "zerolinewidth": 2
          }
         }
        },
        "title": {
         "font": {
          "color": "#4D5663"
         }
        },
        "xaxis": {
         "gridcolor": "#E1E5ED",
         "showgrid": true,
         "tickfont": {
          "color": "#4D5663"
         },
         "title": {
          "font": {
           "color": "#4D5663"
          },
          "text": ""
         },
         "zerolinecolor": "#E1E5ED"
        },
        "yaxis": {
         "gridcolor": "#E1E5ED",
         "showgrid": true,
         "tickfont": {
          "color": "#4D5663"
         },
         "title": {
          "font": {
           "color": "#4D5663"
          },
          "text": ""
         },
         "zerolinecolor": "#E1E5ED"
        }
       }
      },
      "text/html": [
       "<div>                            <div id=\"a34a9e5c-2f0f-4608-817a-658dd08306c1\" class=\"plotly-graph-div\" style=\"height:525px; width:100%;\"></div>            <script type=\"text/javascript\">                require([\"plotly\"], function(Plotly) {                    window.PLOTLYENV=window.PLOTLYENV || {};\n",
       "                    window.PLOTLYENV.BASE_URL='https://plot.ly';                                    if (document.getElementById(\"a34a9e5c-2f0f-4608-817a-658dd08306c1\")) {                    Plotly.newPlot(                        \"a34a9e5c-2f0f-4608-817a-658dd08306c1\",                        [{\"line\":{\"color\":\"rgba(255, 153, 51, 1.0)\",\"dash\":\"solid\",\"shape\":\"linear\",\"width\":1.3},\"marker\":{\"size\":10,\"symbol\":\"circle\"},\"mode\":\"markers\",\"name\":\"B\",\"text\":\"\",\"type\":\"scatter\",\"x\":[-0.8952513651069208,-0.8433675626903279,0.5194375646796255,0.20781533281382147,-0.28787023198130957,1.6626119003563948,0.8455339666282456,-0.004764186067881709,0.4733015021634591,-0.9426534090465928,0.3495407603251051,1.046237290545855,-0.9859596463402309,2.1084983582558596,-0.9317323755961524,0.6494024623069314,-0.3843287632960257,1.1614039215162952,-0.20123156557799382,-0.45298390054834,0.7347549725847721,-0.7677041350495847,0.13258824206569836,1.054969175247717,-1.3104840655184302,-0.8013236099028447,0.8811067964875391,1.37964961408107,-0.6967541155402649,-0.06015481378112143,1.6708711018109184,-0.8025842912977741,-0.015918404685731493,-0.027443107556971016,2.406932617211438,1.3057326517527597,-0.06865890639765183,1.1071268608316913,0.33981602924630167,-1.0872016494434344,-1.5039010182317643,-1.519624037806377,1.4712137408778254,-0.0034193275927080374,-0.6401644852992978,0.4859905760774655,0.0390256747991155,-1.941050095915409,-1.6177636665820099,0.613241988243389,-0.8362331163350449,1.6088686769777236,1.0424803246654821,0.021383677990268142,0.8482607537163633,0.2705487692995969,-0.29215392518076677,-0.10297268388786927,-1.1823360718306772,-0.291903670774597,-0.80294506515156,-0.9072759442656589,-0.8089516008862685,-0.9258452866799369,-0.06216798493213476,1.2447036743884878,0.04545716238838049,-0.5767553684691545,-0.757567169617877,1.5631791168400553,1.479076371008533,0.3313239929669739,-0.8932590257661409,-0.8233805286922103,1.0906334749242377,0.9254639718825185,0.3337368137528734,0.7499843768463412,0.8962171001982022,0.8433026224184019,0.041966578696571485,-0.3215182981515437,-2.126805113291232,-1.6303569601061727,-0.8656966690701975,-0.1959710508555525,-1.4209840585311801,-0.5464709582936679,-0.5121202308271431,-0.2238616074951767,0.3327302146369024,0.31238636848963375,-1.7015350452825535,-0.0549239733602343,0.2474203199269791,-0.36324706968849796,-1.0628515643718848,2.5078501395900497,-1.8677307647196009,0.3231424513059178],\"y\":[-1.1173847502936025,1.746739718699284,0.14685877092398286,-0.46500629752162825,0.4655854906663578,-0.06079797292919306,-0.9935139192431094,-0.9840906486582907,0.3858807133247504,-0.05165981535030882,-0.28153938365960823,1.0444208610245398,2.9552086536453,-0.6360228636743235,-0.7750068348042938,0.3759362444110491,-1.0465943179905126,0.5207368215614654,-1.2645230056565269,-1.6672266527270678,0.8136435929779331,-0.5161670126408316,0.8295781733415212,-0.9370552324792465,-0.9434636737018017,-0.35376129291561254,0.1131341527958107,-0.7791813809558733,-1.5198565256723666,0.08475947400103076,0.5503775638643653,0.3864508203743008,1.24508676785871,-0.5944516877815453,-1.147388038671117,1.6745629245114566,-0.35706174852272393,0.09238182014036393,0.45219988102119246,-0.9982111420135565,-2.364337501067881,-1.5689780423807467,-0.6195922861260792,0.1332476222569659,0.7383518851748205,0.8093449800294485,0.7730083525819172,1.4058264441998591,1.6662888676900314,1.2187622943223144,-0.3569510110710778,0.789056791494699,-0.8914602748284073,1.09081664635188,-1.4903431943146759,-1.4169926866780527,0.8187783046002451,-1.2840812231710845,-0.7474812226213581,-0.18246447267077032,-1.7170896576775119,1.4251919420917685,-0.06684710644568471,2.248776203702825,-1.4497720828871339,0.33515054683217393,0.2572901158489185,-1.8474817915070532,0.07171750340675725,-0.33435320566254173,0.10383275376154216,-0.6284608927287233,0.866890297412042,-1.2024915815630428,0.1822133800005098,1.129717939403387,0.48778847655426805,-0.81404660894497,-2.4967023192028366,-0.15430570948289024,1.1629261282568337,0.07178192985158226,-2.499979619158677,-1.0099283783597963,-0.20866740683546953,-1.2713725553000081,-1.5004531175164042,0.9280389877106168,-1.5295643193552795,1.3793034095187395,0.24665735973714437,0.02648352346857129,-0.3723716925856273,1.7407167389351086,-0.2904664042394969,0.8703273669778087,1.8871063314463523,-0.15925783536561067,-0.01232500299030156,1.1049302887625263]}],                        {\"legend\":{\"bgcolor\":\"#F5F6F9\",\"font\":{\"color\":\"#4D5663\"}},\"paper_bgcolor\":\"#F5F6F9\",\"plot_bgcolor\":\"#F5F6F9\",\"template\":{\"data\":{\"bar\":[{\"error_x\":{\"color\":\"#2a3f5f\"},\"error_y\":{\"color\":\"#2a3f5f\"},\"marker\":{\"line\":{\"color\":\"#E5ECF6\",\"width\":0.5},\"pattern\":{\"fillmode\":\"overlay\",\"size\":10,\"solidity\":0.2}},\"type\":\"bar\"}],\"barpolar\":[{\"marker\":{\"line\":{\"color\":\"#E5ECF6\",\"width\":0.5},\"pattern\":{\"fillmode\":\"overlay\",\"size\":10,\"solidity\":0.2}},\"type\":\"barpolar\"}],\"carpet\":[{\"aaxis\":{\"endlinecolor\":\"#2a3f5f\",\"gridcolor\":\"white\",\"linecolor\":\"white\",\"minorgridcolor\":\"white\",\"startlinecolor\":\"#2a3f5f\"},\"baxis\":{\"endlinecolor\":\"#2a3f5f\",\"gridcolor\":\"white\",\"linecolor\":\"white\",\"minorgridcolor\":\"white\",\"startlinecolor\":\"#2a3f5f\"},\"type\":\"carpet\"}],\"choropleth\":[{\"colorbar\":{\"outlinewidth\":0,\"ticks\":\"\"},\"type\":\"choropleth\"}],\"contour\":[{\"colorbar\":{\"outlinewidth\":0,\"ticks\":\"\"},\"colorscale\":[[0.0,\"#0d0887\"],[0.1111111111111111,\"#46039f\"],[0.2222222222222222,\"#7201a8\"],[0.3333333333333333,\"#9c179e\"],[0.4444444444444444,\"#bd3786\"],[0.5555555555555556,\"#d8576b\"],[0.6666666666666666,\"#ed7953\"],[0.7777777777777778,\"#fb9f3a\"],[0.8888888888888888,\"#fdca26\"],[1.0,\"#f0f921\"]],\"type\":\"contour\"}],\"contourcarpet\":[{\"colorbar\":{\"outlinewidth\":0,\"ticks\":\"\"},\"type\":\"contourcarpet\"}],\"heatmap\":[{\"colorbar\":{\"outlinewidth\":0,\"ticks\":\"\"},\"colorscale\":[[0.0,\"#0d0887\"],[0.1111111111111111,\"#46039f\"],[0.2222222222222222,\"#7201a8\"],[0.3333333333333333,\"#9c179e\"],[0.4444444444444444,\"#bd3786\"],[0.5555555555555556,\"#d8576b\"],[0.6666666666666666,\"#ed7953\"],[0.7777777777777778,\"#fb9f3a\"],[0.8888888888888888,\"#fdca26\"],[1.0,\"#f0f921\"]],\"type\":\"heatmap\"}],\"heatmapgl\":[{\"colorbar\":{\"outlinewidth\":0,\"ticks\":\"\"},\"colorscale\":[[0.0,\"#0d0887\"],[0.1111111111111111,\"#46039f\"],[0.2222222222222222,\"#7201a8\"],[0.3333333333333333,\"#9c179e\"],[0.4444444444444444,\"#bd3786\"],[0.5555555555555556,\"#d8576b\"],[0.6666666666666666,\"#ed7953\"],[0.7777777777777778,\"#fb9f3a\"],[0.8888888888888888,\"#fdca26\"],[1.0,\"#f0f921\"]],\"type\":\"heatmapgl\"}],\"histogram\":[{\"marker\":{\"pattern\":{\"fillmode\":\"overlay\",\"size\":10,\"solidity\":0.2}},\"type\":\"histogram\"}],\"histogram2d\":[{\"colorbar\":{\"outlinewidth\":0,\"ticks\":\"\"},\"colorscale\":[[0.0,\"#0d0887\"],[0.1111111111111111,\"#46039f\"],[0.2222222222222222,\"#7201a8\"],[0.3333333333333333,\"#9c179e\"],[0.4444444444444444,\"#bd3786\"],[0.5555555555555556,\"#d8576b\"],[0.6666666666666666,\"#ed7953\"],[0.7777777777777778,\"#fb9f3a\"],[0.8888888888888888,\"#fdca26\"],[1.0,\"#f0f921\"]],\"type\":\"histogram2d\"}],\"histogram2dcontour\":[{\"colorbar\":{\"outlinewidth\":0,\"ticks\":\"\"},\"colorscale\":[[0.0,\"#0d0887\"],[0.1111111111111111,\"#46039f\"],[0.2222222222222222,\"#7201a8\"],[0.3333333333333333,\"#9c179e\"],[0.4444444444444444,\"#bd3786\"],[0.5555555555555556,\"#d8576b\"],[0.6666666666666666,\"#ed7953\"],[0.7777777777777778,\"#fb9f3a\"],[0.8888888888888888,\"#fdca26\"],[1.0,\"#f0f921\"]],\"type\":\"histogram2dcontour\"}],\"mesh3d\":[{\"colorbar\":{\"outlinewidth\":0,\"ticks\":\"\"},\"type\":\"mesh3d\"}],\"parcoords\":[{\"line\":{\"colorbar\":{\"outlinewidth\":0,\"ticks\":\"\"}},\"type\":\"parcoords\"}],\"pie\":[{\"automargin\":true,\"type\":\"pie\"}],\"scatter\":[{\"marker\":{\"colorbar\":{\"outlinewidth\":0,\"ticks\":\"\"}},\"type\":\"scatter\"}],\"scatter3d\":[{\"line\":{\"colorbar\":{\"outlinewidth\":0,\"ticks\":\"\"}},\"marker\":{\"colorbar\":{\"outlinewidth\":0,\"ticks\":\"\"}},\"type\":\"scatter3d\"}],\"scattercarpet\":[{\"marker\":{\"colorbar\":{\"outlinewidth\":0,\"ticks\":\"\"}},\"type\":\"scattercarpet\"}],\"scattergeo\":[{\"marker\":{\"colorbar\":{\"outlinewidth\":0,\"ticks\":\"\"}},\"type\":\"scattergeo\"}],\"scattergl\":[{\"marker\":{\"colorbar\":{\"outlinewidth\":0,\"ticks\":\"\"}},\"type\":\"scattergl\"}],\"scattermapbox\":[{\"marker\":{\"colorbar\":{\"outlinewidth\":0,\"ticks\":\"\"}},\"type\":\"scattermapbox\"}],\"scatterpolar\":[{\"marker\":{\"colorbar\":{\"outlinewidth\":0,\"ticks\":\"\"}},\"type\":\"scatterpolar\"}],\"scatterpolargl\":[{\"marker\":{\"colorbar\":{\"outlinewidth\":0,\"ticks\":\"\"}},\"type\":\"scatterpolargl\"}],\"scatterternary\":[{\"marker\":{\"colorbar\":{\"outlinewidth\":0,\"ticks\":\"\"}},\"type\":\"scatterternary\"}],\"surface\":[{\"colorbar\":{\"outlinewidth\":0,\"ticks\":\"\"},\"colorscale\":[[0.0,\"#0d0887\"],[0.1111111111111111,\"#46039f\"],[0.2222222222222222,\"#7201a8\"],[0.3333333333333333,\"#9c179e\"],[0.4444444444444444,\"#bd3786\"],[0.5555555555555556,\"#d8576b\"],[0.6666666666666666,\"#ed7953\"],[0.7777777777777778,\"#fb9f3a\"],[0.8888888888888888,\"#fdca26\"],[1.0,\"#f0f921\"]],\"type\":\"surface\"}],\"table\":[{\"cells\":{\"fill\":{\"color\":\"#EBF0F8\"},\"line\":{\"color\":\"white\"}},\"header\":{\"fill\":{\"color\":\"#C8D4E3\"},\"line\":{\"color\":\"white\"}},\"type\":\"table\"}]},\"layout\":{\"annotationdefaults\":{\"arrowcolor\":\"#2a3f5f\",\"arrowhead\":0,\"arrowwidth\":1},\"autotypenumbers\":\"strict\",\"coloraxis\":{\"colorbar\":{\"outlinewidth\":0,\"ticks\":\"\"}},\"colorscale\":{\"diverging\":[[0,\"#8e0152\"],[0.1,\"#c51b7d\"],[0.2,\"#de77ae\"],[0.3,\"#f1b6da\"],[0.4,\"#fde0ef\"],[0.5,\"#f7f7f7\"],[0.6,\"#e6f5d0\"],[0.7,\"#b8e186\"],[0.8,\"#7fbc41\"],[0.9,\"#4d9221\"],[1,\"#276419\"]],\"sequential\":[[0.0,\"#0d0887\"],[0.1111111111111111,\"#46039f\"],[0.2222222222222222,\"#7201a8\"],[0.3333333333333333,\"#9c179e\"],[0.4444444444444444,\"#bd3786\"],[0.5555555555555556,\"#d8576b\"],[0.6666666666666666,\"#ed7953\"],[0.7777777777777778,\"#fb9f3a\"],[0.8888888888888888,\"#fdca26\"],[1.0,\"#f0f921\"]],\"sequentialminus\":[[0.0,\"#0d0887\"],[0.1111111111111111,\"#46039f\"],[0.2222222222222222,\"#7201a8\"],[0.3333333333333333,\"#9c179e\"],[0.4444444444444444,\"#bd3786\"],[0.5555555555555556,\"#d8576b\"],[0.6666666666666666,\"#ed7953\"],[0.7777777777777778,\"#fb9f3a\"],[0.8888888888888888,\"#fdca26\"],[1.0,\"#f0f921\"]]},\"colorway\":[\"#636efa\",\"#EF553B\",\"#00cc96\",\"#ab63fa\",\"#FFA15A\",\"#19d3f3\",\"#FF6692\",\"#B6E880\",\"#FF97FF\",\"#FECB52\"],\"font\":{\"color\":\"#2a3f5f\"},\"geo\":{\"bgcolor\":\"white\",\"lakecolor\":\"white\",\"landcolor\":\"#E5ECF6\",\"showlakes\":true,\"showland\":true,\"subunitcolor\":\"white\"},\"hoverlabel\":{\"align\":\"left\"},\"hovermode\":\"closest\",\"mapbox\":{\"style\":\"light\"},\"paper_bgcolor\":\"white\",\"plot_bgcolor\":\"#E5ECF6\",\"polar\":{\"angularaxis\":{\"gridcolor\":\"white\",\"linecolor\":\"white\",\"ticks\":\"\"},\"bgcolor\":\"#E5ECF6\",\"radialaxis\":{\"gridcolor\":\"white\",\"linecolor\":\"white\",\"ticks\":\"\"}},\"scene\":{\"xaxis\":{\"backgroundcolor\":\"#E5ECF6\",\"gridcolor\":\"white\",\"gridwidth\":2,\"linecolor\":\"white\",\"showbackground\":true,\"ticks\":\"\",\"zerolinecolor\":\"white\"},\"yaxis\":{\"backgroundcolor\":\"#E5ECF6\",\"gridcolor\":\"white\",\"gridwidth\":2,\"linecolor\":\"white\",\"showbackground\":true,\"ticks\":\"\",\"zerolinecolor\":\"white\"},\"zaxis\":{\"backgroundcolor\":\"#E5ECF6\",\"gridcolor\":\"white\",\"gridwidth\":2,\"linecolor\":\"white\",\"showbackground\":true,\"ticks\":\"\",\"zerolinecolor\":\"white\"}},\"shapedefaults\":{\"line\":{\"color\":\"#2a3f5f\"}},\"ternary\":{\"aaxis\":{\"gridcolor\":\"white\",\"linecolor\":\"white\",\"ticks\":\"\"},\"baxis\":{\"gridcolor\":\"white\",\"linecolor\":\"white\",\"ticks\":\"\"},\"bgcolor\":\"#E5ECF6\",\"caxis\":{\"gridcolor\":\"white\",\"linecolor\":\"white\",\"ticks\":\"\"}},\"title\":{\"x\":0.05},\"xaxis\":{\"automargin\":true,\"gridcolor\":\"white\",\"linecolor\":\"white\",\"ticks\":\"\",\"title\":{\"standoff\":15},\"zerolinecolor\":\"white\",\"zerolinewidth\":2},\"yaxis\":{\"automargin\":true,\"gridcolor\":\"white\",\"linecolor\":\"white\",\"ticks\":\"\",\"title\":{\"standoff\":15},\"zerolinecolor\":\"white\",\"zerolinewidth\":2}}},\"title\":{\"font\":{\"color\":\"#4D5663\"}},\"xaxis\":{\"gridcolor\":\"#E1E5ED\",\"showgrid\":true,\"tickfont\":{\"color\":\"#4D5663\"},\"title\":{\"font\":{\"color\":\"#4D5663\"},\"text\":\"\"},\"zerolinecolor\":\"#E1E5ED\"},\"yaxis\":{\"gridcolor\":\"#E1E5ED\",\"showgrid\":true,\"tickfont\":{\"color\":\"#4D5663\"},\"title\":{\"font\":{\"color\":\"#4D5663\"},\"text\":\"\"},\"zerolinecolor\":\"#E1E5ED\"}},                        {\"showLink\": true, \"linkText\": \"Export to plot.ly\", \"plotlyServerURL\": \"https://plot.ly\", \"responsive\": true}                    ).then(function(){\n",
       "                            \n",
       "var gd = document.getElementById('a34a9e5c-2f0f-4608-817a-658dd08306c1');\n",
       "var x = new MutationObserver(function (mutations, observer) {{\n",
       "        var display = window.getComputedStyle(gd).display;\n",
       "        if (!display || display === 'none') {{\n",
       "            console.log([gd, 'removed!']);\n",
       "            Plotly.purge(gd);\n",
       "            observer.disconnect();\n",
       "        }}\n",
       "}});\n",
       "\n",
       "// Listen for the removal of the full notebook cells\n",
       "var notebookContainer = gd.closest('#notebook-container');\n",
       "if (notebookContainer) {{\n",
       "    x.observe(notebookContainer, {childList: true});\n",
       "}}\n",
       "\n",
       "// Listen for the clearing of the current output cell\n",
       "var outputEl = gd.closest('.output');\n",
       "if (outputEl) {{\n",
       "    x.observe(outputEl, {childList: true});\n",
       "}}\n",
       "\n",
       "                        })                };                });            </script>        </div>"
      ]
     },
     "metadata": {},
     "output_type": "display_data"
    }
   ],
   "source": [
    "df.iplot(kind='scatter',x='A',y='B',mode='markers',size=10)"
   ]
  },
  {
   "cell_type": "markdown",
   "metadata": {},
   "source": [
    "## Bar Plots"
   ]
  },
  {
   "cell_type": "code",
   "execution_count": 12,
   "metadata": {},
   "outputs": [
    {
     "data": {
      "application/vnd.plotly.v1+json": {
       "config": {
        "linkText": "Export to plot.ly",
        "plotlyServerURL": "https://plot.ly",
        "showLink": true
       },
       "data": [
        {
         "marker": {
          "color": "rgba(255, 153, 51, 0.6)",
          "line": {
           "color": "rgba(255, 153, 51, 1.0)",
           "width": 1
          }
         },
         "name": "Values",
         "orientation": "v",
         "text": "",
         "type": "bar",
         "x": [
          "A",
          "B",
          "C"
         ],
         "y": [
          32,
          43,
          50
         ]
        }
       ],
       "layout": {
        "legend": {
         "bgcolor": "#F5F6F9",
         "font": {
          "color": "#4D5663"
         }
        },
        "paper_bgcolor": "#F5F6F9",
        "plot_bgcolor": "#F5F6F9",
        "template": {
         "data": {
          "bar": [
           {
            "error_x": {
             "color": "#2a3f5f"
            },
            "error_y": {
             "color": "#2a3f5f"
            },
            "marker": {
             "line": {
              "color": "#E5ECF6",
              "width": 0.5
             },
             "pattern": {
              "fillmode": "overlay",
              "size": 10,
              "solidity": 0.2
             }
            },
            "type": "bar"
           }
          ],
          "barpolar": [
           {
            "marker": {
             "line": {
              "color": "#E5ECF6",
              "width": 0.5
             },
             "pattern": {
              "fillmode": "overlay",
              "size": 10,
              "solidity": 0.2
             }
            },
            "type": "barpolar"
           }
          ],
          "carpet": [
           {
            "aaxis": {
             "endlinecolor": "#2a3f5f",
             "gridcolor": "white",
             "linecolor": "white",
             "minorgridcolor": "white",
             "startlinecolor": "#2a3f5f"
            },
            "baxis": {
             "endlinecolor": "#2a3f5f",
             "gridcolor": "white",
             "linecolor": "white",
             "minorgridcolor": "white",
             "startlinecolor": "#2a3f5f"
            },
            "type": "carpet"
           }
          ],
          "choropleth": [
           {
            "colorbar": {
             "outlinewidth": 0,
             "ticks": ""
            },
            "type": "choropleth"
           }
          ],
          "contour": [
           {
            "colorbar": {
             "outlinewidth": 0,
             "ticks": ""
            },
            "colorscale": [
             [
              0,
              "#0d0887"
             ],
             [
              0.1111111111111111,
              "#46039f"
             ],
             [
              0.2222222222222222,
              "#7201a8"
             ],
             [
              0.3333333333333333,
              "#9c179e"
             ],
             [
              0.4444444444444444,
              "#bd3786"
             ],
             [
              0.5555555555555556,
              "#d8576b"
             ],
             [
              0.6666666666666666,
              "#ed7953"
             ],
             [
              0.7777777777777778,
              "#fb9f3a"
             ],
             [
              0.8888888888888888,
              "#fdca26"
             ],
             [
              1,
              "#f0f921"
             ]
            ],
            "type": "contour"
           }
          ],
          "contourcarpet": [
           {
            "colorbar": {
             "outlinewidth": 0,
             "ticks": ""
            },
            "type": "contourcarpet"
           }
          ],
          "heatmap": [
           {
            "colorbar": {
             "outlinewidth": 0,
             "ticks": ""
            },
            "colorscale": [
             [
              0,
              "#0d0887"
             ],
             [
              0.1111111111111111,
              "#46039f"
             ],
             [
              0.2222222222222222,
              "#7201a8"
             ],
             [
              0.3333333333333333,
              "#9c179e"
             ],
             [
              0.4444444444444444,
              "#bd3786"
             ],
             [
              0.5555555555555556,
              "#d8576b"
             ],
             [
              0.6666666666666666,
              "#ed7953"
             ],
             [
              0.7777777777777778,
              "#fb9f3a"
             ],
             [
              0.8888888888888888,
              "#fdca26"
             ],
             [
              1,
              "#f0f921"
             ]
            ],
            "type": "heatmap"
           }
          ],
          "heatmapgl": [
           {
            "colorbar": {
             "outlinewidth": 0,
             "ticks": ""
            },
            "colorscale": [
             [
              0,
              "#0d0887"
             ],
             [
              0.1111111111111111,
              "#46039f"
             ],
             [
              0.2222222222222222,
              "#7201a8"
             ],
             [
              0.3333333333333333,
              "#9c179e"
             ],
             [
              0.4444444444444444,
              "#bd3786"
             ],
             [
              0.5555555555555556,
              "#d8576b"
             ],
             [
              0.6666666666666666,
              "#ed7953"
             ],
             [
              0.7777777777777778,
              "#fb9f3a"
             ],
             [
              0.8888888888888888,
              "#fdca26"
             ],
             [
              1,
              "#f0f921"
             ]
            ],
            "type": "heatmapgl"
           }
          ],
          "histogram": [
           {
            "marker": {
             "pattern": {
              "fillmode": "overlay",
              "size": 10,
              "solidity": 0.2
             }
            },
            "type": "histogram"
           }
          ],
          "histogram2d": [
           {
            "colorbar": {
             "outlinewidth": 0,
             "ticks": ""
            },
            "colorscale": [
             [
              0,
              "#0d0887"
             ],
             [
              0.1111111111111111,
              "#46039f"
             ],
             [
              0.2222222222222222,
              "#7201a8"
             ],
             [
              0.3333333333333333,
              "#9c179e"
             ],
             [
              0.4444444444444444,
              "#bd3786"
             ],
             [
              0.5555555555555556,
              "#d8576b"
             ],
             [
              0.6666666666666666,
              "#ed7953"
             ],
             [
              0.7777777777777778,
              "#fb9f3a"
             ],
             [
              0.8888888888888888,
              "#fdca26"
             ],
             [
              1,
              "#f0f921"
             ]
            ],
            "type": "histogram2d"
           }
          ],
          "histogram2dcontour": [
           {
            "colorbar": {
             "outlinewidth": 0,
             "ticks": ""
            },
            "colorscale": [
             [
              0,
              "#0d0887"
             ],
             [
              0.1111111111111111,
              "#46039f"
             ],
             [
              0.2222222222222222,
              "#7201a8"
             ],
             [
              0.3333333333333333,
              "#9c179e"
             ],
             [
              0.4444444444444444,
              "#bd3786"
             ],
             [
              0.5555555555555556,
              "#d8576b"
             ],
             [
              0.6666666666666666,
              "#ed7953"
             ],
             [
              0.7777777777777778,
              "#fb9f3a"
             ],
             [
              0.8888888888888888,
              "#fdca26"
             ],
             [
              1,
              "#f0f921"
             ]
            ],
            "type": "histogram2dcontour"
           }
          ],
          "mesh3d": [
           {
            "colorbar": {
             "outlinewidth": 0,
             "ticks": ""
            },
            "type": "mesh3d"
           }
          ],
          "parcoords": [
           {
            "line": {
             "colorbar": {
              "outlinewidth": 0,
              "ticks": ""
             }
            },
            "type": "parcoords"
           }
          ],
          "pie": [
           {
            "automargin": true,
            "type": "pie"
           }
          ],
          "scatter": [
           {
            "marker": {
             "colorbar": {
              "outlinewidth": 0,
              "ticks": ""
             }
            },
            "type": "scatter"
           }
          ],
          "scatter3d": [
           {
            "line": {
             "colorbar": {
              "outlinewidth": 0,
              "ticks": ""
             }
            },
            "marker": {
             "colorbar": {
              "outlinewidth": 0,
              "ticks": ""
             }
            },
            "type": "scatter3d"
           }
          ],
          "scattercarpet": [
           {
            "marker": {
             "colorbar": {
              "outlinewidth": 0,
              "ticks": ""
             }
            },
            "type": "scattercarpet"
           }
          ],
          "scattergeo": [
           {
            "marker": {
             "colorbar": {
              "outlinewidth": 0,
              "ticks": ""
             }
            },
            "type": "scattergeo"
           }
          ],
          "scattergl": [
           {
            "marker": {
             "colorbar": {
              "outlinewidth": 0,
              "ticks": ""
             }
            },
            "type": "scattergl"
           }
          ],
          "scattermapbox": [
           {
            "marker": {
             "colorbar": {
              "outlinewidth": 0,
              "ticks": ""
             }
            },
            "type": "scattermapbox"
           }
          ],
          "scatterpolar": [
           {
            "marker": {
             "colorbar": {
              "outlinewidth": 0,
              "ticks": ""
             }
            },
            "type": "scatterpolar"
           }
          ],
          "scatterpolargl": [
           {
            "marker": {
             "colorbar": {
              "outlinewidth": 0,
              "ticks": ""
             }
            },
            "type": "scatterpolargl"
           }
          ],
          "scatterternary": [
           {
            "marker": {
             "colorbar": {
              "outlinewidth": 0,
              "ticks": ""
             }
            },
            "type": "scatterternary"
           }
          ],
          "surface": [
           {
            "colorbar": {
             "outlinewidth": 0,
             "ticks": ""
            },
            "colorscale": [
             [
              0,
              "#0d0887"
             ],
             [
              0.1111111111111111,
              "#46039f"
             ],
             [
              0.2222222222222222,
              "#7201a8"
             ],
             [
              0.3333333333333333,
              "#9c179e"
             ],
             [
              0.4444444444444444,
              "#bd3786"
             ],
             [
              0.5555555555555556,
              "#d8576b"
             ],
             [
              0.6666666666666666,
              "#ed7953"
             ],
             [
              0.7777777777777778,
              "#fb9f3a"
             ],
             [
              0.8888888888888888,
              "#fdca26"
             ],
             [
              1,
              "#f0f921"
             ]
            ],
            "type": "surface"
           }
          ],
          "table": [
           {
            "cells": {
             "fill": {
              "color": "#EBF0F8"
             },
             "line": {
              "color": "white"
             }
            },
            "header": {
             "fill": {
              "color": "#C8D4E3"
             },
             "line": {
              "color": "white"
             }
            },
            "type": "table"
           }
          ]
         },
         "layout": {
          "annotationdefaults": {
           "arrowcolor": "#2a3f5f",
           "arrowhead": 0,
           "arrowwidth": 1
          },
          "autotypenumbers": "strict",
          "coloraxis": {
           "colorbar": {
            "outlinewidth": 0,
            "ticks": ""
           }
          },
          "colorscale": {
           "diverging": [
            [
             0,
             "#8e0152"
            ],
            [
             0.1,
             "#c51b7d"
            ],
            [
             0.2,
             "#de77ae"
            ],
            [
             0.3,
             "#f1b6da"
            ],
            [
             0.4,
             "#fde0ef"
            ],
            [
             0.5,
             "#f7f7f7"
            ],
            [
             0.6,
             "#e6f5d0"
            ],
            [
             0.7,
             "#b8e186"
            ],
            [
             0.8,
             "#7fbc41"
            ],
            [
             0.9,
             "#4d9221"
            ],
            [
             1,
             "#276419"
            ]
           ],
           "sequential": [
            [
             0,
             "#0d0887"
            ],
            [
             0.1111111111111111,
             "#46039f"
            ],
            [
             0.2222222222222222,
             "#7201a8"
            ],
            [
             0.3333333333333333,
             "#9c179e"
            ],
            [
             0.4444444444444444,
             "#bd3786"
            ],
            [
             0.5555555555555556,
             "#d8576b"
            ],
            [
             0.6666666666666666,
             "#ed7953"
            ],
            [
             0.7777777777777778,
             "#fb9f3a"
            ],
            [
             0.8888888888888888,
             "#fdca26"
            ],
            [
             1,
             "#f0f921"
            ]
           ],
           "sequentialminus": [
            [
             0,
             "#0d0887"
            ],
            [
             0.1111111111111111,
             "#46039f"
            ],
            [
             0.2222222222222222,
             "#7201a8"
            ],
            [
             0.3333333333333333,
             "#9c179e"
            ],
            [
             0.4444444444444444,
             "#bd3786"
            ],
            [
             0.5555555555555556,
             "#d8576b"
            ],
            [
             0.6666666666666666,
             "#ed7953"
            ],
            [
             0.7777777777777778,
             "#fb9f3a"
            ],
            [
             0.8888888888888888,
             "#fdca26"
            ],
            [
             1,
             "#f0f921"
            ]
           ]
          },
          "colorway": [
           "#636efa",
           "#EF553B",
           "#00cc96",
           "#ab63fa",
           "#FFA15A",
           "#19d3f3",
           "#FF6692",
           "#B6E880",
           "#FF97FF",
           "#FECB52"
          ],
          "font": {
           "color": "#2a3f5f"
          },
          "geo": {
           "bgcolor": "white",
           "lakecolor": "white",
           "landcolor": "#E5ECF6",
           "showlakes": true,
           "showland": true,
           "subunitcolor": "white"
          },
          "hoverlabel": {
           "align": "left"
          },
          "hovermode": "closest",
          "mapbox": {
           "style": "light"
          },
          "paper_bgcolor": "white",
          "plot_bgcolor": "#E5ECF6",
          "polar": {
           "angularaxis": {
            "gridcolor": "white",
            "linecolor": "white",
            "ticks": ""
           },
           "bgcolor": "#E5ECF6",
           "radialaxis": {
            "gridcolor": "white",
            "linecolor": "white",
            "ticks": ""
           }
          },
          "scene": {
           "xaxis": {
            "backgroundcolor": "#E5ECF6",
            "gridcolor": "white",
            "gridwidth": 2,
            "linecolor": "white",
            "showbackground": true,
            "ticks": "",
            "zerolinecolor": "white"
           },
           "yaxis": {
            "backgroundcolor": "#E5ECF6",
            "gridcolor": "white",
            "gridwidth": 2,
            "linecolor": "white",
            "showbackground": true,
            "ticks": "",
            "zerolinecolor": "white"
           },
           "zaxis": {
            "backgroundcolor": "#E5ECF6",
            "gridcolor": "white",
            "gridwidth": 2,
            "linecolor": "white",
            "showbackground": true,
            "ticks": "",
            "zerolinecolor": "white"
           }
          },
          "shapedefaults": {
           "line": {
            "color": "#2a3f5f"
           }
          },
          "ternary": {
           "aaxis": {
            "gridcolor": "white",
            "linecolor": "white",
            "ticks": ""
           },
           "baxis": {
            "gridcolor": "white",
            "linecolor": "white",
            "ticks": ""
           },
           "bgcolor": "#E5ECF6",
           "caxis": {
            "gridcolor": "white",
            "linecolor": "white",
            "ticks": ""
           }
          },
          "title": {
           "x": 0.05
          },
          "xaxis": {
           "automargin": true,
           "gridcolor": "white",
           "linecolor": "white",
           "ticks": "",
           "title": {
            "standoff": 15
           },
           "zerolinecolor": "white",
           "zerolinewidth": 2
          },
          "yaxis": {
           "automargin": true,
           "gridcolor": "white",
           "linecolor": "white",
           "ticks": "",
           "title": {
            "standoff": 15
           },
           "zerolinecolor": "white",
           "zerolinewidth": 2
          }
         }
        },
        "title": {
         "font": {
          "color": "#4D5663"
         }
        },
        "xaxis": {
         "gridcolor": "#E1E5ED",
         "showgrid": true,
         "tickfont": {
          "color": "#4D5663"
         },
         "title": {
          "font": {
           "color": "#4D5663"
          },
          "text": ""
         },
         "zerolinecolor": "#E1E5ED"
        },
        "yaxis": {
         "gridcolor": "#E1E5ED",
         "showgrid": true,
         "tickfont": {
          "color": "#4D5663"
         },
         "title": {
          "font": {
           "color": "#4D5663"
          },
          "text": ""
         },
         "zerolinecolor": "#E1E5ED"
        }
       }
      },
      "text/html": [
       "<div>                            <div id=\"f23150c1-1321-4793-afb2-272a87365f55\" class=\"plotly-graph-div\" style=\"height:525px; width:100%;\"></div>            <script type=\"text/javascript\">                require([\"plotly\"], function(Plotly) {                    window.PLOTLYENV=window.PLOTLYENV || {};\n",
       "                    window.PLOTLYENV.BASE_URL='https://plot.ly';                                    if (document.getElementById(\"f23150c1-1321-4793-afb2-272a87365f55\")) {                    Plotly.newPlot(                        \"f23150c1-1321-4793-afb2-272a87365f55\",                        [{\"marker\":{\"color\":\"rgba(255, 153, 51, 0.6)\",\"line\":{\"color\":\"rgba(255, 153, 51, 1.0)\",\"width\":1}},\"name\":\"Values\",\"orientation\":\"v\",\"text\":\"\",\"type\":\"bar\",\"x\":[\"A\",\"B\",\"C\"],\"y\":[32,43,50]}],                        {\"legend\":{\"bgcolor\":\"#F5F6F9\",\"font\":{\"color\":\"#4D5663\"}},\"paper_bgcolor\":\"#F5F6F9\",\"plot_bgcolor\":\"#F5F6F9\",\"template\":{\"data\":{\"bar\":[{\"error_x\":{\"color\":\"#2a3f5f\"},\"error_y\":{\"color\":\"#2a3f5f\"},\"marker\":{\"line\":{\"color\":\"#E5ECF6\",\"width\":0.5},\"pattern\":{\"fillmode\":\"overlay\",\"size\":10,\"solidity\":0.2}},\"type\":\"bar\"}],\"barpolar\":[{\"marker\":{\"line\":{\"color\":\"#E5ECF6\",\"width\":0.5},\"pattern\":{\"fillmode\":\"overlay\",\"size\":10,\"solidity\":0.2}},\"type\":\"barpolar\"}],\"carpet\":[{\"aaxis\":{\"endlinecolor\":\"#2a3f5f\",\"gridcolor\":\"white\",\"linecolor\":\"white\",\"minorgridcolor\":\"white\",\"startlinecolor\":\"#2a3f5f\"},\"baxis\":{\"endlinecolor\":\"#2a3f5f\",\"gridcolor\":\"white\",\"linecolor\":\"white\",\"minorgridcolor\":\"white\",\"startlinecolor\":\"#2a3f5f\"},\"type\":\"carpet\"}],\"choropleth\":[{\"colorbar\":{\"outlinewidth\":0,\"ticks\":\"\"},\"type\":\"choropleth\"}],\"contour\":[{\"colorbar\":{\"outlinewidth\":0,\"ticks\":\"\"},\"colorscale\":[[0.0,\"#0d0887\"],[0.1111111111111111,\"#46039f\"],[0.2222222222222222,\"#7201a8\"],[0.3333333333333333,\"#9c179e\"],[0.4444444444444444,\"#bd3786\"],[0.5555555555555556,\"#d8576b\"],[0.6666666666666666,\"#ed7953\"],[0.7777777777777778,\"#fb9f3a\"],[0.8888888888888888,\"#fdca26\"],[1.0,\"#f0f921\"]],\"type\":\"contour\"}],\"contourcarpet\":[{\"colorbar\":{\"outlinewidth\":0,\"ticks\":\"\"},\"type\":\"contourcarpet\"}],\"heatmap\":[{\"colorbar\":{\"outlinewidth\":0,\"ticks\":\"\"},\"colorscale\":[[0.0,\"#0d0887\"],[0.1111111111111111,\"#46039f\"],[0.2222222222222222,\"#7201a8\"],[0.3333333333333333,\"#9c179e\"],[0.4444444444444444,\"#bd3786\"],[0.5555555555555556,\"#d8576b\"],[0.6666666666666666,\"#ed7953\"],[0.7777777777777778,\"#fb9f3a\"],[0.8888888888888888,\"#fdca26\"],[1.0,\"#f0f921\"]],\"type\":\"heatmap\"}],\"heatmapgl\":[{\"colorbar\":{\"outlinewidth\":0,\"ticks\":\"\"},\"colorscale\":[[0.0,\"#0d0887\"],[0.1111111111111111,\"#46039f\"],[0.2222222222222222,\"#7201a8\"],[0.3333333333333333,\"#9c179e\"],[0.4444444444444444,\"#bd3786\"],[0.5555555555555556,\"#d8576b\"],[0.6666666666666666,\"#ed7953\"],[0.7777777777777778,\"#fb9f3a\"],[0.8888888888888888,\"#fdca26\"],[1.0,\"#f0f921\"]],\"type\":\"heatmapgl\"}],\"histogram\":[{\"marker\":{\"pattern\":{\"fillmode\":\"overlay\",\"size\":10,\"solidity\":0.2}},\"type\":\"histogram\"}],\"histogram2d\":[{\"colorbar\":{\"outlinewidth\":0,\"ticks\":\"\"},\"colorscale\":[[0.0,\"#0d0887\"],[0.1111111111111111,\"#46039f\"],[0.2222222222222222,\"#7201a8\"],[0.3333333333333333,\"#9c179e\"],[0.4444444444444444,\"#bd3786\"],[0.5555555555555556,\"#d8576b\"],[0.6666666666666666,\"#ed7953\"],[0.7777777777777778,\"#fb9f3a\"],[0.8888888888888888,\"#fdca26\"],[1.0,\"#f0f921\"]],\"type\":\"histogram2d\"}],\"histogram2dcontour\":[{\"colorbar\":{\"outlinewidth\":0,\"ticks\":\"\"},\"colorscale\":[[0.0,\"#0d0887\"],[0.1111111111111111,\"#46039f\"],[0.2222222222222222,\"#7201a8\"],[0.3333333333333333,\"#9c179e\"],[0.4444444444444444,\"#bd3786\"],[0.5555555555555556,\"#d8576b\"],[0.6666666666666666,\"#ed7953\"],[0.7777777777777778,\"#fb9f3a\"],[0.8888888888888888,\"#fdca26\"],[1.0,\"#f0f921\"]],\"type\":\"histogram2dcontour\"}],\"mesh3d\":[{\"colorbar\":{\"outlinewidth\":0,\"ticks\":\"\"},\"type\":\"mesh3d\"}],\"parcoords\":[{\"line\":{\"colorbar\":{\"outlinewidth\":0,\"ticks\":\"\"}},\"type\":\"parcoords\"}],\"pie\":[{\"automargin\":true,\"type\":\"pie\"}],\"scatter\":[{\"marker\":{\"colorbar\":{\"outlinewidth\":0,\"ticks\":\"\"}},\"type\":\"scatter\"}],\"scatter3d\":[{\"line\":{\"colorbar\":{\"outlinewidth\":0,\"ticks\":\"\"}},\"marker\":{\"colorbar\":{\"outlinewidth\":0,\"ticks\":\"\"}},\"type\":\"scatter3d\"}],\"scattercarpet\":[{\"marker\":{\"colorbar\":{\"outlinewidth\":0,\"ticks\":\"\"}},\"type\":\"scattercarpet\"}],\"scattergeo\":[{\"marker\":{\"colorbar\":{\"outlinewidth\":0,\"ticks\":\"\"}},\"type\":\"scattergeo\"}],\"scattergl\":[{\"marker\":{\"colorbar\":{\"outlinewidth\":0,\"ticks\":\"\"}},\"type\":\"scattergl\"}],\"scattermapbox\":[{\"marker\":{\"colorbar\":{\"outlinewidth\":0,\"ticks\":\"\"}},\"type\":\"scattermapbox\"}],\"scatterpolar\":[{\"marker\":{\"colorbar\":{\"outlinewidth\":0,\"ticks\":\"\"}},\"type\":\"scatterpolar\"}],\"scatterpolargl\":[{\"marker\":{\"colorbar\":{\"outlinewidth\":0,\"ticks\":\"\"}},\"type\":\"scatterpolargl\"}],\"scatterternary\":[{\"marker\":{\"colorbar\":{\"outlinewidth\":0,\"ticks\":\"\"}},\"type\":\"scatterternary\"}],\"surface\":[{\"colorbar\":{\"outlinewidth\":0,\"ticks\":\"\"},\"colorscale\":[[0.0,\"#0d0887\"],[0.1111111111111111,\"#46039f\"],[0.2222222222222222,\"#7201a8\"],[0.3333333333333333,\"#9c179e\"],[0.4444444444444444,\"#bd3786\"],[0.5555555555555556,\"#d8576b\"],[0.6666666666666666,\"#ed7953\"],[0.7777777777777778,\"#fb9f3a\"],[0.8888888888888888,\"#fdca26\"],[1.0,\"#f0f921\"]],\"type\":\"surface\"}],\"table\":[{\"cells\":{\"fill\":{\"color\":\"#EBF0F8\"},\"line\":{\"color\":\"white\"}},\"header\":{\"fill\":{\"color\":\"#C8D4E3\"},\"line\":{\"color\":\"white\"}},\"type\":\"table\"}]},\"layout\":{\"annotationdefaults\":{\"arrowcolor\":\"#2a3f5f\",\"arrowhead\":0,\"arrowwidth\":1},\"autotypenumbers\":\"strict\",\"coloraxis\":{\"colorbar\":{\"outlinewidth\":0,\"ticks\":\"\"}},\"colorscale\":{\"diverging\":[[0,\"#8e0152\"],[0.1,\"#c51b7d\"],[0.2,\"#de77ae\"],[0.3,\"#f1b6da\"],[0.4,\"#fde0ef\"],[0.5,\"#f7f7f7\"],[0.6,\"#e6f5d0\"],[0.7,\"#b8e186\"],[0.8,\"#7fbc41\"],[0.9,\"#4d9221\"],[1,\"#276419\"]],\"sequential\":[[0.0,\"#0d0887\"],[0.1111111111111111,\"#46039f\"],[0.2222222222222222,\"#7201a8\"],[0.3333333333333333,\"#9c179e\"],[0.4444444444444444,\"#bd3786\"],[0.5555555555555556,\"#d8576b\"],[0.6666666666666666,\"#ed7953\"],[0.7777777777777778,\"#fb9f3a\"],[0.8888888888888888,\"#fdca26\"],[1.0,\"#f0f921\"]],\"sequentialminus\":[[0.0,\"#0d0887\"],[0.1111111111111111,\"#46039f\"],[0.2222222222222222,\"#7201a8\"],[0.3333333333333333,\"#9c179e\"],[0.4444444444444444,\"#bd3786\"],[0.5555555555555556,\"#d8576b\"],[0.6666666666666666,\"#ed7953\"],[0.7777777777777778,\"#fb9f3a\"],[0.8888888888888888,\"#fdca26\"],[1.0,\"#f0f921\"]]},\"colorway\":[\"#636efa\",\"#EF553B\",\"#00cc96\",\"#ab63fa\",\"#FFA15A\",\"#19d3f3\",\"#FF6692\",\"#B6E880\",\"#FF97FF\",\"#FECB52\"],\"font\":{\"color\":\"#2a3f5f\"},\"geo\":{\"bgcolor\":\"white\",\"lakecolor\":\"white\",\"landcolor\":\"#E5ECF6\",\"showlakes\":true,\"showland\":true,\"subunitcolor\":\"white\"},\"hoverlabel\":{\"align\":\"left\"},\"hovermode\":\"closest\",\"mapbox\":{\"style\":\"light\"},\"paper_bgcolor\":\"white\",\"plot_bgcolor\":\"#E5ECF6\",\"polar\":{\"angularaxis\":{\"gridcolor\":\"white\",\"linecolor\":\"white\",\"ticks\":\"\"},\"bgcolor\":\"#E5ECF6\",\"radialaxis\":{\"gridcolor\":\"white\",\"linecolor\":\"white\",\"ticks\":\"\"}},\"scene\":{\"xaxis\":{\"backgroundcolor\":\"#E5ECF6\",\"gridcolor\":\"white\",\"gridwidth\":2,\"linecolor\":\"white\",\"showbackground\":true,\"ticks\":\"\",\"zerolinecolor\":\"white\"},\"yaxis\":{\"backgroundcolor\":\"#E5ECF6\",\"gridcolor\":\"white\",\"gridwidth\":2,\"linecolor\":\"white\",\"showbackground\":true,\"ticks\":\"\",\"zerolinecolor\":\"white\"},\"zaxis\":{\"backgroundcolor\":\"#E5ECF6\",\"gridcolor\":\"white\",\"gridwidth\":2,\"linecolor\":\"white\",\"showbackground\":true,\"ticks\":\"\",\"zerolinecolor\":\"white\"}},\"shapedefaults\":{\"line\":{\"color\":\"#2a3f5f\"}},\"ternary\":{\"aaxis\":{\"gridcolor\":\"white\",\"linecolor\":\"white\",\"ticks\":\"\"},\"baxis\":{\"gridcolor\":\"white\",\"linecolor\":\"white\",\"ticks\":\"\"},\"bgcolor\":\"#E5ECF6\",\"caxis\":{\"gridcolor\":\"white\",\"linecolor\":\"white\",\"ticks\":\"\"}},\"title\":{\"x\":0.05},\"xaxis\":{\"automargin\":true,\"gridcolor\":\"white\",\"linecolor\":\"white\",\"ticks\":\"\",\"title\":{\"standoff\":15},\"zerolinecolor\":\"white\",\"zerolinewidth\":2},\"yaxis\":{\"automargin\":true,\"gridcolor\":\"white\",\"linecolor\":\"white\",\"ticks\":\"\",\"title\":{\"standoff\":15},\"zerolinecolor\":\"white\",\"zerolinewidth\":2}}},\"title\":{\"font\":{\"color\":\"#4D5663\"}},\"xaxis\":{\"gridcolor\":\"#E1E5ED\",\"showgrid\":true,\"tickfont\":{\"color\":\"#4D5663\"},\"title\":{\"font\":{\"color\":\"#4D5663\"},\"text\":\"\"},\"zerolinecolor\":\"#E1E5ED\"},\"yaxis\":{\"gridcolor\":\"#E1E5ED\",\"showgrid\":true,\"tickfont\":{\"color\":\"#4D5663\"},\"title\":{\"font\":{\"color\":\"#4D5663\"},\"text\":\"\"},\"zerolinecolor\":\"#E1E5ED\"}},                        {\"showLink\": true, \"linkText\": \"Export to plot.ly\", \"plotlyServerURL\": \"https://plot.ly\", \"responsive\": true}                    ).then(function(){\n",
       "                            \n",
       "var gd = document.getElementById('f23150c1-1321-4793-afb2-272a87365f55');\n",
       "var x = new MutationObserver(function (mutations, observer) {{\n",
       "        var display = window.getComputedStyle(gd).display;\n",
       "        if (!display || display === 'none') {{\n",
       "            console.log([gd, 'removed!']);\n",
       "            Plotly.purge(gd);\n",
       "            observer.disconnect();\n",
       "        }}\n",
       "}});\n",
       "\n",
       "// Listen for the removal of the full notebook cells\n",
       "var notebookContainer = gd.closest('#notebook-container');\n",
       "if (notebookContainer) {{\n",
       "    x.observe(notebookContainer, {childList: true});\n",
       "}}\n",
       "\n",
       "// Listen for the clearing of the current output cell\n",
       "var outputEl = gd.closest('.output');\n",
       "if (outputEl) {{\n",
       "    x.observe(outputEl, {childList: true});\n",
       "}}\n",
       "\n",
       "                        })                };                });            </script>        </div>"
      ]
     },
     "metadata": {},
     "output_type": "display_data"
    }
   ],
   "source": [
    "df2.iplot(kind='bar',x='Category',y='Values')"
   ]
  },
  {
   "cell_type": "code",
   "execution_count": 13,
   "metadata": {},
   "outputs": [
    {
     "data": {
      "application/vnd.plotly.v1+json": {
       "config": {
        "linkText": "Export to plot.ly",
        "plotlyServerURL": "https://plot.ly",
        "showLink": true
       },
       "data": [
        {
         "marker": {
          "color": "rgba(255, 153, 51, 0.6)",
          "line": {
           "color": "rgba(255, 153, 51, 1.0)",
           "width": 1
          }
         },
         "name": "None",
         "orientation": "v",
         "text": "",
         "type": "bar",
         "x": [
          "A",
          "B",
          "C",
          "D"
         ],
         "y": [
          100,
          100,
          100,
          100
         ]
        }
       ],
       "layout": {
        "legend": {
         "bgcolor": "#F5F6F9",
         "font": {
          "color": "#4D5663"
         }
        },
        "paper_bgcolor": "#F5F6F9",
        "plot_bgcolor": "#F5F6F9",
        "template": {
         "data": {
          "bar": [
           {
            "error_x": {
             "color": "#2a3f5f"
            },
            "error_y": {
             "color": "#2a3f5f"
            },
            "marker": {
             "line": {
              "color": "#E5ECF6",
              "width": 0.5
             },
             "pattern": {
              "fillmode": "overlay",
              "size": 10,
              "solidity": 0.2
             }
            },
            "type": "bar"
           }
          ],
          "barpolar": [
           {
            "marker": {
             "line": {
              "color": "#E5ECF6",
              "width": 0.5
             },
             "pattern": {
              "fillmode": "overlay",
              "size": 10,
              "solidity": 0.2
             }
            },
            "type": "barpolar"
           }
          ],
          "carpet": [
           {
            "aaxis": {
             "endlinecolor": "#2a3f5f",
             "gridcolor": "white",
             "linecolor": "white",
             "minorgridcolor": "white",
             "startlinecolor": "#2a3f5f"
            },
            "baxis": {
             "endlinecolor": "#2a3f5f",
             "gridcolor": "white",
             "linecolor": "white",
             "minorgridcolor": "white",
             "startlinecolor": "#2a3f5f"
            },
            "type": "carpet"
           }
          ],
          "choropleth": [
           {
            "colorbar": {
             "outlinewidth": 0,
             "ticks": ""
            },
            "type": "choropleth"
           }
          ],
          "contour": [
           {
            "colorbar": {
             "outlinewidth": 0,
             "ticks": ""
            },
            "colorscale": [
             [
              0,
              "#0d0887"
             ],
             [
              0.1111111111111111,
              "#46039f"
             ],
             [
              0.2222222222222222,
              "#7201a8"
             ],
             [
              0.3333333333333333,
              "#9c179e"
             ],
             [
              0.4444444444444444,
              "#bd3786"
             ],
             [
              0.5555555555555556,
              "#d8576b"
             ],
             [
              0.6666666666666666,
              "#ed7953"
             ],
             [
              0.7777777777777778,
              "#fb9f3a"
             ],
             [
              0.8888888888888888,
              "#fdca26"
             ],
             [
              1,
              "#f0f921"
             ]
            ],
            "type": "contour"
           }
          ],
          "contourcarpet": [
           {
            "colorbar": {
             "outlinewidth": 0,
             "ticks": ""
            },
            "type": "contourcarpet"
           }
          ],
          "heatmap": [
           {
            "colorbar": {
             "outlinewidth": 0,
             "ticks": ""
            },
            "colorscale": [
             [
              0,
              "#0d0887"
             ],
             [
              0.1111111111111111,
              "#46039f"
             ],
             [
              0.2222222222222222,
              "#7201a8"
             ],
             [
              0.3333333333333333,
              "#9c179e"
             ],
             [
              0.4444444444444444,
              "#bd3786"
             ],
             [
              0.5555555555555556,
              "#d8576b"
             ],
             [
              0.6666666666666666,
              "#ed7953"
             ],
             [
              0.7777777777777778,
              "#fb9f3a"
             ],
             [
              0.8888888888888888,
              "#fdca26"
             ],
             [
              1,
              "#f0f921"
             ]
            ],
            "type": "heatmap"
           }
          ],
          "heatmapgl": [
           {
            "colorbar": {
             "outlinewidth": 0,
             "ticks": ""
            },
            "colorscale": [
             [
              0,
              "#0d0887"
             ],
             [
              0.1111111111111111,
              "#46039f"
             ],
             [
              0.2222222222222222,
              "#7201a8"
             ],
             [
              0.3333333333333333,
              "#9c179e"
             ],
             [
              0.4444444444444444,
              "#bd3786"
             ],
             [
              0.5555555555555556,
              "#d8576b"
             ],
             [
              0.6666666666666666,
              "#ed7953"
             ],
             [
              0.7777777777777778,
              "#fb9f3a"
             ],
             [
              0.8888888888888888,
              "#fdca26"
             ],
             [
              1,
              "#f0f921"
             ]
            ],
            "type": "heatmapgl"
           }
          ],
          "histogram": [
           {
            "marker": {
             "pattern": {
              "fillmode": "overlay",
              "size": 10,
              "solidity": 0.2
             }
            },
            "type": "histogram"
           }
          ],
          "histogram2d": [
           {
            "colorbar": {
             "outlinewidth": 0,
             "ticks": ""
            },
            "colorscale": [
             [
              0,
              "#0d0887"
             ],
             [
              0.1111111111111111,
              "#46039f"
             ],
             [
              0.2222222222222222,
              "#7201a8"
             ],
             [
              0.3333333333333333,
              "#9c179e"
             ],
             [
              0.4444444444444444,
              "#bd3786"
             ],
             [
              0.5555555555555556,
              "#d8576b"
             ],
             [
              0.6666666666666666,
              "#ed7953"
             ],
             [
              0.7777777777777778,
              "#fb9f3a"
             ],
             [
              0.8888888888888888,
              "#fdca26"
             ],
             [
              1,
              "#f0f921"
             ]
            ],
            "type": "histogram2d"
           }
          ],
          "histogram2dcontour": [
           {
            "colorbar": {
             "outlinewidth": 0,
             "ticks": ""
            },
            "colorscale": [
             [
              0,
              "#0d0887"
             ],
             [
              0.1111111111111111,
              "#46039f"
             ],
             [
              0.2222222222222222,
              "#7201a8"
             ],
             [
              0.3333333333333333,
              "#9c179e"
             ],
             [
              0.4444444444444444,
              "#bd3786"
             ],
             [
              0.5555555555555556,
              "#d8576b"
             ],
             [
              0.6666666666666666,
              "#ed7953"
             ],
             [
              0.7777777777777778,
              "#fb9f3a"
             ],
             [
              0.8888888888888888,
              "#fdca26"
             ],
             [
              1,
              "#f0f921"
             ]
            ],
            "type": "histogram2dcontour"
           }
          ],
          "mesh3d": [
           {
            "colorbar": {
             "outlinewidth": 0,
             "ticks": ""
            },
            "type": "mesh3d"
           }
          ],
          "parcoords": [
           {
            "line": {
             "colorbar": {
              "outlinewidth": 0,
              "ticks": ""
             }
            },
            "type": "parcoords"
           }
          ],
          "pie": [
           {
            "automargin": true,
            "type": "pie"
           }
          ],
          "scatter": [
           {
            "marker": {
             "colorbar": {
              "outlinewidth": 0,
              "ticks": ""
             }
            },
            "type": "scatter"
           }
          ],
          "scatter3d": [
           {
            "line": {
             "colorbar": {
              "outlinewidth": 0,
              "ticks": ""
             }
            },
            "marker": {
             "colorbar": {
              "outlinewidth": 0,
              "ticks": ""
             }
            },
            "type": "scatter3d"
           }
          ],
          "scattercarpet": [
           {
            "marker": {
             "colorbar": {
              "outlinewidth": 0,
              "ticks": ""
             }
            },
            "type": "scattercarpet"
           }
          ],
          "scattergeo": [
           {
            "marker": {
             "colorbar": {
              "outlinewidth": 0,
              "ticks": ""
             }
            },
            "type": "scattergeo"
           }
          ],
          "scattergl": [
           {
            "marker": {
             "colorbar": {
              "outlinewidth": 0,
              "ticks": ""
             }
            },
            "type": "scattergl"
           }
          ],
          "scattermapbox": [
           {
            "marker": {
             "colorbar": {
              "outlinewidth": 0,
              "ticks": ""
             }
            },
            "type": "scattermapbox"
           }
          ],
          "scatterpolar": [
           {
            "marker": {
             "colorbar": {
              "outlinewidth": 0,
              "ticks": ""
             }
            },
            "type": "scatterpolar"
           }
          ],
          "scatterpolargl": [
           {
            "marker": {
             "colorbar": {
              "outlinewidth": 0,
              "ticks": ""
             }
            },
            "type": "scatterpolargl"
           }
          ],
          "scatterternary": [
           {
            "marker": {
             "colorbar": {
              "outlinewidth": 0,
              "ticks": ""
             }
            },
            "type": "scatterternary"
           }
          ],
          "surface": [
           {
            "colorbar": {
             "outlinewidth": 0,
             "ticks": ""
            },
            "colorscale": [
             [
              0,
              "#0d0887"
             ],
             [
              0.1111111111111111,
              "#46039f"
             ],
             [
              0.2222222222222222,
              "#7201a8"
             ],
             [
              0.3333333333333333,
              "#9c179e"
             ],
             [
              0.4444444444444444,
              "#bd3786"
             ],
             [
              0.5555555555555556,
              "#d8576b"
             ],
             [
              0.6666666666666666,
              "#ed7953"
             ],
             [
              0.7777777777777778,
              "#fb9f3a"
             ],
             [
              0.8888888888888888,
              "#fdca26"
             ],
             [
              1,
              "#f0f921"
             ]
            ],
            "type": "surface"
           }
          ],
          "table": [
           {
            "cells": {
             "fill": {
              "color": "#EBF0F8"
             },
             "line": {
              "color": "white"
             }
            },
            "header": {
             "fill": {
              "color": "#C8D4E3"
             },
             "line": {
              "color": "white"
             }
            },
            "type": "table"
           }
          ]
         },
         "layout": {
          "annotationdefaults": {
           "arrowcolor": "#2a3f5f",
           "arrowhead": 0,
           "arrowwidth": 1
          },
          "autotypenumbers": "strict",
          "coloraxis": {
           "colorbar": {
            "outlinewidth": 0,
            "ticks": ""
           }
          },
          "colorscale": {
           "diverging": [
            [
             0,
             "#8e0152"
            ],
            [
             0.1,
             "#c51b7d"
            ],
            [
             0.2,
             "#de77ae"
            ],
            [
             0.3,
             "#f1b6da"
            ],
            [
             0.4,
             "#fde0ef"
            ],
            [
             0.5,
             "#f7f7f7"
            ],
            [
             0.6,
             "#e6f5d0"
            ],
            [
             0.7,
             "#b8e186"
            ],
            [
             0.8,
             "#7fbc41"
            ],
            [
             0.9,
             "#4d9221"
            ],
            [
             1,
             "#276419"
            ]
           ],
           "sequential": [
            [
             0,
             "#0d0887"
            ],
            [
             0.1111111111111111,
             "#46039f"
            ],
            [
             0.2222222222222222,
             "#7201a8"
            ],
            [
             0.3333333333333333,
             "#9c179e"
            ],
            [
             0.4444444444444444,
             "#bd3786"
            ],
            [
             0.5555555555555556,
             "#d8576b"
            ],
            [
             0.6666666666666666,
             "#ed7953"
            ],
            [
             0.7777777777777778,
             "#fb9f3a"
            ],
            [
             0.8888888888888888,
             "#fdca26"
            ],
            [
             1,
             "#f0f921"
            ]
           ],
           "sequentialminus": [
            [
             0,
             "#0d0887"
            ],
            [
             0.1111111111111111,
             "#46039f"
            ],
            [
             0.2222222222222222,
             "#7201a8"
            ],
            [
             0.3333333333333333,
             "#9c179e"
            ],
            [
             0.4444444444444444,
             "#bd3786"
            ],
            [
             0.5555555555555556,
             "#d8576b"
            ],
            [
             0.6666666666666666,
             "#ed7953"
            ],
            [
             0.7777777777777778,
             "#fb9f3a"
            ],
            [
             0.8888888888888888,
             "#fdca26"
            ],
            [
             1,
             "#f0f921"
            ]
           ]
          },
          "colorway": [
           "#636efa",
           "#EF553B",
           "#00cc96",
           "#ab63fa",
           "#FFA15A",
           "#19d3f3",
           "#FF6692",
           "#B6E880",
           "#FF97FF",
           "#FECB52"
          ],
          "font": {
           "color": "#2a3f5f"
          },
          "geo": {
           "bgcolor": "white",
           "lakecolor": "white",
           "landcolor": "#E5ECF6",
           "showlakes": true,
           "showland": true,
           "subunitcolor": "white"
          },
          "hoverlabel": {
           "align": "left"
          },
          "hovermode": "closest",
          "mapbox": {
           "style": "light"
          },
          "paper_bgcolor": "white",
          "plot_bgcolor": "#E5ECF6",
          "polar": {
           "angularaxis": {
            "gridcolor": "white",
            "linecolor": "white",
            "ticks": ""
           },
           "bgcolor": "#E5ECF6",
           "radialaxis": {
            "gridcolor": "white",
            "linecolor": "white",
            "ticks": ""
           }
          },
          "scene": {
           "xaxis": {
            "backgroundcolor": "#E5ECF6",
            "gridcolor": "white",
            "gridwidth": 2,
            "linecolor": "white",
            "showbackground": true,
            "ticks": "",
            "zerolinecolor": "white"
           },
           "yaxis": {
            "backgroundcolor": "#E5ECF6",
            "gridcolor": "white",
            "gridwidth": 2,
            "linecolor": "white",
            "showbackground": true,
            "ticks": "",
            "zerolinecolor": "white"
           },
           "zaxis": {
            "backgroundcolor": "#E5ECF6",
            "gridcolor": "white",
            "gridwidth": 2,
            "linecolor": "white",
            "showbackground": true,
            "ticks": "",
            "zerolinecolor": "white"
           }
          },
          "shapedefaults": {
           "line": {
            "color": "#2a3f5f"
           }
          },
          "ternary": {
           "aaxis": {
            "gridcolor": "white",
            "linecolor": "white",
            "ticks": ""
           },
           "baxis": {
            "gridcolor": "white",
            "linecolor": "white",
            "ticks": ""
           },
           "bgcolor": "#E5ECF6",
           "caxis": {
            "gridcolor": "white",
            "linecolor": "white",
            "ticks": ""
           }
          },
          "title": {
           "x": 0.05
          },
          "xaxis": {
           "automargin": true,
           "gridcolor": "white",
           "linecolor": "white",
           "ticks": "",
           "title": {
            "standoff": 15
           },
           "zerolinecolor": "white",
           "zerolinewidth": 2
          },
          "yaxis": {
           "automargin": true,
           "gridcolor": "white",
           "linecolor": "white",
           "ticks": "",
           "title": {
            "standoff": 15
           },
           "zerolinecolor": "white",
           "zerolinewidth": 2
          }
         }
        },
        "title": {
         "font": {
          "color": "#4D5663"
         }
        },
        "xaxis": {
         "gridcolor": "#E1E5ED",
         "showgrid": true,
         "tickfont": {
          "color": "#4D5663"
         },
         "title": {
          "font": {
           "color": "#4D5663"
          },
          "text": ""
         },
         "zerolinecolor": "#E1E5ED"
        },
        "yaxis": {
         "gridcolor": "#E1E5ED",
         "showgrid": true,
         "tickfont": {
          "color": "#4D5663"
         },
         "title": {
          "font": {
           "color": "#4D5663"
          },
          "text": ""
         },
         "zerolinecolor": "#E1E5ED"
        }
       }
      },
      "text/html": [
       "<div>                            <div id=\"d4d2f49c-41c9-4905-946f-500267c3cff5\" class=\"plotly-graph-div\" style=\"height:525px; width:100%;\"></div>            <script type=\"text/javascript\">                require([\"plotly\"], function(Plotly) {                    window.PLOTLYENV=window.PLOTLYENV || {};\n",
       "                    window.PLOTLYENV.BASE_URL='https://plot.ly';                                    if (document.getElementById(\"d4d2f49c-41c9-4905-946f-500267c3cff5\")) {                    Plotly.newPlot(                        \"d4d2f49c-41c9-4905-946f-500267c3cff5\",                        [{\"marker\":{\"color\":\"rgba(255, 153, 51, 0.6)\",\"line\":{\"color\":\"rgba(255, 153, 51, 1.0)\",\"width\":1}},\"name\":\"None\",\"orientation\":\"v\",\"text\":\"\",\"type\":\"bar\",\"x\":[\"A\",\"B\",\"C\",\"D\"],\"y\":[100,100,100,100]}],                        {\"legend\":{\"bgcolor\":\"#F5F6F9\",\"font\":{\"color\":\"#4D5663\"}},\"paper_bgcolor\":\"#F5F6F9\",\"plot_bgcolor\":\"#F5F6F9\",\"template\":{\"data\":{\"bar\":[{\"error_x\":{\"color\":\"#2a3f5f\"},\"error_y\":{\"color\":\"#2a3f5f\"},\"marker\":{\"line\":{\"color\":\"#E5ECF6\",\"width\":0.5},\"pattern\":{\"fillmode\":\"overlay\",\"size\":10,\"solidity\":0.2}},\"type\":\"bar\"}],\"barpolar\":[{\"marker\":{\"line\":{\"color\":\"#E5ECF6\",\"width\":0.5},\"pattern\":{\"fillmode\":\"overlay\",\"size\":10,\"solidity\":0.2}},\"type\":\"barpolar\"}],\"carpet\":[{\"aaxis\":{\"endlinecolor\":\"#2a3f5f\",\"gridcolor\":\"white\",\"linecolor\":\"white\",\"minorgridcolor\":\"white\",\"startlinecolor\":\"#2a3f5f\"},\"baxis\":{\"endlinecolor\":\"#2a3f5f\",\"gridcolor\":\"white\",\"linecolor\":\"white\",\"minorgridcolor\":\"white\",\"startlinecolor\":\"#2a3f5f\"},\"type\":\"carpet\"}],\"choropleth\":[{\"colorbar\":{\"outlinewidth\":0,\"ticks\":\"\"},\"type\":\"choropleth\"}],\"contour\":[{\"colorbar\":{\"outlinewidth\":0,\"ticks\":\"\"},\"colorscale\":[[0.0,\"#0d0887\"],[0.1111111111111111,\"#46039f\"],[0.2222222222222222,\"#7201a8\"],[0.3333333333333333,\"#9c179e\"],[0.4444444444444444,\"#bd3786\"],[0.5555555555555556,\"#d8576b\"],[0.6666666666666666,\"#ed7953\"],[0.7777777777777778,\"#fb9f3a\"],[0.8888888888888888,\"#fdca26\"],[1.0,\"#f0f921\"]],\"type\":\"contour\"}],\"contourcarpet\":[{\"colorbar\":{\"outlinewidth\":0,\"ticks\":\"\"},\"type\":\"contourcarpet\"}],\"heatmap\":[{\"colorbar\":{\"outlinewidth\":0,\"ticks\":\"\"},\"colorscale\":[[0.0,\"#0d0887\"],[0.1111111111111111,\"#46039f\"],[0.2222222222222222,\"#7201a8\"],[0.3333333333333333,\"#9c179e\"],[0.4444444444444444,\"#bd3786\"],[0.5555555555555556,\"#d8576b\"],[0.6666666666666666,\"#ed7953\"],[0.7777777777777778,\"#fb9f3a\"],[0.8888888888888888,\"#fdca26\"],[1.0,\"#f0f921\"]],\"type\":\"heatmap\"}],\"heatmapgl\":[{\"colorbar\":{\"outlinewidth\":0,\"ticks\":\"\"},\"colorscale\":[[0.0,\"#0d0887\"],[0.1111111111111111,\"#46039f\"],[0.2222222222222222,\"#7201a8\"],[0.3333333333333333,\"#9c179e\"],[0.4444444444444444,\"#bd3786\"],[0.5555555555555556,\"#d8576b\"],[0.6666666666666666,\"#ed7953\"],[0.7777777777777778,\"#fb9f3a\"],[0.8888888888888888,\"#fdca26\"],[1.0,\"#f0f921\"]],\"type\":\"heatmapgl\"}],\"histogram\":[{\"marker\":{\"pattern\":{\"fillmode\":\"overlay\",\"size\":10,\"solidity\":0.2}},\"type\":\"histogram\"}],\"histogram2d\":[{\"colorbar\":{\"outlinewidth\":0,\"ticks\":\"\"},\"colorscale\":[[0.0,\"#0d0887\"],[0.1111111111111111,\"#46039f\"],[0.2222222222222222,\"#7201a8\"],[0.3333333333333333,\"#9c179e\"],[0.4444444444444444,\"#bd3786\"],[0.5555555555555556,\"#d8576b\"],[0.6666666666666666,\"#ed7953\"],[0.7777777777777778,\"#fb9f3a\"],[0.8888888888888888,\"#fdca26\"],[1.0,\"#f0f921\"]],\"type\":\"histogram2d\"}],\"histogram2dcontour\":[{\"colorbar\":{\"outlinewidth\":0,\"ticks\":\"\"},\"colorscale\":[[0.0,\"#0d0887\"],[0.1111111111111111,\"#46039f\"],[0.2222222222222222,\"#7201a8\"],[0.3333333333333333,\"#9c179e\"],[0.4444444444444444,\"#bd3786\"],[0.5555555555555556,\"#d8576b\"],[0.6666666666666666,\"#ed7953\"],[0.7777777777777778,\"#fb9f3a\"],[0.8888888888888888,\"#fdca26\"],[1.0,\"#f0f921\"]],\"type\":\"histogram2dcontour\"}],\"mesh3d\":[{\"colorbar\":{\"outlinewidth\":0,\"ticks\":\"\"},\"type\":\"mesh3d\"}],\"parcoords\":[{\"line\":{\"colorbar\":{\"outlinewidth\":0,\"ticks\":\"\"}},\"type\":\"parcoords\"}],\"pie\":[{\"automargin\":true,\"type\":\"pie\"}],\"scatter\":[{\"marker\":{\"colorbar\":{\"outlinewidth\":0,\"ticks\":\"\"}},\"type\":\"scatter\"}],\"scatter3d\":[{\"line\":{\"colorbar\":{\"outlinewidth\":0,\"ticks\":\"\"}},\"marker\":{\"colorbar\":{\"outlinewidth\":0,\"ticks\":\"\"}},\"type\":\"scatter3d\"}],\"scattercarpet\":[{\"marker\":{\"colorbar\":{\"outlinewidth\":0,\"ticks\":\"\"}},\"type\":\"scattercarpet\"}],\"scattergeo\":[{\"marker\":{\"colorbar\":{\"outlinewidth\":0,\"ticks\":\"\"}},\"type\":\"scattergeo\"}],\"scattergl\":[{\"marker\":{\"colorbar\":{\"outlinewidth\":0,\"ticks\":\"\"}},\"type\":\"scattergl\"}],\"scattermapbox\":[{\"marker\":{\"colorbar\":{\"outlinewidth\":0,\"ticks\":\"\"}},\"type\":\"scattermapbox\"}],\"scatterpolar\":[{\"marker\":{\"colorbar\":{\"outlinewidth\":0,\"ticks\":\"\"}},\"type\":\"scatterpolar\"}],\"scatterpolargl\":[{\"marker\":{\"colorbar\":{\"outlinewidth\":0,\"ticks\":\"\"}},\"type\":\"scatterpolargl\"}],\"scatterternary\":[{\"marker\":{\"colorbar\":{\"outlinewidth\":0,\"ticks\":\"\"}},\"type\":\"scatterternary\"}],\"surface\":[{\"colorbar\":{\"outlinewidth\":0,\"ticks\":\"\"},\"colorscale\":[[0.0,\"#0d0887\"],[0.1111111111111111,\"#46039f\"],[0.2222222222222222,\"#7201a8\"],[0.3333333333333333,\"#9c179e\"],[0.4444444444444444,\"#bd3786\"],[0.5555555555555556,\"#d8576b\"],[0.6666666666666666,\"#ed7953\"],[0.7777777777777778,\"#fb9f3a\"],[0.8888888888888888,\"#fdca26\"],[1.0,\"#f0f921\"]],\"type\":\"surface\"}],\"table\":[{\"cells\":{\"fill\":{\"color\":\"#EBF0F8\"},\"line\":{\"color\":\"white\"}},\"header\":{\"fill\":{\"color\":\"#C8D4E3\"},\"line\":{\"color\":\"white\"}},\"type\":\"table\"}]},\"layout\":{\"annotationdefaults\":{\"arrowcolor\":\"#2a3f5f\",\"arrowhead\":0,\"arrowwidth\":1},\"autotypenumbers\":\"strict\",\"coloraxis\":{\"colorbar\":{\"outlinewidth\":0,\"ticks\":\"\"}},\"colorscale\":{\"diverging\":[[0,\"#8e0152\"],[0.1,\"#c51b7d\"],[0.2,\"#de77ae\"],[0.3,\"#f1b6da\"],[0.4,\"#fde0ef\"],[0.5,\"#f7f7f7\"],[0.6,\"#e6f5d0\"],[0.7,\"#b8e186\"],[0.8,\"#7fbc41\"],[0.9,\"#4d9221\"],[1,\"#276419\"]],\"sequential\":[[0.0,\"#0d0887\"],[0.1111111111111111,\"#46039f\"],[0.2222222222222222,\"#7201a8\"],[0.3333333333333333,\"#9c179e\"],[0.4444444444444444,\"#bd3786\"],[0.5555555555555556,\"#d8576b\"],[0.6666666666666666,\"#ed7953\"],[0.7777777777777778,\"#fb9f3a\"],[0.8888888888888888,\"#fdca26\"],[1.0,\"#f0f921\"]],\"sequentialminus\":[[0.0,\"#0d0887\"],[0.1111111111111111,\"#46039f\"],[0.2222222222222222,\"#7201a8\"],[0.3333333333333333,\"#9c179e\"],[0.4444444444444444,\"#bd3786\"],[0.5555555555555556,\"#d8576b\"],[0.6666666666666666,\"#ed7953\"],[0.7777777777777778,\"#fb9f3a\"],[0.8888888888888888,\"#fdca26\"],[1.0,\"#f0f921\"]]},\"colorway\":[\"#636efa\",\"#EF553B\",\"#00cc96\",\"#ab63fa\",\"#FFA15A\",\"#19d3f3\",\"#FF6692\",\"#B6E880\",\"#FF97FF\",\"#FECB52\"],\"font\":{\"color\":\"#2a3f5f\"},\"geo\":{\"bgcolor\":\"white\",\"lakecolor\":\"white\",\"landcolor\":\"#E5ECF6\",\"showlakes\":true,\"showland\":true,\"subunitcolor\":\"white\"},\"hoverlabel\":{\"align\":\"left\"},\"hovermode\":\"closest\",\"mapbox\":{\"style\":\"light\"},\"paper_bgcolor\":\"white\",\"plot_bgcolor\":\"#E5ECF6\",\"polar\":{\"angularaxis\":{\"gridcolor\":\"white\",\"linecolor\":\"white\",\"ticks\":\"\"},\"bgcolor\":\"#E5ECF6\",\"radialaxis\":{\"gridcolor\":\"white\",\"linecolor\":\"white\",\"ticks\":\"\"}},\"scene\":{\"xaxis\":{\"backgroundcolor\":\"#E5ECF6\",\"gridcolor\":\"white\",\"gridwidth\":2,\"linecolor\":\"white\",\"showbackground\":true,\"ticks\":\"\",\"zerolinecolor\":\"white\"},\"yaxis\":{\"backgroundcolor\":\"#E5ECF6\",\"gridcolor\":\"white\",\"gridwidth\":2,\"linecolor\":\"white\",\"showbackground\":true,\"ticks\":\"\",\"zerolinecolor\":\"white\"},\"zaxis\":{\"backgroundcolor\":\"#E5ECF6\",\"gridcolor\":\"white\",\"gridwidth\":2,\"linecolor\":\"white\",\"showbackground\":true,\"ticks\":\"\",\"zerolinecolor\":\"white\"}},\"shapedefaults\":{\"line\":{\"color\":\"#2a3f5f\"}},\"ternary\":{\"aaxis\":{\"gridcolor\":\"white\",\"linecolor\":\"white\",\"ticks\":\"\"},\"baxis\":{\"gridcolor\":\"white\",\"linecolor\":\"white\",\"ticks\":\"\"},\"bgcolor\":\"#E5ECF6\",\"caxis\":{\"gridcolor\":\"white\",\"linecolor\":\"white\",\"ticks\":\"\"}},\"title\":{\"x\":0.05},\"xaxis\":{\"automargin\":true,\"gridcolor\":\"white\",\"linecolor\":\"white\",\"ticks\":\"\",\"title\":{\"standoff\":15},\"zerolinecolor\":\"white\",\"zerolinewidth\":2},\"yaxis\":{\"automargin\":true,\"gridcolor\":\"white\",\"linecolor\":\"white\",\"ticks\":\"\",\"title\":{\"standoff\":15},\"zerolinecolor\":\"white\",\"zerolinewidth\":2}}},\"title\":{\"font\":{\"color\":\"#4D5663\"}},\"xaxis\":{\"gridcolor\":\"#E1E5ED\",\"showgrid\":true,\"tickfont\":{\"color\":\"#4D5663\"},\"title\":{\"font\":{\"color\":\"#4D5663\"},\"text\":\"\"},\"zerolinecolor\":\"#E1E5ED\"},\"yaxis\":{\"gridcolor\":\"#E1E5ED\",\"showgrid\":true,\"tickfont\":{\"color\":\"#4D5663\"},\"title\":{\"font\":{\"color\":\"#4D5663\"},\"text\":\"\"},\"zerolinecolor\":\"#E1E5ED\"}},                        {\"showLink\": true, \"linkText\": \"Export to plot.ly\", \"plotlyServerURL\": \"https://plot.ly\", \"responsive\": true}                    ).then(function(){\n",
       "                            \n",
       "var gd = document.getElementById('d4d2f49c-41c9-4905-946f-500267c3cff5');\n",
       "var x = new MutationObserver(function (mutations, observer) {{\n",
       "        var display = window.getComputedStyle(gd).display;\n",
       "        if (!display || display === 'none') {{\n",
       "            console.log([gd, 'removed!']);\n",
       "            Plotly.purge(gd);\n",
       "            observer.disconnect();\n",
       "        }}\n",
       "}});\n",
       "\n",
       "// Listen for the removal of the full notebook cells\n",
       "var notebookContainer = gd.closest('#notebook-container');\n",
       "if (notebookContainer) {{\n",
       "    x.observe(notebookContainer, {childList: true});\n",
       "}}\n",
       "\n",
       "// Listen for the clearing of the current output cell\n",
       "var outputEl = gd.closest('.output');\n",
       "if (outputEl) {{\n",
       "    x.observe(outputEl, {childList: true});\n",
       "}}\n",
       "\n",
       "                        })                };                });            </script>        </div>"
      ]
     },
     "metadata": {},
     "output_type": "display_data"
    }
   ],
   "source": [
    "df.count().iplot(kind='bar')"
   ]
  },
  {
   "cell_type": "markdown",
   "metadata": {},
   "source": [
    "## Boxplots"
   ]
  },
  {
   "cell_type": "code",
   "execution_count": 14,
   "metadata": {},
   "outputs": [
    {
     "data": {
      "application/vnd.plotly.v1+json": {
       "config": {
        "linkText": "Export to plot.ly",
        "plotlyServerURL": "https://plot.ly",
        "showLink": true
       },
       "data": [
        {
         "boxpoints": false,
         "line": {
          "width": 1.3
         },
         "marker": {
          "color": "rgba(255, 153, 51, 1.0)"
         },
         "name": "A",
         "orientation": "v",
         "type": "box",
         "y": [
          -0.8952513651069208,
          -0.8433675626903279,
          0.5194375646796255,
          0.20781533281382147,
          -0.28787023198130957,
          1.6626119003563948,
          0.8455339666282456,
          -0.004764186067881709,
          0.4733015021634591,
          -0.9426534090465928,
          0.3495407603251051,
          1.046237290545855,
          -0.9859596463402309,
          2.1084983582558596,
          -0.9317323755961524,
          0.6494024623069314,
          -0.3843287632960257,
          1.1614039215162952,
          -0.20123156557799382,
          -0.45298390054834,
          0.7347549725847721,
          -0.7677041350495847,
          0.13258824206569836,
          1.054969175247717,
          -1.3104840655184302,
          -0.8013236099028447,
          0.8811067964875391,
          1.37964961408107,
          -0.6967541155402649,
          -0.06015481378112143,
          1.6708711018109184,
          -0.8025842912977741,
          -0.015918404685731493,
          -0.027443107556971016,
          2.406932617211438,
          1.3057326517527597,
          -0.06865890639765183,
          1.1071268608316913,
          0.33981602924630167,
          -1.0872016494434344,
          -1.5039010182317643,
          -1.519624037806377,
          1.4712137408778254,
          -0.0034193275927080374,
          -0.6401644852992978,
          0.4859905760774655,
          0.0390256747991155,
          -1.941050095915409,
          -1.6177636665820099,
          0.613241988243389,
          -0.8362331163350449,
          1.6088686769777236,
          1.0424803246654821,
          0.021383677990268142,
          0.8482607537163633,
          0.2705487692995969,
          -0.29215392518076677,
          -0.10297268388786927,
          -1.1823360718306772,
          -0.291903670774597,
          -0.80294506515156,
          -0.9072759442656589,
          -0.8089516008862685,
          -0.9258452866799369,
          -0.06216798493213476,
          1.2447036743884878,
          0.04545716238838049,
          -0.5767553684691545,
          -0.757567169617877,
          1.5631791168400553,
          1.479076371008533,
          0.3313239929669739,
          -0.8932590257661409,
          -0.8233805286922103,
          1.0906334749242377,
          0.9254639718825185,
          0.3337368137528734,
          0.7499843768463412,
          0.8962171001982022,
          0.8433026224184019,
          0.041966578696571485,
          -0.3215182981515437,
          -2.126805113291232,
          -1.6303569601061727,
          -0.8656966690701975,
          -0.1959710508555525,
          -1.4209840585311801,
          -0.5464709582936679,
          -0.5121202308271431,
          -0.2238616074951767,
          0.3327302146369024,
          0.31238636848963375,
          -1.7015350452825535,
          -0.0549239733602343,
          0.2474203199269791,
          -0.36324706968849796,
          -1.0628515643718848,
          2.5078501395900497,
          -1.8677307647196009,
          0.3231424513059178
         ]
        },
        {
         "boxpoints": false,
         "line": {
          "width": 1.3
         },
         "marker": {
          "color": "rgba(55, 128, 191, 1.0)"
         },
         "name": "B",
         "orientation": "v",
         "type": "box",
         "y": [
          -1.1173847502936025,
          1.746739718699284,
          0.14685877092398286,
          -0.46500629752162825,
          0.4655854906663578,
          -0.06079797292919306,
          -0.9935139192431094,
          -0.9840906486582907,
          0.3858807133247504,
          -0.05165981535030882,
          -0.28153938365960823,
          1.0444208610245398,
          2.9552086536453,
          -0.6360228636743235,
          -0.7750068348042938,
          0.3759362444110491,
          -1.0465943179905126,
          0.5207368215614654,
          -1.2645230056565269,
          -1.6672266527270678,
          0.8136435929779331,
          -0.5161670126408316,
          0.8295781733415212,
          -0.9370552324792465,
          -0.9434636737018017,
          -0.35376129291561254,
          0.1131341527958107,
          -0.7791813809558733,
          -1.5198565256723666,
          0.08475947400103076,
          0.5503775638643653,
          0.3864508203743008,
          1.24508676785871,
          -0.5944516877815453,
          -1.147388038671117,
          1.6745629245114566,
          -0.35706174852272393,
          0.09238182014036393,
          0.45219988102119246,
          -0.9982111420135565,
          -2.364337501067881,
          -1.5689780423807467,
          -0.6195922861260792,
          0.1332476222569659,
          0.7383518851748205,
          0.8093449800294485,
          0.7730083525819172,
          1.4058264441998591,
          1.6662888676900314,
          1.2187622943223144,
          -0.3569510110710778,
          0.789056791494699,
          -0.8914602748284073,
          1.09081664635188,
          -1.4903431943146759,
          -1.4169926866780527,
          0.8187783046002451,
          -1.2840812231710845,
          -0.7474812226213581,
          -0.18246447267077032,
          -1.7170896576775119,
          1.4251919420917685,
          -0.06684710644568471,
          2.248776203702825,
          -1.4497720828871339,
          0.33515054683217393,
          0.2572901158489185,
          -1.8474817915070532,
          0.07171750340675725,
          -0.33435320566254173,
          0.10383275376154216,
          -0.6284608927287233,
          0.866890297412042,
          -1.2024915815630428,
          0.1822133800005098,
          1.129717939403387,
          0.48778847655426805,
          -0.81404660894497,
          -2.4967023192028366,
          -0.15430570948289024,
          1.1629261282568337,
          0.07178192985158226,
          -2.499979619158677,
          -1.0099283783597963,
          -0.20866740683546953,
          -1.2713725553000081,
          -1.5004531175164042,
          0.9280389877106168,
          -1.5295643193552795,
          1.3793034095187395,
          0.24665735973714437,
          0.02648352346857129,
          -0.3723716925856273,
          1.7407167389351086,
          -0.2904664042394969,
          0.8703273669778087,
          1.8871063314463523,
          -0.15925783536561067,
          -0.01232500299030156,
          1.1049302887625263
         ]
        },
        {
         "boxpoints": false,
         "line": {
          "width": 1.3
         },
         "marker": {
          "color": "rgba(50, 171, 96, 1.0)"
         },
         "name": "C",
         "orientation": "v",
         "type": "box",
         "y": [
          0.15402014678503842,
          0.2657263820399731,
          -0.343402330387866,
          0.04907397042722276,
          0.8284594320192139,
          -1.9597162503039829,
          0.057464181045583575,
          -0.28627755991796483,
          1.3057899377814057,
          0.2655702491850747,
          0.4110004604096362,
          2.127128856286828,
          -0.004654093825273417,
          -0.1456494965111229,
          -0.6448807327848622,
          0.34487161331259336,
          -0.8619394979445104,
          0.45936455722494435,
          -1.357533739395525,
          -0.589562354995894,
          -0.005617720156713443,
          -0.6127013045377776,
          0.8119688688762698,
          0.1636200911848541,
          -0.6508242248720761,
          -0.2301188176803608,
          0.24316836315729567,
          0.9257298097364508,
          0.47182097328120637,
          1.816154359318101,
          1.2428168506400545,
          0.2893884384487877,
          1.068267974309602,
          -0.6518694789966023,
          -0.4861247688337598,
          -0.016089400658961882,
          1.1009248401427172,
          0.7266089200181972,
          0.47492656470023475,
          0.23989608269697232,
          -0.10491232495807155,
          0.8746647007485565,
          -1.158256479116966,
          -0.23810768669398752,
          -0.48821222164675787,
          -0.08145494286790905,
          -0.9889200956542998,
          -0.07257919277033752,
          -0.14710125498318025,
          1.5562866047204014,
          -0.37260912236544264,
          1.3621931178310318,
          -0.29352007206031927,
          -0.9149231445886525,
          -0.5702276323273853,
          -1.9939070398381225,
          0.6033883400895033,
          -0.12906993160729308,
          0.12695591032807224,
          0.4330743892954883,
          -0.06199264302863122,
          -1.1530161815695628,
          0.11700877363256074,
          0.9222514463738127,
          -1.0911939258558483,
          0.12440303317551768,
          0.20218176421198447,
          0.48958209851623147,
          1.0226354116421743,
          0.6687817773729573,
          1.4791448129964408,
          0.4683721477637024,
          0.6136290063139493,
          -0.8836654479845644,
          1.324638138600231,
          1.0128676363566746,
          -1.8984076055920722,
          -0.29352674399317497,
          -0.49885529916506166,
          0.822322654340613,
          -0.308508015034196,
          1.6632715231451238,
          0.5640668366446504,
          0.8400153982759437,
          0.5726675028836222,
          0.01600333860851399,
          1.1709176403694541,
          -1.0524581681070924,
          -1.4017372011655806,
          -0.7410775136615926,
          0.3450606347378987,
          1.2812632553883703,
          -0.3527779303137753,
          -0.5852734007342651,
          0.9810235646964258,
          -1.065973352802771,
          -0.15146442254221687,
          -0.3496431410140794,
          -0.5133867583688282,
          1.7253378058693758
         ]
        },
        {
         "boxpoints": false,
         "line": {
          "width": 1.3
         },
         "marker": {
          "color": "rgba(128, 0, 128, 1.0)"
         },
         "name": "D",
         "orientation": "v",
         "type": "box",
         "y": [
          -0.24928176549246744,
          0.43766562725607766,
          0.4911636933927162,
          1.7523971429861311,
          -0.9151291254990293,
          2.526689859980771,
          0.8306532160373419,
          -0.5023275214674892,
          -0.5479546280612896,
          -2.572183254075991,
          0.6520516835942008,
          0.21303230364385592,
          -2.67353945166175,
          1.2657924804275693,
          -0.1638317036376158,
          0.44283481695950516,
          0.3249583261002511,
          -0.09399653505243051,
          -0.3109384017241319,
          0.5708256857603644,
          0.6333611232512597,
          -0.599135502266844,
          -0.4929667876360445,
          -0.06375037377560236,
          -0.5269909683096622,
          -0.5575752612499391,
          -1.2020846724394942,
          -1.6321549927350116,
          1.4279114449960255,
          -0.6144693004074079,
          -0.21259383781399016,
          -1.19956866360025,
          0.03059807861833062,
          0.42966190674389926,
          1.5342674171110502,
          1.401254093534304,
          1.202427573767034,
          0.6894921812796692,
          1.1366594947986572,
          -0.17889497425348794,
          0.27240007895803775,
          0.8146901772806835,
          0.19264118840852978,
          -1.1957881697787762,
          0.7054826975920531,
          -0.2233060203154685,
          -0.019753414665292467,
          1.071013420697468,
          0.6284635436266129,
          1.410271681226113,
          -0.24262105510451937,
          0.1968420081083256,
          -0.07855212762629618,
          1.974354196403117,
          1.7719427413115192,
          -0.7774409273732569,
          -1.624172848941066,
          1.5028725053057772,
          0.25673255995404204,
          0.018310203682808664,
          1.631494514781497,
          -1.451764438413754,
          -0.6008560170876976,
          -1.1597328111446403,
          0.1764286053886547,
          -1.2246949484204448,
          0.9466888965601424,
          -1.955648931806292,
          -1.1262371981967885,
          0.2577519709661145,
          -0.8521206497874158,
          -0.9332922335164483,
          -0.5306441237488271,
          1.8990401454111687,
          -0.3307736735355664,
          -1.58435537195694,
          0.35001137772208324,
          1.1064279284970717,
          -0.4111550594803613,
          1.0202158985347134,
          0.7763283618832962,
          -0.7013310287608374,
          -0.17667984159486233,
          -0.10372497459830986,
          -0.4686774596973294,
          -1.3647059645129447,
          -0.04312159787858875,
          0.47932113215521155,
          1.198645942633406,
          0.6763890844339074,
          -1.365564667612295,
          -0.8023448492675859,
          0.4457650047380639,
          -1.259166288126855,
          0.7743706746417458,
          -0.5256737132389573,
          -1.573555141918629,
          1.03783559002227,
          1.482943710704395,
          0.4924107255646221
         ]
        }
       ],
       "layout": {
        "legend": {
         "bgcolor": "#F5F6F9",
         "font": {
          "color": "#4D5663"
         }
        },
        "paper_bgcolor": "#F5F6F9",
        "plot_bgcolor": "#F5F6F9",
        "template": {
         "data": {
          "bar": [
           {
            "error_x": {
             "color": "#2a3f5f"
            },
            "error_y": {
             "color": "#2a3f5f"
            },
            "marker": {
             "line": {
              "color": "#E5ECF6",
              "width": 0.5
             },
             "pattern": {
              "fillmode": "overlay",
              "size": 10,
              "solidity": 0.2
             }
            },
            "type": "bar"
           }
          ],
          "barpolar": [
           {
            "marker": {
             "line": {
              "color": "#E5ECF6",
              "width": 0.5
             },
             "pattern": {
              "fillmode": "overlay",
              "size": 10,
              "solidity": 0.2
             }
            },
            "type": "barpolar"
           }
          ],
          "carpet": [
           {
            "aaxis": {
             "endlinecolor": "#2a3f5f",
             "gridcolor": "white",
             "linecolor": "white",
             "minorgridcolor": "white",
             "startlinecolor": "#2a3f5f"
            },
            "baxis": {
             "endlinecolor": "#2a3f5f",
             "gridcolor": "white",
             "linecolor": "white",
             "minorgridcolor": "white",
             "startlinecolor": "#2a3f5f"
            },
            "type": "carpet"
           }
          ],
          "choropleth": [
           {
            "colorbar": {
             "outlinewidth": 0,
             "ticks": ""
            },
            "type": "choropleth"
           }
          ],
          "contour": [
           {
            "colorbar": {
             "outlinewidth": 0,
             "ticks": ""
            },
            "colorscale": [
             [
              0,
              "#0d0887"
             ],
             [
              0.1111111111111111,
              "#46039f"
             ],
             [
              0.2222222222222222,
              "#7201a8"
             ],
             [
              0.3333333333333333,
              "#9c179e"
             ],
             [
              0.4444444444444444,
              "#bd3786"
             ],
             [
              0.5555555555555556,
              "#d8576b"
             ],
             [
              0.6666666666666666,
              "#ed7953"
             ],
             [
              0.7777777777777778,
              "#fb9f3a"
             ],
             [
              0.8888888888888888,
              "#fdca26"
             ],
             [
              1,
              "#f0f921"
             ]
            ],
            "type": "contour"
           }
          ],
          "contourcarpet": [
           {
            "colorbar": {
             "outlinewidth": 0,
             "ticks": ""
            },
            "type": "contourcarpet"
           }
          ],
          "heatmap": [
           {
            "colorbar": {
             "outlinewidth": 0,
             "ticks": ""
            },
            "colorscale": [
             [
              0,
              "#0d0887"
             ],
             [
              0.1111111111111111,
              "#46039f"
             ],
             [
              0.2222222222222222,
              "#7201a8"
             ],
             [
              0.3333333333333333,
              "#9c179e"
             ],
             [
              0.4444444444444444,
              "#bd3786"
             ],
             [
              0.5555555555555556,
              "#d8576b"
             ],
             [
              0.6666666666666666,
              "#ed7953"
             ],
             [
              0.7777777777777778,
              "#fb9f3a"
             ],
             [
              0.8888888888888888,
              "#fdca26"
             ],
             [
              1,
              "#f0f921"
             ]
            ],
            "type": "heatmap"
           }
          ],
          "heatmapgl": [
           {
            "colorbar": {
             "outlinewidth": 0,
             "ticks": ""
            },
            "colorscale": [
             [
              0,
              "#0d0887"
             ],
             [
              0.1111111111111111,
              "#46039f"
             ],
             [
              0.2222222222222222,
              "#7201a8"
             ],
             [
              0.3333333333333333,
              "#9c179e"
             ],
             [
              0.4444444444444444,
              "#bd3786"
             ],
             [
              0.5555555555555556,
              "#d8576b"
             ],
             [
              0.6666666666666666,
              "#ed7953"
             ],
             [
              0.7777777777777778,
              "#fb9f3a"
             ],
             [
              0.8888888888888888,
              "#fdca26"
             ],
             [
              1,
              "#f0f921"
             ]
            ],
            "type": "heatmapgl"
           }
          ],
          "histogram": [
           {
            "marker": {
             "pattern": {
              "fillmode": "overlay",
              "size": 10,
              "solidity": 0.2
             }
            },
            "type": "histogram"
           }
          ],
          "histogram2d": [
           {
            "colorbar": {
             "outlinewidth": 0,
             "ticks": ""
            },
            "colorscale": [
             [
              0,
              "#0d0887"
             ],
             [
              0.1111111111111111,
              "#46039f"
             ],
             [
              0.2222222222222222,
              "#7201a8"
             ],
             [
              0.3333333333333333,
              "#9c179e"
             ],
             [
              0.4444444444444444,
              "#bd3786"
             ],
             [
              0.5555555555555556,
              "#d8576b"
             ],
             [
              0.6666666666666666,
              "#ed7953"
             ],
             [
              0.7777777777777778,
              "#fb9f3a"
             ],
             [
              0.8888888888888888,
              "#fdca26"
             ],
             [
              1,
              "#f0f921"
             ]
            ],
            "type": "histogram2d"
           }
          ],
          "histogram2dcontour": [
           {
            "colorbar": {
             "outlinewidth": 0,
             "ticks": ""
            },
            "colorscale": [
             [
              0,
              "#0d0887"
             ],
             [
              0.1111111111111111,
              "#46039f"
             ],
             [
              0.2222222222222222,
              "#7201a8"
             ],
             [
              0.3333333333333333,
              "#9c179e"
             ],
             [
              0.4444444444444444,
              "#bd3786"
             ],
             [
              0.5555555555555556,
              "#d8576b"
             ],
             [
              0.6666666666666666,
              "#ed7953"
             ],
             [
              0.7777777777777778,
              "#fb9f3a"
             ],
             [
              0.8888888888888888,
              "#fdca26"
             ],
             [
              1,
              "#f0f921"
             ]
            ],
            "type": "histogram2dcontour"
           }
          ],
          "mesh3d": [
           {
            "colorbar": {
             "outlinewidth": 0,
             "ticks": ""
            },
            "type": "mesh3d"
           }
          ],
          "parcoords": [
           {
            "line": {
             "colorbar": {
              "outlinewidth": 0,
              "ticks": ""
             }
            },
            "type": "parcoords"
           }
          ],
          "pie": [
           {
            "automargin": true,
            "type": "pie"
           }
          ],
          "scatter": [
           {
            "marker": {
             "colorbar": {
              "outlinewidth": 0,
              "ticks": ""
             }
            },
            "type": "scatter"
           }
          ],
          "scatter3d": [
           {
            "line": {
             "colorbar": {
              "outlinewidth": 0,
              "ticks": ""
             }
            },
            "marker": {
             "colorbar": {
              "outlinewidth": 0,
              "ticks": ""
             }
            },
            "type": "scatter3d"
           }
          ],
          "scattercarpet": [
           {
            "marker": {
             "colorbar": {
              "outlinewidth": 0,
              "ticks": ""
             }
            },
            "type": "scattercarpet"
           }
          ],
          "scattergeo": [
           {
            "marker": {
             "colorbar": {
              "outlinewidth": 0,
              "ticks": ""
             }
            },
            "type": "scattergeo"
           }
          ],
          "scattergl": [
           {
            "marker": {
             "colorbar": {
              "outlinewidth": 0,
              "ticks": ""
             }
            },
            "type": "scattergl"
           }
          ],
          "scattermapbox": [
           {
            "marker": {
             "colorbar": {
              "outlinewidth": 0,
              "ticks": ""
             }
            },
            "type": "scattermapbox"
           }
          ],
          "scatterpolar": [
           {
            "marker": {
             "colorbar": {
              "outlinewidth": 0,
              "ticks": ""
             }
            },
            "type": "scatterpolar"
           }
          ],
          "scatterpolargl": [
           {
            "marker": {
             "colorbar": {
              "outlinewidth": 0,
              "ticks": ""
             }
            },
            "type": "scatterpolargl"
           }
          ],
          "scatterternary": [
           {
            "marker": {
             "colorbar": {
              "outlinewidth": 0,
              "ticks": ""
             }
            },
            "type": "scatterternary"
           }
          ],
          "surface": [
           {
            "colorbar": {
             "outlinewidth": 0,
             "ticks": ""
            },
            "colorscale": [
             [
              0,
              "#0d0887"
             ],
             [
              0.1111111111111111,
              "#46039f"
             ],
             [
              0.2222222222222222,
              "#7201a8"
             ],
             [
              0.3333333333333333,
              "#9c179e"
             ],
             [
              0.4444444444444444,
              "#bd3786"
             ],
             [
              0.5555555555555556,
              "#d8576b"
             ],
             [
              0.6666666666666666,
              "#ed7953"
             ],
             [
              0.7777777777777778,
              "#fb9f3a"
             ],
             [
              0.8888888888888888,
              "#fdca26"
             ],
             [
              1,
              "#f0f921"
             ]
            ],
            "type": "surface"
           }
          ],
          "table": [
           {
            "cells": {
             "fill": {
              "color": "#EBF0F8"
             },
             "line": {
              "color": "white"
             }
            },
            "header": {
             "fill": {
              "color": "#C8D4E3"
             },
             "line": {
              "color": "white"
             }
            },
            "type": "table"
           }
          ]
         },
         "layout": {
          "annotationdefaults": {
           "arrowcolor": "#2a3f5f",
           "arrowhead": 0,
           "arrowwidth": 1
          },
          "autotypenumbers": "strict",
          "coloraxis": {
           "colorbar": {
            "outlinewidth": 0,
            "ticks": ""
           }
          },
          "colorscale": {
           "diverging": [
            [
             0,
             "#8e0152"
            ],
            [
             0.1,
             "#c51b7d"
            ],
            [
             0.2,
             "#de77ae"
            ],
            [
             0.3,
             "#f1b6da"
            ],
            [
             0.4,
             "#fde0ef"
            ],
            [
             0.5,
             "#f7f7f7"
            ],
            [
             0.6,
             "#e6f5d0"
            ],
            [
             0.7,
             "#b8e186"
            ],
            [
             0.8,
             "#7fbc41"
            ],
            [
             0.9,
             "#4d9221"
            ],
            [
             1,
             "#276419"
            ]
           ],
           "sequential": [
            [
             0,
             "#0d0887"
            ],
            [
             0.1111111111111111,
             "#46039f"
            ],
            [
             0.2222222222222222,
             "#7201a8"
            ],
            [
             0.3333333333333333,
             "#9c179e"
            ],
            [
             0.4444444444444444,
             "#bd3786"
            ],
            [
             0.5555555555555556,
             "#d8576b"
            ],
            [
             0.6666666666666666,
             "#ed7953"
            ],
            [
             0.7777777777777778,
             "#fb9f3a"
            ],
            [
             0.8888888888888888,
             "#fdca26"
            ],
            [
             1,
             "#f0f921"
            ]
           ],
           "sequentialminus": [
            [
             0,
             "#0d0887"
            ],
            [
             0.1111111111111111,
             "#46039f"
            ],
            [
             0.2222222222222222,
             "#7201a8"
            ],
            [
             0.3333333333333333,
             "#9c179e"
            ],
            [
             0.4444444444444444,
             "#bd3786"
            ],
            [
             0.5555555555555556,
             "#d8576b"
            ],
            [
             0.6666666666666666,
             "#ed7953"
            ],
            [
             0.7777777777777778,
             "#fb9f3a"
            ],
            [
             0.8888888888888888,
             "#fdca26"
            ],
            [
             1,
             "#f0f921"
            ]
           ]
          },
          "colorway": [
           "#636efa",
           "#EF553B",
           "#00cc96",
           "#ab63fa",
           "#FFA15A",
           "#19d3f3",
           "#FF6692",
           "#B6E880",
           "#FF97FF",
           "#FECB52"
          ],
          "font": {
           "color": "#2a3f5f"
          },
          "geo": {
           "bgcolor": "white",
           "lakecolor": "white",
           "landcolor": "#E5ECF6",
           "showlakes": true,
           "showland": true,
           "subunitcolor": "white"
          },
          "hoverlabel": {
           "align": "left"
          },
          "hovermode": "closest",
          "mapbox": {
           "style": "light"
          },
          "paper_bgcolor": "white",
          "plot_bgcolor": "#E5ECF6",
          "polar": {
           "angularaxis": {
            "gridcolor": "white",
            "linecolor": "white",
            "ticks": ""
           },
           "bgcolor": "#E5ECF6",
           "radialaxis": {
            "gridcolor": "white",
            "linecolor": "white",
            "ticks": ""
           }
          },
          "scene": {
           "xaxis": {
            "backgroundcolor": "#E5ECF6",
            "gridcolor": "white",
            "gridwidth": 2,
            "linecolor": "white",
            "showbackground": true,
            "ticks": "",
            "zerolinecolor": "white"
           },
           "yaxis": {
            "backgroundcolor": "#E5ECF6",
            "gridcolor": "white",
            "gridwidth": 2,
            "linecolor": "white",
            "showbackground": true,
            "ticks": "",
            "zerolinecolor": "white"
           },
           "zaxis": {
            "backgroundcolor": "#E5ECF6",
            "gridcolor": "white",
            "gridwidth": 2,
            "linecolor": "white",
            "showbackground": true,
            "ticks": "",
            "zerolinecolor": "white"
           }
          },
          "shapedefaults": {
           "line": {
            "color": "#2a3f5f"
           }
          },
          "ternary": {
           "aaxis": {
            "gridcolor": "white",
            "linecolor": "white",
            "ticks": ""
           },
           "baxis": {
            "gridcolor": "white",
            "linecolor": "white",
            "ticks": ""
           },
           "bgcolor": "#E5ECF6",
           "caxis": {
            "gridcolor": "white",
            "linecolor": "white",
            "ticks": ""
           }
          },
          "title": {
           "x": 0.05
          },
          "xaxis": {
           "automargin": true,
           "gridcolor": "white",
           "linecolor": "white",
           "ticks": "",
           "title": {
            "standoff": 15
           },
           "zerolinecolor": "white",
           "zerolinewidth": 2
          },
          "yaxis": {
           "automargin": true,
           "gridcolor": "white",
           "linecolor": "white",
           "ticks": "",
           "title": {
            "standoff": 15
           },
           "zerolinecolor": "white",
           "zerolinewidth": 2
          }
         }
        },
        "title": {
         "font": {
          "color": "#4D5663"
         }
        },
        "xaxis": {
         "gridcolor": "#E1E5ED",
         "showgrid": true,
         "tickfont": {
          "color": "#4D5663"
         },
         "title": {
          "font": {
           "color": "#4D5663"
          },
          "text": ""
         },
         "zerolinecolor": "#E1E5ED"
        },
        "yaxis": {
         "gridcolor": "#E1E5ED",
         "showgrid": true,
         "tickfont": {
          "color": "#4D5663"
         },
         "title": {
          "font": {
           "color": "#4D5663"
          },
          "text": ""
         },
         "zerolinecolor": "#E1E5ED"
        }
       }
      },
      "text/html": [
       "<div>                            <div id=\"0befb95b-8d5d-48c6-b618-239d8331a1e2\" class=\"plotly-graph-div\" style=\"height:525px; width:100%;\"></div>            <script type=\"text/javascript\">                require([\"plotly\"], function(Plotly) {                    window.PLOTLYENV=window.PLOTLYENV || {};\n",
       "                    window.PLOTLYENV.BASE_URL='https://plot.ly';                                    if (document.getElementById(\"0befb95b-8d5d-48c6-b618-239d8331a1e2\")) {                    Plotly.newPlot(                        \"0befb95b-8d5d-48c6-b618-239d8331a1e2\",                        [{\"boxpoints\":false,\"line\":{\"width\":1.3},\"marker\":{\"color\":\"rgba(255, 153, 51, 1.0)\"},\"name\":\"A\",\"orientation\":\"v\",\"type\":\"box\",\"y\":[-0.8952513651069208,-0.8433675626903279,0.5194375646796255,0.20781533281382147,-0.28787023198130957,1.6626119003563948,0.8455339666282456,-0.004764186067881709,0.4733015021634591,-0.9426534090465928,0.3495407603251051,1.046237290545855,-0.9859596463402309,2.1084983582558596,-0.9317323755961524,0.6494024623069314,-0.3843287632960257,1.1614039215162952,-0.20123156557799382,-0.45298390054834,0.7347549725847721,-0.7677041350495847,0.13258824206569836,1.054969175247717,-1.3104840655184302,-0.8013236099028447,0.8811067964875391,1.37964961408107,-0.6967541155402649,-0.06015481378112143,1.6708711018109184,-0.8025842912977741,-0.015918404685731493,-0.027443107556971016,2.406932617211438,1.3057326517527597,-0.06865890639765183,1.1071268608316913,0.33981602924630167,-1.0872016494434344,-1.5039010182317643,-1.519624037806377,1.4712137408778254,-0.0034193275927080374,-0.6401644852992978,0.4859905760774655,0.0390256747991155,-1.941050095915409,-1.6177636665820099,0.613241988243389,-0.8362331163350449,1.6088686769777236,1.0424803246654821,0.021383677990268142,0.8482607537163633,0.2705487692995969,-0.29215392518076677,-0.10297268388786927,-1.1823360718306772,-0.291903670774597,-0.80294506515156,-0.9072759442656589,-0.8089516008862685,-0.9258452866799369,-0.06216798493213476,1.2447036743884878,0.04545716238838049,-0.5767553684691545,-0.757567169617877,1.5631791168400553,1.479076371008533,0.3313239929669739,-0.8932590257661409,-0.8233805286922103,1.0906334749242377,0.9254639718825185,0.3337368137528734,0.7499843768463412,0.8962171001982022,0.8433026224184019,0.041966578696571485,-0.3215182981515437,-2.126805113291232,-1.6303569601061727,-0.8656966690701975,-0.1959710508555525,-1.4209840585311801,-0.5464709582936679,-0.5121202308271431,-0.2238616074951767,0.3327302146369024,0.31238636848963375,-1.7015350452825535,-0.0549239733602343,0.2474203199269791,-0.36324706968849796,-1.0628515643718848,2.5078501395900497,-1.8677307647196009,0.3231424513059178]},{\"boxpoints\":false,\"line\":{\"width\":1.3},\"marker\":{\"color\":\"rgba(55, 128, 191, 1.0)\"},\"name\":\"B\",\"orientation\":\"v\",\"type\":\"box\",\"y\":[-1.1173847502936025,1.746739718699284,0.14685877092398286,-0.46500629752162825,0.4655854906663578,-0.06079797292919306,-0.9935139192431094,-0.9840906486582907,0.3858807133247504,-0.05165981535030882,-0.28153938365960823,1.0444208610245398,2.9552086536453,-0.6360228636743235,-0.7750068348042938,0.3759362444110491,-1.0465943179905126,0.5207368215614654,-1.2645230056565269,-1.6672266527270678,0.8136435929779331,-0.5161670126408316,0.8295781733415212,-0.9370552324792465,-0.9434636737018017,-0.35376129291561254,0.1131341527958107,-0.7791813809558733,-1.5198565256723666,0.08475947400103076,0.5503775638643653,0.3864508203743008,1.24508676785871,-0.5944516877815453,-1.147388038671117,1.6745629245114566,-0.35706174852272393,0.09238182014036393,0.45219988102119246,-0.9982111420135565,-2.364337501067881,-1.5689780423807467,-0.6195922861260792,0.1332476222569659,0.7383518851748205,0.8093449800294485,0.7730083525819172,1.4058264441998591,1.6662888676900314,1.2187622943223144,-0.3569510110710778,0.789056791494699,-0.8914602748284073,1.09081664635188,-1.4903431943146759,-1.4169926866780527,0.8187783046002451,-1.2840812231710845,-0.7474812226213581,-0.18246447267077032,-1.7170896576775119,1.4251919420917685,-0.06684710644568471,2.248776203702825,-1.4497720828871339,0.33515054683217393,0.2572901158489185,-1.8474817915070532,0.07171750340675725,-0.33435320566254173,0.10383275376154216,-0.6284608927287233,0.866890297412042,-1.2024915815630428,0.1822133800005098,1.129717939403387,0.48778847655426805,-0.81404660894497,-2.4967023192028366,-0.15430570948289024,1.1629261282568337,0.07178192985158226,-2.499979619158677,-1.0099283783597963,-0.20866740683546953,-1.2713725553000081,-1.5004531175164042,0.9280389877106168,-1.5295643193552795,1.3793034095187395,0.24665735973714437,0.02648352346857129,-0.3723716925856273,1.7407167389351086,-0.2904664042394969,0.8703273669778087,1.8871063314463523,-0.15925783536561067,-0.01232500299030156,1.1049302887625263]},{\"boxpoints\":false,\"line\":{\"width\":1.3},\"marker\":{\"color\":\"rgba(50, 171, 96, 1.0)\"},\"name\":\"C\",\"orientation\":\"v\",\"type\":\"box\",\"y\":[0.15402014678503842,0.2657263820399731,-0.343402330387866,0.04907397042722276,0.8284594320192139,-1.9597162503039829,0.057464181045583575,-0.28627755991796483,1.3057899377814057,0.2655702491850747,0.4110004604096362,2.127128856286828,-0.004654093825273417,-0.1456494965111229,-0.6448807327848622,0.34487161331259336,-0.8619394979445104,0.45936455722494435,-1.357533739395525,-0.589562354995894,-0.005617720156713443,-0.6127013045377776,0.8119688688762698,0.1636200911848541,-0.6508242248720761,-0.2301188176803608,0.24316836315729567,0.9257298097364508,0.47182097328120637,1.816154359318101,1.2428168506400545,0.2893884384487877,1.068267974309602,-0.6518694789966023,-0.4861247688337598,-0.016089400658961882,1.1009248401427172,0.7266089200181972,0.47492656470023475,0.23989608269697232,-0.10491232495807155,0.8746647007485565,-1.158256479116966,-0.23810768669398752,-0.48821222164675787,-0.08145494286790905,-0.9889200956542998,-0.07257919277033752,-0.14710125498318025,1.5562866047204014,-0.37260912236544264,1.3621931178310318,-0.29352007206031927,-0.9149231445886525,-0.5702276323273853,-1.9939070398381225,0.6033883400895033,-0.12906993160729308,0.12695591032807224,0.4330743892954883,-0.06199264302863122,-1.1530161815695628,0.11700877363256074,0.9222514463738127,-1.0911939258558483,0.12440303317551768,0.20218176421198447,0.48958209851623147,1.0226354116421743,0.6687817773729573,1.4791448129964408,0.4683721477637024,0.6136290063139493,-0.8836654479845644,1.324638138600231,1.0128676363566746,-1.8984076055920722,-0.29352674399317497,-0.49885529916506166,0.822322654340613,-0.308508015034196,1.6632715231451238,0.5640668366446504,0.8400153982759437,0.5726675028836222,0.01600333860851399,1.1709176403694541,-1.0524581681070924,-1.4017372011655806,-0.7410775136615926,0.3450606347378987,1.2812632553883703,-0.3527779303137753,-0.5852734007342651,0.9810235646964258,-1.065973352802771,-0.15146442254221687,-0.3496431410140794,-0.5133867583688282,1.7253378058693758]},{\"boxpoints\":false,\"line\":{\"width\":1.3},\"marker\":{\"color\":\"rgba(128, 0, 128, 1.0)\"},\"name\":\"D\",\"orientation\":\"v\",\"type\":\"box\",\"y\":[-0.24928176549246744,0.43766562725607766,0.4911636933927162,1.7523971429861311,-0.9151291254990293,2.526689859980771,0.8306532160373419,-0.5023275214674892,-0.5479546280612896,-2.572183254075991,0.6520516835942008,0.21303230364385592,-2.67353945166175,1.2657924804275693,-0.1638317036376158,0.44283481695950516,0.3249583261002511,-0.09399653505243051,-0.3109384017241319,0.5708256857603644,0.6333611232512597,-0.599135502266844,-0.4929667876360445,-0.06375037377560236,-0.5269909683096622,-0.5575752612499391,-1.2020846724394942,-1.6321549927350116,1.4279114449960255,-0.6144693004074079,-0.21259383781399016,-1.19956866360025,0.03059807861833062,0.42966190674389926,1.5342674171110502,1.401254093534304,1.202427573767034,0.6894921812796692,1.1366594947986572,-0.17889497425348794,0.27240007895803775,0.8146901772806835,0.19264118840852978,-1.1957881697787762,0.7054826975920531,-0.2233060203154685,-0.019753414665292467,1.071013420697468,0.6284635436266129,1.410271681226113,-0.24262105510451937,0.1968420081083256,-0.07855212762629618,1.974354196403117,1.7719427413115192,-0.7774409273732569,-1.624172848941066,1.5028725053057772,0.25673255995404204,0.018310203682808664,1.631494514781497,-1.451764438413754,-0.6008560170876976,-1.1597328111446403,0.1764286053886547,-1.2246949484204448,0.9466888965601424,-1.955648931806292,-1.1262371981967885,0.2577519709661145,-0.8521206497874158,-0.9332922335164483,-0.5306441237488271,1.8990401454111687,-0.3307736735355664,-1.58435537195694,0.35001137772208324,1.1064279284970717,-0.4111550594803613,1.0202158985347134,0.7763283618832962,-0.7013310287608374,-0.17667984159486233,-0.10372497459830986,-0.4686774596973294,-1.3647059645129447,-0.04312159787858875,0.47932113215521155,1.198645942633406,0.6763890844339074,-1.365564667612295,-0.8023448492675859,0.4457650047380639,-1.259166288126855,0.7743706746417458,-0.5256737132389573,-1.573555141918629,1.03783559002227,1.482943710704395,0.4924107255646221]}],                        {\"legend\":{\"bgcolor\":\"#F5F6F9\",\"font\":{\"color\":\"#4D5663\"}},\"paper_bgcolor\":\"#F5F6F9\",\"plot_bgcolor\":\"#F5F6F9\",\"template\":{\"data\":{\"bar\":[{\"error_x\":{\"color\":\"#2a3f5f\"},\"error_y\":{\"color\":\"#2a3f5f\"},\"marker\":{\"line\":{\"color\":\"#E5ECF6\",\"width\":0.5},\"pattern\":{\"fillmode\":\"overlay\",\"size\":10,\"solidity\":0.2}},\"type\":\"bar\"}],\"barpolar\":[{\"marker\":{\"line\":{\"color\":\"#E5ECF6\",\"width\":0.5},\"pattern\":{\"fillmode\":\"overlay\",\"size\":10,\"solidity\":0.2}},\"type\":\"barpolar\"}],\"carpet\":[{\"aaxis\":{\"endlinecolor\":\"#2a3f5f\",\"gridcolor\":\"white\",\"linecolor\":\"white\",\"minorgridcolor\":\"white\",\"startlinecolor\":\"#2a3f5f\"},\"baxis\":{\"endlinecolor\":\"#2a3f5f\",\"gridcolor\":\"white\",\"linecolor\":\"white\",\"minorgridcolor\":\"white\",\"startlinecolor\":\"#2a3f5f\"},\"type\":\"carpet\"}],\"choropleth\":[{\"colorbar\":{\"outlinewidth\":0,\"ticks\":\"\"},\"type\":\"choropleth\"}],\"contour\":[{\"colorbar\":{\"outlinewidth\":0,\"ticks\":\"\"},\"colorscale\":[[0.0,\"#0d0887\"],[0.1111111111111111,\"#46039f\"],[0.2222222222222222,\"#7201a8\"],[0.3333333333333333,\"#9c179e\"],[0.4444444444444444,\"#bd3786\"],[0.5555555555555556,\"#d8576b\"],[0.6666666666666666,\"#ed7953\"],[0.7777777777777778,\"#fb9f3a\"],[0.8888888888888888,\"#fdca26\"],[1.0,\"#f0f921\"]],\"type\":\"contour\"}],\"contourcarpet\":[{\"colorbar\":{\"outlinewidth\":0,\"ticks\":\"\"},\"type\":\"contourcarpet\"}],\"heatmap\":[{\"colorbar\":{\"outlinewidth\":0,\"ticks\":\"\"},\"colorscale\":[[0.0,\"#0d0887\"],[0.1111111111111111,\"#46039f\"],[0.2222222222222222,\"#7201a8\"],[0.3333333333333333,\"#9c179e\"],[0.4444444444444444,\"#bd3786\"],[0.5555555555555556,\"#d8576b\"],[0.6666666666666666,\"#ed7953\"],[0.7777777777777778,\"#fb9f3a\"],[0.8888888888888888,\"#fdca26\"],[1.0,\"#f0f921\"]],\"type\":\"heatmap\"}],\"heatmapgl\":[{\"colorbar\":{\"outlinewidth\":0,\"ticks\":\"\"},\"colorscale\":[[0.0,\"#0d0887\"],[0.1111111111111111,\"#46039f\"],[0.2222222222222222,\"#7201a8\"],[0.3333333333333333,\"#9c179e\"],[0.4444444444444444,\"#bd3786\"],[0.5555555555555556,\"#d8576b\"],[0.6666666666666666,\"#ed7953\"],[0.7777777777777778,\"#fb9f3a\"],[0.8888888888888888,\"#fdca26\"],[1.0,\"#f0f921\"]],\"type\":\"heatmapgl\"}],\"histogram\":[{\"marker\":{\"pattern\":{\"fillmode\":\"overlay\",\"size\":10,\"solidity\":0.2}},\"type\":\"histogram\"}],\"histogram2d\":[{\"colorbar\":{\"outlinewidth\":0,\"ticks\":\"\"},\"colorscale\":[[0.0,\"#0d0887\"],[0.1111111111111111,\"#46039f\"],[0.2222222222222222,\"#7201a8\"],[0.3333333333333333,\"#9c179e\"],[0.4444444444444444,\"#bd3786\"],[0.5555555555555556,\"#d8576b\"],[0.6666666666666666,\"#ed7953\"],[0.7777777777777778,\"#fb9f3a\"],[0.8888888888888888,\"#fdca26\"],[1.0,\"#f0f921\"]],\"type\":\"histogram2d\"}],\"histogram2dcontour\":[{\"colorbar\":{\"outlinewidth\":0,\"ticks\":\"\"},\"colorscale\":[[0.0,\"#0d0887\"],[0.1111111111111111,\"#46039f\"],[0.2222222222222222,\"#7201a8\"],[0.3333333333333333,\"#9c179e\"],[0.4444444444444444,\"#bd3786\"],[0.5555555555555556,\"#d8576b\"],[0.6666666666666666,\"#ed7953\"],[0.7777777777777778,\"#fb9f3a\"],[0.8888888888888888,\"#fdca26\"],[1.0,\"#f0f921\"]],\"type\":\"histogram2dcontour\"}],\"mesh3d\":[{\"colorbar\":{\"outlinewidth\":0,\"ticks\":\"\"},\"type\":\"mesh3d\"}],\"parcoords\":[{\"line\":{\"colorbar\":{\"outlinewidth\":0,\"ticks\":\"\"}},\"type\":\"parcoords\"}],\"pie\":[{\"automargin\":true,\"type\":\"pie\"}],\"scatter\":[{\"marker\":{\"colorbar\":{\"outlinewidth\":0,\"ticks\":\"\"}},\"type\":\"scatter\"}],\"scatter3d\":[{\"line\":{\"colorbar\":{\"outlinewidth\":0,\"ticks\":\"\"}},\"marker\":{\"colorbar\":{\"outlinewidth\":0,\"ticks\":\"\"}},\"type\":\"scatter3d\"}],\"scattercarpet\":[{\"marker\":{\"colorbar\":{\"outlinewidth\":0,\"ticks\":\"\"}},\"type\":\"scattercarpet\"}],\"scattergeo\":[{\"marker\":{\"colorbar\":{\"outlinewidth\":0,\"ticks\":\"\"}},\"type\":\"scattergeo\"}],\"scattergl\":[{\"marker\":{\"colorbar\":{\"outlinewidth\":0,\"ticks\":\"\"}},\"type\":\"scattergl\"}],\"scattermapbox\":[{\"marker\":{\"colorbar\":{\"outlinewidth\":0,\"ticks\":\"\"}},\"type\":\"scattermapbox\"}],\"scatterpolar\":[{\"marker\":{\"colorbar\":{\"outlinewidth\":0,\"ticks\":\"\"}},\"type\":\"scatterpolar\"}],\"scatterpolargl\":[{\"marker\":{\"colorbar\":{\"outlinewidth\":0,\"ticks\":\"\"}},\"type\":\"scatterpolargl\"}],\"scatterternary\":[{\"marker\":{\"colorbar\":{\"outlinewidth\":0,\"ticks\":\"\"}},\"type\":\"scatterternary\"}],\"surface\":[{\"colorbar\":{\"outlinewidth\":0,\"ticks\":\"\"},\"colorscale\":[[0.0,\"#0d0887\"],[0.1111111111111111,\"#46039f\"],[0.2222222222222222,\"#7201a8\"],[0.3333333333333333,\"#9c179e\"],[0.4444444444444444,\"#bd3786\"],[0.5555555555555556,\"#d8576b\"],[0.6666666666666666,\"#ed7953\"],[0.7777777777777778,\"#fb9f3a\"],[0.8888888888888888,\"#fdca26\"],[1.0,\"#f0f921\"]],\"type\":\"surface\"}],\"table\":[{\"cells\":{\"fill\":{\"color\":\"#EBF0F8\"},\"line\":{\"color\":\"white\"}},\"header\":{\"fill\":{\"color\":\"#C8D4E3\"},\"line\":{\"color\":\"white\"}},\"type\":\"table\"}]},\"layout\":{\"annotationdefaults\":{\"arrowcolor\":\"#2a3f5f\",\"arrowhead\":0,\"arrowwidth\":1},\"autotypenumbers\":\"strict\",\"coloraxis\":{\"colorbar\":{\"outlinewidth\":0,\"ticks\":\"\"}},\"colorscale\":{\"diverging\":[[0,\"#8e0152\"],[0.1,\"#c51b7d\"],[0.2,\"#de77ae\"],[0.3,\"#f1b6da\"],[0.4,\"#fde0ef\"],[0.5,\"#f7f7f7\"],[0.6,\"#e6f5d0\"],[0.7,\"#b8e186\"],[0.8,\"#7fbc41\"],[0.9,\"#4d9221\"],[1,\"#276419\"]],\"sequential\":[[0.0,\"#0d0887\"],[0.1111111111111111,\"#46039f\"],[0.2222222222222222,\"#7201a8\"],[0.3333333333333333,\"#9c179e\"],[0.4444444444444444,\"#bd3786\"],[0.5555555555555556,\"#d8576b\"],[0.6666666666666666,\"#ed7953\"],[0.7777777777777778,\"#fb9f3a\"],[0.8888888888888888,\"#fdca26\"],[1.0,\"#f0f921\"]],\"sequentialminus\":[[0.0,\"#0d0887\"],[0.1111111111111111,\"#46039f\"],[0.2222222222222222,\"#7201a8\"],[0.3333333333333333,\"#9c179e\"],[0.4444444444444444,\"#bd3786\"],[0.5555555555555556,\"#d8576b\"],[0.6666666666666666,\"#ed7953\"],[0.7777777777777778,\"#fb9f3a\"],[0.8888888888888888,\"#fdca26\"],[1.0,\"#f0f921\"]]},\"colorway\":[\"#636efa\",\"#EF553B\",\"#00cc96\",\"#ab63fa\",\"#FFA15A\",\"#19d3f3\",\"#FF6692\",\"#B6E880\",\"#FF97FF\",\"#FECB52\"],\"font\":{\"color\":\"#2a3f5f\"},\"geo\":{\"bgcolor\":\"white\",\"lakecolor\":\"white\",\"landcolor\":\"#E5ECF6\",\"showlakes\":true,\"showland\":true,\"subunitcolor\":\"white\"},\"hoverlabel\":{\"align\":\"left\"},\"hovermode\":\"closest\",\"mapbox\":{\"style\":\"light\"},\"paper_bgcolor\":\"white\",\"plot_bgcolor\":\"#E5ECF6\",\"polar\":{\"angularaxis\":{\"gridcolor\":\"white\",\"linecolor\":\"white\",\"ticks\":\"\"},\"bgcolor\":\"#E5ECF6\",\"radialaxis\":{\"gridcolor\":\"white\",\"linecolor\":\"white\",\"ticks\":\"\"}},\"scene\":{\"xaxis\":{\"backgroundcolor\":\"#E5ECF6\",\"gridcolor\":\"white\",\"gridwidth\":2,\"linecolor\":\"white\",\"showbackground\":true,\"ticks\":\"\",\"zerolinecolor\":\"white\"},\"yaxis\":{\"backgroundcolor\":\"#E5ECF6\",\"gridcolor\":\"white\",\"gridwidth\":2,\"linecolor\":\"white\",\"showbackground\":true,\"ticks\":\"\",\"zerolinecolor\":\"white\"},\"zaxis\":{\"backgroundcolor\":\"#E5ECF6\",\"gridcolor\":\"white\",\"gridwidth\":2,\"linecolor\":\"white\",\"showbackground\":true,\"ticks\":\"\",\"zerolinecolor\":\"white\"}},\"shapedefaults\":{\"line\":{\"color\":\"#2a3f5f\"}},\"ternary\":{\"aaxis\":{\"gridcolor\":\"white\",\"linecolor\":\"white\",\"ticks\":\"\"},\"baxis\":{\"gridcolor\":\"white\",\"linecolor\":\"white\",\"ticks\":\"\"},\"bgcolor\":\"#E5ECF6\",\"caxis\":{\"gridcolor\":\"white\",\"linecolor\":\"white\",\"ticks\":\"\"}},\"title\":{\"x\":0.05},\"xaxis\":{\"automargin\":true,\"gridcolor\":\"white\",\"linecolor\":\"white\",\"ticks\":\"\",\"title\":{\"standoff\":15},\"zerolinecolor\":\"white\",\"zerolinewidth\":2},\"yaxis\":{\"automargin\":true,\"gridcolor\":\"white\",\"linecolor\":\"white\",\"ticks\":\"\",\"title\":{\"standoff\":15},\"zerolinecolor\":\"white\",\"zerolinewidth\":2}}},\"title\":{\"font\":{\"color\":\"#4D5663\"}},\"xaxis\":{\"gridcolor\":\"#E1E5ED\",\"showgrid\":true,\"tickfont\":{\"color\":\"#4D5663\"},\"title\":{\"font\":{\"color\":\"#4D5663\"},\"text\":\"\"},\"zerolinecolor\":\"#E1E5ED\"},\"yaxis\":{\"gridcolor\":\"#E1E5ED\",\"showgrid\":true,\"tickfont\":{\"color\":\"#4D5663\"},\"title\":{\"font\":{\"color\":\"#4D5663\"},\"text\":\"\"},\"zerolinecolor\":\"#E1E5ED\"}},                        {\"showLink\": true, \"linkText\": \"Export to plot.ly\", \"plotlyServerURL\": \"https://plot.ly\", \"responsive\": true}                    ).then(function(){\n",
       "                            \n",
       "var gd = document.getElementById('0befb95b-8d5d-48c6-b618-239d8331a1e2');\n",
       "var x = new MutationObserver(function (mutations, observer) {{\n",
       "        var display = window.getComputedStyle(gd).display;\n",
       "        if (!display || display === 'none') {{\n",
       "            console.log([gd, 'removed!']);\n",
       "            Plotly.purge(gd);\n",
       "            observer.disconnect();\n",
       "        }}\n",
       "}});\n",
       "\n",
       "// Listen for the removal of the full notebook cells\n",
       "var notebookContainer = gd.closest('#notebook-container');\n",
       "if (notebookContainer) {{\n",
       "    x.observe(notebookContainer, {childList: true});\n",
       "}}\n",
       "\n",
       "// Listen for the clearing of the current output cell\n",
       "var outputEl = gd.closest('.output');\n",
       "if (outputEl) {{\n",
       "    x.observe(outputEl, {childList: true});\n",
       "}}\n",
       "\n",
       "                        })                };                });            </script>        </div>"
      ]
     },
     "metadata": {},
     "output_type": "display_data"
    }
   ],
   "source": [
    "df.iplot(kind='box')"
   ]
  },
  {
   "cell_type": "markdown",
   "metadata": {},
   "source": [
    "## 3d Surface"
   ]
  },
  {
   "cell_type": "code",
   "execution_count": 15,
   "metadata": {},
   "outputs": [
    {
     "data": {
      "application/vnd.plotly.v1+json": {
       "config": {
        "linkText": "Export to plot.ly",
        "plotlyServerURL": "https://plot.ly",
        "showLink": true
       },
       "data": [
        {
         "colorscale": [
          [
           0,
           "rgb(165,0,38)"
          ],
          [
           0.1,
           "rgb(215,48,39)"
          ],
          [
           0.2,
           "rgb(244,109,67)"
          ],
          [
           0.3,
           "rgb(253,174,97)"
          ],
          [
           0.4,
           "rgb(254,224,144)"
          ],
          [
           0.5,
           "rgb(255,255,191)"
          ],
          [
           0.6,
           "rgb(224,243,248)"
          ],
          [
           0.7,
           "rgb(171,217,233)"
          ],
          [
           0.8,
           "rgb(116,173,209)"
          ],
          [
           0.9,
           "rgb(69,117,180)"
          ],
          [
           1,
           "rgb(49,54,149)"
          ]
         ],
         "type": "surface",
         "x": [
          0,
          1,
          2,
          3,
          4
         ],
         "y": [
          "x",
          "y",
          "z"
         ],
         "z": [
          [
           1,
           2,
           3,
           4,
           5
          ],
          [
           10,
           20,
           30,
           20,
           10
          ],
          [
           5,
           4,
           3,
           2,
           1
          ]
         ]
        }
       ],
       "layout": {
        "legend": {
         "bgcolor": "#F5F6F9",
         "font": {
          "color": "#4D5663"
         }
        },
        "paper_bgcolor": "#F5F6F9",
        "plot_bgcolor": "#F5F6F9",
        "template": {
         "data": {
          "bar": [
           {
            "error_x": {
             "color": "#2a3f5f"
            },
            "error_y": {
             "color": "#2a3f5f"
            },
            "marker": {
             "line": {
              "color": "#E5ECF6",
              "width": 0.5
             },
             "pattern": {
              "fillmode": "overlay",
              "size": 10,
              "solidity": 0.2
             }
            },
            "type": "bar"
           }
          ],
          "barpolar": [
           {
            "marker": {
             "line": {
              "color": "#E5ECF6",
              "width": 0.5
             },
             "pattern": {
              "fillmode": "overlay",
              "size": 10,
              "solidity": 0.2
             }
            },
            "type": "barpolar"
           }
          ],
          "carpet": [
           {
            "aaxis": {
             "endlinecolor": "#2a3f5f",
             "gridcolor": "white",
             "linecolor": "white",
             "minorgridcolor": "white",
             "startlinecolor": "#2a3f5f"
            },
            "baxis": {
             "endlinecolor": "#2a3f5f",
             "gridcolor": "white",
             "linecolor": "white",
             "minorgridcolor": "white",
             "startlinecolor": "#2a3f5f"
            },
            "type": "carpet"
           }
          ],
          "choropleth": [
           {
            "colorbar": {
             "outlinewidth": 0,
             "ticks": ""
            },
            "type": "choropleth"
           }
          ],
          "contour": [
           {
            "colorbar": {
             "outlinewidth": 0,
             "ticks": ""
            },
            "colorscale": [
             [
              0,
              "#0d0887"
             ],
             [
              0.1111111111111111,
              "#46039f"
             ],
             [
              0.2222222222222222,
              "#7201a8"
             ],
             [
              0.3333333333333333,
              "#9c179e"
             ],
             [
              0.4444444444444444,
              "#bd3786"
             ],
             [
              0.5555555555555556,
              "#d8576b"
             ],
             [
              0.6666666666666666,
              "#ed7953"
             ],
             [
              0.7777777777777778,
              "#fb9f3a"
             ],
             [
              0.8888888888888888,
              "#fdca26"
             ],
             [
              1,
              "#f0f921"
             ]
            ],
            "type": "contour"
           }
          ],
          "contourcarpet": [
           {
            "colorbar": {
             "outlinewidth": 0,
             "ticks": ""
            },
            "type": "contourcarpet"
           }
          ],
          "heatmap": [
           {
            "colorbar": {
             "outlinewidth": 0,
             "ticks": ""
            },
            "colorscale": [
             [
              0,
              "#0d0887"
             ],
             [
              0.1111111111111111,
              "#46039f"
             ],
             [
              0.2222222222222222,
              "#7201a8"
             ],
             [
              0.3333333333333333,
              "#9c179e"
             ],
             [
              0.4444444444444444,
              "#bd3786"
             ],
             [
              0.5555555555555556,
              "#d8576b"
             ],
             [
              0.6666666666666666,
              "#ed7953"
             ],
             [
              0.7777777777777778,
              "#fb9f3a"
             ],
             [
              0.8888888888888888,
              "#fdca26"
             ],
             [
              1,
              "#f0f921"
             ]
            ],
            "type": "heatmap"
           }
          ],
          "heatmapgl": [
           {
            "colorbar": {
             "outlinewidth": 0,
             "ticks": ""
            },
            "colorscale": [
             [
              0,
              "#0d0887"
             ],
             [
              0.1111111111111111,
              "#46039f"
             ],
             [
              0.2222222222222222,
              "#7201a8"
             ],
             [
              0.3333333333333333,
              "#9c179e"
             ],
             [
              0.4444444444444444,
              "#bd3786"
             ],
             [
              0.5555555555555556,
              "#d8576b"
             ],
             [
              0.6666666666666666,
              "#ed7953"
             ],
             [
              0.7777777777777778,
              "#fb9f3a"
             ],
             [
              0.8888888888888888,
              "#fdca26"
             ],
             [
              1,
              "#f0f921"
             ]
            ],
            "type": "heatmapgl"
           }
          ],
          "histogram": [
           {
            "marker": {
             "pattern": {
              "fillmode": "overlay",
              "size": 10,
              "solidity": 0.2
             }
            },
            "type": "histogram"
           }
          ],
          "histogram2d": [
           {
            "colorbar": {
             "outlinewidth": 0,
             "ticks": ""
            },
            "colorscale": [
             [
              0,
              "#0d0887"
             ],
             [
              0.1111111111111111,
              "#46039f"
             ],
             [
              0.2222222222222222,
              "#7201a8"
             ],
             [
              0.3333333333333333,
              "#9c179e"
             ],
             [
              0.4444444444444444,
              "#bd3786"
             ],
             [
              0.5555555555555556,
              "#d8576b"
             ],
             [
              0.6666666666666666,
              "#ed7953"
             ],
             [
              0.7777777777777778,
              "#fb9f3a"
             ],
             [
              0.8888888888888888,
              "#fdca26"
             ],
             [
              1,
              "#f0f921"
             ]
            ],
            "type": "histogram2d"
           }
          ],
          "histogram2dcontour": [
           {
            "colorbar": {
             "outlinewidth": 0,
             "ticks": ""
            },
            "colorscale": [
             [
              0,
              "#0d0887"
             ],
             [
              0.1111111111111111,
              "#46039f"
             ],
             [
              0.2222222222222222,
              "#7201a8"
             ],
             [
              0.3333333333333333,
              "#9c179e"
             ],
             [
              0.4444444444444444,
              "#bd3786"
             ],
             [
              0.5555555555555556,
              "#d8576b"
             ],
             [
              0.6666666666666666,
              "#ed7953"
             ],
             [
              0.7777777777777778,
              "#fb9f3a"
             ],
             [
              0.8888888888888888,
              "#fdca26"
             ],
             [
              1,
              "#f0f921"
             ]
            ],
            "type": "histogram2dcontour"
           }
          ],
          "mesh3d": [
           {
            "colorbar": {
             "outlinewidth": 0,
             "ticks": ""
            },
            "type": "mesh3d"
           }
          ],
          "parcoords": [
           {
            "line": {
             "colorbar": {
              "outlinewidth": 0,
              "ticks": ""
             }
            },
            "type": "parcoords"
           }
          ],
          "pie": [
           {
            "automargin": true,
            "type": "pie"
           }
          ],
          "scatter": [
           {
            "marker": {
             "colorbar": {
              "outlinewidth": 0,
              "ticks": ""
             }
            },
            "type": "scatter"
           }
          ],
          "scatter3d": [
           {
            "line": {
             "colorbar": {
              "outlinewidth": 0,
              "ticks": ""
             }
            },
            "marker": {
             "colorbar": {
              "outlinewidth": 0,
              "ticks": ""
             }
            },
            "type": "scatter3d"
           }
          ],
          "scattercarpet": [
           {
            "marker": {
             "colorbar": {
              "outlinewidth": 0,
              "ticks": ""
             }
            },
            "type": "scattercarpet"
           }
          ],
          "scattergeo": [
           {
            "marker": {
             "colorbar": {
              "outlinewidth": 0,
              "ticks": ""
             }
            },
            "type": "scattergeo"
           }
          ],
          "scattergl": [
           {
            "marker": {
             "colorbar": {
              "outlinewidth": 0,
              "ticks": ""
             }
            },
            "type": "scattergl"
           }
          ],
          "scattermapbox": [
           {
            "marker": {
             "colorbar": {
              "outlinewidth": 0,
              "ticks": ""
             }
            },
            "type": "scattermapbox"
           }
          ],
          "scatterpolar": [
           {
            "marker": {
             "colorbar": {
              "outlinewidth": 0,
              "ticks": ""
             }
            },
            "type": "scatterpolar"
           }
          ],
          "scatterpolargl": [
           {
            "marker": {
             "colorbar": {
              "outlinewidth": 0,
              "ticks": ""
             }
            },
            "type": "scatterpolargl"
           }
          ],
          "scatterternary": [
           {
            "marker": {
             "colorbar": {
              "outlinewidth": 0,
              "ticks": ""
             }
            },
            "type": "scatterternary"
           }
          ],
          "surface": [
           {
            "colorbar": {
             "outlinewidth": 0,
             "ticks": ""
            },
            "colorscale": [
             [
              0,
              "#0d0887"
             ],
             [
              0.1111111111111111,
              "#46039f"
             ],
             [
              0.2222222222222222,
              "#7201a8"
             ],
             [
              0.3333333333333333,
              "#9c179e"
             ],
             [
              0.4444444444444444,
              "#bd3786"
             ],
             [
              0.5555555555555556,
              "#d8576b"
             ],
             [
              0.6666666666666666,
              "#ed7953"
             ],
             [
              0.7777777777777778,
              "#fb9f3a"
             ],
             [
              0.8888888888888888,
              "#fdca26"
             ],
             [
              1,
              "#f0f921"
             ]
            ],
            "type": "surface"
           }
          ],
          "table": [
           {
            "cells": {
             "fill": {
              "color": "#EBF0F8"
             },
             "line": {
              "color": "white"
             }
            },
            "header": {
             "fill": {
              "color": "#C8D4E3"
             },
             "line": {
              "color": "white"
             }
            },
            "type": "table"
           }
          ]
         },
         "layout": {
          "annotationdefaults": {
           "arrowcolor": "#2a3f5f",
           "arrowhead": 0,
           "arrowwidth": 1
          },
          "autotypenumbers": "strict",
          "coloraxis": {
           "colorbar": {
            "outlinewidth": 0,
            "ticks": ""
           }
          },
          "colorscale": {
           "diverging": [
            [
             0,
             "#8e0152"
            ],
            [
             0.1,
             "#c51b7d"
            ],
            [
             0.2,
             "#de77ae"
            ],
            [
             0.3,
             "#f1b6da"
            ],
            [
             0.4,
             "#fde0ef"
            ],
            [
             0.5,
             "#f7f7f7"
            ],
            [
             0.6,
             "#e6f5d0"
            ],
            [
             0.7,
             "#b8e186"
            ],
            [
             0.8,
             "#7fbc41"
            ],
            [
             0.9,
             "#4d9221"
            ],
            [
             1,
             "#276419"
            ]
           ],
           "sequential": [
            [
             0,
             "#0d0887"
            ],
            [
             0.1111111111111111,
             "#46039f"
            ],
            [
             0.2222222222222222,
             "#7201a8"
            ],
            [
             0.3333333333333333,
             "#9c179e"
            ],
            [
             0.4444444444444444,
             "#bd3786"
            ],
            [
             0.5555555555555556,
             "#d8576b"
            ],
            [
             0.6666666666666666,
             "#ed7953"
            ],
            [
             0.7777777777777778,
             "#fb9f3a"
            ],
            [
             0.8888888888888888,
             "#fdca26"
            ],
            [
             1,
             "#f0f921"
            ]
           ],
           "sequentialminus": [
            [
             0,
             "#0d0887"
            ],
            [
             0.1111111111111111,
             "#46039f"
            ],
            [
             0.2222222222222222,
             "#7201a8"
            ],
            [
             0.3333333333333333,
             "#9c179e"
            ],
            [
             0.4444444444444444,
             "#bd3786"
            ],
            [
             0.5555555555555556,
             "#d8576b"
            ],
            [
             0.6666666666666666,
             "#ed7953"
            ],
            [
             0.7777777777777778,
             "#fb9f3a"
            ],
            [
             0.8888888888888888,
             "#fdca26"
            ],
            [
             1,
             "#f0f921"
            ]
           ]
          },
          "colorway": [
           "#636efa",
           "#EF553B",
           "#00cc96",
           "#ab63fa",
           "#FFA15A",
           "#19d3f3",
           "#FF6692",
           "#B6E880",
           "#FF97FF",
           "#FECB52"
          ],
          "font": {
           "color": "#2a3f5f"
          },
          "geo": {
           "bgcolor": "white",
           "lakecolor": "white",
           "landcolor": "#E5ECF6",
           "showlakes": true,
           "showland": true,
           "subunitcolor": "white"
          },
          "hoverlabel": {
           "align": "left"
          },
          "hovermode": "closest",
          "mapbox": {
           "style": "light"
          },
          "paper_bgcolor": "white",
          "plot_bgcolor": "#E5ECF6",
          "polar": {
           "angularaxis": {
            "gridcolor": "white",
            "linecolor": "white",
            "ticks": ""
           },
           "bgcolor": "#E5ECF6",
           "radialaxis": {
            "gridcolor": "white",
            "linecolor": "white",
            "ticks": ""
           }
          },
          "scene": {
           "xaxis": {
            "backgroundcolor": "#E5ECF6",
            "gridcolor": "white",
            "gridwidth": 2,
            "linecolor": "white",
            "showbackground": true,
            "ticks": "",
            "zerolinecolor": "white"
           },
           "yaxis": {
            "backgroundcolor": "#E5ECF6",
            "gridcolor": "white",
            "gridwidth": 2,
            "linecolor": "white",
            "showbackground": true,
            "ticks": "",
            "zerolinecolor": "white"
           },
           "zaxis": {
            "backgroundcolor": "#E5ECF6",
            "gridcolor": "white",
            "gridwidth": 2,
            "linecolor": "white",
            "showbackground": true,
            "ticks": "",
            "zerolinecolor": "white"
           }
          },
          "shapedefaults": {
           "line": {
            "color": "#2a3f5f"
           }
          },
          "ternary": {
           "aaxis": {
            "gridcolor": "white",
            "linecolor": "white",
            "ticks": ""
           },
           "baxis": {
            "gridcolor": "white",
            "linecolor": "white",
            "ticks": ""
           },
           "bgcolor": "#E5ECF6",
           "caxis": {
            "gridcolor": "white",
            "linecolor": "white",
            "ticks": ""
           }
          },
          "title": {
           "x": 0.05
          },
          "xaxis": {
           "automargin": true,
           "gridcolor": "white",
           "linecolor": "white",
           "ticks": "",
           "title": {
            "standoff": 15
           },
           "zerolinecolor": "white",
           "zerolinewidth": 2
          },
          "yaxis": {
           "automargin": true,
           "gridcolor": "white",
           "linecolor": "white",
           "ticks": "",
           "title": {
            "standoff": 15
           },
           "zerolinecolor": "white",
           "zerolinewidth": 2
          }
         }
        },
        "title": {
         "font": {
          "color": "#4D5663"
         }
        },
        "xaxis": {
         "gridcolor": "#E1E5ED",
         "showgrid": true,
         "tickfont": {
          "color": "#4D5663"
         },
         "title": {
          "font": {
           "color": "#4D5663"
          },
          "text": ""
         },
         "zerolinecolor": "#E1E5ED"
        },
        "yaxis": {
         "gridcolor": "#E1E5ED",
         "showgrid": true,
         "tickfont": {
          "color": "#4D5663"
         },
         "title": {
          "font": {
           "color": "#4D5663"
          },
          "text": ""
         },
         "zerolinecolor": "#E1E5ED"
        }
       }
      },
      "text/html": [
       "<div>                            <div id=\"92e3db7b-b1a3-45c0-80e4-d76276c8994c\" class=\"plotly-graph-div\" style=\"height:525px; width:100%;\"></div>            <script type=\"text/javascript\">                require([\"plotly\"], function(Plotly) {                    window.PLOTLYENV=window.PLOTLYENV || {};\n",
       "                    window.PLOTLYENV.BASE_URL='https://plot.ly';                                    if (document.getElementById(\"92e3db7b-b1a3-45c0-80e4-d76276c8994c\")) {                    Plotly.newPlot(                        \"92e3db7b-b1a3-45c0-80e4-d76276c8994c\",                        [{\"colorscale\":[[0.0,\"rgb(165,0,38)\"],[0.1,\"rgb(215,48,39)\"],[0.2,\"rgb(244,109,67)\"],[0.3,\"rgb(253,174,97)\"],[0.4,\"rgb(254,224,144)\"],[0.5,\"rgb(255,255,191)\"],[0.6,\"rgb(224,243,248)\"],[0.7,\"rgb(171,217,233)\"],[0.8,\"rgb(116,173,209)\"],[0.9,\"rgb(69,117,180)\"],[1.0,\"rgb(49,54,149)\"]],\"type\":\"surface\",\"x\":[0,1,2,3,4],\"y\":[\"x\",\"y\",\"z\"],\"z\":[[1,2,3,4,5],[10,20,30,20,10],[5,4,3,2,1]]}],                        {\"legend\":{\"bgcolor\":\"#F5F6F9\",\"font\":{\"color\":\"#4D5663\"}},\"paper_bgcolor\":\"#F5F6F9\",\"plot_bgcolor\":\"#F5F6F9\",\"template\":{\"data\":{\"bar\":[{\"error_x\":{\"color\":\"#2a3f5f\"},\"error_y\":{\"color\":\"#2a3f5f\"},\"marker\":{\"line\":{\"color\":\"#E5ECF6\",\"width\":0.5},\"pattern\":{\"fillmode\":\"overlay\",\"size\":10,\"solidity\":0.2}},\"type\":\"bar\"}],\"barpolar\":[{\"marker\":{\"line\":{\"color\":\"#E5ECF6\",\"width\":0.5},\"pattern\":{\"fillmode\":\"overlay\",\"size\":10,\"solidity\":0.2}},\"type\":\"barpolar\"}],\"carpet\":[{\"aaxis\":{\"endlinecolor\":\"#2a3f5f\",\"gridcolor\":\"white\",\"linecolor\":\"white\",\"minorgridcolor\":\"white\",\"startlinecolor\":\"#2a3f5f\"},\"baxis\":{\"endlinecolor\":\"#2a3f5f\",\"gridcolor\":\"white\",\"linecolor\":\"white\",\"minorgridcolor\":\"white\",\"startlinecolor\":\"#2a3f5f\"},\"type\":\"carpet\"}],\"choropleth\":[{\"colorbar\":{\"outlinewidth\":0,\"ticks\":\"\"},\"type\":\"choropleth\"}],\"contour\":[{\"colorbar\":{\"outlinewidth\":0,\"ticks\":\"\"},\"colorscale\":[[0.0,\"#0d0887\"],[0.1111111111111111,\"#46039f\"],[0.2222222222222222,\"#7201a8\"],[0.3333333333333333,\"#9c179e\"],[0.4444444444444444,\"#bd3786\"],[0.5555555555555556,\"#d8576b\"],[0.6666666666666666,\"#ed7953\"],[0.7777777777777778,\"#fb9f3a\"],[0.8888888888888888,\"#fdca26\"],[1.0,\"#f0f921\"]],\"type\":\"contour\"}],\"contourcarpet\":[{\"colorbar\":{\"outlinewidth\":0,\"ticks\":\"\"},\"type\":\"contourcarpet\"}],\"heatmap\":[{\"colorbar\":{\"outlinewidth\":0,\"ticks\":\"\"},\"colorscale\":[[0.0,\"#0d0887\"],[0.1111111111111111,\"#46039f\"],[0.2222222222222222,\"#7201a8\"],[0.3333333333333333,\"#9c179e\"],[0.4444444444444444,\"#bd3786\"],[0.5555555555555556,\"#d8576b\"],[0.6666666666666666,\"#ed7953\"],[0.7777777777777778,\"#fb9f3a\"],[0.8888888888888888,\"#fdca26\"],[1.0,\"#f0f921\"]],\"type\":\"heatmap\"}],\"heatmapgl\":[{\"colorbar\":{\"outlinewidth\":0,\"ticks\":\"\"},\"colorscale\":[[0.0,\"#0d0887\"],[0.1111111111111111,\"#46039f\"],[0.2222222222222222,\"#7201a8\"],[0.3333333333333333,\"#9c179e\"],[0.4444444444444444,\"#bd3786\"],[0.5555555555555556,\"#d8576b\"],[0.6666666666666666,\"#ed7953\"],[0.7777777777777778,\"#fb9f3a\"],[0.8888888888888888,\"#fdca26\"],[1.0,\"#f0f921\"]],\"type\":\"heatmapgl\"}],\"histogram\":[{\"marker\":{\"pattern\":{\"fillmode\":\"overlay\",\"size\":10,\"solidity\":0.2}},\"type\":\"histogram\"}],\"histogram2d\":[{\"colorbar\":{\"outlinewidth\":0,\"ticks\":\"\"},\"colorscale\":[[0.0,\"#0d0887\"],[0.1111111111111111,\"#46039f\"],[0.2222222222222222,\"#7201a8\"],[0.3333333333333333,\"#9c179e\"],[0.4444444444444444,\"#bd3786\"],[0.5555555555555556,\"#d8576b\"],[0.6666666666666666,\"#ed7953\"],[0.7777777777777778,\"#fb9f3a\"],[0.8888888888888888,\"#fdca26\"],[1.0,\"#f0f921\"]],\"type\":\"histogram2d\"}],\"histogram2dcontour\":[{\"colorbar\":{\"outlinewidth\":0,\"ticks\":\"\"},\"colorscale\":[[0.0,\"#0d0887\"],[0.1111111111111111,\"#46039f\"],[0.2222222222222222,\"#7201a8\"],[0.3333333333333333,\"#9c179e\"],[0.4444444444444444,\"#bd3786\"],[0.5555555555555556,\"#d8576b\"],[0.6666666666666666,\"#ed7953\"],[0.7777777777777778,\"#fb9f3a\"],[0.8888888888888888,\"#fdca26\"],[1.0,\"#f0f921\"]],\"type\":\"histogram2dcontour\"}],\"mesh3d\":[{\"colorbar\":{\"outlinewidth\":0,\"ticks\":\"\"},\"type\":\"mesh3d\"}],\"parcoords\":[{\"line\":{\"colorbar\":{\"outlinewidth\":0,\"ticks\":\"\"}},\"type\":\"parcoords\"}],\"pie\":[{\"automargin\":true,\"type\":\"pie\"}],\"scatter\":[{\"marker\":{\"colorbar\":{\"outlinewidth\":0,\"ticks\":\"\"}},\"type\":\"scatter\"}],\"scatter3d\":[{\"line\":{\"colorbar\":{\"outlinewidth\":0,\"ticks\":\"\"}},\"marker\":{\"colorbar\":{\"outlinewidth\":0,\"ticks\":\"\"}},\"type\":\"scatter3d\"}],\"scattercarpet\":[{\"marker\":{\"colorbar\":{\"outlinewidth\":0,\"ticks\":\"\"}},\"type\":\"scattercarpet\"}],\"scattergeo\":[{\"marker\":{\"colorbar\":{\"outlinewidth\":0,\"ticks\":\"\"}},\"type\":\"scattergeo\"}],\"scattergl\":[{\"marker\":{\"colorbar\":{\"outlinewidth\":0,\"ticks\":\"\"}},\"type\":\"scattergl\"}],\"scattermapbox\":[{\"marker\":{\"colorbar\":{\"outlinewidth\":0,\"ticks\":\"\"}},\"type\":\"scattermapbox\"}],\"scatterpolar\":[{\"marker\":{\"colorbar\":{\"outlinewidth\":0,\"ticks\":\"\"}},\"type\":\"scatterpolar\"}],\"scatterpolargl\":[{\"marker\":{\"colorbar\":{\"outlinewidth\":0,\"ticks\":\"\"}},\"type\":\"scatterpolargl\"}],\"scatterternary\":[{\"marker\":{\"colorbar\":{\"outlinewidth\":0,\"ticks\":\"\"}},\"type\":\"scatterternary\"}],\"surface\":[{\"colorbar\":{\"outlinewidth\":0,\"ticks\":\"\"},\"colorscale\":[[0.0,\"#0d0887\"],[0.1111111111111111,\"#46039f\"],[0.2222222222222222,\"#7201a8\"],[0.3333333333333333,\"#9c179e\"],[0.4444444444444444,\"#bd3786\"],[0.5555555555555556,\"#d8576b\"],[0.6666666666666666,\"#ed7953\"],[0.7777777777777778,\"#fb9f3a\"],[0.8888888888888888,\"#fdca26\"],[1.0,\"#f0f921\"]],\"type\":\"surface\"}],\"table\":[{\"cells\":{\"fill\":{\"color\":\"#EBF0F8\"},\"line\":{\"color\":\"white\"}},\"header\":{\"fill\":{\"color\":\"#C8D4E3\"},\"line\":{\"color\":\"white\"}},\"type\":\"table\"}]},\"layout\":{\"annotationdefaults\":{\"arrowcolor\":\"#2a3f5f\",\"arrowhead\":0,\"arrowwidth\":1},\"autotypenumbers\":\"strict\",\"coloraxis\":{\"colorbar\":{\"outlinewidth\":0,\"ticks\":\"\"}},\"colorscale\":{\"diverging\":[[0,\"#8e0152\"],[0.1,\"#c51b7d\"],[0.2,\"#de77ae\"],[0.3,\"#f1b6da\"],[0.4,\"#fde0ef\"],[0.5,\"#f7f7f7\"],[0.6,\"#e6f5d0\"],[0.7,\"#b8e186\"],[0.8,\"#7fbc41\"],[0.9,\"#4d9221\"],[1,\"#276419\"]],\"sequential\":[[0.0,\"#0d0887\"],[0.1111111111111111,\"#46039f\"],[0.2222222222222222,\"#7201a8\"],[0.3333333333333333,\"#9c179e\"],[0.4444444444444444,\"#bd3786\"],[0.5555555555555556,\"#d8576b\"],[0.6666666666666666,\"#ed7953\"],[0.7777777777777778,\"#fb9f3a\"],[0.8888888888888888,\"#fdca26\"],[1.0,\"#f0f921\"]],\"sequentialminus\":[[0.0,\"#0d0887\"],[0.1111111111111111,\"#46039f\"],[0.2222222222222222,\"#7201a8\"],[0.3333333333333333,\"#9c179e\"],[0.4444444444444444,\"#bd3786\"],[0.5555555555555556,\"#d8576b\"],[0.6666666666666666,\"#ed7953\"],[0.7777777777777778,\"#fb9f3a\"],[0.8888888888888888,\"#fdca26\"],[1.0,\"#f0f921\"]]},\"colorway\":[\"#636efa\",\"#EF553B\",\"#00cc96\",\"#ab63fa\",\"#FFA15A\",\"#19d3f3\",\"#FF6692\",\"#B6E880\",\"#FF97FF\",\"#FECB52\"],\"font\":{\"color\":\"#2a3f5f\"},\"geo\":{\"bgcolor\":\"white\",\"lakecolor\":\"white\",\"landcolor\":\"#E5ECF6\",\"showlakes\":true,\"showland\":true,\"subunitcolor\":\"white\"},\"hoverlabel\":{\"align\":\"left\"},\"hovermode\":\"closest\",\"mapbox\":{\"style\":\"light\"},\"paper_bgcolor\":\"white\",\"plot_bgcolor\":\"#E5ECF6\",\"polar\":{\"angularaxis\":{\"gridcolor\":\"white\",\"linecolor\":\"white\",\"ticks\":\"\"},\"bgcolor\":\"#E5ECF6\",\"radialaxis\":{\"gridcolor\":\"white\",\"linecolor\":\"white\",\"ticks\":\"\"}},\"scene\":{\"xaxis\":{\"backgroundcolor\":\"#E5ECF6\",\"gridcolor\":\"white\",\"gridwidth\":2,\"linecolor\":\"white\",\"showbackground\":true,\"ticks\":\"\",\"zerolinecolor\":\"white\"},\"yaxis\":{\"backgroundcolor\":\"#E5ECF6\",\"gridcolor\":\"white\",\"gridwidth\":2,\"linecolor\":\"white\",\"showbackground\":true,\"ticks\":\"\",\"zerolinecolor\":\"white\"},\"zaxis\":{\"backgroundcolor\":\"#E5ECF6\",\"gridcolor\":\"white\",\"gridwidth\":2,\"linecolor\":\"white\",\"showbackground\":true,\"ticks\":\"\",\"zerolinecolor\":\"white\"}},\"shapedefaults\":{\"line\":{\"color\":\"#2a3f5f\"}},\"ternary\":{\"aaxis\":{\"gridcolor\":\"white\",\"linecolor\":\"white\",\"ticks\":\"\"},\"baxis\":{\"gridcolor\":\"white\",\"linecolor\":\"white\",\"ticks\":\"\"},\"bgcolor\":\"#E5ECF6\",\"caxis\":{\"gridcolor\":\"white\",\"linecolor\":\"white\",\"ticks\":\"\"}},\"title\":{\"x\":0.05},\"xaxis\":{\"automargin\":true,\"gridcolor\":\"white\",\"linecolor\":\"white\",\"ticks\":\"\",\"title\":{\"standoff\":15},\"zerolinecolor\":\"white\",\"zerolinewidth\":2},\"yaxis\":{\"automargin\":true,\"gridcolor\":\"white\",\"linecolor\":\"white\",\"ticks\":\"\",\"title\":{\"standoff\":15},\"zerolinecolor\":\"white\",\"zerolinewidth\":2}}},\"title\":{\"font\":{\"color\":\"#4D5663\"}},\"xaxis\":{\"gridcolor\":\"#E1E5ED\",\"showgrid\":true,\"tickfont\":{\"color\":\"#4D5663\"},\"title\":{\"font\":{\"color\":\"#4D5663\"},\"text\":\"\"},\"zerolinecolor\":\"#E1E5ED\"},\"yaxis\":{\"gridcolor\":\"#E1E5ED\",\"showgrid\":true,\"tickfont\":{\"color\":\"#4D5663\"},\"title\":{\"font\":{\"color\":\"#4D5663\"},\"text\":\"\"},\"zerolinecolor\":\"#E1E5ED\"}},                        {\"showLink\": true, \"linkText\": \"Export to plot.ly\", \"plotlyServerURL\": \"https://plot.ly\", \"responsive\": true}                    ).then(function(){\n",
       "                            \n",
       "var gd = document.getElementById('92e3db7b-b1a3-45c0-80e4-d76276c8994c');\n",
       "var x = new MutationObserver(function (mutations, observer) {{\n",
       "        var display = window.getComputedStyle(gd).display;\n",
       "        if (!display || display === 'none') {{\n",
       "            console.log([gd, 'removed!']);\n",
       "            Plotly.purge(gd);\n",
       "            observer.disconnect();\n",
       "        }}\n",
       "}});\n",
       "\n",
       "// Listen for the removal of the full notebook cells\n",
       "var notebookContainer = gd.closest('#notebook-container');\n",
       "if (notebookContainer) {{\n",
       "    x.observe(notebookContainer, {childList: true});\n",
       "}}\n",
       "\n",
       "// Listen for the clearing of the current output cell\n",
       "var outputEl = gd.closest('.output');\n",
       "if (outputEl) {{\n",
       "    x.observe(outputEl, {childList: true});\n",
       "}}\n",
       "\n",
       "                        })                };                });            </script>        </div>"
      ]
     },
     "metadata": {},
     "output_type": "display_data"
    }
   ],
   "source": [
    "df3 = pd.DataFrame({'x':[1,2,3,4,5],'y':[10,20,30,20,10],'z':[5,4,3,2,1]})\n",
    "df3.iplot(kind='surface',colorscale='rdylbu')"
   ]
  },
  {
   "cell_type": "markdown",
   "metadata": {},
   "source": [
    "## Spread"
   ]
  },
  {
   "cell_type": "code",
   "execution_count": 16,
   "metadata": {},
   "outputs": [
    {
     "name": "stderr",
     "output_type": "stream",
     "text": [
      "/Users/mohamadjafari/opt/anaconda3/lib/python3.8/site-packages/cufflinks/plotlytools.py:849: FutureWarning:\n",
      "\n",
      "The pandas.np module is deprecated and will be removed from pandas in a future version. Import numpy directly instead.\n",
      "\n",
      "/Users/mohamadjafari/opt/anaconda3/lib/python3.8/site-packages/cufflinks/plotlytools.py:850: FutureWarning:\n",
      "\n",
      "The pandas.np module is deprecated and will be removed from pandas in a future version. Import numpy directly instead.\n",
      "\n"
     ]
    },
    {
     "data": {
      "application/vnd.plotly.v1+json": {
       "config": {
        "linkText": "Export to plot.ly",
        "plotlyServerURL": "https://plot.ly",
        "showLink": true
       },
       "data": [
        {
         "line": {
          "color": "rgba(255, 153, 51, 1.0)",
          "dash": "solid",
          "shape": "linear",
          "width": 1.3
         },
         "mode": "lines",
         "name": "A",
         "text": "",
         "type": "scatter",
         "x": [
          0,
          1,
          2,
          3,
          4,
          5,
          6,
          7,
          8,
          9,
          10,
          11,
          12,
          13,
          14,
          15,
          16,
          17,
          18,
          19,
          20,
          21,
          22,
          23,
          24,
          25,
          26,
          27,
          28,
          29,
          30,
          31,
          32,
          33,
          34,
          35,
          36,
          37,
          38,
          39,
          40,
          41,
          42,
          43,
          44,
          45,
          46,
          47,
          48,
          49,
          50,
          51,
          52,
          53,
          54,
          55,
          56,
          57,
          58,
          59,
          60,
          61,
          62,
          63,
          64,
          65,
          66,
          67,
          68,
          69,
          70,
          71,
          72,
          73,
          74,
          75,
          76,
          77,
          78,
          79,
          80,
          81,
          82,
          83,
          84,
          85,
          86,
          87,
          88,
          89,
          90,
          91,
          92,
          93,
          94,
          95,
          96,
          97,
          98,
          99
         ],
         "y": [
          -0.8952513651069208,
          -0.8433675626903279,
          0.5194375646796255,
          0.20781533281382147,
          -0.28787023198130957,
          1.6626119003563948,
          0.8455339666282456,
          -0.004764186067881709,
          0.4733015021634591,
          -0.9426534090465928,
          0.3495407603251051,
          1.046237290545855,
          -0.9859596463402309,
          2.1084983582558596,
          -0.9317323755961524,
          0.6494024623069314,
          -0.3843287632960257,
          1.1614039215162952,
          -0.20123156557799382,
          -0.45298390054834,
          0.7347549725847721,
          -0.7677041350495847,
          0.13258824206569836,
          1.054969175247717,
          -1.3104840655184302,
          -0.8013236099028447,
          0.8811067964875391,
          1.37964961408107,
          -0.6967541155402649,
          -0.06015481378112143,
          1.6708711018109184,
          -0.8025842912977741,
          -0.015918404685731493,
          -0.027443107556971016,
          2.406932617211438,
          1.3057326517527597,
          -0.06865890639765183,
          1.1071268608316913,
          0.33981602924630167,
          -1.0872016494434344,
          -1.5039010182317643,
          -1.519624037806377,
          1.4712137408778254,
          -0.0034193275927080374,
          -0.6401644852992978,
          0.4859905760774655,
          0.0390256747991155,
          -1.941050095915409,
          -1.6177636665820099,
          0.613241988243389,
          -0.8362331163350449,
          1.6088686769777236,
          1.0424803246654821,
          0.021383677990268142,
          0.8482607537163633,
          0.2705487692995969,
          -0.29215392518076677,
          -0.10297268388786927,
          -1.1823360718306772,
          -0.291903670774597,
          -0.80294506515156,
          -0.9072759442656589,
          -0.8089516008862685,
          -0.9258452866799369,
          -0.06216798493213476,
          1.2447036743884878,
          0.04545716238838049,
          -0.5767553684691545,
          -0.757567169617877,
          1.5631791168400553,
          1.479076371008533,
          0.3313239929669739,
          -0.8932590257661409,
          -0.8233805286922103,
          1.0906334749242377,
          0.9254639718825185,
          0.3337368137528734,
          0.7499843768463412,
          0.8962171001982022,
          0.8433026224184019,
          0.041966578696571485,
          -0.3215182981515437,
          -2.126805113291232,
          -1.6303569601061727,
          -0.8656966690701975,
          -0.1959710508555525,
          -1.4209840585311801,
          -0.5464709582936679,
          -0.5121202308271431,
          -0.2238616074951767,
          0.3327302146369024,
          0.31238636848963375,
          -1.7015350452825535,
          -0.0549239733602343,
          0.2474203199269791,
          -0.36324706968849796,
          -1.0628515643718848,
          2.5078501395900497,
          -1.8677307647196009,
          0.3231424513059178
         ]
        },
        {
         "line": {
          "color": "rgba(55, 128, 191, 1.0)",
          "dash": "solid",
          "shape": "linear",
          "width": 1.3
         },
         "mode": "lines",
         "name": "B",
         "text": "",
         "type": "scatter",
         "x": [
          0,
          1,
          2,
          3,
          4,
          5,
          6,
          7,
          8,
          9,
          10,
          11,
          12,
          13,
          14,
          15,
          16,
          17,
          18,
          19,
          20,
          21,
          22,
          23,
          24,
          25,
          26,
          27,
          28,
          29,
          30,
          31,
          32,
          33,
          34,
          35,
          36,
          37,
          38,
          39,
          40,
          41,
          42,
          43,
          44,
          45,
          46,
          47,
          48,
          49,
          50,
          51,
          52,
          53,
          54,
          55,
          56,
          57,
          58,
          59,
          60,
          61,
          62,
          63,
          64,
          65,
          66,
          67,
          68,
          69,
          70,
          71,
          72,
          73,
          74,
          75,
          76,
          77,
          78,
          79,
          80,
          81,
          82,
          83,
          84,
          85,
          86,
          87,
          88,
          89,
          90,
          91,
          92,
          93,
          94,
          95,
          96,
          97,
          98,
          99
         ],
         "y": [
          -1.1173847502936025,
          1.746739718699284,
          0.14685877092398286,
          -0.46500629752162825,
          0.4655854906663578,
          -0.06079797292919306,
          -0.9935139192431094,
          -0.9840906486582907,
          0.3858807133247504,
          -0.05165981535030882,
          -0.28153938365960823,
          1.0444208610245398,
          2.9552086536453,
          -0.6360228636743235,
          -0.7750068348042938,
          0.3759362444110491,
          -1.0465943179905126,
          0.5207368215614654,
          -1.2645230056565269,
          -1.6672266527270678,
          0.8136435929779331,
          -0.5161670126408316,
          0.8295781733415212,
          -0.9370552324792465,
          -0.9434636737018017,
          -0.35376129291561254,
          0.1131341527958107,
          -0.7791813809558733,
          -1.5198565256723666,
          0.08475947400103076,
          0.5503775638643653,
          0.3864508203743008,
          1.24508676785871,
          -0.5944516877815453,
          -1.147388038671117,
          1.6745629245114566,
          -0.35706174852272393,
          0.09238182014036393,
          0.45219988102119246,
          -0.9982111420135565,
          -2.364337501067881,
          -1.5689780423807467,
          -0.6195922861260792,
          0.1332476222569659,
          0.7383518851748205,
          0.8093449800294485,
          0.7730083525819172,
          1.4058264441998591,
          1.6662888676900314,
          1.2187622943223144,
          -0.3569510110710778,
          0.789056791494699,
          -0.8914602748284073,
          1.09081664635188,
          -1.4903431943146759,
          -1.4169926866780527,
          0.8187783046002451,
          -1.2840812231710845,
          -0.7474812226213581,
          -0.18246447267077032,
          -1.7170896576775119,
          1.4251919420917685,
          -0.06684710644568471,
          2.248776203702825,
          -1.4497720828871339,
          0.33515054683217393,
          0.2572901158489185,
          -1.8474817915070532,
          0.07171750340675725,
          -0.33435320566254173,
          0.10383275376154216,
          -0.6284608927287233,
          0.866890297412042,
          -1.2024915815630428,
          0.1822133800005098,
          1.129717939403387,
          0.48778847655426805,
          -0.81404660894497,
          -2.4967023192028366,
          -0.15430570948289024,
          1.1629261282568337,
          0.07178192985158226,
          -2.499979619158677,
          -1.0099283783597963,
          -0.20866740683546953,
          -1.2713725553000081,
          -1.5004531175164042,
          0.9280389877106168,
          -1.5295643193552795,
          1.3793034095187395,
          0.24665735973714437,
          0.02648352346857129,
          -0.3723716925856273,
          1.7407167389351086,
          -0.2904664042394969,
          0.8703273669778087,
          1.8871063314463523,
          -0.15925783536561067,
          -0.01232500299030156,
          1.1049302887625263
         ]
        },
        {
         "connectgaps": false,
         "fill": "tozeroy",
         "line": {
          "color": "green",
          "dash": "solid",
          "shape": "linear",
          "width": 0.5
         },
         "mode": "lines",
         "name": "Spread",
         "showlegend": false,
         "type": "scatter",
         "x": [
          0,
          1,
          2,
          3,
          4,
          5,
          6,
          7,
          8,
          9,
          10,
          11,
          12,
          13,
          14,
          15,
          16,
          17,
          18,
          19,
          20,
          21,
          22,
          23,
          24,
          25,
          26,
          27,
          28,
          29,
          30,
          31,
          32,
          33,
          34,
          35,
          36,
          37,
          38,
          39,
          40,
          41,
          42,
          43,
          44,
          45,
          46,
          47,
          48,
          49,
          50,
          51,
          52,
          53,
          54,
          55,
          56,
          57,
          58,
          59,
          60,
          61,
          62,
          63,
          64,
          65,
          66,
          67,
          68,
          69,
          70,
          71,
          72,
          73,
          74,
          75,
          76,
          77,
          78,
          79,
          80,
          81,
          82,
          83,
          84,
          85,
          86,
          87,
          88,
          89,
          90,
          91,
          92,
          93,
          94,
          95,
          96,
          97,
          98,
          99
         ],
         "xaxis": "x2",
         "y": [
          0.2221333851866817,
          "",
          0.3725787937556427,
          0.6728216303354497,
          "",
          1.7234098732855878,
          1.839047885871355,
          0.9793264625904089,
          0.08742078883870874,
          "",
          0.6310801439847133,
          0.0018164295213152215,
          "",
          2.7445212219301833,
          "",
          0.2734662178958823,
          0.6622655546944869,
          0.6406670999548298,
          1.0632914400785332,
          1.2142427521787278,
          "",
          "",
          "",
          1.9920244077269635,
          "",
          "",
          0.7679726436917284,
          2.158830995036943,
          0.8231024101321017,
          "",
          1.120493537946553,
          "",
          "",
          0.5670085802245743,
          3.554320655882555,
          "",
          0.2884028421250721,
          1.0147450406913274,
          "",
          "",
          0.8604364828361166,
          0.04935400457436967,
          2.0908060270039046,
          "",
          "",
          "",
          "",
          "",
          "",
          "",
          "",
          0.8198118854830246,
          1.9339405994938894,
          "",
          2.3386039480310394,
          1.6875414559776496,
          "",
          1.1811085392832152,
          "",
          "",
          0.9141445925259519,
          "",
          "",
          "",
          1.387604097954999,
          0.9095531275563139,
          "",
          1.2707264230378987,
          "",
          1.897532322502597,
          1.3752436172469908,
          0.9597848856956972,
          "",
          0.37911105287083247,
          0.9084200949237279,
          "",
          "",
          1.5640309857913113,
          3.392919419401039,
          0.9976083319012922,
          "",
          "",
          0.37317450586744494,
          "",
          "",
          1.0754015044444556,
          0.07946905898522405,
          "",
          1.0174440885281364,
          "",
          0.08607285489975802,
          0.28590284502106245,
          "",
          "",
          0.537886724166476,
          "",
          "",
          2.6671079749556603,
          "",
          ""
         ],
         "yaxis": "y2"
        },
        {
         "connectgaps": false,
         "fill": "tozeroy",
         "line": {
          "color": "red",
          "dash": "solid",
          "shape": "linear",
          "width": 0.5
         },
         "mode": "lines",
         "name": "Spread",
         "showlegend": false,
         "type": "scatter",
         "x": [
          0,
          1,
          2,
          3,
          4,
          5,
          6,
          7,
          8,
          9,
          10,
          11,
          12,
          13,
          14,
          15,
          16,
          17,
          18,
          19,
          20,
          21,
          22,
          23,
          24,
          25,
          26,
          27,
          28,
          29,
          30,
          31,
          32,
          33,
          34,
          35,
          36,
          37,
          38,
          39,
          40,
          41,
          42,
          43,
          44,
          45,
          46,
          47,
          48,
          49,
          50,
          51,
          52,
          53,
          54,
          55,
          56,
          57,
          58,
          59,
          60,
          61,
          62,
          63,
          64,
          65,
          66,
          67,
          68,
          69,
          70,
          71,
          72,
          73,
          74,
          75,
          76,
          77,
          78,
          79,
          80,
          81,
          82,
          83,
          84,
          85,
          86,
          87,
          88,
          89,
          90,
          91,
          92,
          93,
          94,
          95,
          96,
          97,
          98,
          99
         ],
         "xaxis": "x2",
         "y": [
          "",
          -2.5901072813896118,
          "",
          "",
          -0.7534557226476674,
          "",
          "",
          "",
          "",
          -0.890993593696284,
          "",
          "",
          -3.941168299985531,
          "",
          -0.15672554079185863,
          "",
          "",
          "",
          "",
          "",
          -0.07888862039316102,
          -0.25153712240875303,
          -0.6969899312758228,
          "",
          -0.3670203918166285,
          -0.44756231698723214,
          "",
          "",
          "",
          -0.1449142877821522,
          "",
          -1.1890351116720748,
          -1.2610051725444416,
          "",
          "",
          -0.36883027275869695,
          "",
          "",
          -0.1123838517748908,
          -0.08899050742987791,
          "",
          "",
          "",
          -0.13666694984967395,
          -1.3785163704741183,
          -0.32335440395198306,
          -0.7339826777828018,
          -3.346876540115268,
          -3.2840525342720412,
          -0.6055203060789254,
          -0.47928210526396714,
          "",
          "",
          -1.069432968361612,
          "",
          "",
          -1.110932229781012,
          "",
          -0.43485484920931916,
          -0.10943919810382668,
          "",
          -2.3324678863574273,
          -0.7421044944405838,
          -3.174621490382762,
          "",
          "",
          -0.211832953460538,
          "",
          -0.8292846730246342,
          "",
          "",
          "",
          -1.760149323178183,
          "",
          "",
          -0.20425396752086844,
          -0.15405166280139465,
          "",
          "",
          "",
          -1.1209595495602622,
          -0.393300228003126,
          "",
          -0.6204285817463764,
          -0.657029262234728,
          "",
          "",
          -1.4745099460042845,
          "",
          -1.6031650170139162,
          "",
          "",
          -1.3291633526969262,
          -1.7956407122953428,
          "",
          -1.2335744366663066,
          -2.949957895818237,
          "",
          -1.8554057617292994,
          -0.7817878374566085
         ],
         "yaxis": "y2"
        }
       ],
       "layout": {
        "hovermode": "x",
        "legend": {
         "bgcolor": "#F5F6F9",
         "font": {
          "color": "#4D5663"
         }
        },
        "paper_bgcolor": "#F5F6F9",
        "plot_bgcolor": "#F5F6F9",
        "template": {
         "data": {
          "bar": [
           {
            "error_x": {
             "color": "#2a3f5f"
            },
            "error_y": {
             "color": "#2a3f5f"
            },
            "marker": {
             "line": {
              "color": "#E5ECF6",
              "width": 0.5
             },
             "pattern": {
              "fillmode": "overlay",
              "size": 10,
              "solidity": 0.2
             }
            },
            "type": "bar"
           }
          ],
          "barpolar": [
           {
            "marker": {
             "line": {
              "color": "#E5ECF6",
              "width": 0.5
             },
             "pattern": {
              "fillmode": "overlay",
              "size": 10,
              "solidity": 0.2
             }
            },
            "type": "barpolar"
           }
          ],
          "carpet": [
           {
            "aaxis": {
             "endlinecolor": "#2a3f5f",
             "gridcolor": "white",
             "linecolor": "white",
             "minorgridcolor": "white",
             "startlinecolor": "#2a3f5f"
            },
            "baxis": {
             "endlinecolor": "#2a3f5f",
             "gridcolor": "white",
             "linecolor": "white",
             "minorgridcolor": "white",
             "startlinecolor": "#2a3f5f"
            },
            "type": "carpet"
           }
          ],
          "choropleth": [
           {
            "colorbar": {
             "outlinewidth": 0,
             "ticks": ""
            },
            "type": "choropleth"
           }
          ],
          "contour": [
           {
            "colorbar": {
             "outlinewidth": 0,
             "ticks": ""
            },
            "colorscale": [
             [
              0,
              "#0d0887"
             ],
             [
              0.1111111111111111,
              "#46039f"
             ],
             [
              0.2222222222222222,
              "#7201a8"
             ],
             [
              0.3333333333333333,
              "#9c179e"
             ],
             [
              0.4444444444444444,
              "#bd3786"
             ],
             [
              0.5555555555555556,
              "#d8576b"
             ],
             [
              0.6666666666666666,
              "#ed7953"
             ],
             [
              0.7777777777777778,
              "#fb9f3a"
             ],
             [
              0.8888888888888888,
              "#fdca26"
             ],
             [
              1,
              "#f0f921"
             ]
            ],
            "type": "contour"
           }
          ],
          "contourcarpet": [
           {
            "colorbar": {
             "outlinewidth": 0,
             "ticks": ""
            },
            "type": "contourcarpet"
           }
          ],
          "heatmap": [
           {
            "colorbar": {
             "outlinewidth": 0,
             "ticks": ""
            },
            "colorscale": [
             [
              0,
              "#0d0887"
             ],
             [
              0.1111111111111111,
              "#46039f"
             ],
             [
              0.2222222222222222,
              "#7201a8"
             ],
             [
              0.3333333333333333,
              "#9c179e"
             ],
             [
              0.4444444444444444,
              "#bd3786"
             ],
             [
              0.5555555555555556,
              "#d8576b"
             ],
             [
              0.6666666666666666,
              "#ed7953"
             ],
             [
              0.7777777777777778,
              "#fb9f3a"
             ],
             [
              0.8888888888888888,
              "#fdca26"
             ],
             [
              1,
              "#f0f921"
             ]
            ],
            "type": "heatmap"
           }
          ],
          "heatmapgl": [
           {
            "colorbar": {
             "outlinewidth": 0,
             "ticks": ""
            },
            "colorscale": [
             [
              0,
              "#0d0887"
             ],
             [
              0.1111111111111111,
              "#46039f"
             ],
             [
              0.2222222222222222,
              "#7201a8"
             ],
             [
              0.3333333333333333,
              "#9c179e"
             ],
             [
              0.4444444444444444,
              "#bd3786"
             ],
             [
              0.5555555555555556,
              "#d8576b"
             ],
             [
              0.6666666666666666,
              "#ed7953"
             ],
             [
              0.7777777777777778,
              "#fb9f3a"
             ],
             [
              0.8888888888888888,
              "#fdca26"
             ],
             [
              1,
              "#f0f921"
             ]
            ],
            "type": "heatmapgl"
           }
          ],
          "histogram": [
           {
            "marker": {
             "pattern": {
              "fillmode": "overlay",
              "size": 10,
              "solidity": 0.2
             }
            },
            "type": "histogram"
           }
          ],
          "histogram2d": [
           {
            "colorbar": {
             "outlinewidth": 0,
             "ticks": ""
            },
            "colorscale": [
             [
              0,
              "#0d0887"
             ],
             [
              0.1111111111111111,
              "#46039f"
             ],
             [
              0.2222222222222222,
              "#7201a8"
             ],
             [
              0.3333333333333333,
              "#9c179e"
             ],
             [
              0.4444444444444444,
              "#bd3786"
             ],
             [
              0.5555555555555556,
              "#d8576b"
             ],
             [
              0.6666666666666666,
              "#ed7953"
             ],
             [
              0.7777777777777778,
              "#fb9f3a"
             ],
             [
              0.8888888888888888,
              "#fdca26"
             ],
             [
              1,
              "#f0f921"
             ]
            ],
            "type": "histogram2d"
           }
          ],
          "histogram2dcontour": [
           {
            "colorbar": {
             "outlinewidth": 0,
             "ticks": ""
            },
            "colorscale": [
             [
              0,
              "#0d0887"
             ],
             [
              0.1111111111111111,
              "#46039f"
             ],
             [
              0.2222222222222222,
              "#7201a8"
             ],
             [
              0.3333333333333333,
              "#9c179e"
             ],
             [
              0.4444444444444444,
              "#bd3786"
             ],
             [
              0.5555555555555556,
              "#d8576b"
             ],
             [
              0.6666666666666666,
              "#ed7953"
             ],
             [
              0.7777777777777778,
              "#fb9f3a"
             ],
             [
              0.8888888888888888,
              "#fdca26"
             ],
             [
              1,
              "#f0f921"
             ]
            ],
            "type": "histogram2dcontour"
           }
          ],
          "mesh3d": [
           {
            "colorbar": {
             "outlinewidth": 0,
             "ticks": ""
            },
            "type": "mesh3d"
           }
          ],
          "parcoords": [
           {
            "line": {
             "colorbar": {
              "outlinewidth": 0,
              "ticks": ""
             }
            },
            "type": "parcoords"
           }
          ],
          "pie": [
           {
            "automargin": true,
            "type": "pie"
           }
          ],
          "scatter": [
           {
            "marker": {
             "colorbar": {
              "outlinewidth": 0,
              "ticks": ""
             }
            },
            "type": "scatter"
           }
          ],
          "scatter3d": [
           {
            "line": {
             "colorbar": {
              "outlinewidth": 0,
              "ticks": ""
             }
            },
            "marker": {
             "colorbar": {
              "outlinewidth": 0,
              "ticks": ""
             }
            },
            "type": "scatter3d"
           }
          ],
          "scattercarpet": [
           {
            "marker": {
             "colorbar": {
              "outlinewidth": 0,
              "ticks": ""
             }
            },
            "type": "scattercarpet"
           }
          ],
          "scattergeo": [
           {
            "marker": {
             "colorbar": {
              "outlinewidth": 0,
              "ticks": ""
             }
            },
            "type": "scattergeo"
           }
          ],
          "scattergl": [
           {
            "marker": {
             "colorbar": {
              "outlinewidth": 0,
              "ticks": ""
             }
            },
            "type": "scattergl"
           }
          ],
          "scattermapbox": [
           {
            "marker": {
             "colorbar": {
              "outlinewidth": 0,
              "ticks": ""
             }
            },
            "type": "scattermapbox"
           }
          ],
          "scatterpolar": [
           {
            "marker": {
             "colorbar": {
              "outlinewidth": 0,
              "ticks": ""
             }
            },
            "type": "scatterpolar"
           }
          ],
          "scatterpolargl": [
           {
            "marker": {
             "colorbar": {
              "outlinewidth": 0,
              "ticks": ""
             }
            },
            "type": "scatterpolargl"
           }
          ],
          "scatterternary": [
           {
            "marker": {
             "colorbar": {
              "outlinewidth": 0,
              "ticks": ""
             }
            },
            "type": "scatterternary"
           }
          ],
          "surface": [
           {
            "colorbar": {
             "outlinewidth": 0,
             "ticks": ""
            },
            "colorscale": [
             [
              0,
              "#0d0887"
             ],
             [
              0.1111111111111111,
              "#46039f"
             ],
             [
              0.2222222222222222,
              "#7201a8"
             ],
             [
              0.3333333333333333,
              "#9c179e"
             ],
             [
              0.4444444444444444,
              "#bd3786"
             ],
             [
              0.5555555555555556,
              "#d8576b"
             ],
             [
              0.6666666666666666,
              "#ed7953"
             ],
             [
              0.7777777777777778,
              "#fb9f3a"
             ],
             [
              0.8888888888888888,
              "#fdca26"
             ],
             [
              1,
              "#f0f921"
             ]
            ],
            "type": "surface"
           }
          ],
          "table": [
           {
            "cells": {
             "fill": {
              "color": "#EBF0F8"
             },
             "line": {
              "color": "white"
             }
            },
            "header": {
             "fill": {
              "color": "#C8D4E3"
             },
             "line": {
              "color": "white"
             }
            },
            "type": "table"
           }
          ]
         },
         "layout": {
          "annotationdefaults": {
           "arrowcolor": "#2a3f5f",
           "arrowhead": 0,
           "arrowwidth": 1
          },
          "autotypenumbers": "strict",
          "coloraxis": {
           "colorbar": {
            "outlinewidth": 0,
            "ticks": ""
           }
          },
          "colorscale": {
           "diverging": [
            [
             0,
             "#8e0152"
            ],
            [
             0.1,
             "#c51b7d"
            ],
            [
             0.2,
             "#de77ae"
            ],
            [
             0.3,
             "#f1b6da"
            ],
            [
             0.4,
             "#fde0ef"
            ],
            [
             0.5,
             "#f7f7f7"
            ],
            [
             0.6,
             "#e6f5d0"
            ],
            [
             0.7,
             "#b8e186"
            ],
            [
             0.8,
             "#7fbc41"
            ],
            [
             0.9,
             "#4d9221"
            ],
            [
             1,
             "#276419"
            ]
           ],
           "sequential": [
            [
             0,
             "#0d0887"
            ],
            [
             0.1111111111111111,
             "#46039f"
            ],
            [
             0.2222222222222222,
             "#7201a8"
            ],
            [
             0.3333333333333333,
             "#9c179e"
            ],
            [
             0.4444444444444444,
             "#bd3786"
            ],
            [
             0.5555555555555556,
             "#d8576b"
            ],
            [
             0.6666666666666666,
             "#ed7953"
            ],
            [
             0.7777777777777778,
             "#fb9f3a"
            ],
            [
             0.8888888888888888,
             "#fdca26"
            ],
            [
             1,
             "#f0f921"
            ]
           ],
           "sequentialminus": [
            [
             0,
             "#0d0887"
            ],
            [
             0.1111111111111111,
             "#46039f"
            ],
            [
             0.2222222222222222,
             "#7201a8"
            ],
            [
             0.3333333333333333,
             "#9c179e"
            ],
            [
             0.4444444444444444,
             "#bd3786"
            ],
            [
             0.5555555555555556,
             "#d8576b"
            ],
            [
             0.6666666666666666,
             "#ed7953"
            ],
            [
             0.7777777777777778,
             "#fb9f3a"
            ],
            [
             0.8888888888888888,
             "#fdca26"
            ],
            [
             1,
             "#f0f921"
            ]
           ]
          },
          "colorway": [
           "#636efa",
           "#EF553B",
           "#00cc96",
           "#ab63fa",
           "#FFA15A",
           "#19d3f3",
           "#FF6692",
           "#B6E880",
           "#FF97FF",
           "#FECB52"
          ],
          "font": {
           "color": "#2a3f5f"
          },
          "geo": {
           "bgcolor": "white",
           "lakecolor": "white",
           "landcolor": "#E5ECF6",
           "showlakes": true,
           "showland": true,
           "subunitcolor": "white"
          },
          "hoverlabel": {
           "align": "left"
          },
          "hovermode": "closest",
          "mapbox": {
           "style": "light"
          },
          "paper_bgcolor": "white",
          "plot_bgcolor": "#E5ECF6",
          "polar": {
           "angularaxis": {
            "gridcolor": "white",
            "linecolor": "white",
            "ticks": ""
           },
           "bgcolor": "#E5ECF6",
           "radialaxis": {
            "gridcolor": "white",
            "linecolor": "white",
            "ticks": ""
           }
          },
          "scene": {
           "xaxis": {
            "backgroundcolor": "#E5ECF6",
            "gridcolor": "white",
            "gridwidth": 2,
            "linecolor": "white",
            "showbackground": true,
            "ticks": "",
            "zerolinecolor": "white"
           },
           "yaxis": {
            "backgroundcolor": "#E5ECF6",
            "gridcolor": "white",
            "gridwidth": 2,
            "linecolor": "white",
            "showbackground": true,
            "ticks": "",
            "zerolinecolor": "white"
           },
           "zaxis": {
            "backgroundcolor": "#E5ECF6",
            "gridcolor": "white",
            "gridwidth": 2,
            "linecolor": "white",
            "showbackground": true,
            "ticks": "",
            "zerolinecolor": "white"
           }
          },
          "shapedefaults": {
           "line": {
            "color": "#2a3f5f"
           }
          },
          "ternary": {
           "aaxis": {
            "gridcolor": "white",
            "linecolor": "white",
            "ticks": ""
           },
           "baxis": {
            "gridcolor": "white",
            "linecolor": "white",
            "ticks": ""
           },
           "bgcolor": "#E5ECF6",
           "caxis": {
            "gridcolor": "white",
            "linecolor": "white",
            "ticks": ""
           }
          },
          "title": {
           "x": 0.05
          },
          "xaxis": {
           "automargin": true,
           "gridcolor": "white",
           "linecolor": "white",
           "ticks": "",
           "title": {
            "standoff": 15
           },
           "zerolinecolor": "white",
           "zerolinewidth": 2
          },
          "yaxis": {
           "automargin": true,
           "gridcolor": "white",
           "linecolor": "white",
           "ticks": "",
           "title": {
            "standoff": 15
           },
           "zerolinecolor": "white",
           "zerolinewidth": 2
          }
         }
        },
        "title": {
         "font": {
          "color": "#4D5663"
         }
        },
        "xaxis": {
         "gridcolor": "#E1E5ED",
         "showgrid": true,
         "tickfont": {
          "color": "#4D5663"
         },
         "title": {
          "font": {
           "color": "#4D5663"
          },
          "text": ""
         },
         "zerolinecolor": "#E1E5ED"
        },
        "xaxis2": {
         "anchor": "y2",
         "gridcolor": "#E1E5ED",
         "showgrid": true,
         "showticklabels": false,
         "tickfont": {
          "color": "#4D5663"
         },
         "title": {
          "font": {
           "color": "#4D5663"
          },
          "text": ""
         },
         "zerolinecolor": "#E1E5ED"
        },
        "yaxis": {
         "domain": [
          0.3,
          1
         ],
         "gridcolor": "#E1E5ED",
         "showgrid": true,
         "tickfont": {
          "color": "#4D5663"
         },
         "title": {
          "font": {
           "color": "#4D5663"
          },
          "text": ""
         },
         "zerolinecolor": "#E1E5ED"
        },
        "yaxis2": {
         "domain": [
          0,
          0.25
         ],
         "gridcolor": "#E1E5ED",
         "showgrid": true,
         "tickfont": {
          "color": "#4D5663"
         },
         "title": {
          "font": {
           "color": "#4D5663"
          },
          "text": "Spread"
         },
         "zerolinecolor": "#E1E5ED"
        }
       }
      },
      "text/html": [
       "<div>                            <div id=\"0aa9cd0d-fe95-4b47-9533-e2408bf39bca\" class=\"plotly-graph-div\" style=\"height:525px; width:100%;\"></div>            <script type=\"text/javascript\">                require([\"plotly\"], function(Plotly) {                    window.PLOTLYENV=window.PLOTLYENV || {};\n",
       "                    window.PLOTLYENV.BASE_URL='https://plot.ly';                                    if (document.getElementById(\"0aa9cd0d-fe95-4b47-9533-e2408bf39bca\")) {                    Plotly.newPlot(                        \"0aa9cd0d-fe95-4b47-9533-e2408bf39bca\",                        [{\"line\":{\"color\":\"rgba(255, 153, 51, 1.0)\",\"dash\":\"solid\",\"shape\":\"linear\",\"width\":1.3},\"mode\":\"lines\",\"name\":\"A\",\"text\":\"\",\"type\":\"scatter\",\"x\":[0,1,2,3,4,5,6,7,8,9,10,11,12,13,14,15,16,17,18,19,20,21,22,23,24,25,26,27,28,29,30,31,32,33,34,35,36,37,38,39,40,41,42,43,44,45,46,47,48,49,50,51,52,53,54,55,56,57,58,59,60,61,62,63,64,65,66,67,68,69,70,71,72,73,74,75,76,77,78,79,80,81,82,83,84,85,86,87,88,89,90,91,92,93,94,95,96,97,98,99],\"y\":[-0.8952513651069208,-0.8433675626903279,0.5194375646796255,0.20781533281382147,-0.28787023198130957,1.6626119003563948,0.8455339666282456,-0.004764186067881709,0.4733015021634591,-0.9426534090465928,0.3495407603251051,1.046237290545855,-0.9859596463402309,2.1084983582558596,-0.9317323755961524,0.6494024623069314,-0.3843287632960257,1.1614039215162952,-0.20123156557799382,-0.45298390054834,0.7347549725847721,-0.7677041350495847,0.13258824206569836,1.054969175247717,-1.3104840655184302,-0.8013236099028447,0.8811067964875391,1.37964961408107,-0.6967541155402649,-0.06015481378112143,1.6708711018109184,-0.8025842912977741,-0.015918404685731493,-0.027443107556971016,2.406932617211438,1.3057326517527597,-0.06865890639765183,1.1071268608316913,0.33981602924630167,-1.0872016494434344,-1.5039010182317643,-1.519624037806377,1.4712137408778254,-0.0034193275927080374,-0.6401644852992978,0.4859905760774655,0.0390256747991155,-1.941050095915409,-1.6177636665820099,0.613241988243389,-0.8362331163350449,1.6088686769777236,1.0424803246654821,0.021383677990268142,0.8482607537163633,0.2705487692995969,-0.29215392518076677,-0.10297268388786927,-1.1823360718306772,-0.291903670774597,-0.80294506515156,-0.9072759442656589,-0.8089516008862685,-0.9258452866799369,-0.06216798493213476,1.2447036743884878,0.04545716238838049,-0.5767553684691545,-0.757567169617877,1.5631791168400553,1.479076371008533,0.3313239929669739,-0.8932590257661409,-0.8233805286922103,1.0906334749242377,0.9254639718825185,0.3337368137528734,0.7499843768463412,0.8962171001982022,0.8433026224184019,0.041966578696571485,-0.3215182981515437,-2.126805113291232,-1.6303569601061727,-0.8656966690701975,-0.1959710508555525,-1.4209840585311801,-0.5464709582936679,-0.5121202308271431,-0.2238616074951767,0.3327302146369024,0.31238636848963375,-1.7015350452825535,-0.0549239733602343,0.2474203199269791,-0.36324706968849796,-1.0628515643718848,2.5078501395900497,-1.8677307647196009,0.3231424513059178]},{\"line\":{\"color\":\"rgba(55, 128, 191, 1.0)\",\"dash\":\"solid\",\"shape\":\"linear\",\"width\":1.3},\"mode\":\"lines\",\"name\":\"B\",\"text\":\"\",\"type\":\"scatter\",\"x\":[0,1,2,3,4,5,6,7,8,9,10,11,12,13,14,15,16,17,18,19,20,21,22,23,24,25,26,27,28,29,30,31,32,33,34,35,36,37,38,39,40,41,42,43,44,45,46,47,48,49,50,51,52,53,54,55,56,57,58,59,60,61,62,63,64,65,66,67,68,69,70,71,72,73,74,75,76,77,78,79,80,81,82,83,84,85,86,87,88,89,90,91,92,93,94,95,96,97,98,99],\"y\":[-1.1173847502936025,1.746739718699284,0.14685877092398286,-0.46500629752162825,0.4655854906663578,-0.06079797292919306,-0.9935139192431094,-0.9840906486582907,0.3858807133247504,-0.05165981535030882,-0.28153938365960823,1.0444208610245398,2.9552086536453,-0.6360228636743235,-0.7750068348042938,0.3759362444110491,-1.0465943179905126,0.5207368215614654,-1.2645230056565269,-1.6672266527270678,0.8136435929779331,-0.5161670126408316,0.8295781733415212,-0.9370552324792465,-0.9434636737018017,-0.35376129291561254,0.1131341527958107,-0.7791813809558733,-1.5198565256723666,0.08475947400103076,0.5503775638643653,0.3864508203743008,1.24508676785871,-0.5944516877815453,-1.147388038671117,1.6745629245114566,-0.35706174852272393,0.09238182014036393,0.45219988102119246,-0.9982111420135565,-2.364337501067881,-1.5689780423807467,-0.6195922861260792,0.1332476222569659,0.7383518851748205,0.8093449800294485,0.7730083525819172,1.4058264441998591,1.6662888676900314,1.2187622943223144,-0.3569510110710778,0.789056791494699,-0.8914602748284073,1.09081664635188,-1.4903431943146759,-1.4169926866780527,0.8187783046002451,-1.2840812231710845,-0.7474812226213581,-0.18246447267077032,-1.7170896576775119,1.4251919420917685,-0.06684710644568471,2.248776203702825,-1.4497720828871339,0.33515054683217393,0.2572901158489185,-1.8474817915070532,0.07171750340675725,-0.33435320566254173,0.10383275376154216,-0.6284608927287233,0.866890297412042,-1.2024915815630428,0.1822133800005098,1.129717939403387,0.48778847655426805,-0.81404660894497,-2.4967023192028366,-0.15430570948289024,1.1629261282568337,0.07178192985158226,-2.499979619158677,-1.0099283783597963,-0.20866740683546953,-1.2713725553000081,-1.5004531175164042,0.9280389877106168,-1.5295643193552795,1.3793034095187395,0.24665735973714437,0.02648352346857129,-0.3723716925856273,1.7407167389351086,-0.2904664042394969,0.8703273669778087,1.8871063314463523,-0.15925783536561067,-0.01232500299030156,1.1049302887625263]},{\"connectgaps\":false,\"fill\":\"tozeroy\",\"line\":{\"color\":\"green\",\"dash\":\"solid\",\"shape\":\"linear\",\"width\":0.5},\"mode\":\"lines\",\"name\":\"Spread\",\"showlegend\":false,\"type\":\"scatter\",\"x\":[0,1,2,3,4,5,6,7,8,9,10,11,12,13,14,15,16,17,18,19,20,21,22,23,24,25,26,27,28,29,30,31,32,33,34,35,36,37,38,39,40,41,42,43,44,45,46,47,48,49,50,51,52,53,54,55,56,57,58,59,60,61,62,63,64,65,66,67,68,69,70,71,72,73,74,75,76,77,78,79,80,81,82,83,84,85,86,87,88,89,90,91,92,93,94,95,96,97,98,99],\"xaxis\":\"x2\",\"y\":[0.2221333851866817,\"\",0.3725787937556427,0.6728216303354497,\"\",1.7234098732855878,1.839047885871355,0.9793264625904089,0.08742078883870874,\"\",0.6310801439847133,0.0018164295213152215,\"\",2.7445212219301833,\"\",0.2734662178958823,0.6622655546944869,0.6406670999548298,1.0632914400785332,1.2142427521787278,\"\",\"\",\"\",1.9920244077269635,\"\",\"\",0.7679726436917284,2.158830995036943,0.8231024101321017,\"\",1.120493537946553,\"\",\"\",0.5670085802245743,3.554320655882555,\"\",0.2884028421250721,1.0147450406913274,\"\",\"\",0.8604364828361166,0.04935400457436967,2.0908060270039046,\"\",\"\",\"\",\"\",\"\",\"\",\"\",\"\",0.8198118854830246,1.9339405994938894,\"\",2.3386039480310394,1.6875414559776496,\"\",1.1811085392832152,\"\",\"\",0.9141445925259519,\"\",\"\",\"\",1.387604097954999,0.9095531275563139,\"\",1.2707264230378987,\"\",1.897532322502597,1.3752436172469908,0.9597848856956972,\"\",0.37911105287083247,0.9084200949237279,\"\",\"\",1.5640309857913113,3.392919419401039,0.9976083319012922,\"\",\"\",0.37317450586744494,\"\",\"\",1.0754015044444556,0.07946905898522405,\"\",1.0174440885281364,\"\",0.08607285489975802,0.28590284502106245,\"\",\"\",0.537886724166476,\"\",\"\",2.6671079749556603,\"\",\"\"],\"yaxis\":\"y2\"},{\"connectgaps\":false,\"fill\":\"tozeroy\",\"line\":{\"color\":\"red\",\"dash\":\"solid\",\"shape\":\"linear\",\"width\":0.5},\"mode\":\"lines\",\"name\":\"Spread\",\"showlegend\":false,\"type\":\"scatter\",\"x\":[0,1,2,3,4,5,6,7,8,9,10,11,12,13,14,15,16,17,18,19,20,21,22,23,24,25,26,27,28,29,30,31,32,33,34,35,36,37,38,39,40,41,42,43,44,45,46,47,48,49,50,51,52,53,54,55,56,57,58,59,60,61,62,63,64,65,66,67,68,69,70,71,72,73,74,75,76,77,78,79,80,81,82,83,84,85,86,87,88,89,90,91,92,93,94,95,96,97,98,99],\"xaxis\":\"x2\",\"y\":[\"\",-2.5901072813896118,\"\",\"\",-0.7534557226476674,\"\",\"\",\"\",\"\",-0.890993593696284,\"\",\"\",-3.941168299985531,\"\",-0.15672554079185863,\"\",\"\",\"\",\"\",\"\",-0.07888862039316102,-0.25153712240875303,-0.6969899312758228,\"\",-0.3670203918166285,-0.44756231698723214,\"\",\"\",\"\",-0.1449142877821522,\"\",-1.1890351116720748,-1.2610051725444416,\"\",\"\",-0.36883027275869695,\"\",\"\",-0.1123838517748908,-0.08899050742987791,\"\",\"\",\"\",-0.13666694984967395,-1.3785163704741183,-0.32335440395198306,-0.7339826777828018,-3.346876540115268,-3.2840525342720412,-0.6055203060789254,-0.47928210526396714,\"\",\"\",-1.069432968361612,\"\",\"\",-1.110932229781012,\"\",-0.43485484920931916,-0.10943919810382668,\"\",-2.3324678863574273,-0.7421044944405838,-3.174621490382762,\"\",\"\",-0.211832953460538,\"\",-0.8292846730246342,\"\",\"\",\"\",-1.760149323178183,\"\",\"\",-0.20425396752086844,-0.15405166280139465,\"\",\"\",\"\",-1.1209595495602622,-0.393300228003126,\"\",-0.6204285817463764,-0.657029262234728,\"\",\"\",-1.4745099460042845,\"\",-1.6031650170139162,\"\",\"\",-1.3291633526969262,-1.7956407122953428,\"\",-1.2335744366663066,-2.949957895818237,\"\",-1.8554057617292994,-0.7817878374566085],\"yaxis\":\"y2\"}],                        {\"hovermode\":\"x\",\"legend\":{\"bgcolor\":\"#F5F6F9\",\"font\":{\"color\":\"#4D5663\"}},\"paper_bgcolor\":\"#F5F6F9\",\"plot_bgcolor\":\"#F5F6F9\",\"template\":{\"data\":{\"bar\":[{\"error_x\":{\"color\":\"#2a3f5f\"},\"error_y\":{\"color\":\"#2a3f5f\"},\"marker\":{\"line\":{\"color\":\"#E5ECF6\",\"width\":0.5},\"pattern\":{\"fillmode\":\"overlay\",\"size\":10,\"solidity\":0.2}},\"type\":\"bar\"}],\"barpolar\":[{\"marker\":{\"line\":{\"color\":\"#E5ECF6\",\"width\":0.5},\"pattern\":{\"fillmode\":\"overlay\",\"size\":10,\"solidity\":0.2}},\"type\":\"barpolar\"}],\"carpet\":[{\"aaxis\":{\"endlinecolor\":\"#2a3f5f\",\"gridcolor\":\"white\",\"linecolor\":\"white\",\"minorgridcolor\":\"white\",\"startlinecolor\":\"#2a3f5f\"},\"baxis\":{\"endlinecolor\":\"#2a3f5f\",\"gridcolor\":\"white\",\"linecolor\":\"white\",\"minorgridcolor\":\"white\",\"startlinecolor\":\"#2a3f5f\"},\"type\":\"carpet\"}],\"choropleth\":[{\"colorbar\":{\"outlinewidth\":0,\"ticks\":\"\"},\"type\":\"choropleth\"}],\"contour\":[{\"colorbar\":{\"outlinewidth\":0,\"ticks\":\"\"},\"colorscale\":[[0.0,\"#0d0887\"],[0.1111111111111111,\"#46039f\"],[0.2222222222222222,\"#7201a8\"],[0.3333333333333333,\"#9c179e\"],[0.4444444444444444,\"#bd3786\"],[0.5555555555555556,\"#d8576b\"],[0.6666666666666666,\"#ed7953\"],[0.7777777777777778,\"#fb9f3a\"],[0.8888888888888888,\"#fdca26\"],[1.0,\"#f0f921\"]],\"type\":\"contour\"}],\"contourcarpet\":[{\"colorbar\":{\"outlinewidth\":0,\"ticks\":\"\"},\"type\":\"contourcarpet\"}],\"heatmap\":[{\"colorbar\":{\"outlinewidth\":0,\"ticks\":\"\"},\"colorscale\":[[0.0,\"#0d0887\"],[0.1111111111111111,\"#46039f\"],[0.2222222222222222,\"#7201a8\"],[0.3333333333333333,\"#9c179e\"],[0.4444444444444444,\"#bd3786\"],[0.5555555555555556,\"#d8576b\"],[0.6666666666666666,\"#ed7953\"],[0.7777777777777778,\"#fb9f3a\"],[0.8888888888888888,\"#fdca26\"],[1.0,\"#f0f921\"]],\"type\":\"heatmap\"}],\"heatmapgl\":[{\"colorbar\":{\"outlinewidth\":0,\"ticks\":\"\"},\"colorscale\":[[0.0,\"#0d0887\"],[0.1111111111111111,\"#46039f\"],[0.2222222222222222,\"#7201a8\"],[0.3333333333333333,\"#9c179e\"],[0.4444444444444444,\"#bd3786\"],[0.5555555555555556,\"#d8576b\"],[0.6666666666666666,\"#ed7953\"],[0.7777777777777778,\"#fb9f3a\"],[0.8888888888888888,\"#fdca26\"],[1.0,\"#f0f921\"]],\"type\":\"heatmapgl\"}],\"histogram\":[{\"marker\":{\"pattern\":{\"fillmode\":\"overlay\",\"size\":10,\"solidity\":0.2}},\"type\":\"histogram\"}],\"histogram2d\":[{\"colorbar\":{\"outlinewidth\":0,\"ticks\":\"\"},\"colorscale\":[[0.0,\"#0d0887\"],[0.1111111111111111,\"#46039f\"],[0.2222222222222222,\"#7201a8\"],[0.3333333333333333,\"#9c179e\"],[0.4444444444444444,\"#bd3786\"],[0.5555555555555556,\"#d8576b\"],[0.6666666666666666,\"#ed7953\"],[0.7777777777777778,\"#fb9f3a\"],[0.8888888888888888,\"#fdca26\"],[1.0,\"#f0f921\"]],\"type\":\"histogram2d\"}],\"histogram2dcontour\":[{\"colorbar\":{\"outlinewidth\":0,\"ticks\":\"\"},\"colorscale\":[[0.0,\"#0d0887\"],[0.1111111111111111,\"#46039f\"],[0.2222222222222222,\"#7201a8\"],[0.3333333333333333,\"#9c179e\"],[0.4444444444444444,\"#bd3786\"],[0.5555555555555556,\"#d8576b\"],[0.6666666666666666,\"#ed7953\"],[0.7777777777777778,\"#fb9f3a\"],[0.8888888888888888,\"#fdca26\"],[1.0,\"#f0f921\"]],\"type\":\"histogram2dcontour\"}],\"mesh3d\":[{\"colorbar\":{\"outlinewidth\":0,\"ticks\":\"\"},\"type\":\"mesh3d\"}],\"parcoords\":[{\"line\":{\"colorbar\":{\"outlinewidth\":0,\"ticks\":\"\"}},\"type\":\"parcoords\"}],\"pie\":[{\"automargin\":true,\"type\":\"pie\"}],\"scatter\":[{\"marker\":{\"colorbar\":{\"outlinewidth\":0,\"ticks\":\"\"}},\"type\":\"scatter\"}],\"scatter3d\":[{\"line\":{\"colorbar\":{\"outlinewidth\":0,\"ticks\":\"\"}},\"marker\":{\"colorbar\":{\"outlinewidth\":0,\"ticks\":\"\"}},\"type\":\"scatter3d\"}],\"scattercarpet\":[{\"marker\":{\"colorbar\":{\"outlinewidth\":0,\"ticks\":\"\"}},\"type\":\"scattercarpet\"}],\"scattergeo\":[{\"marker\":{\"colorbar\":{\"outlinewidth\":0,\"ticks\":\"\"}},\"type\":\"scattergeo\"}],\"scattergl\":[{\"marker\":{\"colorbar\":{\"outlinewidth\":0,\"ticks\":\"\"}},\"type\":\"scattergl\"}],\"scattermapbox\":[{\"marker\":{\"colorbar\":{\"outlinewidth\":0,\"ticks\":\"\"}},\"type\":\"scattermapbox\"}],\"scatterpolar\":[{\"marker\":{\"colorbar\":{\"outlinewidth\":0,\"ticks\":\"\"}},\"type\":\"scatterpolar\"}],\"scatterpolargl\":[{\"marker\":{\"colorbar\":{\"outlinewidth\":0,\"ticks\":\"\"}},\"type\":\"scatterpolargl\"}],\"scatterternary\":[{\"marker\":{\"colorbar\":{\"outlinewidth\":0,\"ticks\":\"\"}},\"type\":\"scatterternary\"}],\"surface\":[{\"colorbar\":{\"outlinewidth\":0,\"ticks\":\"\"},\"colorscale\":[[0.0,\"#0d0887\"],[0.1111111111111111,\"#46039f\"],[0.2222222222222222,\"#7201a8\"],[0.3333333333333333,\"#9c179e\"],[0.4444444444444444,\"#bd3786\"],[0.5555555555555556,\"#d8576b\"],[0.6666666666666666,\"#ed7953\"],[0.7777777777777778,\"#fb9f3a\"],[0.8888888888888888,\"#fdca26\"],[1.0,\"#f0f921\"]],\"type\":\"surface\"}],\"table\":[{\"cells\":{\"fill\":{\"color\":\"#EBF0F8\"},\"line\":{\"color\":\"white\"}},\"header\":{\"fill\":{\"color\":\"#C8D4E3\"},\"line\":{\"color\":\"white\"}},\"type\":\"table\"}]},\"layout\":{\"annotationdefaults\":{\"arrowcolor\":\"#2a3f5f\",\"arrowhead\":0,\"arrowwidth\":1},\"autotypenumbers\":\"strict\",\"coloraxis\":{\"colorbar\":{\"outlinewidth\":0,\"ticks\":\"\"}},\"colorscale\":{\"diverging\":[[0,\"#8e0152\"],[0.1,\"#c51b7d\"],[0.2,\"#de77ae\"],[0.3,\"#f1b6da\"],[0.4,\"#fde0ef\"],[0.5,\"#f7f7f7\"],[0.6,\"#e6f5d0\"],[0.7,\"#b8e186\"],[0.8,\"#7fbc41\"],[0.9,\"#4d9221\"],[1,\"#276419\"]],\"sequential\":[[0.0,\"#0d0887\"],[0.1111111111111111,\"#46039f\"],[0.2222222222222222,\"#7201a8\"],[0.3333333333333333,\"#9c179e\"],[0.4444444444444444,\"#bd3786\"],[0.5555555555555556,\"#d8576b\"],[0.6666666666666666,\"#ed7953\"],[0.7777777777777778,\"#fb9f3a\"],[0.8888888888888888,\"#fdca26\"],[1.0,\"#f0f921\"]],\"sequentialminus\":[[0.0,\"#0d0887\"],[0.1111111111111111,\"#46039f\"],[0.2222222222222222,\"#7201a8\"],[0.3333333333333333,\"#9c179e\"],[0.4444444444444444,\"#bd3786\"],[0.5555555555555556,\"#d8576b\"],[0.6666666666666666,\"#ed7953\"],[0.7777777777777778,\"#fb9f3a\"],[0.8888888888888888,\"#fdca26\"],[1.0,\"#f0f921\"]]},\"colorway\":[\"#636efa\",\"#EF553B\",\"#00cc96\",\"#ab63fa\",\"#FFA15A\",\"#19d3f3\",\"#FF6692\",\"#B6E880\",\"#FF97FF\",\"#FECB52\"],\"font\":{\"color\":\"#2a3f5f\"},\"geo\":{\"bgcolor\":\"white\",\"lakecolor\":\"white\",\"landcolor\":\"#E5ECF6\",\"showlakes\":true,\"showland\":true,\"subunitcolor\":\"white\"},\"hoverlabel\":{\"align\":\"left\"},\"hovermode\":\"closest\",\"mapbox\":{\"style\":\"light\"},\"paper_bgcolor\":\"white\",\"plot_bgcolor\":\"#E5ECF6\",\"polar\":{\"angularaxis\":{\"gridcolor\":\"white\",\"linecolor\":\"white\",\"ticks\":\"\"},\"bgcolor\":\"#E5ECF6\",\"radialaxis\":{\"gridcolor\":\"white\",\"linecolor\":\"white\",\"ticks\":\"\"}},\"scene\":{\"xaxis\":{\"backgroundcolor\":\"#E5ECF6\",\"gridcolor\":\"white\",\"gridwidth\":2,\"linecolor\":\"white\",\"showbackground\":true,\"ticks\":\"\",\"zerolinecolor\":\"white\"},\"yaxis\":{\"backgroundcolor\":\"#E5ECF6\",\"gridcolor\":\"white\",\"gridwidth\":2,\"linecolor\":\"white\",\"showbackground\":true,\"ticks\":\"\",\"zerolinecolor\":\"white\"},\"zaxis\":{\"backgroundcolor\":\"#E5ECF6\",\"gridcolor\":\"white\",\"gridwidth\":2,\"linecolor\":\"white\",\"showbackground\":true,\"ticks\":\"\",\"zerolinecolor\":\"white\"}},\"shapedefaults\":{\"line\":{\"color\":\"#2a3f5f\"}},\"ternary\":{\"aaxis\":{\"gridcolor\":\"white\",\"linecolor\":\"white\",\"ticks\":\"\"},\"baxis\":{\"gridcolor\":\"white\",\"linecolor\":\"white\",\"ticks\":\"\"},\"bgcolor\":\"#E5ECF6\",\"caxis\":{\"gridcolor\":\"white\",\"linecolor\":\"white\",\"ticks\":\"\"}},\"title\":{\"x\":0.05},\"xaxis\":{\"automargin\":true,\"gridcolor\":\"white\",\"linecolor\":\"white\",\"ticks\":\"\",\"title\":{\"standoff\":15},\"zerolinecolor\":\"white\",\"zerolinewidth\":2},\"yaxis\":{\"automargin\":true,\"gridcolor\":\"white\",\"linecolor\":\"white\",\"ticks\":\"\",\"title\":{\"standoff\":15},\"zerolinecolor\":\"white\",\"zerolinewidth\":2}}},\"title\":{\"font\":{\"color\":\"#4D5663\"}},\"xaxis\":{\"gridcolor\":\"#E1E5ED\",\"showgrid\":true,\"tickfont\":{\"color\":\"#4D5663\"},\"title\":{\"font\":{\"color\":\"#4D5663\"},\"text\":\"\"},\"zerolinecolor\":\"#E1E5ED\"},\"xaxis2\":{\"anchor\":\"y2\",\"gridcolor\":\"#E1E5ED\",\"showgrid\":true,\"showticklabels\":false,\"tickfont\":{\"color\":\"#4D5663\"},\"title\":{\"font\":{\"color\":\"#4D5663\"},\"text\":\"\"},\"zerolinecolor\":\"#E1E5ED\"},\"yaxis\":{\"domain\":[0.3,1],\"gridcolor\":\"#E1E5ED\",\"showgrid\":true,\"tickfont\":{\"color\":\"#4D5663\"},\"title\":{\"font\":{\"color\":\"#4D5663\"},\"text\":\"\"},\"zerolinecolor\":\"#E1E5ED\"},\"yaxis2\":{\"domain\":[0,0.25],\"gridcolor\":\"#E1E5ED\",\"showgrid\":true,\"tickfont\":{\"color\":\"#4D5663\"},\"title\":{\"font\":{\"color\":\"#4D5663\"},\"text\":\"Spread\"},\"zerolinecolor\":\"#E1E5ED\"}},                        {\"showLink\": true, \"linkText\": \"Export to plot.ly\", \"plotlyServerURL\": \"https://plot.ly\", \"responsive\": true}                    ).then(function(){\n",
       "                            \n",
       "var gd = document.getElementById('0aa9cd0d-fe95-4b47-9533-e2408bf39bca');\n",
       "var x = new MutationObserver(function (mutations, observer) {{\n",
       "        var display = window.getComputedStyle(gd).display;\n",
       "        if (!display || display === 'none') {{\n",
       "            console.log([gd, 'removed!']);\n",
       "            Plotly.purge(gd);\n",
       "            observer.disconnect();\n",
       "        }}\n",
       "}});\n",
       "\n",
       "// Listen for the removal of the full notebook cells\n",
       "var notebookContainer = gd.closest('#notebook-container');\n",
       "if (notebookContainer) {{\n",
       "    x.observe(notebookContainer, {childList: true});\n",
       "}}\n",
       "\n",
       "// Listen for the clearing of the current output cell\n",
       "var outputEl = gd.closest('.output');\n",
       "if (outputEl) {{\n",
       "    x.observe(outputEl, {childList: true});\n",
       "}}\n",
       "\n",
       "                        })                };                });            </script>        </div>"
      ]
     },
     "metadata": {},
     "output_type": "display_data"
    }
   ],
   "source": [
    "df[['A','B']].iplot(kind='spread')"
   ]
  },
  {
   "cell_type": "markdown",
   "metadata": {},
   "source": [
    "## histogram"
   ]
  },
  {
   "cell_type": "code",
   "execution_count": 17,
   "metadata": {},
   "outputs": [
    {
     "data": {
      "application/vnd.plotly.v1+json": {
       "config": {
        "linkText": "Export to plot.ly",
        "plotlyServerURL": "https://plot.ly",
        "showLink": true
       },
       "data": [
        {
         "histfunc": "count",
         "histnorm": "",
         "marker": {
          "color": "rgba(255, 153, 51, 1.0)",
          "line": {
           "color": "#4D5663",
           "width": 1.3
          }
         },
         "name": "A",
         "nbinsx": 25,
         "opacity": 0.8,
         "orientation": "v",
         "type": "histogram",
         "x": [
          -0.8952513651069208,
          -0.8433675626903279,
          0.5194375646796255,
          0.20781533281382147,
          -0.28787023198130957,
          1.6626119003563948,
          0.8455339666282456,
          -0.004764186067881709,
          0.4733015021634591,
          -0.9426534090465928,
          0.3495407603251051,
          1.046237290545855,
          -0.9859596463402309,
          2.1084983582558596,
          -0.9317323755961524,
          0.6494024623069314,
          -0.3843287632960257,
          1.1614039215162952,
          -0.20123156557799382,
          -0.45298390054834,
          0.7347549725847721,
          -0.7677041350495847,
          0.13258824206569836,
          1.054969175247717,
          -1.3104840655184302,
          -0.8013236099028447,
          0.8811067964875391,
          1.37964961408107,
          -0.6967541155402649,
          -0.06015481378112143,
          1.6708711018109184,
          -0.8025842912977741,
          -0.015918404685731493,
          -0.027443107556971016,
          2.406932617211438,
          1.3057326517527597,
          -0.06865890639765183,
          1.1071268608316913,
          0.33981602924630167,
          -1.0872016494434344,
          -1.5039010182317643,
          -1.519624037806377,
          1.4712137408778254,
          -0.0034193275927080374,
          -0.6401644852992978,
          0.4859905760774655,
          0.0390256747991155,
          -1.941050095915409,
          -1.6177636665820099,
          0.613241988243389,
          -0.8362331163350449,
          1.6088686769777236,
          1.0424803246654821,
          0.021383677990268142,
          0.8482607537163633,
          0.2705487692995969,
          -0.29215392518076677,
          -0.10297268388786927,
          -1.1823360718306772,
          -0.291903670774597,
          -0.80294506515156,
          -0.9072759442656589,
          -0.8089516008862685,
          -0.9258452866799369,
          -0.06216798493213476,
          1.2447036743884878,
          0.04545716238838049,
          -0.5767553684691545,
          -0.757567169617877,
          1.5631791168400553,
          1.479076371008533,
          0.3313239929669739,
          -0.8932590257661409,
          -0.8233805286922103,
          1.0906334749242377,
          0.9254639718825185,
          0.3337368137528734,
          0.7499843768463412,
          0.8962171001982022,
          0.8433026224184019,
          0.041966578696571485,
          -0.3215182981515437,
          -2.126805113291232,
          -1.6303569601061727,
          -0.8656966690701975,
          -0.1959710508555525,
          -1.4209840585311801,
          -0.5464709582936679,
          -0.5121202308271431,
          -0.2238616074951767,
          0.3327302146369024,
          0.31238636848963375,
          -1.7015350452825535,
          -0.0549239733602343,
          0.2474203199269791,
          -0.36324706968849796,
          -1.0628515643718848,
          2.5078501395900497,
          -1.8677307647196009,
          0.3231424513059178
         ]
        }
       ],
       "layout": {
        "barmode": "overlay",
        "legend": {
         "bgcolor": "#F5F6F9",
         "font": {
          "color": "#4D5663"
         }
        },
        "paper_bgcolor": "#F5F6F9",
        "plot_bgcolor": "#F5F6F9",
        "template": {
         "data": {
          "bar": [
           {
            "error_x": {
             "color": "#2a3f5f"
            },
            "error_y": {
             "color": "#2a3f5f"
            },
            "marker": {
             "line": {
              "color": "#E5ECF6",
              "width": 0.5
             },
             "pattern": {
              "fillmode": "overlay",
              "size": 10,
              "solidity": 0.2
             }
            },
            "type": "bar"
           }
          ],
          "barpolar": [
           {
            "marker": {
             "line": {
              "color": "#E5ECF6",
              "width": 0.5
             },
             "pattern": {
              "fillmode": "overlay",
              "size": 10,
              "solidity": 0.2
             }
            },
            "type": "barpolar"
           }
          ],
          "carpet": [
           {
            "aaxis": {
             "endlinecolor": "#2a3f5f",
             "gridcolor": "white",
             "linecolor": "white",
             "minorgridcolor": "white",
             "startlinecolor": "#2a3f5f"
            },
            "baxis": {
             "endlinecolor": "#2a3f5f",
             "gridcolor": "white",
             "linecolor": "white",
             "minorgridcolor": "white",
             "startlinecolor": "#2a3f5f"
            },
            "type": "carpet"
           }
          ],
          "choropleth": [
           {
            "colorbar": {
             "outlinewidth": 0,
             "ticks": ""
            },
            "type": "choropleth"
           }
          ],
          "contour": [
           {
            "colorbar": {
             "outlinewidth": 0,
             "ticks": ""
            },
            "colorscale": [
             [
              0,
              "#0d0887"
             ],
             [
              0.1111111111111111,
              "#46039f"
             ],
             [
              0.2222222222222222,
              "#7201a8"
             ],
             [
              0.3333333333333333,
              "#9c179e"
             ],
             [
              0.4444444444444444,
              "#bd3786"
             ],
             [
              0.5555555555555556,
              "#d8576b"
             ],
             [
              0.6666666666666666,
              "#ed7953"
             ],
             [
              0.7777777777777778,
              "#fb9f3a"
             ],
             [
              0.8888888888888888,
              "#fdca26"
             ],
             [
              1,
              "#f0f921"
             ]
            ],
            "type": "contour"
           }
          ],
          "contourcarpet": [
           {
            "colorbar": {
             "outlinewidth": 0,
             "ticks": ""
            },
            "type": "contourcarpet"
           }
          ],
          "heatmap": [
           {
            "colorbar": {
             "outlinewidth": 0,
             "ticks": ""
            },
            "colorscale": [
             [
              0,
              "#0d0887"
             ],
             [
              0.1111111111111111,
              "#46039f"
             ],
             [
              0.2222222222222222,
              "#7201a8"
             ],
             [
              0.3333333333333333,
              "#9c179e"
             ],
             [
              0.4444444444444444,
              "#bd3786"
             ],
             [
              0.5555555555555556,
              "#d8576b"
             ],
             [
              0.6666666666666666,
              "#ed7953"
             ],
             [
              0.7777777777777778,
              "#fb9f3a"
             ],
             [
              0.8888888888888888,
              "#fdca26"
             ],
             [
              1,
              "#f0f921"
             ]
            ],
            "type": "heatmap"
           }
          ],
          "heatmapgl": [
           {
            "colorbar": {
             "outlinewidth": 0,
             "ticks": ""
            },
            "colorscale": [
             [
              0,
              "#0d0887"
             ],
             [
              0.1111111111111111,
              "#46039f"
             ],
             [
              0.2222222222222222,
              "#7201a8"
             ],
             [
              0.3333333333333333,
              "#9c179e"
             ],
             [
              0.4444444444444444,
              "#bd3786"
             ],
             [
              0.5555555555555556,
              "#d8576b"
             ],
             [
              0.6666666666666666,
              "#ed7953"
             ],
             [
              0.7777777777777778,
              "#fb9f3a"
             ],
             [
              0.8888888888888888,
              "#fdca26"
             ],
             [
              1,
              "#f0f921"
             ]
            ],
            "type": "heatmapgl"
           }
          ],
          "histogram": [
           {
            "marker": {
             "pattern": {
              "fillmode": "overlay",
              "size": 10,
              "solidity": 0.2
             }
            },
            "type": "histogram"
           }
          ],
          "histogram2d": [
           {
            "colorbar": {
             "outlinewidth": 0,
             "ticks": ""
            },
            "colorscale": [
             [
              0,
              "#0d0887"
             ],
             [
              0.1111111111111111,
              "#46039f"
             ],
             [
              0.2222222222222222,
              "#7201a8"
             ],
             [
              0.3333333333333333,
              "#9c179e"
             ],
             [
              0.4444444444444444,
              "#bd3786"
             ],
             [
              0.5555555555555556,
              "#d8576b"
             ],
             [
              0.6666666666666666,
              "#ed7953"
             ],
             [
              0.7777777777777778,
              "#fb9f3a"
             ],
             [
              0.8888888888888888,
              "#fdca26"
             ],
             [
              1,
              "#f0f921"
             ]
            ],
            "type": "histogram2d"
           }
          ],
          "histogram2dcontour": [
           {
            "colorbar": {
             "outlinewidth": 0,
             "ticks": ""
            },
            "colorscale": [
             [
              0,
              "#0d0887"
             ],
             [
              0.1111111111111111,
              "#46039f"
             ],
             [
              0.2222222222222222,
              "#7201a8"
             ],
             [
              0.3333333333333333,
              "#9c179e"
             ],
             [
              0.4444444444444444,
              "#bd3786"
             ],
             [
              0.5555555555555556,
              "#d8576b"
             ],
             [
              0.6666666666666666,
              "#ed7953"
             ],
             [
              0.7777777777777778,
              "#fb9f3a"
             ],
             [
              0.8888888888888888,
              "#fdca26"
             ],
             [
              1,
              "#f0f921"
             ]
            ],
            "type": "histogram2dcontour"
           }
          ],
          "mesh3d": [
           {
            "colorbar": {
             "outlinewidth": 0,
             "ticks": ""
            },
            "type": "mesh3d"
           }
          ],
          "parcoords": [
           {
            "line": {
             "colorbar": {
              "outlinewidth": 0,
              "ticks": ""
             }
            },
            "type": "parcoords"
           }
          ],
          "pie": [
           {
            "automargin": true,
            "type": "pie"
           }
          ],
          "scatter": [
           {
            "marker": {
             "colorbar": {
              "outlinewidth": 0,
              "ticks": ""
             }
            },
            "type": "scatter"
           }
          ],
          "scatter3d": [
           {
            "line": {
             "colorbar": {
              "outlinewidth": 0,
              "ticks": ""
             }
            },
            "marker": {
             "colorbar": {
              "outlinewidth": 0,
              "ticks": ""
             }
            },
            "type": "scatter3d"
           }
          ],
          "scattercarpet": [
           {
            "marker": {
             "colorbar": {
              "outlinewidth": 0,
              "ticks": ""
             }
            },
            "type": "scattercarpet"
           }
          ],
          "scattergeo": [
           {
            "marker": {
             "colorbar": {
              "outlinewidth": 0,
              "ticks": ""
             }
            },
            "type": "scattergeo"
           }
          ],
          "scattergl": [
           {
            "marker": {
             "colorbar": {
              "outlinewidth": 0,
              "ticks": ""
             }
            },
            "type": "scattergl"
           }
          ],
          "scattermapbox": [
           {
            "marker": {
             "colorbar": {
              "outlinewidth": 0,
              "ticks": ""
             }
            },
            "type": "scattermapbox"
           }
          ],
          "scatterpolar": [
           {
            "marker": {
             "colorbar": {
              "outlinewidth": 0,
              "ticks": ""
             }
            },
            "type": "scatterpolar"
           }
          ],
          "scatterpolargl": [
           {
            "marker": {
             "colorbar": {
              "outlinewidth": 0,
              "ticks": ""
             }
            },
            "type": "scatterpolargl"
           }
          ],
          "scatterternary": [
           {
            "marker": {
             "colorbar": {
              "outlinewidth": 0,
              "ticks": ""
             }
            },
            "type": "scatterternary"
           }
          ],
          "surface": [
           {
            "colorbar": {
             "outlinewidth": 0,
             "ticks": ""
            },
            "colorscale": [
             [
              0,
              "#0d0887"
             ],
             [
              0.1111111111111111,
              "#46039f"
             ],
             [
              0.2222222222222222,
              "#7201a8"
             ],
             [
              0.3333333333333333,
              "#9c179e"
             ],
             [
              0.4444444444444444,
              "#bd3786"
             ],
             [
              0.5555555555555556,
              "#d8576b"
             ],
             [
              0.6666666666666666,
              "#ed7953"
             ],
             [
              0.7777777777777778,
              "#fb9f3a"
             ],
             [
              0.8888888888888888,
              "#fdca26"
             ],
             [
              1,
              "#f0f921"
             ]
            ],
            "type": "surface"
           }
          ],
          "table": [
           {
            "cells": {
             "fill": {
              "color": "#EBF0F8"
             },
             "line": {
              "color": "white"
             }
            },
            "header": {
             "fill": {
              "color": "#C8D4E3"
             },
             "line": {
              "color": "white"
             }
            },
            "type": "table"
           }
          ]
         },
         "layout": {
          "annotationdefaults": {
           "arrowcolor": "#2a3f5f",
           "arrowhead": 0,
           "arrowwidth": 1
          },
          "autotypenumbers": "strict",
          "coloraxis": {
           "colorbar": {
            "outlinewidth": 0,
            "ticks": ""
           }
          },
          "colorscale": {
           "diverging": [
            [
             0,
             "#8e0152"
            ],
            [
             0.1,
             "#c51b7d"
            ],
            [
             0.2,
             "#de77ae"
            ],
            [
             0.3,
             "#f1b6da"
            ],
            [
             0.4,
             "#fde0ef"
            ],
            [
             0.5,
             "#f7f7f7"
            ],
            [
             0.6,
             "#e6f5d0"
            ],
            [
             0.7,
             "#b8e186"
            ],
            [
             0.8,
             "#7fbc41"
            ],
            [
             0.9,
             "#4d9221"
            ],
            [
             1,
             "#276419"
            ]
           ],
           "sequential": [
            [
             0,
             "#0d0887"
            ],
            [
             0.1111111111111111,
             "#46039f"
            ],
            [
             0.2222222222222222,
             "#7201a8"
            ],
            [
             0.3333333333333333,
             "#9c179e"
            ],
            [
             0.4444444444444444,
             "#bd3786"
            ],
            [
             0.5555555555555556,
             "#d8576b"
            ],
            [
             0.6666666666666666,
             "#ed7953"
            ],
            [
             0.7777777777777778,
             "#fb9f3a"
            ],
            [
             0.8888888888888888,
             "#fdca26"
            ],
            [
             1,
             "#f0f921"
            ]
           ],
           "sequentialminus": [
            [
             0,
             "#0d0887"
            ],
            [
             0.1111111111111111,
             "#46039f"
            ],
            [
             0.2222222222222222,
             "#7201a8"
            ],
            [
             0.3333333333333333,
             "#9c179e"
            ],
            [
             0.4444444444444444,
             "#bd3786"
            ],
            [
             0.5555555555555556,
             "#d8576b"
            ],
            [
             0.6666666666666666,
             "#ed7953"
            ],
            [
             0.7777777777777778,
             "#fb9f3a"
            ],
            [
             0.8888888888888888,
             "#fdca26"
            ],
            [
             1,
             "#f0f921"
            ]
           ]
          },
          "colorway": [
           "#636efa",
           "#EF553B",
           "#00cc96",
           "#ab63fa",
           "#FFA15A",
           "#19d3f3",
           "#FF6692",
           "#B6E880",
           "#FF97FF",
           "#FECB52"
          ],
          "font": {
           "color": "#2a3f5f"
          },
          "geo": {
           "bgcolor": "white",
           "lakecolor": "white",
           "landcolor": "#E5ECF6",
           "showlakes": true,
           "showland": true,
           "subunitcolor": "white"
          },
          "hoverlabel": {
           "align": "left"
          },
          "hovermode": "closest",
          "mapbox": {
           "style": "light"
          },
          "paper_bgcolor": "white",
          "plot_bgcolor": "#E5ECF6",
          "polar": {
           "angularaxis": {
            "gridcolor": "white",
            "linecolor": "white",
            "ticks": ""
           },
           "bgcolor": "#E5ECF6",
           "radialaxis": {
            "gridcolor": "white",
            "linecolor": "white",
            "ticks": ""
           }
          },
          "scene": {
           "xaxis": {
            "backgroundcolor": "#E5ECF6",
            "gridcolor": "white",
            "gridwidth": 2,
            "linecolor": "white",
            "showbackground": true,
            "ticks": "",
            "zerolinecolor": "white"
           },
           "yaxis": {
            "backgroundcolor": "#E5ECF6",
            "gridcolor": "white",
            "gridwidth": 2,
            "linecolor": "white",
            "showbackground": true,
            "ticks": "",
            "zerolinecolor": "white"
           },
           "zaxis": {
            "backgroundcolor": "#E5ECF6",
            "gridcolor": "white",
            "gridwidth": 2,
            "linecolor": "white",
            "showbackground": true,
            "ticks": "",
            "zerolinecolor": "white"
           }
          },
          "shapedefaults": {
           "line": {
            "color": "#2a3f5f"
           }
          },
          "ternary": {
           "aaxis": {
            "gridcolor": "white",
            "linecolor": "white",
            "ticks": ""
           },
           "baxis": {
            "gridcolor": "white",
            "linecolor": "white",
            "ticks": ""
           },
           "bgcolor": "#E5ECF6",
           "caxis": {
            "gridcolor": "white",
            "linecolor": "white",
            "ticks": ""
           }
          },
          "title": {
           "x": 0.05
          },
          "xaxis": {
           "automargin": true,
           "gridcolor": "white",
           "linecolor": "white",
           "ticks": "",
           "title": {
            "standoff": 15
           },
           "zerolinecolor": "white",
           "zerolinewidth": 2
          },
          "yaxis": {
           "automargin": true,
           "gridcolor": "white",
           "linecolor": "white",
           "ticks": "",
           "title": {
            "standoff": 15
           },
           "zerolinecolor": "white",
           "zerolinewidth": 2
          }
         }
        },
        "title": {
         "font": {
          "color": "#4D5663"
         }
        },
        "xaxis": {
         "gridcolor": "#E1E5ED",
         "showgrid": true,
         "tickfont": {
          "color": "#4D5663"
         },
         "title": {
          "font": {
           "color": "#4D5663"
          },
          "text": ""
         },
         "zerolinecolor": "#E1E5ED"
        },
        "yaxis": {
         "gridcolor": "#E1E5ED",
         "showgrid": true,
         "tickfont": {
          "color": "#4D5663"
         },
         "title": {
          "font": {
           "color": "#4D5663"
          },
          "text": ""
         },
         "zerolinecolor": "#E1E5ED"
        }
       }
      },
      "text/html": [
       "<div>                            <div id=\"515720b9-5544-4cab-a31f-cbcbdb2961ee\" class=\"plotly-graph-div\" style=\"height:525px; width:100%;\"></div>            <script type=\"text/javascript\">                require([\"plotly\"], function(Plotly) {                    window.PLOTLYENV=window.PLOTLYENV || {};\n",
       "                    window.PLOTLYENV.BASE_URL='https://plot.ly';                                    if (document.getElementById(\"515720b9-5544-4cab-a31f-cbcbdb2961ee\")) {                    Plotly.newPlot(                        \"515720b9-5544-4cab-a31f-cbcbdb2961ee\",                        [{\"histfunc\":\"count\",\"histnorm\":\"\",\"marker\":{\"color\":\"rgba(255, 153, 51, 1.0)\",\"line\":{\"color\":\"#4D5663\",\"width\":1.3}},\"name\":\"A\",\"nbinsx\":25,\"opacity\":0.8,\"orientation\":\"v\",\"type\":\"histogram\",\"x\":[-0.8952513651069208,-0.8433675626903279,0.5194375646796255,0.20781533281382147,-0.28787023198130957,1.6626119003563948,0.8455339666282456,-0.004764186067881709,0.4733015021634591,-0.9426534090465928,0.3495407603251051,1.046237290545855,-0.9859596463402309,2.1084983582558596,-0.9317323755961524,0.6494024623069314,-0.3843287632960257,1.1614039215162952,-0.20123156557799382,-0.45298390054834,0.7347549725847721,-0.7677041350495847,0.13258824206569836,1.054969175247717,-1.3104840655184302,-0.8013236099028447,0.8811067964875391,1.37964961408107,-0.6967541155402649,-0.06015481378112143,1.6708711018109184,-0.8025842912977741,-0.015918404685731493,-0.027443107556971016,2.406932617211438,1.3057326517527597,-0.06865890639765183,1.1071268608316913,0.33981602924630167,-1.0872016494434344,-1.5039010182317643,-1.519624037806377,1.4712137408778254,-0.0034193275927080374,-0.6401644852992978,0.4859905760774655,0.0390256747991155,-1.941050095915409,-1.6177636665820099,0.613241988243389,-0.8362331163350449,1.6088686769777236,1.0424803246654821,0.021383677990268142,0.8482607537163633,0.2705487692995969,-0.29215392518076677,-0.10297268388786927,-1.1823360718306772,-0.291903670774597,-0.80294506515156,-0.9072759442656589,-0.8089516008862685,-0.9258452866799369,-0.06216798493213476,1.2447036743884878,0.04545716238838049,-0.5767553684691545,-0.757567169617877,1.5631791168400553,1.479076371008533,0.3313239929669739,-0.8932590257661409,-0.8233805286922103,1.0906334749242377,0.9254639718825185,0.3337368137528734,0.7499843768463412,0.8962171001982022,0.8433026224184019,0.041966578696571485,-0.3215182981515437,-2.126805113291232,-1.6303569601061727,-0.8656966690701975,-0.1959710508555525,-1.4209840585311801,-0.5464709582936679,-0.5121202308271431,-0.2238616074951767,0.3327302146369024,0.31238636848963375,-1.7015350452825535,-0.0549239733602343,0.2474203199269791,-0.36324706968849796,-1.0628515643718848,2.5078501395900497,-1.8677307647196009,0.3231424513059178]}],                        {\"barmode\":\"overlay\",\"legend\":{\"bgcolor\":\"#F5F6F9\",\"font\":{\"color\":\"#4D5663\"}},\"paper_bgcolor\":\"#F5F6F9\",\"plot_bgcolor\":\"#F5F6F9\",\"template\":{\"data\":{\"bar\":[{\"error_x\":{\"color\":\"#2a3f5f\"},\"error_y\":{\"color\":\"#2a3f5f\"},\"marker\":{\"line\":{\"color\":\"#E5ECF6\",\"width\":0.5},\"pattern\":{\"fillmode\":\"overlay\",\"size\":10,\"solidity\":0.2}},\"type\":\"bar\"}],\"barpolar\":[{\"marker\":{\"line\":{\"color\":\"#E5ECF6\",\"width\":0.5},\"pattern\":{\"fillmode\":\"overlay\",\"size\":10,\"solidity\":0.2}},\"type\":\"barpolar\"}],\"carpet\":[{\"aaxis\":{\"endlinecolor\":\"#2a3f5f\",\"gridcolor\":\"white\",\"linecolor\":\"white\",\"minorgridcolor\":\"white\",\"startlinecolor\":\"#2a3f5f\"},\"baxis\":{\"endlinecolor\":\"#2a3f5f\",\"gridcolor\":\"white\",\"linecolor\":\"white\",\"minorgridcolor\":\"white\",\"startlinecolor\":\"#2a3f5f\"},\"type\":\"carpet\"}],\"choropleth\":[{\"colorbar\":{\"outlinewidth\":0,\"ticks\":\"\"},\"type\":\"choropleth\"}],\"contour\":[{\"colorbar\":{\"outlinewidth\":0,\"ticks\":\"\"},\"colorscale\":[[0.0,\"#0d0887\"],[0.1111111111111111,\"#46039f\"],[0.2222222222222222,\"#7201a8\"],[0.3333333333333333,\"#9c179e\"],[0.4444444444444444,\"#bd3786\"],[0.5555555555555556,\"#d8576b\"],[0.6666666666666666,\"#ed7953\"],[0.7777777777777778,\"#fb9f3a\"],[0.8888888888888888,\"#fdca26\"],[1.0,\"#f0f921\"]],\"type\":\"contour\"}],\"contourcarpet\":[{\"colorbar\":{\"outlinewidth\":0,\"ticks\":\"\"},\"type\":\"contourcarpet\"}],\"heatmap\":[{\"colorbar\":{\"outlinewidth\":0,\"ticks\":\"\"},\"colorscale\":[[0.0,\"#0d0887\"],[0.1111111111111111,\"#46039f\"],[0.2222222222222222,\"#7201a8\"],[0.3333333333333333,\"#9c179e\"],[0.4444444444444444,\"#bd3786\"],[0.5555555555555556,\"#d8576b\"],[0.6666666666666666,\"#ed7953\"],[0.7777777777777778,\"#fb9f3a\"],[0.8888888888888888,\"#fdca26\"],[1.0,\"#f0f921\"]],\"type\":\"heatmap\"}],\"heatmapgl\":[{\"colorbar\":{\"outlinewidth\":0,\"ticks\":\"\"},\"colorscale\":[[0.0,\"#0d0887\"],[0.1111111111111111,\"#46039f\"],[0.2222222222222222,\"#7201a8\"],[0.3333333333333333,\"#9c179e\"],[0.4444444444444444,\"#bd3786\"],[0.5555555555555556,\"#d8576b\"],[0.6666666666666666,\"#ed7953\"],[0.7777777777777778,\"#fb9f3a\"],[0.8888888888888888,\"#fdca26\"],[1.0,\"#f0f921\"]],\"type\":\"heatmapgl\"}],\"histogram\":[{\"marker\":{\"pattern\":{\"fillmode\":\"overlay\",\"size\":10,\"solidity\":0.2}},\"type\":\"histogram\"}],\"histogram2d\":[{\"colorbar\":{\"outlinewidth\":0,\"ticks\":\"\"},\"colorscale\":[[0.0,\"#0d0887\"],[0.1111111111111111,\"#46039f\"],[0.2222222222222222,\"#7201a8\"],[0.3333333333333333,\"#9c179e\"],[0.4444444444444444,\"#bd3786\"],[0.5555555555555556,\"#d8576b\"],[0.6666666666666666,\"#ed7953\"],[0.7777777777777778,\"#fb9f3a\"],[0.8888888888888888,\"#fdca26\"],[1.0,\"#f0f921\"]],\"type\":\"histogram2d\"}],\"histogram2dcontour\":[{\"colorbar\":{\"outlinewidth\":0,\"ticks\":\"\"},\"colorscale\":[[0.0,\"#0d0887\"],[0.1111111111111111,\"#46039f\"],[0.2222222222222222,\"#7201a8\"],[0.3333333333333333,\"#9c179e\"],[0.4444444444444444,\"#bd3786\"],[0.5555555555555556,\"#d8576b\"],[0.6666666666666666,\"#ed7953\"],[0.7777777777777778,\"#fb9f3a\"],[0.8888888888888888,\"#fdca26\"],[1.0,\"#f0f921\"]],\"type\":\"histogram2dcontour\"}],\"mesh3d\":[{\"colorbar\":{\"outlinewidth\":0,\"ticks\":\"\"},\"type\":\"mesh3d\"}],\"parcoords\":[{\"line\":{\"colorbar\":{\"outlinewidth\":0,\"ticks\":\"\"}},\"type\":\"parcoords\"}],\"pie\":[{\"automargin\":true,\"type\":\"pie\"}],\"scatter\":[{\"marker\":{\"colorbar\":{\"outlinewidth\":0,\"ticks\":\"\"}},\"type\":\"scatter\"}],\"scatter3d\":[{\"line\":{\"colorbar\":{\"outlinewidth\":0,\"ticks\":\"\"}},\"marker\":{\"colorbar\":{\"outlinewidth\":0,\"ticks\":\"\"}},\"type\":\"scatter3d\"}],\"scattercarpet\":[{\"marker\":{\"colorbar\":{\"outlinewidth\":0,\"ticks\":\"\"}},\"type\":\"scattercarpet\"}],\"scattergeo\":[{\"marker\":{\"colorbar\":{\"outlinewidth\":0,\"ticks\":\"\"}},\"type\":\"scattergeo\"}],\"scattergl\":[{\"marker\":{\"colorbar\":{\"outlinewidth\":0,\"ticks\":\"\"}},\"type\":\"scattergl\"}],\"scattermapbox\":[{\"marker\":{\"colorbar\":{\"outlinewidth\":0,\"ticks\":\"\"}},\"type\":\"scattermapbox\"}],\"scatterpolar\":[{\"marker\":{\"colorbar\":{\"outlinewidth\":0,\"ticks\":\"\"}},\"type\":\"scatterpolar\"}],\"scatterpolargl\":[{\"marker\":{\"colorbar\":{\"outlinewidth\":0,\"ticks\":\"\"}},\"type\":\"scatterpolargl\"}],\"scatterternary\":[{\"marker\":{\"colorbar\":{\"outlinewidth\":0,\"ticks\":\"\"}},\"type\":\"scatterternary\"}],\"surface\":[{\"colorbar\":{\"outlinewidth\":0,\"ticks\":\"\"},\"colorscale\":[[0.0,\"#0d0887\"],[0.1111111111111111,\"#46039f\"],[0.2222222222222222,\"#7201a8\"],[0.3333333333333333,\"#9c179e\"],[0.4444444444444444,\"#bd3786\"],[0.5555555555555556,\"#d8576b\"],[0.6666666666666666,\"#ed7953\"],[0.7777777777777778,\"#fb9f3a\"],[0.8888888888888888,\"#fdca26\"],[1.0,\"#f0f921\"]],\"type\":\"surface\"}],\"table\":[{\"cells\":{\"fill\":{\"color\":\"#EBF0F8\"},\"line\":{\"color\":\"white\"}},\"header\":{\"fill\":{\"color\":\"#C8D4E3\"},\"line\":{\"color\":\"white\"}},\"type\":\"table\"}]},\"layout\":{\"annotationdefaults\":{\"arrowcolor\":\"#2a3f5f\",\"arrowhead\":0,\"arrowwidth\":1},\"autotypenumbers\":\"strict\",\"coloraxis\":{\"colorbar\":{\"outlinewidth\":0,\"ticks\":\"\"}},\"colorscale\":{\"diverging\":[[0,\"#8e0152\"],[0.1,\"#c51b7d\"],[0.2,\"#de77ae\"],[0.3,\"#f1b6da\"],[0.4,\"#fde0ef\"],[0.5,\"#f7f7f7\"],[0.6,\"#e6f5d0\"],[0.7,\"#b8e186\"],[0.8,\"#7fbc41\"],[0.9,\"#4d9221\"],[1,\"#276419\"]],\"sequential\":[[0.0,\"#0d0887\"],[0.1111111111111111,\"#46039f\"],[0.2222222222222222,\"#7201a8\"],[0.3333333333333333,\"#9c179e\"],[0.4444444444444444,\"#bd3786\"],[0.5555555555555556,\"#d8576b\"],[0.6666666666666666,\"#ed7953\"],[0.7777777777777778,\"#fb9f3a\"],[0.8888888888888888,\"#fdca26\"],[1.0,\"#f0f921\"]],\"sequentialminus\":[[0.0,\"#0d0887\"],[0.1111111111111111,\"#46039f\"],[0.2222222222222222,\"#7201a8\"],[0.3333333333333333,\"#9c179e\"],[0.4444444444444444,\"#bd3786\"],[0.5555555555555556,\"#d8576b\"],[0.6666666666666666,\"#ed7953\"],[0.7777777777777778,\"#fb9f3a\"],[0.8888888888888888,\"#fdca26\"],[1.0,\"#f0f921\"]]},\"colorway\":[\"#636efa\",\"#EF553B\",\"#00cc96\",\"#ab63fa\",\"#FFA15A\",\"#19d3f3\",\"#FF6692\",\"#B6E880\",\"#FF97FF\",\"#FECB52\"],\"font\":{\"color\":\"#2a3f5f\"},\"geo\":{\"bgcolor\":\"white\",\"lakecolor\":\"white\",\"landcolor\":\"#E5ECF6\",\"showlakes\":true,\"showland\":true,\"subunitcolor\":\"white\"},\"hoverlabel\":{\"align\":\"left\"},\"hovermode\":\"closest\",\"mapbox\":{\"style\":\"light\"},\"paper_bgcolor\":\"white\",\"plot_bgcolor\":\"#E5ECF6\",\"polar\":{\"angularaxis\":{\"gridcolor\":\"white\",\"linecolor\":\"white\",\"ticks\":\"\"},\"bgcolor\":\"#E5ECF6\",\"radialaxis\":{\"gridcolor\":\"white\",\"linecolor\":\"white\",\"ticks\":\"\"}},\"scene\":{\"xaxis\":{\"backgroundcolor\":\"#E5ECF6\",\"gridcolor\":\"white\",\"gridwidth\":2,\"linecolor\":\"white\",\"showbackground\":true,\"ticks\":\"\",\"zerolinecolor\":\"white\"},\"yaxis\":{\"backgroundcolor\":\"#E5ECF6\",\"gridcolor\":\"white\",\"gridwidth\":2,\"linecolor\":\"white\",\"showbackground\":true,\"ticks\":\"\",\"zerolinecolor\":\"white\"},\"zaxis\":{\"backgroundcolor\":\"#E5ECF6\",\"gridcolor\":\"white\",\"gridwidth\":2,\"linecolor\":\"white\",\"showbackground\":true,\"ticks\":\"\",\"zerolinecolor\":\"white\"}},\"shapedefaults\":{\"line\":{\"color\":\"#2a3f5f\"}},\"ternary\":{\"aaxis\":{\"gridcolor\":\"white\",\"linecolor\":\"white\",\"ticks\":\"\"},\"baxis\":{\"gridcolor\":\"white\",\"linecolor\":\"white\",\"ticks\":\"\"},\"bgcolor\":\"#E5ECF6\",\"caxis\":{\"gridcolor\":\"white\",\"linecolor\":\"white\",\"ticks\":\"\"}},\"title\":{\"x\":0.05},\"xaxis\":{\"automargin\":true,\"gridcolor\":\"white\",\"linecolor\":\"white\",\"ticks\":\"\",\"title\":{\"standoff\":15},\"zerolinecolor\":\"white\",\"zerolinewidth\":2},\"yaxis\":{\"automargin\":true,\"gridcolor\":\"white\",\"linecolor\":\"white\",\"ticks\":\"\",\"title\":{\"standoff\":15},\"zerolinecolor\":\"white\",\"zerolinewidth\":2}}},\"title\":{\"font\":{\"color\":\"#4D5663\"}},\"xaxis\":{\"gridcolor\":\"#E1E5ED\",\"showgrid\":true,\"tickfont\":{\"color\":\"#4D5663\"},\"title\":{\"font\":{\"color\":\"#4D5663\"},\"text\":\"\"},\"zerolinecolor\":\"#E1E5ED\"},\"yaxis\":{\"gridcolor\":\"#E1E5ED\",\"showgrid\":true,\"tickfont\":{\"color\":\"#4D5663\"},\"title\":{\"font\":{\"color\":\"#4D5663\"},\"text\":\"\"},\"zerolinecolor\":\"#E1E5ED\"}},                        {\"showLink\": true, \"linkText\": \"Export to plot.ly\", \"plotlyServerURL\": \"https://plot.ly\", \"responsive\": true}                    ).then(function(){\n",
       "                            \n",
       "var gd = document.getElementById('515720b9-5544-4cab-a31f-cbcbdb2961ee');\n",
       "var x = new MutationObserver(function (mutations, observer) {{\n",
       "        var display = window.getComputedStyle(gd).display;\n",
       "        if (!display || display === 'none') {{\n",
       "            console.log([gd, 'removed!']);\n",
       "            Plotly.purge(gd);\n",
       "            observer.disconnect();\n",
       "        }}\n",
       "}});\n",
       "\n",
       "// Listen for the removal of the full notebook cells\n",
       "var notebookContainer = gd.closest('#notebook-container');\n",
       "if (notebookContainer) {{\n",
       "    x.observe(notebookContainer, {childList: true});\n",
       "}}\n",
       "\n",
       "// Listen for the clearing of the current output cell\n",
       "var outputEl = gd.closest('.output');\n",
       "if (outputEl) {{\n",
       "    x.observe(outputEl, {childList: true});\n",
       "}}\n",
       "\n",
       "                        })                };                });            </script>        </div>"
      ]
     },
     "metadata": {},
     "output_type": "display_data"
    }
   ],
   "source": [
    "df['A'].iplot(kind='hist',bins=25)"
   ]
  },
  {
   "cell_type": "code",
   "execution_count": 30,
   "metadata": {},
   "outputs": [
    {
     "data": {
      "application/vnd.plotly.v1+json": {
       "config": {
        "linkText": "Export to plot.ly",
        "plotlyServerURL": "https://plot.ly",
        "showLink": true
       },
       "data": [
        {
         "marker": {
          "color": [
           "rgb(255, 153, 51)",
           "rgb(55, 128, 191)",
           "rgb(50, 171, 96)",
           "rgb(128, 0, 128)",
           "rgb(219, 64, 82)",
           "rgb(0, 128, 128)",
           "rgb(255, 255, 51)",
           "rgb(128, 128, 0)",
           "rgb(251, 128, 114)",
           "rgb(128, 177, 211)"
          ],
          "line": {
           "width": 1.3
          },
          "size": [
           64,
           66,
           52,
           61,
           80,
           12,
           61,
           53,
           92,
           66,
           70,
           112,
           60,
           56,
           44,
           68,
           39,
           71,
           27,
           46,
           60,
           45,
           80,
           64,
           44,
           54,
           66,
           82,
           71,
           104,
           90,
           67,
           86,
           44,
           48,
           59,
           87,
           78,
           71,
           66,
           57,
           81,
           32,
           54,
           48,
           58,
           36,
           58,
           56,
           98,
           51,
           93,
           53,
           38,
           46,
           12,
           75,
           57,
           63,
           70,
           58,
           32,
           63,
           82,
           33,
           63,
           65,
           72,
           85,
           76,
           96,
           71,
           75,
           38,
           92,
           84,
           14,
           53,
           48,
           80,
           52,
           100,
           74,
           80,
           74,
           60,
           88,
           34,
           26,
           42,
           68,
           91,
           51,
           46,
           84,
           34,
           56,
           51,
           47,
           102
          ],
          "symbol": "circle"
         },
         "mode": "markers",
         "text": "",
         "type": "scatter",
         "x": [
          -0.8952513651069208,
          -0.8433675626903279,
          0.5194375646796255,
          0.20781533281382147,
          -0.28787023198130957,
          1.6626119003563948,
          0.8455339666282456,
          -0.004764186067881709,
          0.4733015021634591,
          -0.9426534090465928,
          0.3495407603251051,
          1.046237290545855,
          -0.9859596463402309,
          2.1084983582558596,
          -0.9317323755961524,
          0.6494024623069314,
          -0.3843287632960257,
          1.1614039215162952,
          -0.20123156557799382,
          -0.45298390054834,
          0.7347549725847721,
          -0.7677041350495847,
          0.13258824206569836,
          1.054969175247717,
          -1.3104840655184302,
          -0.8013236099028447,
          0.8811067964875391,
          1.37964961408107,
          -0.6967541155402649,
          -0.06015481378112143,
          1.6708711018109184,
          -0.8025842912977741,
          -0.015918404685731493,
          -0.027443107556971016,
          2.406932617211438,
          1.3057326517527597,
          -0.06865890639765183,
          1.1071268608316913,
          0.33981602924630167,
          -1.0872016494434344,
          -1.5039010182317643,
          -1.519624037806377,
          1.4712137408778254,
          -0.0034193275927080374,
          -0.6401644852992978,
          0.4859905760774655,
          0.0390256747991155,
          -1.941050095915409,
          -1.6177636665820099,
          0.613241988243389,
          -0.8362331163350449,
          1.6088686769777236,
          1.0424803246654821,
          0.021383677990268142,
          0.8482607537163633,
          0.2705487692995969,
          -0.29215392518076677,
          -0.10297268388786927,
          -1.1823360718306772,
          -0.291903670774597,
          -0.80294506515156,
          -0.9072759442656589,
          -0.8089516008862685,
          -0.9258452866799369,
          -0.06216798493213476,
          1.2447036743884878,
          0.04545716238838049,
          -0.5767553684691545,
          -0.757567169617877,
          1.5631791168400553,
          1.479076371008533,
          0.3313239929669739,
          -0.8932590257661409,
          -0.8233805286922103,
          1.0906334749242377,
          0.9254639718825185,
          0.3337368137528734,
          0.7499843768463412,
          0.8962171001982022,
          0.8433026224184019,
          0.041966578696571485,
          -0.3215182981515437,
          -2.126805113291232,
          -1.6303569601061727,
          -0.8656966690701975,
          -0.1959710508555525,
          -1.4209840585311801,
          -0.5464709582936679,
          -0.5121202308271431,
          -0.2238616074951767,
          0.3327302146369024,
          0.31238636848963375,
          -1.7015350452825535,
          -0.0549239733602343,
          0.2474203199269791,
          -0.36324706968849796,
          -1.0628515643718848,
          2.5078501395900497,
          -1.8677307647196009,
          0.3231424513059178
         ],
         "y": [
          -1.1173847502936025,
          1.746739718699284,
          0.14685877092398286,
          -0.46500629752162825,
          0.4655854906663578,
          -0.06079797292919306,
          -0.9935139192431094,
          -0.9840906486582907,
          0.3858807133247504,
          -0.05165981535030882,
          -0.28153938365960823,
          1.0444208610245398,
          2.9552086536453,
          -0.6360228636743235,
          -0.7750068348042938,
          0.3759362444110491,
          -1.0465943179905126,
          0.5207368215614654,
          -1.2645230056565269,
          -1.6672266527270678,
          0.8136435929779331,
          -0.5161670126408316,
          0.8295781733415212,
          -0.9370552324792465,
          -0.9434636737018017,
          -0.35376129291561254,
          0.1131341527958107,
          -0.7791813809558733,
          -1.5198565256723666,
          0.08475947400103076,
          0.5503775638643653,
          0.3864508203743008,
          1.24508676785871,
          -0.5944516877815453,
          -1.147388038671117,
          1.6745629245114566,
          -0.35706174852272393,
          0.09238182014036393,
          0.45219988102119246,
          -0.9982111420135565,
          -2.364337501067881,
          -1.5689780423807467,
          -0.6195922861260792,
          0.1332476222569659,
          0.7383518851748205,
          0.8093449800294485,
          0.7730083525819172,
          1.4058264441998591,
          1.6662888676900314,
          1.2187622943223144,
          -0.3569510110710778,
          0.789056791494699,
          -0.8914602748284073,
          1.09081664635188,
          -1.4903431943146759,
          -1.4169926866780527,
          0.8187783046002451,
          -1.2840812231710845,
          -0.7474812226213581,
          -0.18246447267077032,
          -1.7170896576775119,
          1.4251919420917685,
          -0.06684710644568471,
          2.248776203702825,
          -1.4497720828871339,
          0.33515054683217393,
          0.2572901158489185,
          -1.8474817915070532,
          0.07171750340675725,
          -0.33435320566254173,
          0.10383275376154216,
          -0.6284608927287233,
          0.866890297412042,
          -1.2024915815630428,
          0.1822133800005098,
          1.129717939403387,
          0.48778847655426805,
          -0.81404660894497,
          -2.4967023192028366,
          -0.15430570948289024,
          1.1629261282568337,
          0.07178192985158226,
          -2.499979619158677,
          -1.0099283783597963,
          -0.20866740683546953,
          -1.2713725553000081,
          -1.5004531175164042,
          0.9280389877106168,
          -1.5295643193552795,
          1.3793034095187395,
          0.24665735973714437,
          0.02648352346857129,
          -0.3723716925856273,
          1.7407167389351086,
          -0.2904664042394969,
          0.8703273669778087,
          1.8871063314463523,
          -0.15925783536561067,
          -0.01232500299030156,
          1.1049302887625263
         ]
        }
       ],
       "layout": {
        "legend": {
         "bgcolor": "#F5F6F9",
         "font": {
          "color": "#4D5663"
         }
        },
        "paper_bgcolor": "#F5F6F9",
        "plot_bgcolor": "#F5F6F9",
        "template": {
         "data": {
          "bar": [
           {
            "error_x": {
             "color": "#2a3f5f"
            },
            "error_y": {
             "color": "#2a3f5f"
            },
            "marker": {
             "line": {
              "color": "#E5ECF6",
              "width": 0.5
             },
             "pattern": {
              "fillmode": "overlay",
              "size": 10,
              "solidity": 0.2
             }
            },
            "type": "bar"
           }
          ],
          "barpolar": [
           {
            "marker": {
             "line": {
              "color": "#E5ECF6",
              "width": 0.5
             },
             "pattern": {
              "fillmode": "overlay",
              "size": 10,
              "solidity": 0.2
             }
            },
            "type": "barpolar"
           }
          ],
          "carpet": [
           {
            "aaxis": {
             "endlinecolor": "#2a3f5f",
             "gridcolor": "white",
             "linecolor": "white",
             "minorgridcolor": "white",
             "startlinecolor": "#2a3f5f"
            },
            "baxis": {
             "endlinecolor": "#2a3f5f",
             "gridcolor": "white",
             "linecolor": "white",
             "minorgridcolor": "white",
             "startlinecolor": "#2a3f5f"
            },
            "type": "carpet"
           }
          ],
          "choropleth": [
           {
            "colorbar": {
             "outlinewidth": 0,
             "ticks": ""
            },
            "type": "choropleth"
           }
          ],
          "contour": [
           {
            "colorbar": {
             "outlinewidth": 0,
             "ticks": ""
            },
            "colorscale": [
             [
              0,
              "#0d0887"
             ],
             [
              0.1111111111111111,
              "#46039f"
             ],
             [
              0.2222222222222222,
              "#7201a8"
             ],
             [
              0.3333333333333333,
              "#9c179e"
             ],
             [
              0.4444444444444444,
              "#bd3786"
             ],
             [
              0.5555555555555556,
              "#d8576b"
             ],
             [
              0.6666666666666666,
              "#ed7953"
             ],
             [
              0.7777777777777778,
              "#fb9f3a"
             ],
             [
              0.8888888888888888,
              "#fdca26"
             ],
             [
              1,
              "#f0f921"
             ]
            ],
            "type": "contour"
           }
          ],
          "contourcarpet": [
           {
            "colorbar": {
             "outlinewidth": 0,
             "ticks": ""
            },
            "type": "contourcarpet"
           }
          ],
          "heatmap": [
           {
            "colorbar": {
             "outlinewidth": 0,
             "ticks": ""
            },
            "colorscale": [
             [
              0,
              "#0d0887"
             ],
             [
              0.1111111111111111,
              "#46039f"
             ],
             [
              0.2222222222222222,
              "#7201a8"
             ],
             [
              0.3333333333333333,
              "#9c179e"
             ],
             [
              0.4444444444444444,
              "#bd3786"
             ],
             [
              0.5555555555555556,
              "#d8576b"
             ],
             [
              0.6666666666666666,
              "#ed7953"
             ],
             [
              0.7777777777777778,
              "#fb9f3a"
             ],
             [
              0.8888888888888888,
              "#fdca26"
             ],
             [
              1,
              "#f0f921"
             ]
            ],
            "type": "heatmap"
           }
          ],
          "heatmapgl": [
           {
            "colorbar": {
             "outlinewidth": 0,
             "ticks": ""
            },
            "colorscale": [
             [
              0,
              "#0d0887"
             ],
             [
              0.1111111111111111,
              "#46039f"
             ],
             [
              0.2222222222222222,
              "#7201a8"
             ],
             [
              0.3333333333333333,
              "#9c179e"
             ],
             [
              0.4444444444444444,
              "#bd3786"
             ],
             [
              0.5555555555555556,
              "#d8576b"
             ],
             [
              0.6666666666666666,
              "#ed7953"
             ],
             [
              0.7777777777777778,
              "#fb9f3a"
             ],
             [
              0.8888888888888888,
              "#fdca26"
             ],
             [
              1,
              "#f0f921"
             ]
            ],
            "type": "heatmapgl"
           }
          ],
          "histogram": [
           {
            "marker": {
             "pattern": {
              "fillmode": "overlay",
              "size": 10,
              "solidity": 0.2
             }
            },
            "type": "histogram"
           }
          ],
          "histogram2d": [
           {
            "colorbar": {
             "outlinewidth": 0,
             "ticks": ""
            },
            "colorscale": [
             [
              0,
              "#0d0887"
             ],
             [
              0.1111111111111111,
              "#46039f"
             ],
             [
              0.2222222222222222,
              "#7201a8"
             ],
             [
              0.3333333333333333,
              "#9c179e"
             ],
             [
              0.4444444444444444,
              "#bd3786"
             ],
             [
              0.5555555555555556,
              "#d8576b"
             ],
             [
              0.6666666666666666,
              "#ed7953"
             ],
             [
              0.7777777777777778,
              "#fb9f3a"
             ],
             [
              0.8888888888888888,
              "#fdca26"
             ],
             [
              1,
              "#f0f921"
             ]
            ],
            "type": "histogram2d"
           }
          ],
          "histogram2dcontour": [
           {
            "colorbar": {
             "outlinewidth": 0,
             "ticks": ""
            },
            "colorscale": [
             [
              0,
              "#0d0887"
             ],
             [
              0.1111111111111111,
              "#46039f"
             ],
             [
              0.2222222222222222,
              "#7201a8"
             ],
             [
              0.3333333333333333,
              "#9c179e"
             ],
             [
              0.4444444444444444,
              "#bd3786"
             ],
             [
              0.5555555555555556,
              "#d8576b"
             ],
             [
              0.6666666666666666,
              "#ed7953"
             ],
             [
              0.7777777777777778,
              "#fb9f3a"
             ],
             [
              0.8888888888888888,
              "#fdca26"
             ],
             [
              1,
              "#f0f921"
             ]
            ],
            "type": "histogram2dcontour"
           }
          ],
          "mesh3d": [
           {
            "colorbar": {
             "outlinewidth": 0,
             "ticks": ""
            },
            "type": "mesh3d"
           }
          ],
          "parcoords": [
           {
            "line": {
             "colorbar": {
              "outlinewidth": 0,
              "ticks": ""
             }
            },
            "type": "parcoords"
           }
          ],
          "pie": [
           {
            "automargin": true,
            "type": "pie"
           }
          ],
          "scatter": [
           {
            "marker": {
             "colorbar": {
              "outlinewidth": 0,
              "ticks": ""
             }
            },
            "type": "scatter"
           }
          ],
          "scatter3d": [
           {
            "line": {
             "colorbar": {
              "outlinewidth": 0,
              "ticks": ""
             }
            },
            "marker": {
             "colorbar": {
              "outlinewidth": 0,
              "ticks": ""
             }
            },
            "type": "scatter3d"
           }
          ],
          "scattercarpet": [
           {
            "marker": {
             "colorbar": {
              "outlinewidth": 0,
              "ticks": ""
             }
            },
            "type": "scattercarpet"
           }
          ],
          "scattergeo": [
           {
            "marker": {
             "colorbar": {
              "outlinewidth": 0,
              "ticks": ""
             }
            },
            "type": "scattergeo"
           }
          ],
          "scattergl": [
           {
            "marker": {
             "colorbar": {
              "outlinewidth": 0,
              "ticks": ""
             }
            },
            "type": "scattergl"
           }
          ],
          "scattermapbox": [
           {
            "marker": {
             "colorbar": {
              "outlinewidth": 0,
              "ticks": ""
             }
            },
            "type": "scattermapbox"
           }
          ],
          "scatterpolar": [
           {
            "marker": {
             "colorbar": {
              "outlinewidth": 0,
              "ticks": ""
             }
            },
            "type": "scatterpolar"
           }
          ],
          "scatterpolargl": [
           {
            "marker": {
             "colorbar": {
              "outlinewidth": 0,
              "ticks": ""
             }
            },
            "type": "scatterpolargl"
           }
          ],
          "scatterternary": [
           {
            "marker": {
             "colorbar": {
              "outlinewidth": 0,
              "ticks": ""
             }
            },
            "type": "scatterternary"
           }
          ],
          "surface": [
           {
            "colorbar": {
             "outlinewidth": 0,
             "ticks": ""
            },
            "colorscale": [
             [
              0,
              "#0d0887"
             ],
             [
              0.1111111111111111,
              "#46039f"
             ],
             [
              0.2222222222222222,
              "#7201a8"
             ],
             [
              0.3333333333333333,
              "#9c179e"
             ],
             [
              0.4444444444444444,
              "#bd3786"
             ],
             [
              0.5555555555555556,
              "#d8576b"
             ],
             [
              0.6666666666666666,
              "#ed7953"
             ],
             [
              0.7777777777777778,
              "#fb9f3a"
             ],
             [
              0.8888888888888888,
              "#fdca26"
             ],
             [
              1,
              "#f0f921"
             ]
            ],
            "type": "surface"
           }
          ],
          "table": [
           {
            "cells": {
             "fill": {
              "color": "#EBF0F8"
             },
             "line": {
              "color": "white"
             }
            },
            "header": {
             "fill": {
              "color": "#C8D4E3"
             },
             "line": {
              "color": "white"
             }
            },
            "type": "table"
           }
          ]
         },
         "layout": {
          "annotationdefaults": {
           "arrowcolor": "#2a3f5f",
           "arrowhead": 0,
           "arrowwidth": 1
          },
          "autotypenumbers": "strict",
          "coloraxis": {
           "colorbar": {
            "outlinewidth": 0,
            "ticks": ""
           }
          },
          "colorscale": {
           "diverging": [
            [
             0,
             "#8e0152"
            ],
            [
             0.1,
             "#c51b7d"
            ],
            [
             0.2,
             "#de77ae"
            ],
            [
             0.3,
             "#f1b6da"
            ],
            [
             0.4,
             "#fde0ef"
            ],
            [
             0.5,
             "#f7f7f7"
            ],
            [
             0.6,
             "#e6f5d0"
            ],
            [
             0.7,
             "#b8e186"
            ],
            [
             0.8,
             "#7fbc41"
            ],
            [
             0.9,
             "#4d9221"
            ],
            [
             1,
             "#276419"
            ]
           ],
           "sequential": [
            [
             0,
             "#0d0887"
            ],
            [
             0.1111111111111111,
             "#46039f"
            ],
            [
             0.2222222222222222,
             "#7201a8"
            ],
            [
             0.3333333333333333,
             "#9c179e"
            ],
            [
             0.4444444444444444,
             "#bd3786"
            ],
            [
             0.5555555555555556,
             "#d8576b"
            ],
            [
             0.6666666666666666,
             "#ed7953"
            ],
            [
             0.7777777777777778,
             "#fb9f3a"
            ],
            [
             0.8888888888888888,
             "#fdca26"
            ],
            [
             1,
             "#f0f921"
            ]
           ],
           "sequentialminus": [
            [
             0,
             "#0d0887"
            ],
            [
             0.1111111111111111,
             "#46039f"
            ],
            [
             0.2222222222222222,
             "#7201a8"
            ],
            [
             0.3333333333333333,
             "#9c179e"
            ],
            [
             0.4444444444444444,
             "#bd3786"
            ],
            [
             0.5555555555555556,
             "#d8576b"
            ],
            [
             0.6666666666666666,
             "#ed7953"
            ],
            [
             0.7777777777777778,
             "#fb9f3a"
            ],
            [
             0.8888888888888888,
             "#fdca26"
            ],
            [
             1,
             "#f0f921"
            ]
           ]
          },
          "colorway": [
           "#636efa",
           "#EF553B",
           "#00cc96",
           "#ab63fa",
           "#FFA15A",
           "#19d3f3",
           "#FF6692",
           "#B6E880",
           "#FF97FF",
           "#FECB52"
          ],
          "font": {
           "color": "#2a3f5f"
          },
          "geo": {
           "bgcolor": "white",
           "lakecolor": "white",
           "landcolor": "#E5ECF6",
           "showlakes": true,
           "showland": true,
           "subunitcolor": "white"
          },
          "hoverlabel": {
           "align": "left"
          },
          "hovermode": "closest",
          "mapbox": {
           "style": "light"
          },
          "paper_bgcolor": "white",
          "plot_bgcolor": "#E5ECF6",
          "polar": {
           "angularaxis": {
            "gridcolor": "white",
            "linecolor": "white",
            "ticks": ""
           },
           "bgcolor": "#E5ECF6",
           "radialaxis": {
            "gridcolor": "white",
            "linecolor": "white",
            "ticks": ""
           }
          },
          "scene": {
           "xaxis": {
            "backgroundcolor": "#E5ECF6",
            "gridcolor": "white",
            "gridwidth": 2,
            "linecolor": "white",
            "showbackground": true,
            "ticks": "",
            "zerolinecolor": "white"
           },
           "yaxis": {
            "backgroundcolor": "#E5ECF6",
            "gridcolor": "white",
            "gridwidth": 2,
            "linecolor": "white",
            "showbackground": true,
            "ticks": "",
            "zerolinecolor": "white"
           },
           "zaxis": {
            "backgroundcolor": "#E5ECF6",
            "gridcolor": "white",
            "gridwidth": 2,
            "linecolor": "white",
            "showbackground": true,
            "ticks": "",
            "zerolinecolor": "white"
           }
          },
          "shapedefaults": {
           "line": {
            "color": "#2a3f5f"
           }
          },
          "ternary": {
           "aaxis": {
            "gridcolor": "white",
            "linecolor": "white",
            "ticks": ""
           },
           "baxis": {
            "gridcolor": "white",
            "linecolor": "white",
            "ticks": ""
           },
           "bgcolor": "#E5ECF6",
           "caxis": {
            "gridcolor": "white",
            "linecolor": "white",
            "ticks": ""
           }
          },
          "title": {
           "x": 0.05
          },
          "xaxis": {
           "automargin": true,
           "gridcolor": "white",
           "linecolor": "white",
           "ticks": "",
           "title": {
            "standoff": 15
           },
           "zerolinecolor": "white",
           "zerolinewidth": 2
          },
          "yaxis": {
           "automargin": true,
           "gridcolor": "white",
           "linecolor": "white",
           "ticks": "",
           "title": {
            "standoff": 15
           },
           "zerolinecolor": "white",
           "zerolinewidth": 2
          }
         }
        },
        "title": {
         "font": {
          "color": "#4D5663"
         }
        },
        "xaxis": {
         "gridcolor": "#E1E5ED",
         "showgrid": true,
         "tickfont": {
          "color": "#4D5663"
         },
         "title": {
          "font": {
           "color": "#4D5663"
          },
          "text": ""
         },
         "zerolinecolor": "#E1E5ED"
        },
        "yaxis": {
         "gridcolor": "#E1E5ED",
         "showgrid": true,
         "tickfont": {
          "color": "#4D5663"
         },
         "title": {
          "font": {
           "color": "#4D5663"
          },
          "text": ""
         },
         "zerolinecolor": "#E1E5ED"
        }
       }
      },
      "text/html": [
       "<div>                            <div id=\"7ba69908-551a-4f35-99f2-f4daa0c422a6\" class=\"plotly-graph-div\" style=\"height:525px; width:100%;\"></div>            <script type=\"text/javascript\">                require([\"plotly\"], function(Plotly) {                    window.PLOTLYENV=window.PLOTLYENV || {};\n",
       "                    window.PLOTLYENV.BASE_URL='https://plot.ly';                                    if (document.getElementById(\"7ba69908-551a-4f35-99f2-f4daa0c422a6\")) {                    Plotly.newPlot(                        \"7ba69908-551a-4f35-99f2-f4daa0c422a6\",                        [{\"marker\":{\"color\":[\"rgb(255, 153, 51)\",\"rgb(55, 128, 191)\",\"rgb(50, 171, 96)\",\"rgb(128, 0, 128)\",\"rgb(219, 64, 82)\",\"rgb(0, 128, 128)\",\"rgb(255, 255, 51)\",\"rgb(128, 128, 0)\",\"rgb(251, 128, 114)\",\"rgb(128, 177, 211)\"],\"line\":{\"width\":1.3},\"size\":[64,66,52,61,80,12,61,53,92,66,70,112,60,56,44,68,39,71,27,46,60,45,80,64,44,54,66,82,71,104,90,67,86,44,48,59,87,78,71,66,57,81,32,54,48,58,36,58,56,98,51,93,53,38,46,12,75,57,63,70,58,32,63,82,33,63,65,72,85,76,96,71,75,38,92,84,14,53,48,80,52,100,74,80,74,60,88,34,26,42,68,91,51,46,84,34,56,51,47,102],\"symbol\":\"circle\"},\"mode\":\"markers\",\"text\":\"\",\"type\":\"scatter\",\"x\":[-0.8952513651069208,-0.8433675626903279,0.5194375646796255,0.20781533281382147,-0.28787023198130957,1.6626119003563948,0.8455339666282456,-0.004764186067881709,0.4733015021634591,-0.9426534090465928,0.3495407603251051,1.046237290545855,-0.9859596463402309,2.1084983582558596,-0.9317323755961524,0.6494024623069314,-0.3843287632960257,1.1614039215162952,-0.20123156557799382,-0.45298390054834,0.7347549725847721,-0.7677041350495847,0.13258824206569836,1.054969175247717,-1.3104840655184302,-0.8013236099028447,0.8811067964875391,1.37964961408107,-0.6967541155402649,-0.06015481378112143,1.6708711018109184,-0.8025842912977741,-0.015918404685731493,-0.027443107556971016,2.406932617211438,1.3057326517527597,-0.06865890639765183,1.1071268608316913,0.33981602924630167,-1.0872016494434344,-1.5039010182317643,-1.519624037806377,1.4712137408778254,-0.0034193275927080374,-0.6401644852992978,0.4859905760774655,0.0390256747991155,-1.941050095915409,-1.6177636665820099,0.613241988243389,-0.8362331163350449,1.6088686769777236,1.0424803246654821,0.021383677990268142,0.8482607537163633,0.2705487692995969,-0.29215392518076677,-0.10297268388786927,-1.1823360718306772,-0.291903670774597,-0.80294506515156,-0.9072759442656589,-0.8089516008862685,-0.9258452866799369,-0.06216798493213476,1.2447036743884878,0.04545716238838049,-0.5767553684691545,-0.757567169617877,1.5631791168400553,1.479076371008533,0.3313239929669739,-0.8932590257661409,-0.8233805286922103,1.0906334749242377,0.9254639718825185,0.3337368137528734,0.7499843768463412,0.8962171001982022,0.8433026224184019,0.041966578696571485,-0.3215182981515437,-2.126805113291232,-1.6303569601061727,-0.8656966690701975,-0.1959710508555525,-1.4209840585311801,-0.5464709582936679,-0.5121202308271431,-0.2238616074951767,0.3327302146369024,0.31238636848963375,-1.7015350452825535,-0.0549239733602343,0.2474203199269791,-0.36324706968849796,-1.0628515643718848,2.5078501395900497,-1.8677307647196009,0.3231424513059178],\"y\":[-1.1173847502936025,1.746739718699284,0.14685877092398286,-0.46500629752162825,0.4655854906663578,-0.06079797292919306,-0.9935139192431094,-0.9840906486582907,0.3858807133247504,-0.05165981535030882,-0.28153938365960823,1.0444208610245398,2.9552086536453,-0.6360228636743235,-0.7750068348042938,0.3759362444110491,-1.0465943179905126,0.5207368215614654,-1.2645230056565269,-1.6672266527270678,0.8136435929779331,-0.5161670126408316,0.8295781733415212,-0.9370552324792465,-0.9434636737018017,-0.35376129291561254,0.1131341527958107,-0.7791813809558733,-1.5198565256723666,0.08475947400103076,0.5503775638643653,0.3864508203743008,1.24508676785871,-0.5944516877815453,-1.147388038671117,1.6745629245114566,-0.35706174852272393,0.09238182014036393,0.45219988102119246,-0.9982111420135565,-2.364337501067881,-1.5689780423807467,-0.6195922861260792,0.1332476222569659,0.7383518851748205,0.8093449800294485,0.7730083525819172,1.4058264441998591,1.6662888676900314,1.2187622943223144,-0.3569510110710778,0.789056791494699,-0.8914602748284073,1.09081664635188,-1.4903431943146759,-1.4169926866780527,0.8187783046002451,-1.2840812231710845,-0.7474812226213581,-0.18246447267077032,-1.7170896576775119,1.4251919420917685,-0.06684710644568471,2.248776203702825,-1.4497720828871339,0.33515054683217393,0.2572901158489185,-1.8474817915070532,0.07171750340675725,-0.33435320566254173,0.10383275376154216,-0.6284608927287233,0.866890297412042,-1.2024915815630428,0.1822133800005098,1.129717939403387,0.48778847655426805,-0.81404660894497,-2.4967023192028366,-0.15430570948289024,1.1629261282568337,0.07178192985158226,-2.499979619158677,-1.0099283783597963,-0.20866740683546953,-1.2713725553000081,-1.5004531175164042,0.9280389877106168,-1.5295643193552795,1.3793034095187395,0.24665735973714437,0.02648352346857129,-0.3723716925856273,1.7407167389351086,-0.2904664042394969,0.8703273669778087,1.8871063314463523,-0.15925783536561067,-0.01232500299030156,1.1049302887625263]}],                        {\"legend\":{\"bgcolor\":\"#F5F6F9\",\"font\":{\"color\":\"#4D5663\"}},\"paper_bgcolor\":\"#F5F6F9\",\"plot_bgcolor\":\"#F5F6F9\",\"template\":{\"data\":{\"bar\":[{\"error_x\":{\"color\":\"#2a3f5f\"},\"error_y\":{\"color\":\"#2a3f5f\"},\"marker\":{\"line\":{\"color\":\"#E5ECF6\",\"width\":0.5},\"pattern\":{\"fillmode\":\"overlay\",\"size\":10,\"solidity\":0.2}},\"type\":\"bar\"}],\"barpolar\":[{\"marker\":{\"line\":{\"color\":\"#E5ECF6\",\"width\":0.5},\"pattern\":{\"fillmode\":\"overlay\",\"size\":10,\"solidity\":0.2}},\"type\":\"barpolar\"}],\"carpet\":[{\"aaxis\":{\"endlinecolor\":\"#2a3f5f\",\"gridcolor\":\"white\",\"linecolor\":\"white\",\"minorgridcolor\":\"white\",\"startlinecolor\":\"#2a3f5f\"},\"baxis\":{\"endlinecolor\":\"#2a3f5f\",\"gridcolor\":\"white\",\"linecolor\":\"white\",\"minorgridcolor\":\"white\",\"startlinecolor\":\"#2a3f5f\"},\"type\":\"carpet\"}],\"choropleth\":[{\"colorbar\":{\"outlinewidth\":0,\"ticks\":\"\"},\"type\":\"choropleth\"}],\"contour\":[{\"colorbar\":{\"outlinewidth\":0,\"ticks\":\"\"},\"colorscale\":[[0.0,\"#0d0887\"],[0.1111111111111111,\"#46039f\"],[0.2222222222222222,\"#7201a8\"],[0.3333333333333333,\"#9c179e\"],[0.4444444444444444,\"#bd3786\"],[0.5555555555555556,\"#d8576b\"],[0.6666666666666666,\"#ed7953\"],[0.7777777777777778,\"#fb9f3a\"],[0.8888888888888888,\"#fdca26\"],[1.0,\"#f0f921\"]],\"type\":\"contour\"}],\"contourcarpet\":[{\"colorbar\":{\"outlinewidth\":0,\"ticks\":\"\"},\"type\":\"contourcarpet\"}],\"heatmap\":[{\"colorbar\":{\"outlinewidth\":0,\"ticks\":\"\"},\"colorscale\":[[0.0,\"#0d0887\"],[0.1111111111111111,\"#46039f\"],[0.2222222222222222,\"#7201a8\"],[0.3333333333333333,\"#9c179e\"],[0.4444444444444444,\"#bd3786\"],[0.5555555555555556,\"#d8576b\"],[0.6666666666666666,\"#ed7953\"],[0.7777777777777778,\"#fb9f3a\"],[0.8888888888888888,\"#fdca26\"],[1.0,\"#f0f921\"]],\"type\":\"heatmap\"}],\"heatmapgl\":[{\"colorbar\":{\"outlinewidth\":0,\"ticks\":\"\"},\"colorscale\":[[0.0,\"#0d0887\"],[0.1111111111111111,\"#46039f\"],[0.2222222222222222,\"#7201a8\"],[0.3333333333333333,\"#9c179e\"],[0.4444444444444444,\"#bd3786\"],[0.5555555555555556,\"#d8576b\"],[0.6666666666666666,\"#ed7953\"],[0.7777777777777778,\"#fb9f3a\"],[0.8888888888888888,\"#fdca26\"],[1.0,\"#f0f921\"]],\"type\":\"heatmapgl\"}],\"histogram\":[{\"marker\":{\"pattern\":{\"fillmode\":\"overlay\",\"size\":10,\"solidity\":0.2}},\"type\":\"histogram\"}],\"histogram2d\":[{\"colorbar\":{\"outlinewidth\":0,\"ticks\":\"\"},\"colorscale\":[[0.0,\"#0d0887\"],[0.1111111111111111,\"#46039f\"],[0.2222222222222222,\"#7201a8\"],[0.3333333333333333,\"#9c179e\"],[0.4444444444444444,\"#bd3786\"],[0.5555555555555556,\"#d8576b\"],[0.6666666666666666,\"#ed7953\"],[0.7777777777777778,\"#fb9f3a\"],[0.8888888888888888,\"#fdca26\"],[1.0,\"#f0f921\"]],\"type\":\"histogram2d\"}],\"histogram2dcontour\":[{\"colorbar\":{\"outlinewidth\":0,\"ticks\":\"\"},\"colorscale\":[[0.0,\"#0d0887\"],[0.1111111111111111,\"#46039f\"],[0.2222222222222222,\"#7201a8\"],[0.3333333333333333,\"#9c179e\"],[0.4444444444444444,\"#bd3786\"],[0.5555555555555556,\"#d8576b\"],[0.6666666666666666,\"#ed7953\"],[0.7777777777777778,\"#fb9f3a\"],[0.8888888888888888,\"#fdca26\"],[1.0,\"#f0f921\"]],\"type\":\"histogram2dcontour\"}],\"mesh3d\":[{\"colorbar\":{\"outlinewidth\":0,\"ticks\":\"\"},\"type\":\"mesh3d\"}],\"parcoords\":[{\"line\":{\"colorbar\":{\"outlinewidth\":0,\"ticks\":\"\"}},\"type\":\"parcoords\"}],\"pie\":[{\"automargin\":true,\"type\":\"pie\"}],\"scatter\":[{\"marker\":{\"colorbar\":{\"outlinewidth\":0,\"ticks\":\"\"}},\"type\":\"scatter\"}],\"scatter3d\":[{\"line\":{\"colorbar\":{\"outlinewidth\":0,\"ticks\":\"\"}},\"marker\":{\"colorbar\":{\"outlinewidth\":0,\"ticks\":\"\"}},\"type\":\"scatter3d\"}],\"scattercarpet\":[{\"marker\":{\"colorbar\":{\"outlinewidth\":0,\"ticks\":\"\"}},\"type\":\"scattercarpet\"}],\"scattergeo\":[{\"marker\":{\"colorbar\":{\"outlinewidth\":0,\"ticks\":\"\"}},\"type\":\"scattergeo\"}],\"scattergl\":[{\"marker\":{\"colorbar\":{\"outlinewidth\":0,\"ticks\":\"\"}},\"type\":\"scattergl\"}],\"scattermapbox\":[{\"marker\":{\"colorbar\":{\"outlinewidth\":0,\"ticks\":\"\"}},\"type\":\"scattermapbox\"}],\"scatterpolar\":[{\"marker\":{\"colorbar\":{\"outlinewidth\":0,\"ticks\":\"\"}},\"type\":\"scatterpolar\"}],\"scatterpolargl\":[{\"marker\":{\"colorbar\":{\"outlinewidth\":0,\"ticks\":\"\"}},\"type\":\"scatterpolargl\"}],\"scatterternary\":[{\"marker\":{\"colorbar\":{\"outlinewidth\":0,\"ticks\":\"\"}},\"type\":\"scatterternary\"}],\"surface\":[{\"colorbar\":{\"outlinewidth\":0,\"ticks\":\"\"},\"colorscale\":[[0.0,\"#0d0887\"],[0.1111111111111111,\"#46039f\"],[0.2222222222222222,\"#7201a8\"],[0.3333333333333333,\"#9c179e\"],[0.4444444444444444,\"#bd3786\"],[0.5555555555555556,\"#d8576b\"],[0.6666666666666666,\"#ed7953\"],[0.7777777777777778,\"#fb9f3a\"],[0.8888888888888888,\"#fdca26\"],[1.0,\"#f0f921\"]],\"type\":\"surface\"}],\"table\":[{\"cells\":{\"fill\":{\"color\":\"#EBF0F8\"},\"line\":{\"color\":\"white\"}},\"header\":{\"fill\":{\"color\":\"#C8D4E3\"},\"line\":{\"color\":\"white\"}},\"type\":\"table\"}]},\"layout\":{\"annotationdefaults\":{\"arrowcolor\":\"#2a3f5f\",\"arrowhead\":0,\"arrowwidth\":1},\"autotypenumbers\":\"strict\",\"coloraxis\":{\"colorbar\":{\"outlinewidth\":0,\"ticks\":\"\"}},\"colorscale\":{\"diverging\":[[0,\"#8e0152\"],[0.1,\"#c51b7d\"],[0.2,\"#de77ae\"],[0.3,\"#f1b6da\"],[0.4,\"#fde0ef\"],[0.5,\"#f7f7f7\"],[0.6,\"#e6f5d0\"],[0.7,\"#b8e186\"],[0.8,\"#7fbc41\"],[0.9,\"#4d9221\"],[1,\"#276419\"]],\"sequential\":[[0.0,\"#0d0887\"],[0.1111111111111111,\"#46039f\"],[0.2222222222222222,\"#7201a8\"],[0.3333333333333333,\"#9c179e\"],[0.4444444444444444,\"#bd3786\"],[0.5555555555555556,\"#d8576b\"],[0.6666666666666666,\"#ed7953\"],[0.7777777777777778,\"#fb9f3a\"],[0.8888888888888888,\"#fdca26\"],[1.0,\"#f0f921\"]],\"sequentialminus\":[[0.0,\"#0d0887\"],[0.1111111111111111,\"#46039f\"],[0.2222222222222222,\"#7201a8\"],[0.3333333333333333,\"#9c179e\"],[0.4444444444444444,\"#bd3786\"],[0.5555555555555556,\"#d8576b\"],[0.6666666666666666,\"#ed7953\"],[0.7777777777777778,\"#fb9f3a\"],[0.8888888888888888,\"#fdca26\"],[1.0,\"#f0f921\"]]},\"colorway\":[\"#636efa\",\"#EF553B\",\"#00cc96\",\"#ab63fa\",\"#FFA15A\",\"#19d3f3\",\"#FF6692\",\"#B6E880\",\"#FF97FF\",\"#FECB52\"],\"font\":{\"color\":\"#2a3f5f\"},\"geo\":{\"bgcolor\":\"white\",\"lakecolor\":\"white\",\"landcolor\":\"#E5ECF6\",\"showlakes\":true,\"showland\":true,\"subunitcolor\":\"white\"},\"hoverlabel\":{\"align\":\"left\"},\"hovermode\":\"closest\",\"mapbox\":{\"style\":\"light\"},\"paper_bgcolor\":\"white\",\"plot_bgcolor\":\"#E5ECF6\",\"polar\":{\"angularaxis\":{\"gridcolor\":\"white\",\"linecolor\":\"white\",\"ticks\":\"\"},\"bgcolor\":\"#E5ECF6\",\"radialaxis\":{\"gridcolor\":\"white\",\"linecolor\":\"white\",\"ticks\":\"\"}},\"scene\":{\"xaxis\":{\"backgroundcolor\":\"#E5ECF6\",\"gridcolor\":\"white\",\"gridwidth\":2,\"linecolor\":\"white\",\"showbackground\":true,\"ticks\":\"\",\"zerolinecolor\":\"white\"},\"yaxis\":{\"backgroundcolor\":\"#E5ECF6\",\"gridcolor\":\"white\",\"gridwidth\":2,\"linecolor\":\"white\",\"showbackground\":true,\"ticks\":\"\",\"zerolinecolor\":\"white\"},\"zaxis\":{\"backgroundcolor\":\"#E5ECF6\",\"gridcolor\":\"white\",\"gridwidth\":2,\"linecolor\":\"white\",\"showbackground\":true,\"ticks\":\"\",\"zerolinecolor\":\"white\"}},\"shapedefaults\":{\"line\":{\"color\":\"#2a3f5f\"}},\"ternary\":{\"aaxis\":{\"gridcolor\":\"white\",\"linecolor\":\"white\",\"ticks\":\"\"},\"baxis\":{\"gridcolor\":\"white\",\"linecolor\":\"white\",\"ticks\":\"\"},\"bgcolor\":\"#E5ECF6\",\"caxis\":{\"gridcolor\":\"white\",\"linecolor\":\"white\",\"ticks\":\"\"}},\"title\":{\"x\":0.05},\"xaxis\":{\"automargin\":true,\"gridcolor\":\"white\",\"linecolor\":\"white\",\"ticks\":\"\",\"title\":{\"standoff\":15},\"zerolinecolor\":\"white\",\"zerolinewidth\":2},\"yaxis\":{\"automargin\":true,\"gridcolor\":\"white\",\"linecolor\":\"white\",\"ticks\":\"\",\"title\":{\"standoff\":15},\"zerolinecolor\":\"white\",\"zerolinewidth\":2}}},\"title\":{\"font\":{\"color\":\"#4D5663\"}},\"xaxis\":{\"gridcolor\":\"#E1E5ED\",\"showgrid\":true,\"tickfont\":{\"color\":\"#4D5663\"},\"title\":{\"font\":{\"color\":\"#4D5663\"},\"text\":\"\"},\"zerolinecolor\":\"#E1E5ED\"},\"yaxis\":{\"gridcolor\":\"#E1E5ED\",\"showgrid\":true,\"tickfont\":{\"color\":\"#4D5663\"},\"title\":{\"font\":{\"color\":\"#4D5663\"},\"text\":\"\"},\"zerolinecolor\":\"#E1E5ED\"}},                        {\"showLink\": true, \"linkText\": \"Export to plot.ly\", \"plotlyServerURL\": \"https://plot.ly\", \"responsive\": true}                    ).then(function(){\n",
       "                            \n",
       "var gd = document.getElementById('7ba69908-551a-4f35-99f2-f4daa0c422a6');\n",
       "var x = new MutationObserver(function (mutations, observer) {{\n",
       "        var display = window.getComputedStyle(gd).display;\n",
       "        if (!display || display === 'none') {{\n",
       "            console.log([gd, 'removed!']);\n",
       "            Plotly.purge(gd);\n",
       "            observer.disconnect();\n",
       "        }}\n",
       "}});\n",
       "\n",
       "// Listen for the removal of the full notebook cells\n",
       "var notebookContainer = gd.closest('#notebook-container');\n",
       "if (notebookContainer) {{\n",
       "    x.observe(notebookContainer, {childList: true});\n",
       "}}\n",
       "\n",
       "// Listen for the clearing of the current output cell\n",
       "var outputEl = gd.closest('.output');\n",
       "if (outputEl) {{\n",
       "    x.observe(outputEl, {childList: true});\n",
       "}}\n",
       "\n",
       "                        })                };                });            </script>        </div>"
      ]
     },
     "metadata": {},
     "output_type": "display_data"
    }
   ],
   "source": [
    "df.iplot(kind='bubble',x='A',y='B',size=\"C\")"
   ]
  },
  {
   "cell_type": "markdown",
   "metadata": {},
   "source": [
    "## scatter_matrix()\n",
    "\n",
    "Similar to sns.pairplot()"
   ]
  },
  {
   "cell_type": "code",
   "execution_count": 27,
   "metadata": {},
   "outputs": [
    {
     "data": {
      "application/vnd.plotly.v1+json": {
       "config": {
        "linkText": "Export to plot.ly",
        "plotlyServerURL": "https://plot.ly",
        "showLink": true
       },
       "data": [
        {
         "histfunc": "count",
         "histnorm": "",
         "marker": {
          "color": "rgba(255, 153, 51, 1.0)",
          "line": {
           "color": "#4D5663",
           "width": 1.3
          }
         },
         "name": "A",
         "nbinsx": 30,
         "opacity": 0.8,
         "orientation": "v",
         "type": "histogram",
         "x": [
          -0.8952513651069208,
          -0.8433675626903279,
          0.5194375646796255,
          0.20781533281382147,
          -0.28787023198130957,
          1.6626119003563948,
          0.8455339666282456,
          -0.004764186067881709,
          0.4733015021634591,
          -0.9426534090465928,
          0.3495407603251051,
          1.046237290545855,
          -0.9859596463402309,
          2.1084983582558596,
          -0.9317323755961524,
          0.6494024623069314,
          -0.3843287632960257,
          1.1614039215162952,
          -0.20123156557799382,
          -0.45298390054834,
          0.7347549725847721,
          -0.7677041350495847,
          0.13258824206569836,
          1.054969175247717,
          -1.3104840655184302,
          -0.8013236099028447,
          0.8811067964875391,
          1.37964961408107,
          -0.6967541155402649,
          -0.06015481378112143,
          1.6708711018109184,
          -0.8025842912977741,
          -0.015918404685731493,
          -0.027443107556971016,
          2.406932617211438,
          1.3057326517527597,
          -0.06865890639765183,
          1.1071268608316913,
          0.33981602924630167,
          -1.0872016494434344,
          -1.5039010182317643,
          -1.519624037806377,
          1.4712137408778254,
          -0.0034193275927080374,
          -0.6401644852992978,
          0.4859905760774655,
          0.0390256747991155,
          -1.941050095915409,
          -1.6177636665820099,
          0.613241988243389,
          -0.8362331163350449,
          1.6088686769777236,
          1.0424803246654821,
          0.021383677990268142,
          0.8482607537163633,
          0.2705487692995969,
          -0.29215392518076677,
          -0.10297268388786927,
          -1.1823360718306772,
          -0.291903670774597,
          -0.80294506515156,
          -0.9072759442656589,
          -0.8089516008862685,
          -0.9258452866799369,
          -0.06216798493213476,
          1.2447036743884878,
          0.04545716238838049,
          -0.5767553684691545,
          -0.757567169617877,
          1.5631791168400553,
          1.479076371008533,
          0.3313239929669739,
          -0.8932590257661409,
          -0.8233805286922103,
          1.0906334749242377,
          0.9254639718825185,
          0.3337368137528734,
          0.7499843768463412,
          0.8962171001982022,
          0.8433026224184019,
          0.041966578696571485,
          -0.3215182981515437,
          -2.126805113291232,
          -1.6303569601061727,
          -0.8656966690701975,
          -0.1959710508555525,
          -1.4209840585311801,
          -0.5464709582936679,
          -0.5121202308271431,
          -0.2238616074951767,
          0.3327302146369024,
          0.31238636848963375,
          -1.7015350452825535,
          -0.0549239733602343,
          0.2474203199269791,
          -0.36324706968849796,
          -1.0628515643718848,
          2.5078501395900497,
          -1.8677307647196009,
          0.3231424513059178
         ],
         "xaxis": "x",
         "yaxis": "y"
        },
        {
         "line": {
          "color": "rgba(128, 128, 128, 1.0)",
          "dash": "solid",
          "shape": "linear",
          "width": 1.3
         },
         "marker": {
          "size": 2,
          "symbol": "circle"
         },
         "mode": "markers",
         "name": "A",
         "text": "",
         "type": "scatter",
         "x": [
          -1.1173847502936025,
          1.746739718699284,
          0.14685877092398286,
          -0.46500629752162825,
          0.4655854906663578,
          -0.06079797292919306,
          -0.9935139192431094,
          -0.9840906486582907,
          0.3858807133247504,
          -0.05165981535030882,
          -0.28153938365960823,
          1.0444208610245398,
          2.9552086536453,
          -0.6360228636743235,
          -0.7750068348042938,
          0.3759362444110491,
          -1.0465943179905126,
          0.5207368215614654,
          -1.2645230056565269,
          -1.6672266527270678,
          0.8136435929779331,
          -0.5161670126408316,
          0.8295781733415212,
          -0.9370552324792465,
          -0.9434636737018017,
          -0.35376129291561254,
          0.1131341527958107,
          -0.7791813809558733,
          -1.5198565256723666,
          0.08475947400103076,
          0.5503775638643653,
          0.3864508203743008,
          1.24508676785871,
          -0.5944516877815453,
          -1.147388038671117,
          1.6745629245114566,
          -0.35706174852272393,
          0.09238182014036393,
          0.45219988102119246,
          -0.9982111420135565,
          -2.364337501067881,
          -1.5689780423807467,
          -0.6195922861260792,
          0.1332476222569659,
          0.7383518851748205,
          0.8093449800294485,
          0.7730083525819172,
          1.4058264441998591,
          1.6662888676900314,
          1.2187622943223144,
          -0.3569510110710778,
          0.789056791494699,
          -0.8914602748284073,
          1.09081664635188,
          -1.4903431943146759,
          -1.4169926866780527,
          0.8187783046002451,
          -1.2840812231710845,
          -0.7474812226213581,
          -0.18246447267077032,
          -1.7170896576775119,
          1.4251919420917685,
          -0.06684710644568471,
          2.248776203702825,
          -1.4497720828871339,
          0.33515054683217393,
          0.2572901158489185,
          -1.8474817915070532,
          0.07171750340675725,
          -0.33435320566254173,
          0.10383275376154216,
          -0.6284608927287233,
          0.866890297412042,
          -1.2024915815630428,
          0.1822133800005098,
          1.129717939403387,
          0.48778847655426805,
          -0.81404660894497,
          -2.4967023192028366,
          -0.15430570948289024,
          1.1629261282568337,
          0.07178192985158226,
          -2.499979619158677,
          -1.0099283783597963,
          -0.20866740683546953,
          -1.2713725553000081,
          -1.5004531175164042,
          0.9280389877106168,
          -1.5295643193552795,
          1.3793034095187395,
          0.24665735973714437,
          0.02648352346857129,
          -0.3723716925856273,
          1.7407167389351086,
          -0.2904664042394969,
          0.8703273669778087,
          1.8871063314463523,
          -0.15925783536561067,
          -0.01232500299030156,
          1.1049302887625263
         ],
         "xaxis": "x2",
         "y": [
          -0.8952513651069208,
          -0.8433675626903279,
          0.5194375646796255,
          0.20781533281382147,
          -0.28787023198130957,
          1.6626119003563948,
          0.8455339666282456,
          -0.004764186067881709,
          0.4733015021634591,
          -0.9426534090465928,
          0.3495407603251051,
          1.046237290545855,
          -0.9859596463402309,
          2.1084983582558596,
          -0.9317323755961524,
          0.6494024623069314,
          -0.3843287632960257,
          1.1614039215162952,
          -0.20123156557799382,
          -0.45298390054834,
          0.7347549725847721,
          -0.7677041350495847,
          0.13258824206569836,
          1.054969175247717,
          -1.3104840655184302,
          -0.8013236099028447,
          0.8811067964875391,
          1.37964961408107,
          -0.6967541155402649,
          -0.06015481378112143,
          1.6708711018109184,
          -0.8025842912977741,
          -0.015918404685731493,
          -0.027443107556971016,
          2.406932617211438,
          1.3057326517527597,
          -0.06865890639765183,
          1.1071268608316913,
          0.33981602924630167,
          -1.0872016494434344,
          -1.5039010182317643,
          -1.519624037806377,
          1.4712137408778254,
          -0.0034193275927080374,
          -0.6401644852992978,
          0.4859905760774655,
          0.0390256747991155,
          -1.941050095915409,
          -1.6177636665820099,
          0.613241988243389,
          -0.8362331163350449,
          1.6088686769777236,
          1.0424803246654821,
          0.021383677990268142,
          0.8482607537163633,
          0.2705487692995969,
          -0.29215392518076677,
          -0.10297268388786927,
          -1.1823360718306772,
          -0.291903670774597,
          -0.80294506515156,
          -0.9072759442656589,
          -0.8089516008862685,
          -0.9258452866799369,
          -0.06216798493213476,
          1.2447036743884878,
          0.04545716238838049,
          -0.5767553684691545,
          -0.757567169617877,
          1.5631791168400553,
          1.479076371008533,
          0.3313239929669739,
          -0.8932590257661409,
          -0.8233805286922103,
          1.0906334749242377,
          0.9254639718825185,
          0.3337368137528734,
          0.7499843768463412,
          0.8962171001982022,
          0.8433026224184019,
          0.041966578696571485,
          -0.3215182981515437,
          -2.126805113291232,
          -1.6303569601061727,
          -0.8656966690701975,
          -0.1959710508555525,
          -1.4209840585311801,
          -0.5464709582936679,
          -0.5121202308271431,
          -0.2238616074951767,
          0.3327302146369024,
          0.31238636848963375,
          -1.7015350452825535,
          -0.0549239733602343,
          0.2474203199269791,
          -0.36324706968849796,
          -1.0628515643718848,
          2.5078501395900497,
          -1.8677307647196009,
          0.3231424513059178
         ],
         "yaxis": "y2"
        },
        {
         "line": {
          "color": "rgba(128, 128, 128, 1.0)",
          "dash": "solid",
          "shape": "linear",
          "width": 1.3
         },
         "marker": {
          "size": 2,
          "symbol": "circle"
         },
         "mode": "markers",
         "name": "A",
         "text": "",
         "type": "scatter",
         "x": [
          0.15402014678503842,
          0.2657263820399731,
          -0.343402330387866,
          0.04907397042722276,
          0.8284594320192139,
          -1.9597162503039829,
          0.057464181045583575,
          -0.28627755991796483,
          1.3057899377814057,
          0.2655702491850747,
          0.4110004604096362,
          2.127128856286828,
          -0.004654093825273417,
          -0.1456494965111229,
          -0.6448807327848622,
          0.34487161331259336,
          -0.8619394979445104,
          0.45936455722494435,
          -1.357533739395525,
          -0.589562354995894,
          -0.005617720156713443,
          -0.6127013045377776,
          0.8119688688762698,
          0.1636200911848541,
          -0.6508242248720761,
          -0.2301188176803608,
          0.24316836315729567,
          0.9257298097364508,
          0.47182097328120637,
          1.816154359318101,
          1.2428168506400545,
          0.2893884384487877,
          1.068267974309602,
          -0.6518694789966023,
          -0.4861247688337598,
          -0.016089400658961882,
          1.1009248401427172,
          0.7266089200181972,
          0.47492656470023475,
          0.23989608269697232,
          -0.10491232495807155,
          0.8746647007485565,
          -1.158256479116966,
          -0.23810768669398752,
          -0.48821222164675787,
          -0.08145494286790905,
          -0.9889200956542998,
          -0.07257919277033752,
          -0.14710125498318025,
          1.5562866047204014,
          -0.37260912236544264,
          1.3621931178310318,
          -0.29352007206031927,
          -0.9149231445886525,
          -0.5702276323273853,
          -1.9939070398381225,
          0.6033883400895033,
          -0.12906993160729308,
          0.12695591032807224,
          0.4330743892954883,
          -0.06199264302863122,
          -1.1530161815695628,
          0.11700877363256074,
          0.9222514463738127,
          -1.0911939258558483,
          0.12440303317551768,
          0.20218176421198447,
          0.48958209851623147,
          1.0226354116421743,
          0.6687817773729573,
          1.4791448129964408,
          0.4683721477637024,
          0.6136290063139493,
          -0.8836654479845644,
          1.324638138600231,
          1.0128676363566746,
          -1.8984076055920722,
          -0.29352674399317497,
          -0.49885529916506166,
          0.822322654340613,
          -0.308508015034196,
          1.6632715231451238,
          0.5640668366446504,
          0.8400153982759437,
          0.5726675028836222,
          0.01600333860851399,
          1.1709176403694541,
          -1.0524581681070924,
          -1.4017372011655806,
          -0.7410775136615926,
          0.3450606347378987,
          1.2812632553883703,
          -0.3527779303137753,
          -0.5852734007342651,
          0.9810235646964258,
          -1.065973352802771,
          -0.15146442254221687,
          -0.3496431410140794,
          -0.5133867583688282,
          1.7253378058693758
         ],
         "xaxis": "x3",
         "y": [
          -0.8952513651069208,
          -0.8433675626903279,
          0.5194375646796255,
          0.20781533281382147,
          -0.28787023198130957,
          1.6626119003563948,
          0.8455339666282456,
          -0.004764186067881709,
          0.4733015021634591,
          -0.9426534090465928,
          0.3495407603251051,
          1.046237290545855,
          -0.9859596463402309,
          2.1084983582558596,
          -0.9317323755961524,
          0.6494024623069314,
          -0.3843287632960257,
          1.1614039215162952,
          -0.20123156557799382,
          -0.45298390054834,
          0.7347549725847721,
          -0.7677041350495847,
          0.13258824206569836,
          1.054969175247717,
          -1.3104840655184302,
          -0.8013236099028447,
          0.8811067964875391,
          1.37964961408107,
          -0.6967541155402649,
          -0.06015481378112143,
          1.6708711018109184,
          -0.8025842912977741,
          -0.015918404685731493,
          -0.027443107556971016,
          2.406932617211438,
          1.3057326517527597,
          -0.06865890639765183,
          1.1071268608316913,
          0.33981602924630167,
          -1.0872016494434344,
          -1.5039010182317643,
          -1.519624037806377,
          1.4712137408778254,
          -0.0034193275927080374,
          -0.6401644852992978,
          0.4859905760774655,
          0.0390256747991155,
          -1.941050095915409,
          -1.6177636665820099,
          0.613241988243389,
          -0.8362331163350449,
          1.6088686769777236,
          1.0424803246654821,
          0.021383677990268142,
          0.8482607537163633,
          0.2705487692995969,
          -0.29215392518076677,
          -0.10297268388786927,
          -1.1823360718306772,
          -0.291903670774597,
          -0.80294506515156,
          -0.9072759442656589,
          -0.8089516008862685,
          -0.9258452866799369,
          -0.06216798493213476,
          1.2447036743884878,
          0.04545716238838049,
          -0.5767553684691545,
          -0.757567169617877,
          1.5631791168400553,
          1.479076371008533,
          0.3313239929669739,
          -0.8932590257661409,
          -0.8233805286922103,
          1.0906334749242377,
          0.9254639718825185,
          0.3337368137528734,
          0.7499843768463412,
          0.8962171001982022,
          0.8433026224184019,
          0.041966578696571485,
          -0.3215182981515437,
          -2.126805113291232,
          -1.6303569601061727,
          -0.8656966690701975,
          -0.1959710508555525,
          -1.4209840585311801,
          -0.5464709582936679,
          -0.5121202308271431,
          -0.2238616074951767,
          0.3327302146369024,
          0.31238636848963375,
          -1.7015350452825535,
          -0.0549239733602343,
          0.2474203199269791,
          -0.36324706968849796,
          -1.0628515643718848,
          2.5078501395900497,
          -1.8677307647196009,
          0.3231424513059178
         ],
         "yaxis": "y3"
        },
        {
         "line": {
          "color": "rgba(128, 128, 128, 1.0)",
          "dash": "solid",
          "shape": "linear",
          "width": 1.3
         },
         "marker": {
          "size": 2,
          "symbol": "circle"
         },
         "mode": "markers",
         "name": "A",
         "text": "",
         "type": "scatter",
         "x": [
          -0.24928176549246744,
          0.43766562725607766,
          0.4911636933927162,
          1.7523971429861311,
          -0.9151291254990293,
          2.526689859980771,
          0.8306532160373419,
          -0.5023275214674892,
          -0.5479546280612896,
          -2.572183254075991,
          0.6520516835942008,
          0.21303230364385592,
          -2.67353945166175,
          1.2657924804275693,
          -0.1638317036376158,
          0.44283481695950516,
          0.3249583261002511,
          -0.09399653505243051,
          -0.3109384017241319,
          0.5708256857603644,
          0.6333611232512597,
          -0.599135502266844,
          -0.4929667876360445,
          -0.06375037377560236,
          -0.5269909683096622,
          -0.5575752612499391,
          -1.2020846724394942,
          -1.6321549927350116,
          1.4279114449960255,
          -0.6144693004074079,
          -0.21259383781399016,
          -1.19956866360025,
          0.03059807861833062,
          0.42966190674389926,
          1.5342674171110502,
          1.401254093534304,
          1.202427573767034,
          0.6894921812796692,
          1.1366594947986572,
          -0.17889497425348794,
          0.27240007895803775,
          0.8146901772806835,
          0.19264118840852978,
          -1.1957881697787762,
          0.7054826975920531,
          -0.2233060203154685,
          -0.019753414665292467,
          1.071013420697468,
          0.6284635436266129,
          1.410271681226113,
          -0.24262105510451937,
          0.1968420081083256,
          -0.07855212762629618,
          1.974354196403117,
          1.7719427413115192,
          -0.7774409273732569,
          -1.624172848941066,
          1.5028725053057772,
          0.25673255995404204,
          0.018310203682808664,
          1.631494514781497,
          -1.451764438413754,
          -0.6008560170876976,
          -1.1597328111446403,
          0.1764286053886547,
          -1.2246949484204448,
          0.9466888965601424,
          -1.955648931806292,
          -1.1262371981967885,
          0.2577519709661145,
          -0.8521206497874158,
          -0.9332922335164483,
          -0.5306441237488271,
          1.8990401454111687,
          -0.3307736735355664,
          -1.58435537195694,
          0.35001137772208324,
          1.1064279284970717,
          -0.4111550594803613,
          1.0202158985347134,
          0.7763283618832962,
          -0.7013310287608374,
          -0.17667984159486233,
          -0.10372497459830986,
          -0.4686774596973294,
          -1.3647059645129447,
          -0.04312159787858875,
          0.47932113215521155,
          1.198645942633406,
          0.6763890844339074,
          -1.365564667612295,
          -0.8023448492675859,
          0.4457650047380639,
          -1.259166288126855,
          0.7743706746417458,
          -0.5256737132389573,
          -1.573555141918629,
          1.03783559002227,
          1.482943710704395,
          0.4924107255646221
         ],
         "xaxis": "x4",
         "y": [
          -0.8952513651069208,
          -0.8433675626903279,
          0.5194375646796255,
          0.20781533281382147,
          -0.28787023198130957,
          1.6626119003563948,
          0.8455339666282456,
          -0.004764186067881709,
          0.4733015021634591,
          -0.9426534090465928,
          0.3495407603251051,
          1.046237290545855,
          -0.9859596463402309,
          2.1084983582558596,
          -0.9317323755961524,
          0.6494024623069314,
          -0.3843287632960257,
          1.1614039215162952,
          -0.20123156557799382,
          -0.45298390054834,
          0.7347549725847721,
          -0.7677041350495847,
          0.13258824206569836,
          1.054969175247717,
          -1.3104840655184302,
          -0.8013236099028447,
          0.8811067964875391,
          1.37964961408107,
          -0.6967541155402649,
          -0.06015481378112143,
          1.6708711018109184,
          -0.8025842912977741,
          -0.015918404685731493,
          -0.027443107556971016,
          2.406932617211438,
          1.3057326517527597,
          -0.06865890639765183,
          1.1071268608316913,
          0.33981602924630167,
          -1.0872016494434344,
          -1.5039010182317643,
          -1.519624037806377,
          1.4712137408778254,
          -0.0034193275927080374,
          -0.6401644852992978,
          0.4859905760774655,
          0.0390256747991155,
          -1.941050095915409,
          -1.6177636665820099,
          0.613241988243389,
          -0.8362331163350449,
          1.6088686769777236,
          1.0424803246654821,
          0.021383677990268142,
          0.8482607537163633,
          0.2705487692995969,
          -0.29215392518076677,
          -0.10297268388786927,
          -1.1823360718306772,
          -0.291903670774597,
          -0.80294506515156,
          -0.9072759442656589,
          -0.8089516008862685,
          -0.9258452866799369,
          -0.06216798493213476,
          1.2447036743884878,
          0.04545716238838049,
          -0.5767553684691545,
          -0.757567169617877,
          1.5631791168400553,
          1.479076371008533,
          0.3313239929669739,
          -0.8932590257661409,
          -0.8233805286922103,
          1.0906334749242377,
          0.9254639718825185,
          0.3337368137528734,
          0.7499843768463412,
          0.8962171001982022,
          0.8433026224184019,
          0.041966578696571485,
          -0.3215182981515437,
          -2.126805113291232,
          -1.6303569601061727,
          -0.8656966690701975,
          -0.1959710508555525,
          -1.4209840585311801,
          -0.5464709582936679,
          -0.5121202308271431,
          -0.2238616074951767,
          0.3327302146369024,
          0.31238636848963375,
          -1.7015350452825535,
          -0.0549239733602343,
          0.2474203199269791,
          -0.36324706968849796,
          -1.0628515643718848,
          2.5078501395900497,
          -1.8677307647196009,
          0.3231424513059178
         ],
         "yaxis": "y4"
        },
        {
         "line": {
          "color": "rgba(128, 128, 128, 1.0)",
          "dash": "solid",
          "shape": "linear",
          "width": 1.3
         },
         "marker": {
          "size": 2,
          "symbol": "circle"
         },
         "mode": "markers",
         "name": "B",
         "text": "",
         "type": "scatter",
         "x": [
          -0.8952513651069208,
          -0.8433675626903279,
          0.5194375646796255,
          0.20781533281382147,
          -0.28787023198130957,
          1.6626119003563948,
          0.8455339666282456,
          -0.004764186067881709,
          0.4733015021634591,
          -0.9426534090465928,
          0.3495407603251051,
          1.046237290545855,
          -0.9859596463402309,
          2.1084983582558596,
          -0.9317323755961524,
          0.6494024623069314,
          -0.3843287632960257,
          1.1614039215162952,
          -0.20123156557799382,
          -0.45298390054834,
          0.7347549725847721,
          -0.7677041350495847,
          0.13258824206569836,
          1.054969175247717,
          -1.3104840655184302,
          -0.8013236099028447,
          0.8811067964875391,
          1.37964961408107,
          -0.6967541155402649,
          -0.06015481378112143,
          1.6708711018109184,
          -0.8025842912977741,
          -0.015918404685731493,
          -0.027443107556971016,
          2.406932617211438,
          1.3057326517527597,
          -0.06865890639765183,
          1.1071268608316913,
          0.33981602924630167,
          -1.0872016494434344,
          -1.5039010182317643,
          -1.519624037806377,
          1.4712137408778254,
          -0.0034193275927080374,
          -0.6401644852992978,
          0.4859905760774655,
          0.0390256747991155,
          -1.941050095915409,
          -1.6177636665820099,
          0.613241988243389,
          -0.8362331163350449,
          1.6088686769777236,
          1.0424803246654821,
          0.021383677990268142,
          0.8482607537163633,
          0.2705487692995969,
          -0.29215392518076677,
          -0.10297268388786927,
          -1.1823360718306772,
          -0.291903670774597,
          -0.80294506515156,
          -0.9072759442656589,
          -0.8089516008862685,
          -0.9258452866799369,
          -0.06216798493213476,
          1.2447036743884878,
          0.04545716238838049,
          -0.5767553684691545,
          -0.757567169617877,
          1.5631791168400553,
          1.479076371008533,
          0.3313239929669739,
          -0.8932590257661409,
          -0.8233805286922103,
          1.0906334749242377,
          0.9254639718825185,
          0.3337368137528734,
          0.7499843768463412,
          0.8962171001982022,
          0.8433026224184019,
          0.041966578696571485,
          -0.3215182981515437,
          -2.126805113291232,
          -1.6303569601061727,
          -0.8656966690701975,
          -0.1959710508555525,
          -1.4209840585311801,
          -0.5464709582936679,
          -0.5121202308271431,
          -0.2238616074951767,
          0.3327302146369024,
          0.31238636848963375,
          -1.7015350452825535,
          -0.0549239733602343,
          0.2474203199269791,
          -0.36324706968849796,
          -1.0628515643718848,
          2.5078501395900497,
          -1.8677307647196009,
          0.3231424513059178
         ],
         "xaxis": "x5",
         "y": [
          -1.1173847502936025,
          1.746739718699284,
          0.14685877092398286,
          -0.46500629752162825,
          0.4655854906663578,
          -0.06079797292919306,
          -0.9935139192431094,
          -0.9840906486582907,
          0.3858807133247504,
          -0.05165981535030882,
          -0.28153938365960823,
          1.0444208610245398,
          2.9552086536453,
          -0.6360228636743235,
          -0.7750068348042938,
          0.3759362444110491,
          -1.0465943179905126,
          0.5207368215614654,
          -1.2645230056565269,
          -1.6672266527270678,
          0.8136435929779331,
          -0.5161670126408316,
          0.8295781733415212,
          -0.9370552324792465,
          -0.9434636737018017,
          -0.35376129291561254,
          0.1131341527958107,
          -0.7791813809558733,
          -1.5198565256723666,
          0.08475947400103076,
          0.5503775638643653,
          0.3864508203743008,
          1.24508676785871,
          -0.5944516877815453,
          -1.147388038671117,
          1.6745629245114566,
          -0.35706174852272393,
          0.09238182014036393,
          0.45219988102119246,
          -0.9982111420135565,
          -2.364337501067881,
          -1.5689780423807467,
          -0.6195922861260792,
          0.1332476222569659,
          0.7383518851748205,
          0.8093449800294485,
          0.7730083525819172,
          1.4058264441998591,
          1.6662888676900314,
          1.2187622943223144,
          -0.3569510110710778,
          0.789056791494699,
          -0.8914602748284073,
          1.09081664635188,
          -1.4903431943146759,
          -1.4169926866780527,
          0.8187783046002451,
          -1.2840812231710845,
          -0.7474812226213581,
          -0.18246447267077032,
          -1.7170896576775119,
          1.4251919420917685,
          -0.06684710644568471,
          2.248776203702825,
          -1.4497720828871339,
          0.33515054683217393,
          0.2572901158489185,
          -1.8474817915070532,
          0.07171750340675725,
          -0.33435320566254173,
          0.10383275376154216,
          -0.6284608927287233,
          0.866890297412042,
          -1.2024915815630428,
          0.1822133800005098,
          1.129717939403387,
          0.48778847655426805,
          -0.81404660894497,
          -2.4967023192028366,
          -0.15430570948289024,
          1.1629261282568337,
          0.07178192985158226,
          -2.499979619158677,
          -1.0099283783597963,
          -0.20866740683546953,
          -1.2713725553000081,
          -1.5004531175164042,
          0.9280389877106168,
          -1.5295643193552795,
          1.3793034095187395,
          0.24665735973714437,
          0.02648352346857129,
          -0.3723716925856273,
          1.7407167389351086,
          -0.2904664042394969,
          0.8703273669778087,
          1.8871063314463523,
          -0.15925783536561067,
          -0.01232500299030156,
          1.1049302887625263
         ],
         "yaxis": "y5"
        },
        {
         "histfunc": "count",
         "histnorm": "",
         "marker": {
          "color": "rgba(55, 128, 191, 1.0)",
          "line": {
           "color": "#4D5663",
           "width": 1.3
          }
         },
         "name": "B",
         "nbinsx": 30,
         "opacity": 0.8,
         "orientation": "v",
         "type": "histogram",
         "x": [
          -1.1173847502936025,
          1.746739718699284,
          0.14685877092398286,
          -0.46500629752162825,
          0.4655854906663578,
          -0.06079797292919306,
          -0.9935139192431094,
          -0.9840906486582907,
          0.3858807133247504,
          -0.05165981535030882,
          -0.28153938365960823,
          1.0444208610245398,
          2.9552086536453,
          -0.6360228636743235,
          -0.7750068348042938,
          0.3759362444110491,
          -1.0465943179905126,
          0.5207368215614654,
          -1.2645230056565269,
          -1.6672266527270678,
          0.8136435929779331,
          -0.5161670126408316,
          0.8295781733415212,
          -0.9370552324792465,
          -0.9434636737018017,
          -0.35376129291561254,
          0.1131341527958107,
          -0.7791813809558733,
          -1.5198565256723666,
          0.08475947400103076,
          0.5503775638643653,
          0.3864508203743008,
          1.24508676785871,
          -0.5944516877815453,
          -1.147388038671117,
          1.6745629245114566,
          -0.35706174852272393,
          0.09238182014036393,
          0.45219988102119246,
          -0.9982111420135565,
          -2.364337501067881,
          -1.5689780423807467,
          -0.6195922861260792,
          0.1332476222569659,
          0.7383518851748205,
          0.8093449800294485,
          0.7730083525819172,
          1.4058264441998591,
          1.6662888676900314,
          1.2187622943223144,
          -0.3569510110710778,
          0.789056791494699,
          -0.8914602748284073,
          1.09081664635188,
          -1.4903431943146759,
          -1.4169926866780527,
          0.8187783046002451,
          -1.2840812231710845,
          -0.7474812226213581,
          -0.18246447267077032,
          -1.7170896576775119,
          1.4251919420917685,
          -0.06684710644568471,
          2.248776203702825,
          -1.4497720828871339,
          0.33515054683217393,
          0.2572901158489185,
          -1.8474817915070532,
          0.07171750340675725,
          -0.33435320566254173,
          0.10383275376154216,
          -0.6284608927287233,
          0.866890297412042,
          -1.2024915815630428,
          0.1822133800005098,
          1.129717939403387,
          0.48778847655426805,
          -0.81404660894497,
          -2.4967023192028366,
          -0.15430570948289024,
          1.1629261282568337,
          0.07178192985158226,
          -2.499979619158677,
          -1.0099283783597963,
          -0.20866740683546953,
          -1.2713725553000081,
          -1.5004531175164042,
          0.9280389877106168,
          -1.5295643193552795,
          1.3793034095187395,
          0.24665735973714437,
          0.02648352346857129,
          -0.3723716925856273,
          1.7407167389351086,
          -0.2904664042394969,
          0.8703273669778087,
          1.8871063314463523,
          -0.15925783536561067,
          -0.01232500299030156,
          1.1049302887625263
         ],
         "xaxis": "x6",
         "yaxis": "y6"
        },
        {
         "line": {
          "color": "rgba(128, 128, 128, 1.0)",
          "dash": "solid",
          "shape": "linear",
          "width": 1.3
         },
         "marker": {
          "size": 2,
          "symbol": "circle"
         },
         "mode": "markers",
         "name": "B",
         "text": "",
         "type": "scatter",
         "x": [
          0.15402014678503842,
          0.2657263820399731,
          -0.343402330387866,
          0.04907397042722276,
          0.8284594320192139,
          -1.9597162503039829,
          0.057464181045583575,
          -0.28627755991796483,
          1.3057899377814057,
          0.2655702491850747,
          0.4110004604096362,
          2.127128856286828,
          -0.004654093825273417,
          -0.1456494965111229,
          -0.6448807327848622,
          0.34487161331259336,
          -0.8619394979445104,
          0.45936455722494435,
          -1.357533739395525,
          -0.589562354995894,
          -0.005617720156713443,
          -0.6127013045377776,
          0.8119688688762698,
          0.1636200911848541,
          -0.6508242248720761,
          -0.2301188176803608,
          0.24316836315729567,
          0.9257298097364508,
          0.47182097328120637,
          1.816154359318101,
          1.2428168506400545,
          0.2893884384487877,
          1.068267974309602,
          -0.6518694789966023,
          -0.4861247688337598,
          -0.016089400658961882,
          1.1009248401427172,
          0.7266089200181972,
          0.47492656470023475,
          0.23989608269697232,
          -0.10491232495807155,
          0.8746647007485565,
          -1.158256479116966,
          -0.23810768669398752,
          -0.48821222164675787,
          -0.08145494286790905,
          -0.9889200956542998,
          -0.07257919277033752,
          -0.14710125498318025,
          1.5562866047204014,
          -0.37260912236544264,
          1.3621931178310318,
          -0.29352007206031927,
          -0.9149231445886525,
          -0.5702276323273853,
          -1.9939070398381225,
          0.6033883400895033,
          -0.12906993160729308,
          0.12695591032807224,
          0.4330743892954883,
          -0.06199264302863122,
          -1.1530161815695628,
          0.11700877363256074,
          0.9222514463738127,
          -1.0911939258558483,
          0.12440303317551768,
          0.20218176421198447,
          0.48958209851623147,
          1.0226354116421743,
          0.6687817773729573,
          1.4791448129964408,
          0.4683721477637024,
          0.6136290063139493,
          -0.8836654479845644,
          1.324638138600231,
          1.0128676363566746,
          -1.8984076055920722,
          -0.29352674399317497,
          -0.49885529916506166,
          0.822322654340613,
          -0.308508015034196,
          1.6632715231451238,
          0.5640668366446504,
          0.8400153982759437,
          0.5726675028836222,
          0.01600333860851399,
          1.1709176403694541,
          -1.0524581681070924,
          -1.4017372011655806,
          -0.7410775136615926,
          0.3450606347378987,
          1.2812632553883703,
          -0.3527779303137753,
          -0.5852734007342651,
          0.9810235646964258,
          -1.065973352802771,
          -0.15146442254221687,
          -0.3496431410140794,
          -0.5133867583688282,
          1.7253378058693758
         ],
         "xaxis": "x7",
         "y": [
          -1.1173847502936025,
          1.746739718699284,
          0.14685877092398286,
          -0.46500629752162825,
          0.4655854906663578,
          -0.06079797292919306,
          -0.9935139192431094,
          -0.9840906486582907,
          0.3858807133247504,
          -0.05165981535030882,
          -0.28153938365960823,
          1.0444208610245398,
          2.9552086536453,
          -0.6360228636743235,
          -0.7750068348042938,
          0.3759362444110491,
          -1.0465943179905126,
          0.5207368215614654,
          -1.2645230056565269,
          -1.6672266527270678,
          0.8136435929779331,
          -0.5161670126408316,
          0.8295781733415212,
          -0.9370552324792465,
          -0.9434636737018017,
          -0.35376129291561254,
          0.1131341527958107,
          -0.7791813809558733,
          -1.5198565256723666,
          0.08475947400103076,
          0.5503775638643653,
          0.3864508203743008,
          1.24508676785871,
          -0.5944516877815453,
          -1.147388038671117,
          1.6745629245114566,
          -0.35706174852272393,
          0.09238182014036393,
          0.45219988102119246,
          -0.9982111420135565,
          -2.364337501067881,
          -1.5689780423807467,
          -0.6195922861260792,
          0.1332476222569659,
          0.7383518851748205,
          0.8093449800294485,
          0.7730083525819172,
          1.4058264441998591,
          1.6662888676900314,
          1.2187622943223144,
          -0.3569510110710778,
          0.789056791494699,
          -0.8914602748284073,
          1.09081664635188,
          -1.4903431943146759,
          -1.4169926866780527,
          0.8187783046002451,
          -1.2840812231710845,
          -0.7474812226213581,
          -0.18246447267077032,
          -1.7170896576775119,
          1.4251919420917685,
          -0.06684710644568471,
          2.248776203702825,
          -1.4497720828871339,
          0.33515054683217393,
          0.2572901158489185,
          -1.8474817915070532,
          0.07171750340675725,
          -0.33435320566254173,
          0.10383275376154216,
          -0.6284608927287233,
          0.866890297412042,
          -1.2024915815630428,
          0.1822133800005098,
          1.129717939403387,
          0.48778847655426805,
          -0.81404660894497,
          -2.4967023192028366,
          -0.15430570948289024,
          1.1629261282568337,
          0.07178192985158226,
          -2.499979619158677,
          -1.0099283783597963,
          -0.20866740683546953,
          -1.2713725553000081,
          -1.5004531175164042,
          0.9280389877106168,
          -1.5295643193552795,
          1.3793034095187395,
          0.24665735973714437,
          0.02648352346857129,
          -0.3723716925856273,
          1.7407167389351086,
          -0.2904664042394969,
          0.8703273669778087,
          1.8871063314463523,
          -0.15925783536561067,
          -0.01232500299030156,
          1.1049302887625263
         ],
         "yaxis": "y7"
        },
        {
         "line": {
          "color": "rgba(128, 128, 128, 1.0)",
          "dash": "solid",
          "shape": "linear",
          "width": 1.3
         },
         "marker": {
          "size": 2,
          "symbol": "circle"
         },
         "mode": "markers",
         "name": "B",
         "text": "",
         "type": "scatter",
         "x": [
          -0.24928176549246744,
          0.43766562725607766,
          0.4911636933927162,
          1.7523971429861311,
          -0.9151291254990293,
          2.526689859980771,
          0.8306532160373419,
          -0.5023275214674892,
          -0.5479546280612896,
          -2.572183254075991,
          0.6520516835942008,
          0.21303230364385592,
          -2.67353945166175,
          1.2657924804275693,
          -0.1638317036376158,
          0.44283481695950516,
          0.3249583261002511,
          -0.09399653505243051,
          -0.3109384017241319,
          0.5708256857603644,
          0.6333611232512597,
          -0.599135502266844,
          -0.4929667876360445,
          -0.06375037377560236,
          -0.5269909683096622,
          -0.5575752612499391,
          -1.2020846724394942,
          -1.6321549927350116,
          1.4279114449960255,
          -0.6144693004074079,
          -0.21259383781399016,
          -1.19956866360025,
          0.03059807861833062,
          0.42966190674389926,
          1.5342674171110502,
          1.401254093534304,
          1.202427573767034,
          0.6894921812796692,
          1.1366594947986572,
          -0.17889497425348794,
          0.27240007895803775,
          0.8146901772806835,
          0.19264118840852978,
          -1.1957881697787762,
          0.7054826975920531,
          -0.2233060203154685,
          -0.019753414665292467,
          1.071013420697468,
          0.6284635436266129,
          1.410271681226113,
          -0.24262105510451937,
          0.1968420081083256,
          -0.07855212762629618,
          1.974354196403117,
          1.7719427413115192,
          -0.7774409273732569,
          -1.624172848941066,
          1.5028725053057772,
          0.25673255995404204,
          0.018310203682808664,
          1.631494514781497,
          -1.451764438413754,
          -0.6008560170876976,
          -1.1597328111446403,
          0.1764286053886547,
          -1.2246949484204448,
          0.9466888965601424,
          -1.955648931806292,
          -1.1262371981967885,
          0.2577519709661145,
          -0.8521206497874158,
          -0.9332922335164483,
          -0.5306441237488271,
          1.8990401454111687,
          -0.3307736735355664,
          -1.58435537195694,
          0.35001137772208324,
          1.1064279284970717,
          -0.4111550594803613,
          1.0202158985347134,
          0.7763283618832962,
          -0.7013310287608374,
          -0.17667984159486233,
          -0.10372497459830986,
          -0.4686774596973294,
          -1.3647059645129447,
          -0.04312159787858875,
          0.47932113215521155,
          1.198645942633406,
          0.6763890844339074,
          -1.365564667612295,
          -0.8023448492675859,
          0.4457650047380639,
          -1.259166288126855,
          0.7743706746417458,
          -0.5256737132389573,
          -1.573555141918629,
          1.03783559002227,
          1.482943710704395,
          0.4924107255646221
         ],
         "xaxis": "x8",
         "y": [
          -1.1173847502936025,
          1.746739718699284,
          0.14685877092398286,
          -0.46500629752162825,
          0.4655854906663578,
          -0.06079797292919306,
          -0.9935139192431094,
          -0.9840906486582907,
          0.3858807133247504,
          -0.05165981535030882,
          -0.28153938365960823,
          1.0444208610245398,
          2.9552086536453,
          -0.6360228636743235,
          -0.7750068348042938,
          0.3759362444110491,
          -1.0465943179905126,
          0.5207368215614654,
          -1.2645230056565269,
          -1.6672266527270678,
          0.8136435929779331,
          -0.5161670126408316,
          0.8295781733415212,
          -0.9370552324792465,
          -0.9434636737018017,
          -0.35376129291561254,
          0.1131341527958107,
          -0.7791813809558733,
          -1.5198565256723666,
          0.08475947400103076,
          0.5503775638643653,
          0.3864508203743008,
          1.24508676785871,
          -0.5944516877815453,
          -1.147388038671117,
          1.6745629245114566,
          -0.35706174852272393,
          0.09238182014036393,
          0.45219988102119246,
          -0.9982111420135565,
          -2.364337501067881,
          -1.5689780423807467,
          -0.6195922861260792,
          0.1332476222569659,
          0.7383518851748205,
          0.8093449800294485,
          0.7730083525819172,
          1.4058264441998591,
          1.6662888676900314,
          1.2187622943223144,
          -0.3569510110710778,
          0.789056791494699,
          -0.8914602748284073,
          1.09081664635188,
          -1.4903431943146759,
          -1.4169926866780527,
          0.8187783046002451,
          -1.2840812231710845,
          -0.7474812226213581,
          -0.18246447267077032,
          -1.7170896576775119,
          1.4251919420917685,
          -0.06684710644568471,
          2.248776203702825,
          -1.4497720828871339,
          0.33515054683217393,
          0.2572901158489185,
          -1.8474817915070532,
          0.07171750340675725,
          -0.33435320566254173,
          0.10383275376154216,
          -0.6284608927287233,
          0.866890297412042,
          -1.2024915815630428,
          0.1822133800005098,
          1.129717939403387,
          0.48778847655426805,
          -0.81404660894497,
          -2.4967023192028366,
          -0.15430570948289024,
          1.1629261282568337,
          0.07178192985158226,
          -2.499979619158677,
          -1.0099283783597963,
          -0.20866740683546953,
          -1.2713725553000081,
          -1.5004531175164042,
          0.9280389877106168,
          -1.5295643193552795,
          1.3793034095187395,
          0.24665735973714437,
          0.02648352346857129,
          -0.3723716925856273,
          1.7407167389351086,
          -0.2904664042394969,
          0.8703273669778087,
          1.8871063314463523,
          -0.15925783536561067,
          -0.01232500299030156,
          1.1049302887625263
         ],
         "yaxis": "y8"
        },
        {
         "line": {
          "color": "rgba(128, 128, 128, 1.0)",
          "dash": "solid",
          "shape": "linear",
          "width": 1.3
         },
         "marker": {
          "size": 2,
          "symbol": "circle"
         },
         "mode": "markers",
         "name": "C",
         "text": "",
         "type": "scatter",
         "x": [
          -0.8952513651069208,
          -0.8433675626903279,
          0.5194375646796255,
          0.20781533281382147,
          -0.28787023198130957,
          1.6626119003563948,
          0.8455339666282456,
          -0.004764186067881709,
          0.4733015021634591,
          -0.9426534090465928,
          0.3495407603251051,
          1.046237290545855,
          -0.9859596463402309,
          2.1084983582558596,
          -0.9317323755961524,
          0.6494024623069314,
          -0.3843287632960257,
          1.1614039215162952,
          -0.20123156557799382,
          -0.45298390054834,
          0.7347549725847721,
          -0.7677041350495847,
          0.13258824206569836,
          1.054969175247717,
          -1.3104840655184302,
          -0.8013236099028447,
          0.8811067964875391,
          1.37964961408107,
          -0.6967541155402649,
          -0.06015481378112143,
          1.6708711018109184,
          -0.8025842912977741,
          -0.015918404685731493,
          -0.027443107556971016,
          2.406932617211438,
          1.3057326517527597,
          -0.06865890639765183,
          1.1071268608316913,
          0.33981602924630167,
          -1.0872016494434344,
          -1.5039010182317643,
          -1.519624037806377,
          1.4712137408778254,
          -0.0034193275927080374,
          -0.6401644852992978,
          0.4859905760774655,
          0.0390256747991155,
          -1.941050095915409,
          -1.6177636665820099,
          0.613241988243389,
          -0.8362331163350449,
          1.6088686769777236,
          1.0424803246654821,
          0.021383677990268142,
          0.8482607537163633,
          0.2705487692995969,
          -0.29215392518076677,
          -0.10297268388786927,
          -1.1823360718306772,
          -0.291903670774597,
          -0.80294506515156,
          -0.9072759442656589,
          -0.8089516008862685,
          -0.9258452866799369,
          -0.06216798493213476,
          1.2447036743884878,
          0.04545716238838049,
          -0.5767553684691545,
          -0.757567169617877,
          1.5631791168400553,
          1.479076371008533,
          0.3313239929669739,
          -0.8932590257661409,
          -0.8233805286922103,
          1.0906334749242377,
          0.9254639718825185,
          0.3337368137528734,
          0.7499843768463412,
          0.8962171001982022,
          0.8433026224184019,
          0.041966578696571485,
          -0.3215182981515437,
          -2.126805113291232,
          -1.6303569601061727,
          -0.8656966690701975,
          -0.1959710508555525,
          -1.4209840585311801,
          -0.5464709582936679,
          -0.5121202308271431,
          -0.2238616074951767,
          0.3327302146369024,
          0.31238636848963375,
          -1.7015350452825535,
          -0.0549239733602343,
          0.2474203199269791,
          -0.36324706968849796,
          -1.0628515643718848,
          2.5078501395900497,
          -1.8677307647196009,
          0.3231424513059178
         ],
         "xaxis": "x9",
         "y": [
          0.15402014678503842,
          0.2657263820399731,
          -0.343402330387866,
          0.04907397042722276,
          0.8284594320192139,
          -1.9597162503039829,
          0.057464181045583575,
          -0.28627755991796483,
          1.3057899377814057,
          0.2655702491850747,
          0.4110004604096362,
          2.127128856286828,
          -0.004654093825273417,
          -0.1456494965111229,
          -0.6448807327848622,
          0.34487161331259336,
          -0.8619394979445104,
          0.45936455722494435,
          -1.357533739395525,
          -0.589562354995894,
          -0.005617720156713443,
          -0.6127013045377776,
          0.8119688688762698,
          0.1636200911848541,
          -0.6508242248720761,
          -0.2301188176803608,
          0.24316836315729567,
          0.9257298097364508,
          0.47182097328120637,
          1.816154359318101,
          1.2428168506400545,
          0.2893884384487877,
          1.068267974309602,
          -0.6518694789966023,
          -0.4861247688337598,
          -0.016089400658961882,
          1.1009248401427172,
          0.7266089200181972,
          0.47492656470023475,
          0.23989608269697232,
          -0.10491232495807155,
          0.8746647007485565,
          -1.158256479116966,
          -0.23810768669398752,
          -0.48821222164675787,
          -0.08145494286790905,
          -0.9889200956542998,
          -0.07257919277033752,
          -0.14710125498318025,
          1.5562866047204014,
          -0.37260912236544264,
          1.3621931178310318,
          -0.29352007206031927,
          -0.9149231445886525,
          -0.5702276323273853,
          -1.9939070398381225,
          0.6033883400895033,
          -0.12906993160729308,
          0.12695591032807224,
          0.4330743892954883,
          -0.06199264302863122,
          -1.1530161815695628,
          0.11700877363256074,
          0.9222514463738127,
          -1.0911939258558483,
          0.12440303317551768,
          0.20218176421198447,
          0.48958209851623147,
          1.0226354116421743,
          0.6687817773729573,
          1.4791448129964408,
          0.4683721477637024,
          0.6136290063139493,
          -0.8836654479845644,
          1.324638138600231,
          1.0128676363566746,
          -1.8984076055920722,
          -0.29352674399317497,
          -0.49885529916506166,
          0.822322654340613,
          -0.308508015034196,
          1.6632715231451238,
          0.5640668366446504,
          0.8400153982759437,
          0.5726675028836222,
          0.01600333860851399,
          1.1709176403694541,
          -1.0524581681070924,
          -1.4017372011655806,
          -0.7410775136615926,
          0.3450606347378987,
          1.2812632553883703,
          -0.3527779303137753,
          -0.5852734007342651,
          0.9810235646964258,
          -1.065973352802771,
          -0.15146442254221687,
          -0.3496431410140794,
          -0.5133867583688282,
          1.7253378058693758
         ],
         "yaxis": "y9"
        },
        {
         "line": {
          "color": "rgba(128, 128, 128, 1.0)",
          "dash": "solid",
          "shape": "linear",
          "width": 1.3
         },
         "marker": {
          "size": 2,
          "symbol": "circle"
         },
         "mode": "markers",
         "name": "C",
         "text": "",
         "type": "scatter",
         "x": [
          -1.1173847502936025,
          1.746739718699284,
          0.14685877092398286,
          -0.46500629752162825,
          0.4655854906663578,
          -0.06079797292919306,
          -0.9935139192431094,
          -0.9840906486582907,
          0.3858807133247504,
          -0.05165981535030882,
          -0.28153938365960823,
          1.0444208610245398,
          2.9552086536453,
          -0.6360228636743235,
          -0.7750068348042938,
          0.3759362444110491,
          -1.0465943179905126,
          0.5207368215614654,
          -1.2645230056565269,
          -1.6672266527270678,
          0.8136435929779331,
          -0.5161670126408316,
          0.8295781733415212,
          -0.9370552324792465,
          -0.9434636737018017,
          -0.35376129291561254,
          0.1131341527958107,
          -0.7791813809558733,
          -1.5198565256723666,
          0.08475947400103076,
          0.5503775638643653,
          0.3864508203743008,
          1.24508676785871,
          -0.5944516877815453,
          -1.147388038671117,
          1.6745629245114566,
          -0.35706174852272393,
          0.09238182014036393,
          0.45219988102119246,
          -0.9982111420135565,
          -2.364337501067881,
          -1.5689780423807467,
          -0.6195922861260792,
          0.1332476222569659,
          0.7383518851748205,
          0.8093449800294485,
          0.7730083525819172,
          1.4058264441998591,
          1.6662888676900314,
          1.2187622943223144,
          -0.3569510110710778,
          0.789056791494699,
          -0.8914602748284073,
          1.09081664635188,
          -1.4903431943146759,
          -1.4169926866780527,
          0.8187783046002451,
          -1.2840812231710845,
          -0.7474812226213581,
          -0.18246447267077032,
          -1.7170896576775119,
          1.4251919420917685,
          -0.06684710644568471,
          2.248776203702825,
          -1.4497720828871339,
          0.33515054683217393,
          0.2572901158489185,
          -1.8474817915070532,
          0.07171750340675725,
          -0.33435320566254173,
          0.10383275376154216,
          -0.6284608927287233,
          0.866890297412042,
          -1.2024915815630428,
          0.1822133800005098,
          1.129717939403387,
          0.48778847655426805,
          -0.81404660894497,
          -2.4967023192028366,
          -0.15430570948289024,
          1.1629261282568337,
          0.07178192985158226,
          -2.499979619158677,
          -1.0099283783597963,
          -0.20866740683546953,
          -1.2713725553000081,
          -1.5004531175164042,
          0.9280389877106168,
          -1.5295643193552795,
          1.3793034095187395,
          0.24665735973714437,
          0.02648352346857129,
          -0.3723716925856273,
          1.7407167389351086,
          -0.2904664042394969,
          0.8703273669778087,
          1.8871063314463523,
          -0.15925783536561067,
          -0.01232500299030156,
          1.1049302887625263
         ],
         "xaxis": "x10",
         "y": [
          0.15402014678503842,
          0.2657263820399731,
          -0.343402330387866,
          0.04907397042722276,
          0.8284594320192139,
          -1.9597162503039829,
          0.057464181045583575,
          -0.28627755991796483,
          1.3057899377814057,
          0.2655702491850747,
          0.4110004604096362,
          2.127128856286828,
          -0.004654093825273417,
          -0.1456494965111229,
          -0.6448807327848622,
          0.34487161331259336,
          -0.8619394979445104,
          0.45936455722494435,
          -1.357533739395525,
          -0.589562354995894,
          -0.005617720156713443,
          -0.6127013045377776,
          0.8119688688762698,
          0.1636200911848541,
          -0.6508242248720761,
          -0.2301188176803608,
          0.24316836315729567,
          0.9257298097364508,
          0.47182097328120637,
          1.816154359318101,
          1.2428168506400545,
          0.2893884384487877,
          1.068267974309602,
          -0.6518694789966023,
          -0.4861247688337598,
          -0.016089400658961882,
          1.1009248401427172,
          0.7266089200181972,
          0.47492656470023475,
          0.23989608269697232,
          -0.10491232495807155,
          0.8746647007485565,
          -1.158256479116966,
          -0.23810768669398752,
          -0.48821222164675787,
          -0.08145494286790905,
          -0.9889200956542998,
          -0.07257919277033752,
          -0.14710125498318025,
          1.5562866047204014,
          -0.37260912236544264,
          1.3621931178310318,
          -0.29352007206031927,
          -0.9149231445886525,
          -0.5702276323273853,
          -1.9939070398381225,
          0.6033883400895033,
          -0.12906993160729308,
          0.12695591032807224,
          0.4330743892954883,
          -0.06199264302863122,
          -1.1530161815695628,
          0.11700877363256074,
          0.9222514463738127,
          -1.0911939258558483,
          0.12440303317551768,
          0.20218176421198447,
          0.48958209851623147,
          1.0226354116421743,
          0.6687817773729573,
          1.4791448129964408,
          0.4683721477637024,
          0.6136290063139493,
          -0.8836654479845644,
          1.324638138600231,
          1.0128676363566746,
          -1.8984076055920722,
          -0.29352674399317497,
          -0.49885529916506166,
          0.822322654340613,
          -0.308508015034196,
          1.6632715231451238,
          0.5640668366446504,
          0.8400153982759437,
          0.5726675028836222,
          0.01600333860851399,
          1.1709176403694541,
          -1.0524581681070924,
          -1.4017372011655806,
          -0.7410775136615926,
          0.3450606347378987,
          1.2812632553883703,
          -0.3527779303137753,
          -0.5852734007342651,
          0.9810235646964258,
          -1.065973352802771,
          -0.15146442254221687,
          -0.3496431410140794,
          -0.5133867583688282,
          1.7253378058693758
         ],
         "yaxis": "y10"
        },
        {
         "histfunc": "count",
         "histnorm": "",
         "marker": {
          "color": "rgba(50, 171, 96, 1.0)",
          "line": {
           "color": "#4D5663",
           "width": 1.3
          }
         },
         "name": "C",
         "nbinsx": 30,
         "opacity": 0.8,
         "orientation": "v",
         "type": "histogram",
         "x": [
          0.15402014678503842,
          0.2657263820399731,
          -0.343402330387866,
          0.04907397042722276,
          0.8284594320192139,
          -1.9597162503039829,
          0.057464181045583575,
          -0.28627755991796483,
          1.3057899377814057,
          0.2655702491850747,
          0.4110004604096362,
          2.127128856286828,
          -0.004654093825273417,
          -0.1456494965111229,
          -0.6448807327848622,
          0.34487161331259336,
          -0.8619394979445104,
          0.45936455722494435,
          -1.357533739395525,
          -0.589562354995894,
          -0.005617720156713443,
          -0.6127013045377776,
          0.8119688688762698,
          0.1636200911848541,
          -0.6508242248720761,
          -0.2301188176803608,
          0.24316836315729567,
          0.9257298097364508,
          0.47182097328120637,
          1.816154359318101,
          1.2428168506400545,
          0.2893884384487877,
          1.068267974309602,
          -0.6518694789966023,
          -0.4861247688337598,
          -0.016089400658961882,
          1.1009248401427172,
          0.7266089200181972,
          0.47492656470023475,
          0.23989608269697232,
          -0.10491232495807155,
          0.8746647007485565,
          -1.158256479116966,
          -0.23810768669398752,
          -0.48821222164675787,
          -0.08145494286790905,
          -0.9889200956542998,
          -0.07257919277033752,
          -0.14710125498318025,
          1.5562866047204014,
          -0.37260912236544264,
          1.3621931178310318,
          -0.29352007206031927,
          -0.9149231445886525,
          -0.5702276323273853,
          -1.9939070398381225,
          0.6033883400895033,
          -0.12906993160729308,
          0.12695591032807224,
          0.4330743892954883,
          -0.06199264302863122,
          -1.1530161815695628,
          0.11700877363256074,
          0.9222514463738127,
          -1.0911939258558483,
          0.12440303317551768,
          0.20218176421198447,
          0.48958209851623147,
          1.0226354116421743,
          0.6687817773729573,
          1.4791448129964408,
          0.4683721477637024,
          0.6136290063139493,
          -0.8836654479845644,
          1.324638138600231,
          1.0128676363566746,
          -1.8984076055920722,
          -0.29352674399317497,
          -0.49885529916506166,
          0.822322654340613,
          -0.308508015034196,
          1.6632715231451238,
          0.5640668366446504,
          0.8400153982759437,
          0.5726675028836222,
          0.01600333860851399,
          1.1709176403694541,
          -1.0524581681070924,
          -1.4017372011655806,
          -0.7410775136615926,
          0.3450606347378987,
          1.2812632553883703,
          -0.3527779303137753,
          -0.5852734007342651,
          0.9810235646964258,
          -1.065973352802771,
          -0.15146442254221687,
          -0.3496431410140794,
          -0.5133867583688282,
          1.7253378058693758
         ],
         "xaxis": "x11",
         "yaxis": "y11"
        },
        {
         "line": {
          "color": "rgba(128, 128, 128, 1.0)",
          "dash": "solid",
          "shape": "linear",
          "width": 1.3
         },
         "marker": {
          "size": 2,
          "symbol": "circle"
         },
         "mode": "markers",
         "name": "C",
         "text": "",
         "type": "scatter",
         "x": [
          -0.24928176549246744,
          0.43766562725607766,
          0.4911636933927162,
          1.7523971429861311,
          -0.9151291254990293,
          2.526689859980771,
          0.8306532160373419,
          -0.5023275214674892,
          -0.5479546280612896,
          -2.572183254075991,
          0.6520516835942008,
          0.21303230364385592,
          -2.67353945166175,
          1.2657924804275693,
          -0.1638317036376158,
          0.44283481695950516,
          0.3249583261002511,
          -0.09399653505243051,
          -0.3109384017241319,
          0.5708256857603644,
          0.6333611232512597,
          -0.599135502266844,
          -0.4929667876360445,
          -0.06375037377560236,
          -0.5269909683096622,
          -0.5575752612499391,
          -1.2020846724394942,
          -1.6321549927350116,
          1.4279114449960255,
          -0.6144693004074079,
          -0.21259383781399016,
          -1.19956866360025,
          0.03059807861833062,
          0.42966190674389926,
          1.5342674171110502,
          1.401254093534304,
          1.202427573767034,
          0.6894921812796692,
          1.1366594947986572,
          -0.17889497425348794,
          0.27240007895803775,
          0.8146901772806835,
          0.19264118840852978,
          -1.1957881697787762,
          0.7054826975920531,
          -0.2233060203154685,
          -0.019753414665292467,
          1.071013420697468,
          0.6284635436266129,
          1.410271681226113,
          -0.24262105510451937,
          0.1968420081083256,
          -0.07855212762629618,
          1.974354196403117,
          1.7719427413115192,
          -0.7774409273732569,
          -1.624172848941066,
          1.5028725053057772,
          0.25673255995404204,
          0.018310203682808664,
          1.631494514781497,
          -1.451764438413754,
          -0.6008560170876976,
          -1.1597328111446403,
          0.1764286053886547,
          -1.2246949484204448,
          0.9466888965601424,
          -1.955648931806292,
          -1.1262371981967885,
          0.2577519709661145,
          -0.8521206497874158,
          -0.9332922335164483,
          -0.5306441237488271,
          1.8990401454111687,
          -0.3307736735355664,
          -1.58435537195694,
          0.35001137772208324,
          1.1064279284970717,
          -0.4111550594803613,
          1.0202158985347134,
          0.7763283618832962,
          -0.7013310287608374,
          -0.17667984159486233,
          -0.10372497459830986,
          -0.4686774596973294,
          -1.3647059645129447,
          -0.04312159787858875,
          0.47932113215521155,
          1.198645942633406,
          0.6763890844339074,
          -1.365564667612295,
          -0.8023448492675859,
          0.4457650047380639,
          -1.259166288126855,
          0.7743706746417458,
          -0.5256737132389573,
          -1.573555141918629,
          1.03783559002227,
          1.482943710704395,
          0.4924107255646221
         ],
         "xaxis": "x12",
         "y": [
          0.15402014678503842,
          0.2657263820399731,
          -0.343402330387866,
          0.04907397042722276,
          0.8284594320192139,
          -1.9597162503039829,
          0.057464181045583575,
          -0.28627755991796483,
          1.3057899377814057,
          0.2655702491850747,
          0.4110004604096362,
          2.127128856286828,
          -0.004654093825273417,
          -0.1456494965111229,
          -0.6448807327848622,
          0.34487161331259336,
          -0.8619394979445104,
          0.45936455722494435,
          -1.357533739395525,
          -0.589562354995894,
          -0.005617720156713443,
          -0.6127013045377776,
          0.8119688688762698,
          0.1636200911848541,
          -0.6508242248720761,
          -0.2301188176803608,
          0.24316836315729567,
          0.9257298097364508,
          0.47182097328120637,
          1.816154359318101,
          1.2428168506400545,
          0.2893884384487877,
          1.068267974309602,
          -0.6518694789966023,
          -0.4861247688337598,
          -0.016089400658961882,
          1.1009248401427172,
          0.7266089200181972,
          0.47492656470023475,
          0.23989608269697232,
          -0.10491232495807155,
          0.8746647007485565,
          -1.158256479116966,
          -0.23810768669398752,
          -0.48821222164675787,
          -0.08145494286790905,
          -0.9889200956542998,
          -0.07257919277033752,
          -0.14710125498318025,
          1.5562866047204014,
          -0.37260912236544264,
          1.3621931178310318,
          -0.29352007206031927,
          -0.9149231445886525,
          -0.5702276323273853,
          -1.9939070398381225,
          0.6033883400895033,
          -0.12906993160729308,
          0.12695591032807224,
          0.4330743892954883,
          -0.06199264302863122,
          -1.1530161815695628,
          0.11700877363256074,
          0.9222514463738127,
          -1.0911939258558483,
          0.12440303317551768,
          0.20218176421198447,
          0.48958209851623147,
          1.0226354116421743,
          0.6687817773729573,
          1.4791448129964408,
          0.4683721477637024,
          0.6136290063139493,
          -0.8836654479845644,
          1.324638138600231,
          1.0128676363566746,
          -1.8984076055920722,
          -0.29352674399317497,
          -0.49885529916506166,
          0.822322654340613,
          -0.308508015034196,
          1.6632715231451238,
          0.5640668366446504,
          0.8400153982759437,
          0.5726675028836222,
          0.01600333860851399,
          1.1709176403694541,
          -1.0524581681070924,
          -1.4017372011655806,
          -0.7410775136615926,
          0.3450606347378987,
          1.2812632553883703,
          -0.3527779303137753,
          -0.5852734007342651,
          0.9810235646964258,
          -1.065973352802771,
          -0.15146442254221687,
          -0.3496431410140794,
          -0.5133867583688282,
          1.7253378058693758
         ],
         "yaxis": "y12"
        },
        {
         "line": {
          "color": "rgba(128, 128, 128, 1.0)",
          "dash": "solid",
          "shape": "linear",
          "width": 1.3
         },
         "marker": {
          "size": 2,
          "symbol": "circle"
         },
         "mode": "markers",
         "name": "D",
         "text": "",
         "type": "scatter",
         "x": [
          -0.8952513651069208,
          -0.8433675626903279,
          0.5194375646796255,
          0.20781533281382147,
          -0.28787023198130957,
          1.6626119003563948,
          0.8455339666282456,
          -0.004764186067881709,
          0.4733015021634591,
          -0.9426534090465928,
          0.3495407603251051,
          1.046237290545855,
          -0.9859596463402309,
          2.1084983582558596,
          -0.9317323755961524,
          0.6494024623069314,
          -0.3843287632960257,
          1.1614039215162952,
          -0.20123156557799382,
          -0.45298390054834,
          0.7347549725847721,
          -0.7677041350495847,
          0.13258824206569836,
          1.054969175247717,
          -1.3104840655184302,
          -0.8013236099028447,
          0.8811067964875391,
          1.37964961408107,
          -0.6967541155402649,
          -0.06015481378112143,
          1.6708711018109184,
          -0.8025842912977741,
          -0.015918404685731493,
          -0.027443107556971016,
          2.406932617211438,
          1.3057326517527597,
          -0.06865890639765183,
          1.1071268608316913,
          0.33981602924630167,
          -1.0872016494434344,
          -1.5039010182317643,
          -1.519624037806377,
          1.4712137408778254,
          -0.0034193275927080374,
          -0.6401644852992978,
          0.4859905760774655,
          0.0390256747991155,
          -1.941050095915409,
          -1.6177636665820099,
          0.613241988243389,
          -0.8362331163350449,
          1.6088686769777236,
          1.0424803246654821,
          0.021383677990268142,
          0.8482607537163633,
          0.2705487692995969,
          -0.29215392518076677,
          -0.10297268388786927,
          -1.1823360718306772,
          -0.291903670774597,
          -0.80294506515156,
          -0.9072759442656589,
          -0.8089516008862685,
          -0.9258452866799369,
          -0.06216798493213476,
          1.2447036743884878,
          0.04545716238838049,
          -0.5767553684691545,
          -0.757567169617877,
          1.5631791168400553,
          1.479076371008533,
          0.3313239929669739,
          -0.8932590257661409,
          -0.8233805286922103,
          1.0906334749242377,
          0.9254639718825185,
          0.3337368137528734,
          0.7499843768463412,
          0.8962171001982022,
          0.8433026224184019,
          0.041966578696571485,
          -0.3215182981515437,
          -2.126805113291232,
          -1.6303569601061727,
          -0.8656966690701975,
          -0.1959710508555525,
          -1.4209840585311801,
          -0.5464709582936679,
          -0.5121202308271431,
          -0.2238616074951767,
          0.3327302146369024,
          0.31238636848963375,
          -1.7015350452825535,
          -0.0549239733602343,
          0.2474203199269791,
          -0.36324706968849796,
          -1.0628515643718848,
          2.5078501395900497,
          -1.8677307647196009,
          0.3231424513059178
         ],
         "xaxis": "x13",
         "y": [
          -0.24928176549246744,
          0.43766562725607766,
          0.4911636933927162,
          1.7523971429861311,
          -0.9151291254990293,
          2.526689859980771,
          0.8306532160373419,
          -0.5023275214674892,
          -0.5479546280612896,
          -2.572183254075991,
          0.6520516835942008,
          0.21303230364385592,
          -2.67353945166175,
          1.2657924804275693,
          -0.1638317036376158,
          0.44283481695950516,
          0.3249583261002511,
          -0.09399653505243051,
          -0.3109384017241319,
          0.5708256857603644,
          0.6333611232512597,
          -0.599135502266844,
          -0.4929667876360445,
          -0.06375037377560236,
          -0.5269909683096622,
          -0.5575752612499391,
          -1.2020846724394942,
          -1.6321549927350116,
          1.4279114449960255,
          -0.6144693004074079,
          -0.21259383781399016,
          -1.19956866360025,
          0.03059807861833062,
          0.42966190674389926,
          1.5342674171110502,
          1.401254093534304,
          1.202427573767034,
          0.6894921812796692,
          1.1366594947986572,
          -0.17889497425348794,
          0.27240007895803775,
          0.8146901772806835,
          0.19264118840852978,
          -1.1957881697787762,
          0.7054826975920531,
          -0.2233060203154685,
          -0.019753414665292467,
          1.071013420697468,
          0.6284635436266129,
          1.410271681226113,
          -0.24262105510451937,
          0.1968420081083256,
          -0.07855212762629618,
          1.974354196403117,
          1.7719427413115192,
          -0.7774409273732569,
          -1.624172848941066,
          1.5028725053057772,
          0.25673255995404204,
          0.018310203682808664,
          1.631494514781497,
          -1.451764438413754,
          -0.6008560170876976,
          -1.1597328111446403,
          0.1764286053886547,
          -1.2246949484204448,
          0.9466888965601424,
          -1.955648931806292,
          -1.1262371981967885,
          0.2577519709661145,
          -0.8521206497874158,
          -0.9332922335164483,
          -0.5306441237488271,
          1.8990401454111687,
          -0.3307736735355664,
          -1.58435537195694,
          0.35001137772208324,
          1.1064279284970717,
          -0.4111550594803613,
          1.0202158985347134,
          0.7763283618832962,
          -0.7013310287608374,
          -0.17667984159486233,
          -0.10372497459830986,
          -0.4686774596973294,
          -1.3647059645129447,
          -0.04312159787858875,
          0.47932113215521155,
          1.198645942633406,
          0.6763890844339074,
          -1.365564667612295,
          -0.8023448492675859,
          0.4457650047380639,
          -1.259166288126855,
          0.7743706746417458,
          -0.5256737132389573,
          -1.573555141918629,
          1.03783559002227,
          1.482943710704395,
          0.4924107255646221
         ],
         "yaxis": "y13"
        },
        {
         "line": {
          "color": "rgba(128, 128, 128, 1.0)",
          "dash": "solid",
          "shape": "linear",
          "width": 1.3
         },
         "marker": {
          "size": 2,
          "symbol": "circle"
         },
         "mode": "markers",
         "name": "D",
         "text": "",
         "type": "scatter",
         "x": [
          -1.1173847502936025,
          1.746739718699284,
          0.14685877092398286,
          -0.46500629752162825,
          0.4655854906663578,
          -0.06079797292919306,
          -0.9935139192431094,
          -0.9840906486582907,
          0.3858807133247504,
          -0.05165981535030882,
          -0.28153938365960823,
          1.0444208610245398,
          2.9552086536453,
          -0.6360228636743235,
          -0.7750068348042938,
          0.3759362444110491,
          -1.0465943179905126,
          0.5207368215614654,
          -1.2645230056565269,
          -1.6672266527270678,
          0.8136435929779331,
          -0.5161670126408316,
          0.8295781733415212,
          -0.9370552324792465,
          -0.9434636737018017,
          -0.35376129291561254,
          0.1131341527958107,
          -0.7791813809558733,
          -1.5198565256723666,
          0.08475947400103076,
          0.5503775638643653,
          0.3864508203743008,
          1.24508676785871,
          -0.5944516877815453,
          -1.147388038671117,
          1.6745629245114566,
          -0.35706174852272393,
          0.09238182014036393,
          0.45219988102119246,
          -0.9982111420135565,
          -2.364337501067881,
          -1.5689780423807467,
          -0.6195922861260792,
          0.1332476222569659,
          0.7383518851748205,
          0.8093449800294485,
          0.7730083525819172,
          1.4058264441998591,
          1.6662888676900314,
          1.2187622943223144,
          -0.3569510110710778,
          0.789056791494699,
          -0.8914602748284073,
          1.09081664635188,
          -1.4903431943146759,
          -1.4169926866780527,
          0.8187783046002451,
          -1.2840812231710845,
          -0.7474812226213581,
          -0.18246447267077032,
          -1.7170896576775119,
          1.4251919420917685,
          -0.06684710644568471,
          2.248776203702825,
          -1.4497720828871339,
          0.33515054683217393,
          0.2572901158489185,
          -1.8474817915070532,
          0.07171750340675725,
          -0.33435320566254173,
          0.10383275376154216,
          -0.6284608927287233,
          0.866890297412042,
          -1.2024915815630428,
          0.1822133800005098,
          1.129717939403387,
          0.48778847655426805,
          -0.81404660894497,
          -2.4967023192028366,
          -0.15430570948289024,
          1.1629261282568337,
          0.07178192985158226,
          -2.499979619158677,
          -1.0099283783597963,
          -0.20866740683546953,
          -1.2713725553000081,
          -1.5004531175164042,
          0.9280389877106168,
          -1.5295643193552795,
          1.3793034095187395,
          0.24665735973714437,
          0.02648352346857129,
          -0.3723716925856273,
          1.7407167389351086,
          -0.2904664042394969,
          0.8703273669778087,
          1.8871063314463523,
          -0.15925783536561067,
          -0.01232500299030156,
          1.1049302887625263
         ],
         "xaxis": "x14",
         "y": [
          -0.24928176549246744,
          0.43766562725607766,
          0.4911636933927162,
          1.7523971429861311,
          -0.9151291254990293,
          2.526689859980771,
          0.8306532160373419,
          -0.5023275214674892,
          -0.5479546280612896,
          -2.572183254075991,
          0.6520516835942008,
          0.21303230364385592,
          -2.67353945166175,
          1.2657924804275693,
          -0.1638317036376158,
          0.44283481695950516,
          0.3249583261002511,
          -0.09399653505243051,
          -0.3109384017241319,
          0.5708256857603644,
          0.6333611232512597,
          -0.599135502266844,
          -0.4929667876360445,
          -0.06375037377560236,
          -0.5269909683096622,
          -0.5575752612499391,
          -1.2020846724394942,
          -1.6321549927350116,
          1.4279114449960255,
          -0.6144693004074079,
          -0.21259383781399016,
          -1.19956866360025,
          0.03059807861833062,
          0.42966190674389926,
          1.5342674171110502,
          1.401254093534304,
          1.202427573767034,
          0.6894921812796692,
          1.1366594947986572,
          -0.17889497425348794,
          0.27240007895803775,
          0.8146901772806835,
          0.19264118840852978,
          -1.1957881697787762,
          0.7054826975920531,
          -0.2233060203154685,
          -0.019753414665292467,
          1.071013420697468,
          0.6284635436266129,
          1.410271681226113,
          -0.24262105510451937,
          0.1968420081083256,
          -0.07855212762629618,
          1.974354196403117,
          1.7719427413115192,
          -0.7774409273732569,
          -1.624172848941066,
          1.5028725053057772,
          0.25673255995404204,
          0.018310203682808664,
          1.631494514781497,
          -1.451764438413754,
          -0.6008560170876976,
          -1.1597328111446403,
          0.1764286053886547,
          -1.2246949484204448,
          0.9466888965601424,
          -1.955648931806292,
          -1.1262371981967885,
          0.2577519709661145,
          -0.8521206497874158,
          -0.9332922335164483,
          -0.5306441237488271,
          1.8990401454111687,
          -0.3307736735355664,
          -1.58435537195694,
          0.35001137772208324,
          1.1064279284970717,
          -0.4111550594803613,
          1.0202158985347134,
          0.7763283618832962,
          -0.7013310287608374,
          -0.17667984159486233,
          -0.10372497459830986,
          -0.4686774596973294,
          -1.3647059645129447,
          -0.04312159787858875,
          0.47932113215521155,
          1.198645942633406,
          0.6763890844339074,
          -1.365564667612295,
          -0.8023448492675859,
          0.4457650047380639,
          -1.259166288126855,
          0.7743706746417458,
          -0.5256737132389573,
          -1.573555141918629,
          1.03783559002227,
          1.482943710704395,
          0.4924107255646221
         ],
         "yaxis": "y14"
        },
        {
         "line": {
          "color": "rgba(128, 128, 128, 1.0)",
          "dash": "solid",
          "shape": "linear",
          "width": 1.3
         },
         "marker": {
          "size": 2,
          "symbol": "circle"
         },
         "mode": "markers",
         "name": "D",
         "text": "",
         "type": "scatter",
         "x": [
          0.15402014678503842,
          0.2657263820399731,
          -0.343402330387866,
          0.04907397042722276,
          0.8284594320192139,
          -1.9597162503039829,
          0.057464181045583575,
          -0.28627755991796483,
          1.3057899377814057,
          0.2655702491850747,
          0.4110004604096362,
          2.127128856286828,
          -0.004654093825273417,
          -0.1456494965111229,
          -0.6448807327848622,
          0.34487161331259336,
          -0.8619394979445104,
          0.45936455722494435,
          -1.357533739395525,
          -0.589562354995894,
          -0.005617720156713443,
          -0.6127013045377776,
          0.8119688688762698,
          0.1636200911848541,
          -0.6508242248720761,
          -0.2301188176803608,
          0.24316836315729567,
          0.9257298097364508,
          0.47182097328120637,
          1.816154359318101,
          1.2428168506400545,
          0.2893884384487877,
          1.068267974309602,
          -0.6518694789966023,
          -0.4861247688337598,
          -0.016089400658961882,
          1.1009248401427172,
          0.7266089200181972,
          0.47492656470023475,
          0.23989608269697232,
          -0.10491232495807155,
          0.8746647007485565,
          -1.158256479116966,
          -0.23810768669398752,
          -0.48821222164675787,
          -0.08145494286790905,
          -0.9889200956542998,
          -0.07257919277033752,
          -0.14710125498318025,
          1.5562866047204014,
          -0.37260912236544264,
          1.3621931178310318,
          -0.29352007206031927,
          -0.9149231445886525,
          -0.5702276323273853,
          -1.9939070398381225,
          0.6033883400895033,
          -0.12906993160729308,
          0.12695591032807224,
          0.4330743892954883,
          -0.06199264302863122,
          -1.1530161815695628,
          0.11700877363256074,
          0.9222514463738127,
          -1.0911939258558483,
          0.12440303317551768,
          0.20218176421198447,
          0.48958209851623147,
          1.0226354116421743,
          0.6687817773729573,
          1.4791448129964408,
          0.4683721477637024,
          0.6136290063139493,
          -0.8836654479845644,
          1.324638138600231,
          1.0128676363566746,
          -1.8984076055920722,
          -0.29352674399317497,
          -0.49885529916506166,
          0.822322654340613,
          -0.308508015034196,
          1.6632715231451238,
          0.5640668366446504,
          0.8400153982759437,
          0.5726675028836222,
          0.01600333860851399,
          1.1709176403694541,
          -1.0524581681070924,
          -1.4017372011655806,
          -0.7410775136615926,
          0.3450606347378987,
          1.2812632553883703,
          -0.3527779303137753,
          -0.5852734007342651,
          0.9810235646964258,
          -1.065973352802771,
          -0.15146442254221687,
          -0.3496431410140794,
          -0.5133867583688282,
          1.7253378058693758
         ],
         "xaxis": "x15",
         "y": [
          -0.24928176549246744,
          0.43766562725607766,
          0.4911636933927162,
          1.7523971429861311,
          -0.9151291254990293,
          2.526689859980771,
          0.8306532160373419,
          -0.5023275214674892,
          -0.5479546280612896,
          -2.572183254075991,
          0.6520516835942008,
          0.21303230364385592,
          -2.67353945166175,
          1.2657924804275693,
          -0.1638317036376158,
          0.44283481695950516,
          0.3249583261002511,
          -0.09399653505243051,
          -0.3109384017241319,
          0.5708256857603644,
          0.6333611232512597,
          -0.599135502266844,
          -0.4929667876360445,
          -0.06375037377560236,
          -0.5269909683096622,
          -0.5575752612499391,
          -1.2020846724394942,
          -1.6321549927350116,
          1.4279114449960255,
          -0.6144693004074079,
          -0.21259383781399016,
          -1.19956866360025,
          0.03059807861833062,
          0.42966190674389926,
          1.5342674171110502,
          1.401254093534304,
          1.202427573767034,
          0.6894921812796692,
          1.1366594947986572,
          -0.17889497425348794,
          0.27240007895803775,
          0.8146901772806835,
          0.19264118840852978,
          -1.1957881697787762,
          0.7054826975920531,
          -0.2233060203154685,
          -0.019753414665292467,
          1.071013420697468,
          0.6284635436266129,
          1.410271681226113,
          -0.24262105510451937,
          0.1968420081083256,
          -0.07855212762629618,
          1.974354196403117,
          1.7719427413115192,
          -0.7774409273732569,
          -1.624172848941066,
          1.5028725053057772,
          0.25673255995404204,
          0.018310203682808664,
          1.631494514781497,
          -1.451764438413754,
          -0.6008560170876976,
          -1.1597328111446403,
          0.1764286053886547,
          -1.2246949484204448,
          0.9466888965601424,
          -1.955648931806292,
          -1.1262371981967885,
          0.2577519709661145,
          -0.8521206497874158,
          -0.9332922335164483,
          -0.5306441237488271,
          1.8990401454111687,
          -0.3307736735355664,
          -1.58435537195694,
          0.35001137772208324,
          1.1064279284970717,
          -0.4111550594803613,
          1.0202158985347134,
          0.7763283618832962,
          -0.7013310287608374,
          -0.17667984159486233,
          -0.10372497459830986,
          -0.4686774596973294,
          -1.3647059645129447,
          -0.04312159787858875,
          0.47932113215521155,
          1.198645942633406,
          0.6763890844339074,
          -1.365564667612295,
          -0.8023448492675859,
          0.4457650047380639,
          -1.259166288126855,
          0.7743706746417458,
          -0.5256737132389573,
          -1.573555141918629,
          1.03783559002227,
          1.482943710704395,
          0.4924107255646221
         ],
         "yaxis": "y15"
        },
        {
         "histfunc": "count",
         "histnorm": "",
         "marker": {
          "color": "rgba(128, 0, 128, 1.0)",
          "line": {
           "color": "#4D5663",
           "width": 1.3
          }
         },
         "name": "D",
         "nbinsx": 30,
         "opacity": 0.8,
         "orientation": "v",
         "type": "histogram",
         "x": [
          -0.24928176549246744,
          0.43766562725607766,
          0.4911636933927162,
          1.7523971429861311,
          -0.9151291254990293,
          2.526689859980771,
          0.8306532160373419,
          -0.5023275214674892,
          -0.5479546280612896,
          -2.572183254075991,
          0.6520516835942008,
          0.21303230364385592,
          -2.67353945166175,
          1.2657924804275693,
          -0.1638317036376158,
          0.44283481695950516,
          0.3249583261002511,
          -0.09399653505243051,
          -0.3109384017241319,
          0.5708256857603644,
          0.6333611232512597,
          -0.599135502266844,
          -0.4929667876360445,
          -0.06375037377560236,
          -0.5269909683096622,
          -0.5575752612499391,
          -1.2020846724394942,
          -1.6321549927350116,
          1.4279114449960255,
          -0.6144693004074079,
          -0.21259383781399016,
          -1.19956866360025,
          0.03059807861833062,
          0.42966190674389926,
          1.5342674171110502,
          1.401254093534304,
          1.202427573767034,
          0.6894921812796692,
          1.1366594947986572,
          -0.17889497425348794,
          0.27240007895803775,
          0.8146901772806835,
          0.19264118840852978,
          -1.1957881697787762,
          0.7054826975920531,
          -0.2233060203154685,
          -0.019753414665292467,
          1.071013420697468,
          0.6284635436266129,
          1.410271681226113,
          -0.24262105510451937,
          0.1968420081083256,
          -0.07855212762629618,
          1.974354196403117,
          1.7719427413115192,
          -0.7774409273732569,
          -1.624172848941066,
          1.5028725053057772,
          0.25673255995404204,
          0.018310203682808664,
          1.631494514781497,
          -1.451764438413754,
          -0.6008560170876976,
          -1.1597328111446403,
          0.1764286053886547,
          -1.2246949484204448,
          0.9466888965601424,
          -1.955648931806292,
          -1.1262371981967885,
          0.2577519709661145,
          -0.8521206497874158,
          -0.9332922335164483,
          -0.5306441237488271,
          1.8990401454111687,
          -0.3307736735355664,
          -1.58435537195694,
          0.35001137772208324,
          1.1064279284970717,
          -0.4111550594803613,
          1.0202158985347134,
          0.7763283618832962,
          -0.7013310287608374,
          -0.17667984159486233,
          -0.10372497459830986,
          -0.4686774596973294,
          -1.3647059645129447,
          -0.04312159787858875,
          0.47932113215521155,
          1.198645942633406,
          0.6763890844339074,
          -1.365564667612295,
          -0.8023448492675859,
          0.4457650047380639,
          -1.259166288126855,
          0.7743706746417458,
          -0.5256737132389573,
          -1.573555141918629,
          1.03783559002227,
          1.482943710704395,
          0.4924107255646221
         ],
         "xaxis": "x16",
         "yaxis": "y16"
        }
       ],
       "layout": {
        "bargap": 0.02,
        "legend": {
         "bgcolor": "#F5F6F9",
         "font": {
          "color": "#4D5663"
         }
        },
        "paper_bgcolor": "#F5F6F9",
        "plot_bgcolor": "#F5F6F9",
        "showlegend": false,
        "template": {
         "data": {
          "bar": [
           {
            "error_x": {
             "color": "#2a3f5f"
            },
            "error_y": {
             "color": "#2a3f5f"
            },
            "marker": {
             "line": {
              "color": "#E5ECF6",
              "width": 0.5
             },
             "pattern": {
              "fillmode": "overlay",
              "size": 10,
              "solidity": 0.2
             }
            },
            "type": "bar"
           }
          ],
          "barpolar": [
           {
            "marker": {
             "line": {
              "color": "#E5ECF6",
              "width": 0.5
             },
             "pattern": {
              "fillmode": "overlay",
              "size": 10,
              "solidity": 0.2
             }
            },
            "type": "barpolar"
           }
          ],
          "carpet": [
           {
            "aaxis": {
             "endlinecolor": "#2a3f5f",
             "gridcolor": "white",
             "linecolor": "white",
             "minorgridcolor": "white",
             "startlinecolor": "#2a3f5f"
            },
            "baxis": {
             "endlinecolor": "#2a3f5f",
             "gridcolor": "white",
             "linecolor": "white",
             "minorgridcolor": "white",
             "startlinecolor": "#2a3f5f"
            },
            "type": "carpet"
           }
          ],
          "choropleth": [
           {
            "colorbar": {
             "outlinewidth": 0,
             "ticks": ""
            },
            "type": "choropleth"
           }
          ],
          "contour": [
           {
            "colorbar": {
             "outlinewidth": 0,
             "ticks": ""
            },
            "colorscale": [
             [
              0,
              "#0d0887"
             ],
             [
              0.1111111111111111,
              "#46039f"
             ],
             [
              0.2222222222222222,
              "#7201a8"
             ],
             [
              0.3333333333333333,
              "#9c179e"
             ],
             [
              0.4444444444444444,
              "#bd3786"
             ],
             [
              0.5555555555555556,
              "#d8576b"
             ],
             [
              0.6666666666666666,
              "#ed7953"
             ],
             [
              0.7777777777777778,
              "#fb9f3a"
             ],
             [
              0.8888888888888888,
              "#fdca26"
             ],
             [
              1,
              "#f0f921"
             ]
            ],
            "type": "contour"
           }
          ],
          "contourcarpet": [
           {
            "colorbar": {
             "outlinewidth": 0,
             "ticks": ""
            },
            "type": "contourcarpet"
           }
          ],
          "heatmap": [
           {
            "colorbar": {
             "outlinewidth": 0,
             "ticks": ""
            },
            "colorscale": [
             [
              0,
              "#0d0887"
             ],
             [
              0.1111111111111111,
              "#46039f"
             ],
             [
              0.2222222222222222,
              "#7201a8"
             ],
             [
              0.3333333333333333,
              "#9c179e"
             ],
             [
              0.4444444444444444,
              "#bd3786"
             ],
             [
              0.5555555555555556,
              "#d8576b"
             ],
             [
              0.6666666666666666,
              "#ed7953"
             ],
             [
              0.7777777777777778,
              "#fb9f3a"
             ],
             [
              0.8888888888888888,
              "#fdca26"
             ],
             [
              1,
              "#f0f921"
             ]
            ],
            "type": "heatmap"
           }
          ],
          "heatmapgl": [
           {
            "colorbar": {
             "outlinewidth": 0,
             "ticks": ""
            },
            "colorscale": [
             [
              0,
              "#0d0887"
             ],
             [
              0.1111111111111111,
              "#46039f"
             ],
             [
              0.2222222222222222,
              "#7201a8"
             ],
             [
              0.3333333333333333,
              "#9c179e"
             ],
             [
              0.4444444444444444,
              "#bd3786"
             ],
             [
              0.5555555555555556,
              "#d8576b"
             ],
             [
              0.6666666666666666,
              "#ed7953"
             ],
             [
              0.7777777777777778,
              "#fb9f3a"
             ],
             [
              0.8888888888888888,
              "#fdca26"
             ],
             [
              1,
              "#f0f921"
             ]
            ],
            "type": "heatmapgl"
           }
          ],
          "histogram": [
           {
            "marker": {
             "pattern": {
              "fillmode": "overlay",
              "size": 10,
              "solidity": 0.2
             }
            },
            "type": "histogram"
           }
          ],
          "histogram2d": [
           {
            "colorbar": {
             "outlinewidth": 0,
             "ticks": ""
            },
            "colorscale": [
             [
              0,
              "#0d0887"
             ],
             [
              0.1111111111111111,
              "#46039f"
             ],
             [
              0.2222222222222222,
              "#7201a8"
             ],
             [
              0.3333333333333333,
              "#9c179e"
             ],
             [
              0.4444444444444444,
              "#bd3786"
             ],
             [
              0.5555555555555556,
              "#d8576b"
             ],
             [
              0.6666666666666666,
              "#ed7953"
             ],
             [
              0.7777777777777778,
              "#fb9f3a"
             ],
             [
              0.8888888888888888,
              "#fdca26"
             ],
             [
              1,
              "#f0f921"
             ]
            ],
            "type": "histogram2d"
           }
          ],
          "histogram2dcontour": [
           {
            "colorbar": {
             "outlinewidth": 0,
             "ticks": ""
            },
            "colorscale": [
             [
              0,
              "#0d0887"
             ],
             [
              0.1111111111111111,
              "#46039f"
             ],
             [
              0.2222222222222222,
              "#7201a8"
             ],
             [
              0.3333333333333333,
              "#9c179e"
             ],
             [
              0.4444444444444444,
              "#bd3786"
             ],
             [
              0.5555555555555556,
              "#d8576b"
             ],
             [
              0.6666666666666666,
              "#ed7953"
             ],
             [
              0.7777777777777778,
              "#fb9f3a"
             ],
             [
              0.8888888888888888,
              "#fdca26"
             ],
             [
              1,
              "#f0f921"
             ]
            ],
            "type": "histogram2dcontour"
           }
          ],
          "mesh3d": [
           {
            "colorbar": {
             "outlinewidth": 0,
             "ticks": ""
            },
            "type": "mesh3d"
           }
          ],
          "parcoords": [
           {
            "line": {
             "colorbar": {
              "outlinewidth": 0,
              "ticks": ""
             }
            },
            "type": "parcoords"
           }
          ],
          "pie": [
           {
            "automargin": true,
            "type": "pie"
           }
          ],
          "scatter": [
           {
            "marker": {
             "colorbar": {
              "outlinewidth": 0,
              "ticks": ""
             }
            },
            "type": "scatter"
           }
          ],
          "scatter3d": [
           {
            "line": {
             "colorbar": {
              "outlinewidth": 0,
              "ticks": ""
             }
            },
            "marker": {
             "colorbar": {
              "outlinewidth": 0,
              "ticks": ""
             }
            },
            "type": "scatter3d"
           }
          ],
          "scattercarpet": [
           {
            "marker": {
             "colorbar": {
              "outlinewidth": 0,
              "ticks": ""
             }
            },
            "type": "scattercarpet"
           }
          ],
          "scattergeo": [
           {
            "marker": {
             "colorbar": {
              "outlinewidth": 0,
              "ticks": ""
             }
            },
            "type": "scattergeo"
           }
          ],
          "scattergl": [
           {
            "marker": {
             "colorbar": {
              "outlinewidth": 0,
              "ticks": ""
             }
            },
            "type": "scattergl"
           }
          ],
          "scattermapbox": [
           {
            "marker": {
             "colorbar": {
              "outlinewidth": 0,
              "ticks": ""
             }
            },
            "type": "scattermapbox"
           }
          ],
          "scatterpolar": [
           {
            "marker": {
             "colorbar": {
              "outlinewidth": 0,
              "ticks": ""
             }
            },
            "type": "scatterpolar"
           }
          ],
          "scatterpolargl": [
           {
            "marker": {
             "colorbar": {
              "outlinewidth": 0,
              "ticks": ""
             }
            },
            "type": "scatterpolargl"
           }
          ],
          "scatterternary": [
           {
            "marker": {
             "colorbar": {
              "outlinewidth": 0,
              "ticks": ""
             }
            },
            "type": "scatterternary"
           }
          ],
          "surface": [
           {
            "colorbar": {
             "outlinewidth": 0,
             "ticks": ""
            },
            "colorscale": [
             [
              0,
              "#0d0887"
             ],
             [
              0.1111111111111111,
              "#46039f"
             ],
             [
              0.2222222222222222,
              "#7201a8"
             ],
             [
              0.3333333333333333,
              "#9c179e"
             ],
             [
              0.4444444444444444,
              "#bd3786"
             ],
             [
              0.5555555555555556,
              "#d8576b"
             ],
             [
              0.6666666666666666,
              "#ed7953"
             ],
             [
              0.7777777777777778,
              "#fb9f3a"
             ],
             [
              0.8888888888888888,
              "#fdca26"
             ],
             [
              1,
              "#f0f921"
             ]
            ],
            "type": "surface"
           }
          ],
          "table": [
           {
            "cells": {
             "fill": {
              "color": "#EBF0F8"
             },
             "line": {
              "color": "white"
             }
            },
            "header": {
             "fill": {
              "color": "#C8D4E3"
             },
             "line": {
              "color": "white"
             }
            },
            "type": "table"
           }
          ]
         },
         "layout": {
          "annotationdefaults": {
           "arrowcolor": "#2a3f5f",
           "arrowhead": 0,
           "arrowwidth": 1
          },
          "autotypenumbers": "strict",
          "coloraxis": {
           "colorbar": {
            "outlinewidth": 0,
            "ticks": ""
           }
          },
          "colorscale": {
           "diverging": [
            [
             0,
             "#8e0152"
            ],
            [
             0.1,
             "#c51b7d"
            ],
            [
             0.2,
             "#de77ae"
            ],
            [
             0.3,
             "#f1b6da"
            ],
            [
             0.4,
             "#fde0ef"
            ],
            [
             0.5,
             "#f7f7f7"
            ],
            [
             0.6,
             "#e6f5d0"
            ],
            [
             0.7,
             "#b8e186"
            ],
            [
             0.8,
             "#7fbc41"
            ],
            [
             0.9,
             "#4d9221"
            ],
            [
             1,
             "#276419"
            ]
           ],
           "sequential": [
            [
             0,
             "#0d0887"
            ],
            [
             0.1111111111111111,
             "#46039f"
            ],
            [
             0.2222222222222222,
             "#7201a8"
            ],
            [
             0.3333333333333333,
             "#9c179e"
            ],
            [
             0.4444444444444444,
             "#bd3786"
            ],
            [
             0.5555555555555556,
             "#d8576b"
            ],
            [
             0.6666666666666666,
             "#ed7953"
            ],
            [
             0.7777777777777778,
             "#fb9f3a"
            ],
            [
             0.8888888888888888,
             "#fdca26"
            ],
            [
             1,
             "#f0f921"
            ]
           ],
           "sequentialminus": [
            [
             0,
             "#0d0887"
            ],
            [
             0.1111111111111111,
             "#46039f"
            ],
            [
             0.2222222222222222,
             "#7201a8"
            ],
            [
             0.3333333333333333,
             "#9c179e"
            ],
            [
             0.4444444444444444,
             "#bd3786"
            ],
            [
             0.5555555555555556,
             "#d8576b"
            ],
            [
             0.6666666666666666,
             "#ed7953"
            ],
            [
             0.7777777777777778,
             "#fb9f3a"
            ],
            [
             0.8888888888888888,
             "#fdca26"
            ],
            [
             1,
             "#f0f921"
            ]
           ]
          },
          "colorway": [
           "#636efa",
           "#EF553B",
           "#00cc96",
           "#ab63fa",
           "#FFA15A",
           "#19d3f3",
           "#FF6692",
           "#B6E880",
           "#FF97FF",
           "#FECB52"
          ],
          "font": {
           "color": "#2a3f5f"
          },
          "geo": {
           "bgcolor": "white",
           "lakecolor": "white",
           "landcolor": "#E5ECF6",
           "showlakes": true,
           "showland": true,
           "subunitcolor": "white"
          },
          "hoverlabel": {
           "align": "left"
          },
          "hovermode": "closest",
          "mapbox": {
           "style": "light"
          },
          "paper_bgcolor": "white",
          "plot_bgcolor": "#E5ECF6",
          "polar": {
           "angularaxis": {
            "gridcolor": "white",
            "linecolor": "white",
            "ticks": ""
           },
           "bgcolor": "#E5ECF6",
           "radialaxis": {
            "gridcolor": "white",
            "linecolor": "white",
            "ticks": ""
           }
          },
          "scene": {
           "xaxis": {
            "backgroundcolor": "#E5ECF6",
            "gridcolor": "white",
            "gridwidth": 2,
            "linecolor": "white",
            "showbackground": true,
            "ticks": "",
            "zerolinecolor": "white"
           },
           "yaxis": {
            "backgroundcolor": "#E5ECF6",
            "gridcolor": "white",
            "gridwidth": 2,
            "linecolor": "white",
            "showbackground": true,
            "ticks": "",
            "zerolinecolor": "white"
           },
           "zaxis": {
            "backgroundcolor": "#E5ECF6",
            "gridcolor": "white",
            "gridwidth": 2,
            "linecolor": "white",
            "showbackground": true,
            "ticks": "",
            "zerolinecolor": "white"
           }
          },
          "shapedefaults": {
           "line": {
            "color": "#2a3f5f"
           }
          },
          "ternary": {
           "aaxis": {
            "gridcolor": "white",
            "linecolor": "white",
            "ticks": ""
           },
           "baxis": {
            "gridcolor": "white",
            "linecolor": "white",
            "ticks": ""
           },
           "bgcolor": "#E5ECF6",
           "caxis": {
            "gridcolor": "white",
            "linecolor": "white",
            "ticks": ""
           }
          },
          "title": {
           "x": 0.05
          },
          "xaxis": {
           "automargin": true,
           "gridcolor": "white",
           "linecolor": "white",
           "ticks": "",
           "title": {
            "standoff": 15
           },
           "zerolinecolor": "white",
           "zerolinewidth": 2
          },
          "yaxis": {
           "automargin": true,
           "gridcolor": "white",
           "linecolor": "white",
           "ticks": "",
           "title": {
            "standoff": 15
           },
           "zerolinecolor": "white",
           "zerolinewidth": 2
          }
         }
        },
        "title": {
         "font": {
          "color": "#4D5663"
         }
        },
        "xaxis": {
         "anchor": "y",
         "domain": [
          0,
          0.2125
         ],
         "gridcolor": "#E1E5ED",
         "showgrid": false,
         "tickfont": {
          "color": "#4D5663"
         },
         "title": {
          "font": {
           "color": "#4D5663"
          },
          "text": ""
         },
         "zerolinecolor": "#E1E5ED"
        },
        "xaxis10": {
         "anchor": "y10",
         "domain": [
          0.2625,
          0.475
         ],
         "gridcolor": "#E1E5ED",
         "showgrid": false,
         "tickfont": {
          "color": "#4D5663"
         },
         "title": {
          "font": {
           "color": "#4D5663"
          },
          "text": ""
         },
         "zerolinecolor": "#E1E5ED"
        },
        "xaxis11": {
         "anchor": "y11",
         "domain": [
          0.525,
          0.7375
         ],
         "gridcolor": "#E1E5ED",
         "showgrid": false,
         "tickfont": {
          "color": "#4D5663"
         },
         "title": {
          "font": {
           "color": "#4D5663"
          },
          "text": ""
         },
         "zerolinecolor": "#E1E5ED"
        },
        "xaxis12": {
         "anchor": "y12",
         "domain": [
          0.7875,
          1
         ],
         "gridcolor": "#E1E5ED",
         "showgrid": false,
         "tickfont": {
          "color": "#4D5663"
         },
         "title": {
          "font": {
           "color": "#4D5663"
          },
          "text": ""
         },
         "zerolinecolor": "#E1E5ED"
        },
        "xaxis13": {
         "anchor": "y13",
         "domain": [
          0,
          0.2125
         ],
         "gridcolor": "#E1E5ED",
         "showgrid": false,
         "tickfont": {
          "color": "#4D5663"
         },
         "title": {
          "font": {
           "color": "#4D5663"
          },
          "text": ""
         },
         "zerolinecolor": "#E1E5ED"
        },
        "xaxis14": {
         "anchor": "y14",
         "domain": [
          0.2625,
          0.475
         ],
         "gridcolor": "#E1E5ED",
         "showgrid": false,
         "tickfont": {
          "color": "#4D5663"
         },
         "title": {
          "font": {
           "color": "#4D5663"
          },
          "text": ""
         },
         "zerolinecolor": "#E1E5ED"
        },
        "xaxis15": {
         "anchor": "y15",
         "domain": [
          0.525,
          0.7375
         ],
         "gridcolor": "#E1E5ED",
         "showgrid": false,
         "tickfont": {
          "color": "#4D5663"
         },
         "title": {
          "font": {
           "color": "#4D5663"
          },
          "text": ""
         },
         "zerolinecolor": "#E1E5ED"
        },
        "xaxis16": {
         "anchor": "y16",
         "domain": [
          0.7875,
          1
         ],
         "gridcolor": "#E1E5ED",
         "showgrid": false,
         "tickfont": {
          "color": "#4D5663"
         },
         "title": {
          "font": {
           "color": "#4D5663"
          },
          "text": ""
         },
         "zerolinecolor": "#E1E5ED"
        },
        "xaxis2": {
         "anchor": "y2",
         "domain": [
          0.2625,
          0.475
         ],
         "gridcolor": "#E1E5ED",
         "showgrid": false,
         "tickfont": {
          "color": "#4D5663"
         },
         "title": {
          "font": {
           "color": "#4D5663"
          },
          "text": ""
         },
         "zerolinecolor": "#E1E5ED"
        },
        "xaxis3": {
         "anchor": "y3",
         "domain": [
          0.525,
          0.7375
         ],
         "gridcolor": "#E1E5ED",
         "showgrid": false,
         "tickfont": {
          "color": "#4D5663"
         },
         "title": {
          "font": {
           "color": "#4D5663"
          },
          "text": ""
         },
         "zerolinecolor": "#E1E5ED"
        },
        "xaxis4": {
         "anchor": "y4",
         "domain": [
          0.7875,
          1
         ],
         "gridcolor": "#E1E5ED",
         "showgrid": false,
         "tickfont": {
          "color": "#4D5663"
         },
         "title": {
          "font": {
           "color": "#4D5663"
          },
          "text": ""
         },
         "zerolinecolor": "#E1E5ED"
        },
        "xaxis5": {
         "anchor": "y5",
         "domain": [
          0,
          0.2125
         ],
         "gridcolor": "#E1E5ED",
         "showgrid": false,
         "tickfont": {
          "color": "#4D5663"
         },
         "title": {
          "font": {
           "color": "#4D5663"
          },
          "text": ""
         },
         "zerolinecolor": "#E1E5ED"
        },
        "xaxis6": {
         "anchor": "y6",
         "domain": [
          0.2625,
          0.475
         ],
         "gridcolor": "#E1E5ED",
         "showgrid": false,
         "tickfont": {
          "color": "#4D5663"
         },
         "title": {
          "font": {
           "color": "#4D5663"
          },
          "text": ""
         },
         "zerolinecolor": "#E1E5ED"
        },
        "xaxis7": {
         "anchor": "y7",
         "domain": [
          0.525,
          0.7375
         ],
         "gridcolor": "#E1E5ED",
         "showgrid": false,
         "tickfont": {
          "color": "#4D5663"
         },
         "title": {
          "font": {
           "color": "#4D5663"
          },
          "text": ""
         },
         "zerolinecolor": "#E1E5ED"
        },
        "xaxis8": {
         "anchor": "y8",
         "domain": [
          0.7875,
          1
         ],
         "gridcolor": "#E1E5ED",
         "showgrid": false,
         "tickfont": {
          "color": "#4D5663"
         },
         "title": {
          "font": {
           "color": "#4D5663"
          },
          "text": ""
         },
         "zerolinecolor": "#E1E5ED"
        },
        "xaxis9": {
         "anchor": "y9",
         "domain": [
          0,
          0.2125
         ],
         "gridcolor": "#E1E5ED",
         "showgrid": false,
         "tickfont": {
          "color": "#4D5663"
         },
         "title": {
          "font": {
           "color": "#4D5663"
          },
          "text": ""
         },
         "zerolinecolor": "#E1E5ED"
        },
        "yaxis": {
         "anchor": "x",
         "domain": [
          0.8025,
          1
         ],
         "gridcolor": "#E1E5ED",
         "showgrid": false,
         "tickfont": {
          "color": "#4D5663"
         },
         "title": {
          "font": {
           "color": "#4D5663"
          },
          "text": ""
         },
         "zerolinecolor": "#E1E5ED"
        },
        "yaxis10": {
         "anchor": "x10",
         "domain": [
          0.2675,
          0.465
         ],
         "gridcolor": "#E1E5ED",
         "showgrid": false,
         "tickfont": {
          "color": "#4D5663"
         },
         "title": {
          "font": {
           "color": "#4D5663"
          },
          "text": ""
         },
         "zerolinecolor": "#E1E5ED"
        },
        "yaxis11": {
         "anchor": "x11",
         "domain": [
          0.2675,
          0.465
         ],
         "gridcolor": "#E1E5ED",
         "showgrid": false,
         "tickfont": {
          "color": "#4D5663"
         },
         "title": {
          "font": {
           "color": "#4D5663"
          },
          "text": ""
         },
         "zerolinecolor": "#E1E5ED"
        },
        "yaxis12": {
         "anchor": "x12",
         "domain": [
          0.2675,
          0.465
         ],
         "gridcolor": "#E1E5ED",
         "showgrid": false,
         "tickfont": {
          "color": "#4D5663"
         },
         "title": {
          "font": {
           "color": "#4D5663"
          },
          "text": ""
         },
         "zerolinecolor": "#E1E5ED"
        },
        "yaxis13": {
         "anchor": "x13",
         "domain": [
          0,
          0.1975
         ],
         "gridcolor": "#E1E5ED",
         "showgrid": false,
         "tickfont": {
          "color": "#4D5663"
         },
         "title": {
          "font": {
           "color": "#4D5663"
          },
          "text": ""
         },
         "zerolinecolor": "#E1E5ED"
        },
        "yaxis14": {
         "anchor": "x14",
         "domain": [
          0,
          0.1975
         ],
         "gridcolor": "#E1E5ED",
         "showgrid": false,
         "tickfont": {
          "color": "#4D5663"
         },
         "title": {
          "font": {
           "color": "#4D5663"
          },
          "text": ""
         },
         "zerolinecolor": "#E1E5ED"
        },
        "yaxis15": {
         "anchor": "x15",
         "domain": [
          0,
          0.1975
         ],
         "gridcolor": "#E1E5ED",
         "showgrid": false,
         "tickfont": {
          "color": "#4D5663"
         },
         "title": {
          "font": {
           "color": "#4D5663"
          },
          "text": ""
         },
         "zerolinecolor": "#E1E5ED"
        },
        "yaxis16": {
         "anchor": "x16",
         "domain": [
          0,
          0.1975
         ],
         "gridcolor": "#E1E5ED",
         "showgrid": false,
         "tickfont": {
          "color": "#4D5663"
         },
         "title": {
          "font": {
           "color": "#4D5663"
          },
          "text": ""
         },
         "zerolinecolor": "#E1E5ED"
        },
        "yaxis2": {
         "anchor": "x2",
         "domain": [
          0.8025,
          1
         ],
         "gridcolor": "#E1E5ED",
         "showgrid": false,
         "tickfont": {
          "color": "#4D5663"
         },
         "title": {
          "font": {
           "color": "#4D5663"
          },
          "text": ""
         },
         "zerolinecolor": "#E1E5ED"
        },
        "yaxis3": {
         "anchor": "x3",
         "domain": [
          0.8025,
          1
         ],
         "gridcolor": "#E1E5ED",
         "showgrid": false,
         "tickfont": {
          "color": "#4D5663"
         },
         "title": {
          "font": {
           "color": "#4D5663"
          },
          "text": ""
         },
         "zerolinecolor": "#E1E5ED"
        },
        "yaxis4": {
         "anchor": "x4",
         "domain": [
          0.8025,
          1
         ],
         "gridcolor": "#E1E5ED",
         "showgrid": false,
         "tickfont": {
          "color": "#4D5663"
         },
         "title": {
          "font": {
           "color": "#4D5663"
          },
          "text": ""
         },
         "zerolinecolor": "#E1E5ED"
        },
        "yaxis5": {
         "anchor": "x5",
         "domain": [
          0.535,
          0.7325
         ],
         "gridcolor": "#E1E5ED",
         "showgrid": false,
         "tickfont": {
          "color": "#4D5663"
         },
         "title": {
          "font": {
           "color": "#4D5663"
          },
          "text": ""
         },
         "zerolinecolor": "#E1E5ED"
        },
        "yaxis6": {
         "anchor": "x6",
         "domain": [
          0.535,
          0.7325
         ],
         "gridcolor": "#E1E5ED",
         "showgrid": false,
         "tickfont": {
          "color": "#4D5663"
         },
         "title": {
          "font": {
           "color": "#4D5663"
          },
          "text": ""
         },
         "zerolinecolor": "#E1E5ED"
        },
        "yaxis7": {
         "anchor": "x7",
         "domain": [
          0.535,
          0.7325
         ],
         "gridcolor": "#E1E5ED",
         "showgrid": false,
         "tickfont": {
          "color": "#4D5663"
         },
         "title": {
          "font": {
           "color": "#4D5663"
          },
          "text": ""
         },
         "zerolinecolor": "#E1E5ED"
        },
        "yaxis8": {
         "anchor": "x8",
         "domain": [
          0.535,
          0.7325
         ],
         "gridcolor": "#E1E5ED",
         "showgrid": false,
         "tickfont": {
          "color": "#4D5663"
         },
         "title": {
          "font": {
           "color": "#4D5663"
          },
          "text": ""
         },
         "zerolinecolor": "#E1E5ED"
        },
        "yaxis9": {
         "anchor": "x9",
         "domain": [
          0.2675,
          0.465
         ],
         "gridcolor": "#E1E5ED",
         "showgrid": false,
         "tickfont": {
          "color": "#4D5663"
         },
         "title": {
          "font": {
           "color": "#4D5663"
          },
          "text": ""
         },
         "zerolinecolor": "#E1E5ED"
        }
       }
      },
      "text/html": [
       "<div>                            <div id=\"da60baac-abaf-4599-a867-26ead6614ece\" class=\"plotly-graph-div\" style=\"height:525px; width:100%;\"></div>            <script type=\"text/javascript\">                require([\"plotly\"], function(Plotly) {                    window.PLOTLYENV=window.PLOTLYENV || {};\n",
       "                    window.PLOTLYENV.BASE_URL='https://plot.ly';                                    if (document.getElementById(\"da60baac-abaf-4599-a867-26ead6614ece\")) {                    Plotly.newPlot(                        \"da60baac-abaf-4599-a867-26ead6614ece\",                        [{\"histfunc\":\"count\",\"histnorm\":\"\",\"marker\":{\"color\":\"rgba(255, 153, 51, 1.0)\",\"line\":{\"color\":\"#4D5663\",\"width\":1.3}},\"name\":\"A\",\"nbinsx\":30,\"opacity\":0.8,\"orientation\":\"v\",\"type\":\"histogram\",\"x\":[-0.8952513651069208,-0.8433675626903279,0.5194375646796255,0.20781533281382147,-0.28787023198130957,1.6626119003563948,0.8455339666282456,-0.004764186067881709,0.4733015021634591,-0.9426534090465928,0.3495407603251051,1.046237290545855,-0.9859596463402309,2.1084983582558596,-0.9317323755961524,0.6494024623069314,-0.3843287632960257,1.1614039215162952,-0.20123156557799382,-0.45298390054834,0.7347549725847721,-0.7677041350495847,0.13258824206569836,1.054969175247717,-1.3104840655184302,-0.8013236099028447,0.8811067964875391,1.37964961408107,-0.6967541155402649,-0.06015481378112143,1.6708711018109184,-0.8025842912977741,-0.015918404685731493,-0.027443107556971016,2.406932617211438,1.3057326517527597,-0.06865890639765183,1.1071268608316913,0.33981602924630167,-1.0872016494434344,-1.5039010182317643,-1.519624037806377,1.4712137408778254,-0.0034193275927080374,-0.6401644852992978,0.4859905760774655,0.0390256747991155,-1.941050095915409,-1.6177636665820099,0.613241988243389,-0.8362331163350449,1.6088686769777236,1.0424803246654821,0.021383677990268142,0.8482607537163633,0.2705487692995969,-0.29215392518076677,-0.10297268388786927,-1.1823360718306772,-0.291903670774597,-0.80294506515156,-0.9072759442656589,-0.8089516008862685,-0.9258452866799369,-0.06216798493213476,1.2447036743884878,0.04545716238838049,-0.5767553684691545,-0.757567169617877,1.5631791168400553,1.479076371008533,0.3313239929669739,-0.8932590257661409,-0.8233805286922103,1.0906334749242377,0.9254639718825185,0.3337368137528734,0.7499843768463412,0.8962171001982022,0.8433026224184019,0.041966578696571485,-0.3215182981515437,-2.126805113291232,-1.6303569601061727,-0.8656966690701975,-0.1959710508555525,-1.4209840585311801,-0.5464709582936679,-0.5121202308271431,-0.2238616074951767,0.3327302146369024,0.31238636848963375,-1.7015350452825535,-0.0549239733602343,0.2474203199269791,-0.36324706968849796,-1.0628515643718848,2.5078501395900497,-1.8677307647196009,0.3231424513059178],\"xaxis\":\"x\",\"yaxis\":\"y\"},{\"line\":{\"color\":\"rgba(128, 128, 128, 1.0)\",\"dash\":\"solid\",\"shape\":\"linear\",\"width\":1.3},\"marker\":{\"size\":2,\"symbol\":\"circle\"},\"mode\":\"markers\",\"name\":\"A\",\"text\":\"\",\"type\":\"scatter\",\"x\":[-1.1173847502936025,1.746739718699284,0.14685877092398286,-0.46500629752162825,0.4655854906663578,-0.06079797292919306,-0.9935139192431094,-0.9840906486582907,0.3858807133247504,-0.05165981535030882,-0.28153938365960823,1.0444208610245398,2.9552086536453,-0.6360228636743235,-0.7750068348042938,0.3759362444110491,-1.0465943179905126,0.5207368215614654,-1.2645230056565269,-1.6672266527270678,0.8136435929779331,-0.5161670126408316,0.8295781733415212,-0.9370552324792465,-0.9434636737018017,-0.35376129291561254,0.1131341527958107,-0.7791813809558733,-1.5198565256723666,0.08475947400103076,0.5503775638643653,0.3864508203743008,1.24508676785871,-0.5944516877815453,-1.147388038671117,1.6745629245114566,-0.35706174852272393,0.09238182014036393,0.45219988102119246,-0.9982111420135565,-2.364337501067881,-1.5689780423807467,-0.6195922861260792,0.1332476222569659,0.7383518851748205,0.8093449800294485,0.7730083525819172,1.4058264441998591,1.6662888676900314,1.2187622943223144,-0.3569510110710778,0.789056791494699,-0.8914602748284073,1.09081664635188,-1.4903431943146759,-1.4169926866780527,0.8187783046002451,-1.2840812231710845,-0.7474812226213581,-0.18246447267077032,-1.7170896576775119,1.4251919420917685,-0.06684710644568471,2.248776203702825,-1.4497720828871339,0.33515054683217393,0.2572901158489185,-1.8474817915070532,0.07171750340675725,-0.33435320566254173,0.10383275376154216,-0.6284608927287233,0.866890297412042,-1.2024915815630428,0.1822133800005098,1.129717939403387,0.48778847655426805,-0.81404660894497,-2.4967023192028366,-0.15430570948289024,1.1629261282568337,0.07178192985158226,-2.499979619158677,-1.0099283783597963,-0.20866740683546953,-1.2713725553000081,-1.5004531175164042,0.9280389877106168,-1.5295643193552795,1.3793034095187395,0.24665735973714437,0.02648352346857129,-0.3723716925856273,1.7407167389351086,-0.2904664042394969,0.8703273669778087,1.8871063314463523,-0.15925783536561067,-0.01232500299030156,1.1049302887625263],\"xaxis\":\"x2\",\"y\":[-0.8952513651069208,-0.8433675626903279,0.5194375646796255,0.20781533281382147,-0.28787023198130957,1.6626119003563948,0.8455339666282456,-0.004764186067881709,0.4733015021634591,-0.9426534090465928,0.3495407603251051,1.046237290545855,-0.9859596463402309,2.1084983582558596,-0.9317323755961524,0.6494024623069314,-0.3843287632960257,1.1614039215162952,-0.20123156557799382,-0.45298390054834,0.7347549725847721,-0.7677041350495847,0.13258824206569836,1.054969175247717,-1.3104840655184302,-0.8013236099028447,0.8811067964875391,1.37964961408107,-0.6967541155402649,-0.06015481378112143,1.6708711018109184,-0.8025842912977741,-0.015918404685731493,-0.027443107556971016,2.406932617211438,1.3057326517527597,-0.06865890639765183,1.1071268608316913,0.33981602924630167,-1.0872016494434344,-1.5039010182317643,-1.519624037806377,1.4712137408778254,-0.0034193275927080374,-0.6401644852992978,0.4859905760774655,0.0390256747991155,-1.941050095915409,-1.6177636665820099,0.613241988243389,-0.8362331163350449,1.6088686769777236,1.0424803246654821,0.021383677990268142,0.8482607537163633,0.2705487692995969,-0.29215392518076677,-0.10297268388786927,-1.1823360718306772,-0.291903670774597,-0.80294506515156,-0.9072759442656589,-0.8089516008862685,-0.9258452866799369,-0.06216798493213476,1.2447036743884878,0.04545716238838049,-0.5767553684691545,-0.757567169617877,1.5631791168400553,1.479076371008533,0.3313239929669739,-0.8932590257661409,-0.8233805286922103,1.0906334749242377,0.9254639718825185,0.3337368137528734,0.7499843768463412,0.8962171001982022,0.8433026224184019,0.041966578696571485,-0.3215182981515437,-2.126805113291232,-1.6303569601061727,-0.8656966690701975,-0.1959710508555525,-1.4209840585311801,-0.5464709582936679,-0.5121202308271431,-0.2238616074951767,0.3327302146369024,0.31238636848963375,-1.7015350452825535,-0.0549239733602343,0.2474203199269791,-0.36324706968849796,-1.0628515643718848,2.5078501395900497,-1.8677307647196009,0.3231424513059178],\"yaxis\":\"y2\"},{\"line\":{\"color\":\"rgba(128, 128, 128, 1.0)\",\"dash\":\"solid\",\"shape\":\"linear\",\"width\":1.3},\"marker\":{\"size\":2,\"symbol\":\"circle\"},\"mode\":\"markers\",\"name\":\"A\",\"text\":\"\",\"type\":\"scatter\",\"x\":[0.15402014678503842,0.2657263820399731,-0.343402330387866,0.04907397042722276,0.8284594320192139,-1.9597162503039829,0.057464181045583575,-0.28627755991796483,1.3057899377814057,0.2655702491850747,0.4110004604096362,2.127128856286828,-0.004654093825273417,-0.1456494965111229,-0.6448807327848622,0.34487161331259336,-0.8619394979445104,0.45936455722494435,-1.357533739395525,-0.589562354995894,-0.005617720156713443,-0.6127013045377776,0.8119688688762698,0.1636200911848541,-0.6508242248720761,-0.2301188176803608,0.24316836315729567,0.9257298097364508,0.47182097328120637,1.816154359318101,1.2428168506400545,0.2893884384487877,1.068267974309602,-0.6518694789966023,-0.4861247688337598,-0.016089400658961882,1.1009248401427172,0.7266089200181972,0.47492656470023475,0.23989608269697232,-0.10491232495807155,0.8746647007485565,-1.158256479116966,-0.23810768669398752,-0.48821222164675787,-0.08145494286790905,-0.9889200956542998,-0.07257919277033752,-0.14710125498318025,1.5562866047204014,-0.37260912236544264,1.3621931178310318,-0.29352007206031927,-0.9149231445886525,-0.5702276323273853,-1.9939070398381225,0.6033883400895033,-0.12906993160729308,0.12695591032807224,0.4330743892954883,-0.06199264302863122,-1.1530161815695628,0.11700877363256074,0.9222514463738127,-1.0911939258558483,0.12440303317551768,0.20218176421198447,0.48958209851623147,1.0226354116421743,0.6687817773729573,1.4791448129964408,0.4683721477637024,0.6136290063139493,-0.8836654479845644,1.324638138600231,1.0128676363566746,-1.8984076055920722,-0.29352674399317497,-0.49885529916506166,0.822322654340613,-0.308508015034196,1.6632715231451238,0.5640668366446504,0.8400153982759437,0.5726675028836222,0.01600333860851399,1.1709176403694541,-1.0524581681070924,-1.4017372011655806,-0.7410775136615926,0.3450606347378987,1.2812632553883703,-0.3527779303137753,-0.5852734007342651,0.9810235646964258,-1.065973352802771,-0.15146442254221687,-0.3496431410140794,-0.5133867583688282,1.7253378058693758],\"xaxis\":\"x3\",\"y\":[-0.8952513651069208,-0.8433675626903279,0.5194375646796255,0.20781533281382147,-0.28787023198130957,1.6626119003563948,0.8455339666282456,-0.004764186067881709,0.4733015021634591,-0.9426534090465928,0.3495407603251051,1.046237290545855,-0.9859596463402309,2.1084983582558596,-0.9317323755961524,0.6494024623069314,-0.3843287632960257,1.1614039215162952,-0.20123156557799382,-0.45298390054834,0.7347549725847721,-0.7677041350495847,0.13258824206569836,1.054969175247717,-1.3104840655184302,-0.8013236099028447,0.8811067964875391,1.37964961408107,-0.6967541155402649,-0.06015481378112143,1.6708711018109184,-0.8025842912977741,-0.015918404685731493,-0.027443107556971016,2.406932617211438,1.3057326517527597,-0.06865890639765183,1.1071268608316913,0.33981602924630167,-1.0872016494434344,-1.5039010182317643,-1.519624037806377,1.4712137408778254,-0.0034193275927080374,-0.6401644852992978,0.4859905760774655,0.0390256747991155,-1.941050095915409,-1.6177636665820099,0.613241988243389,-0.8362331163350449,1.6088686769777236,1.0424803246654821,0.021383677990268142,0.8482607537163633,0.2705487692995969,-0.29215392518076677,-0.10297268388786927,-1.1823360718306772,-0.291903670774597,-0.80294506515156,-0.9072759442656589,-0.8089516008862685,-0.9258452866799369,-0.06216798493213476,1.2447036743884878,0.04545716238838049,-0.5767553684691545,-0.757567169617877,1.5631791168400553,1.479076371008533,0.3313239929669739,-0.8932590257661409,-0.8233805286922103,1.0906334749242377,0.9254639718825185,0.3337368137528734,0.7499843768463412,0.8962171001982022,0.8433026224184019,0.041966578696571485,-0.3215182981515437,-2.126805113291232,-1.6303569601061727,-0.8656966690701975,-0.1959710508555525,-1.4209840585311801,-0.5464709582936679,-0.5121202308271431,-0.2238616074951767,0.3327302146369024,0.31238636848963375,-1.7015350452825535,-0.0549239733602343,0.2474203199269791,-0.36324706968849796,-1.0628515643718848,2.5078501395900497,-1.8677307647196009,0.3231424513059178],\"yaxis\":\"y3\"},{\"line\":{\"color\":\"rgba(128, 128, 128, 1.0)\",\"dash\":\"solid\",\"shape\":\"linear\",\"width\":1.3},\"marker\":{\"size\":2,\"symbol\":\"circle\"},\"mode\":\"markers\",\"name\":\"A\",\"text\":\"\",\"type\":\"scatter\",\"x\":[-0.24928176549246744,0.43766562725607766,0.4911636933927162,1.7523971429861311,-0.9151291254990293,2.526689859980771,0.8306532160373419,-0.5023275214674892,-0.5479546280612896,-2.572183254075991,0.6520516835942008,0.21303230364385592,-2.67353945166175,1.2657924804275693,-0.1638317036376158,0.44283481695950516,0.3249583261002511,-0.09399653505243051,-0.3109384017241319,0.5708256857603644,0.6333611232512597,-0.599135502266844,-0.4929667876360445,-0.06375037377560236,-0.5269909683096622,-0.5575752612499391,-1.2020846724394942,-1.6321549927350116,1.4279114449960255,-0.6144693004074079,-0.21259383781399016,-1.19956866360025,0.03059807861833062,0.42966190674389926,1.5342674171110502,1.401254093534304,1.202427573767034,0.6894921812796692,1.1366594947986572,-0.17889497425348794,0.27240007895803775,0.8146901772806835,0.19264118840852978,-1.1957881697787762,0.7054826975920531,-0.2233060203154685,-0.019753414665292467,1.071013420697468,0.6284635436266129,1.410271681226113,-0.24262105510451937,0.1968420081083256,-0.07855212762629618,1.974354196403117,1.7719427413115192,-0.7774409273732569,-1.624172848941066,1.5028725053057772,0.25673255995404204,0.018310203682808664,1.631494514781497,-1.451764438413754,-0.6008560170876976,-1.1597328111446403,0.1764286053886547,-1.2246949484204448,0.9466888965601424,-1.955648931806292,-1.1262371981967885,0.2577519709661145,-0.8521206497874158,-0.9332922335164483,-0.5306441237488271,1.8990401454111687,-0.3307736735355664,-1.58435537195694,0.35001137772208324,1.1064279284970717,-0.4111550594803613,1.0202158985347134,0.7763283618832962,-0.7013310287608374,-0.17667984159486233,-0.10372497459830986,-0.4686774596973294,-1.3647059645129447,-0.04312159787858875,0.47932113215521155,1.198645942633406,0.6763890844339074,-1.365564667612295,-0.8023448492675859,0.4457650047380639,-1.259166288126855,0.7743706746417458,-0.5256737132389573,-1.573555141918629,1.03783559002227,1.482943710704395,0.4924107255646221],\"xaxis\":\"x4\",\"y\":[-0.8952513651069208,-0.8433675626903279,0.5194375646796255,0.20781533281382147,-0.28787023198130957,1.6626119003563948,0.8455339666282456,-0.004764186067881709,0.4733015021634591,-0.9426534090465928,0.3495407603251051,1.046237290545855,-0.9859596463402309,2.1084983582558596,-0.9317323755961524,0.6494024623069314,-0.3843287632960257,1.1614039215162952,-0.20123156557799382,-0.45298390054834,0.7347549725847721,-0.7677041350495847,0.13258824206569836,1.054969175247717,-1.3104840655184302,-0.8013236099028447,0.8811067964875391,1.37964961408107,-0.6967541155402649,-0.06015481378112143,1.6708711018109184,-0.8025842912977741,-0.015918404685731493,-0.027443107556971016,2.406932617211438,1.3057326517527597,-0.06865890639765183,1.1071268608316913,0.33981602924630167,-1.0872016494434344,-1.5039010182317643,-1.519624037806377,1.4712137408778254,-0.0034193275927080374,-0.6401644852992978,0.4859905760774655,0.0390256747991155,-1.941050095915409,-1.6177636665820099,0.613241988243389,-0.8362331163350449,1.6088686769777236,1.0424803246654821,0.021383677990268142,0.8482607537163633,0.2705487692995969,-0.29215392518076677,-0.10297268388786927,-1.1823360718306772,-0.291903670774597,-0.80294506515156,-0.9072759442656589,-0.8089516008862685,-0.9258452866799369,-0.06216798493213476,1.2447036743884878,0.04545716238838049,-0.5767553684691545,-0.757567169617877,1.5631791168400553,1.479076371008533,0.3313239929669739,-0.8932590257661409,-0.8233805286922103,1.0906334749242377,0.9254639718825185,0.3337368137528734,0.7499843768463412,0.8962171001982022,0.8433026224184019,0.041966578696571485,-0.3215182981515437,-2.126805113291232,-1.6303569601061727,-0.8656966690701975,-0.1959710508555525,-1.4209840585311801,-0.5464709582936679,-0.5121202308271431,-0.2238616074951767,0.3327302146369024,0.31238636848963375,-1.7015350452825535,-0.0549239733602343,0.2474203199269791,-0.36324706968849796,-1.0628515643718848,2.5078501395900497,-1.8677307647196009,0.3231424513059178],\"yaxis\":\"y4\"},{\"line\":{\"color\":\"rgba(128, 128, 128, 1.0)\",\"dash\":\"solid\",\"shape\":\"linear\",\"width\":1.3},\"marker\":{\"size\":2,\"symbol\":\"circle\"},\"mode\":\"markers\",\"name\":\"B\",\"text\":\"\",\"type\":\"scatter\",\"x\":[-0.8952513651069208,-0.8433675626903279,0.5194375646796255,0.20781533281382147,-0.28787023198130957,1.6626119003563948,0.8455339666282456,-0.004764186067881709,0.4733015021634591,-0.9426534090465928,0.3495407603251051,1.046237290545855,-0.9859596463402309,2.1084983582558596,-0.9317323755961524,0.6494024623069314,-0.3843287632960257,1.1614039215162952,-0.20123156557799382,-0.45298390054834,0.7347549725847721,-0.7677041350495847,0.13258824206569836,1.054969175247717,-1.3104840655184302,-0.8013236099028447,0.8811067964875391,1.37964961408107,-0.6967541155402649,-0.06015481378112143,1.6708711018109184,-0.8025842912977741,-0.015918404685731493,-0.027443107556971016,2.406932617211438,1.3057326517527597,-0.06865890639765183,1.1071268608316913,0.33981602924630167,-1.0872016494434344,-1.5039010182317643,-1.519624037806377,1.4712137408778254,-0.0034193275927080374,-0.6401644852992978,0.4859905760774655,0.0390256747991155,-1.941050095915409,-1.6177636665820099,0.613241988243389,-0.8362331163350449,1.6088686769777236,1.0424803246654821,0.021383677990268142,0.8482607537163633,0.2705487692995969,-0.29215392518076677,-0.10297268388786927,-1.1823360718306772,-0.291903670774597,-0.80294506515156,-0.9072759442656589,-0.8089516008862685,-0.9258452866799369,-0.06216798493213476,1.2447036743884878,0.04545716238838049,-0.5767553684691545,-0.757567169617877,1.5631791168400553,1.479076371008533,0.3313239929669739,-0.8932590257661409,-0.8233805286922103,1.0906334749242377,0.9254639718825185,0.3337368137528734,0.7499843768463412,0.8962171001982022,0.8433026224184019,0.041966578696571485,-0.3215182981515437,-2.126805113291232,-1.6303569601061727,-0.8656966690701975,-0.1959710508555525,-1.4209840585311801,-0.5464709582936679,-0.5121202308271431,-0.2238616074951767,0.3327302146369024,0.31238636848963375,-1.7015350452825535,-0.0549239733602343,0.2474203199269791,-0.36324706968849796,-1.0628515643718848,2.5078501395900497,-1.8677307647196009,0.3231424513059178],\"xaxis\":\"x5\",\"y\":[-1.1173847502936025,1.746739718699284,0.14685877092398286,-0.46500629752162825,0.4655854906663578,-0.06079797292919306,-0.9935139192431094,-0.9840906486582907,0.3858807133247504,-0.05165981535030882,-0.28153938365960823,1.0444208610245398,2.9552086536453,-0.6360228636743235,-0.7750068348042938,0.3759362444110491,-1.0465943179905126,0.5207368215614654,-1.2645230056565269,-1.6672266527270678,0.8136435929779331,-0.5161670126408316,0.8295781733415212,-0.9370552324792465,-0.9434636737018017,-0.35376129291561254,0.1131341527958107,-0.7791813809558733,-1.5198565256723666,0.08475947400103076,0.5503775638643653,0.3864508203743008,1.24508676785871,-0.5944516877815453,-1.147388038671117,1.6745629245114566,-0.35706174852272393,0.09238182014036393,0.45219988102119246,-0.9982111420135565,-2.364337501067881,-1.5689780423807467,-0.6195922861260792,0.1332476222569659,0.7383518851748205,0.8093449800294485,0.7730083525819172,1.4058264441998591,1.6662888676900314,1.2187622943223144,-0.3569510110710778,0.789056791494699,-0.8914602748284073,1.09081664635188,-1.4903431943146759,-1.4169926866780527,0.8187783046002451,-1.2840812231710845,-0.7474812226213581,-0.18246447267077032,-1.7170896576775119,1.4251919420917685,-0.06684710644568471,2.248776203702825,-1.4497720828871339,0.33515054683217393,0.2572901158489185,-1.8474817915070532,0.07171750340675725,-0.33435320566254173,0.10383275376154216,-0.6284608927287233,0.866890297412042,-1.2024915815630428,0.1822133800005098,1.129717939403387,0.48778847655426805,-0.81404660894497,-2.4967023192028366,-0.15430570948289024,1.1629261282568337,0.07178192985158226,-2.499979619158677,-1.0099283783597963,-0.20866740683546953,-1.2713725553000081,-1.5004531175164042,0.9280389877106168,-1.5295643193552795,1.3793034095187395,0.24665735973714437,0.02648352346857129,-0.3723716925856273,1.7407167389351086,-0.2904664042394969,0.8703273669778087,1.8871063314463523,-0.15925783536561067,-0.01232500299030156,1.1049302887625263],\"yaxis\":\"y5\"},{\"histfunc\":\"count\",\"histnorm\":\"\",\"marker\":{\"color\":\"rgba(55, 128, 191, 1.0)\",\"line\":{\"color\":\"#4D5663\",\"width\":1.3}},\"name\":\"B\",\"nbinsx\":30,\"opacity\":0.8,\"orientation\":\"v\",\"type\":\"histogram\",\"x\":[-1.1173847502936025,1.746739718699284,0.14685877092398286,-0.46500629752162825,0.4655854906663578,-0.06079797292919306,-0.9935139192431094,-0.9840906486582907,0.3858807133247504,-0.05165981535030882,-0.28153938365960823,1.0444208610245398,2.9552086536453,-0.6360228636743235,-0.7750068348042938,0.3759362444110491,-1.0465943179905126,0.5207368215614654,-1.2645230056565269,-1.6672266527270678,0.8136435929779331,-0.5161670126408316,0.8295781733415212,-0.9370552324792465,-0.9434636737018017,-0.35376129291561254,0.1131341527958107,-0.7791813809558733,-1.5198565256723666,0.08475947400103076,0.5503775638643653,0.3864508203743008,1.24508676785871,-0.5944516877815453,-1.147388038671117,1.6745629245114566,-0.35706174852272393,0.09238182014036393,0.45219988102119246,-0.9982111420135565,-2.364337501067881,-1.5689780423807467,-0.6195922861260792,0.1332476222569659,0.7383518851748205,0.8093449800294485,0.7730083525819172,1.4058264441998591,1.6662888676900314,1.2187622943223144,-0.3569510110710778,0.789056791494699,-0.8914602748284073,1.09081664635188,-1.4903431943146759,-1.4169926866780527,0.8187783046002451,-1.2840812231710845,-0.7474812226213581,-0.18246447267077032,-1.7170896576775119,1.4251919420917685,-0.06684710644568471,2.248776203702825,-1.4497720828871339,0.33515054683217393,0.2572901158489185,-1.8474817915070532,0.07171750340675725,-0.33435320566254173,0.10383275376154216,-0.6284608927287233,0.866890297412042,-1.2024915815630428,0.1822133800005098,1.129717939403387,0.48778847655426805,-0.81404660894497,-2.4967023192028366,-0.15430570948289024,1.1629261282568337,0.07178192985158226,-2.499979619158677,-1.0099283783597963,-0.20866740683546953,-1.2713725553000081,-1.5004531175164042,0.9280389877106168,-1.5295643193552795,1.3793034095187395,0.24665735973714437,0.02648352346857129,-0.3723716925856273,1.7407167389351086,-0.2904664042394969,0.8703273669778087,1.8871063314463523,-0.15925783536561067,-0.01232500299030156,1.1049302887625263],\"xaxis\":\"x6\",\"yaxis\":\"y6\"},{\"line\":{\"color\":\"rgba(128, 128, 128, 1.0)\",\"dash\":\"solid\",\"shape\":\"linear\",\"width\":1.3},\"marker\":{\"size\":2,\"symbol\":\"circle\"},\"mode\":\"markers\",\"name\":\"B\",\"text\":\"\",\"type\":\"scatter\",\"x\":[0.15402014678503842,0.2657263820399731,-0.343402330387866,0.04907397042722276,0.8284594320192139,-1.9597162503039829,0.057464181045583575,-0.28627755991796483,1.3057899377814057,0.2655702491850747,0.4110004604096362,2.127128856286828,-0.004654093825273417,-0.1456494965111229,-0.6448807327848622,0.34487161331259336,-0.8619394979445104,0.45936455722494435,-1.357533739395525,-0.589562354995894,-0.005617720156713443,-0.6127013045377776,0.8119688688762698,0.1636200911848541,-0.6508242248720761,-0.2301188176803608,0.24316836315729567,0.9257298097364508,0.47182097328120637,1.816154359318101,1.2428168506400545,0.2893884384487877,1.068267974309602,-0.6518694789966023,-0.4861247688337598,-0.016089400658961882,1.1009248401427172,0.7266089200181972,0.47492656470023475,0.23989608269697232,-0.10491232495807155,0.8746647007485565,-1.158256479116966,-0.23810768669398752,-0.48821222164675787,-0.08145494286790905,-0.9889200956542998,-0.07257919277033752,-0.14710125498318025,1.5562866047204014,-0.37260912236544264,1.3621931178310318,-0.29352007206031927,-0.9149231445886525,-0.5702276323273853,-1.9939070398381225,0.6033883400895033,-0.12906993160729308,0.12695591032807224,0.4330743892954883,-0.06199264302863122,-1.1530161815695628,0.11700877363256074,0.9222514463738127,-1.0911939258558483,0.12440303317551768,0.20218176421198447,0.48958209851623147,1.0226354116421743,0.6687817773729573,1.4791448129964408,0.4683721477637024,0.6136290063139493,-0.8836654479845644,1.324638138600231,1.0128676363566746,-1.8984076055920722,-0.29352674399317497,-0.49885529916506166,0.822322654340613,-0.308508015034196,1.6632715231451238,0.5640668366446504,0.8400153982759437,0.5726675028836222,0.01600333860851399,1.1709176403694541,-1.0524581681070924,-1.4017372011655806,-0.7410775136615926,0.3450606347378987,1.2812632553883703,-0.3527779303137753,-0.5852734007342651,0.9810235646964258,-1.065973352802771,-0.15146442254221687,-0.3496431410140794,-0.5133867583688282,1.7253378058693758],\"xaxis\":\"x7\",\"y\":[-1.1173847502936025,1.746739718699284,0.14685877092398286,-0.46500629752162825,0.4655854906663578,-0.06079797292919306,-0.9935139192431094,-0.9840906486582907,0.3858807133247504,-0.05165981535030882,-0.28153938365960823,1.0444208610245398,2.9552086536453,-0.6360228636743235,-0.7750068348042938,0.3759362444110491,-1.0465943179905126,0.5207368215614654,-1.2645230056565269,-1.6672266527270678,0.8136435929779331,-0.5161670126408316,0.8295781733415212,-0.9370552324792465,-0.9434636737018017,-0.35376129291561254,0.1131341527958107,-0.7791813809558733,-1.5198565256723666,0.08475947400103076,0.5503775638643653,0.3864508203743008,1.24508676785871,-0.5944516877815453,-1.147388038671117,1.6745629245114566,-0.35706174852272393,0.09238182014036393,0.45219988102119246,-0.9982111420135565,-2.364337501067881,-1.5689780423807467,-0.6195922861260792,0.1332476222569659,0.7383518851748205,0.8093449800294485,0.7730083525819172,1.4058264441998591,1.6662888676900314,1.2187622943223144,-0.3569510110710778,0.789056791494699,-0.8914602748284073,1.09081664635188,-1.4903431943146759,-1.4169926866780527,0.8187783046002451,-1.2840812231710845,-0.7474812226213581,-0.18246447267077032,-1.7170896576775119,1.4251919420917685,-0.06684710644568471,2.248776203702825,-1.4497720828871339,0.33515054683217393,0.2572901158489185,-1.8474817915070532,0.07171750340675725,-0.33435320566254173,0.10383275376154216,-0.6284608927287233,0.866890297412042,-1.2024915815630428,0.1822133800005098,1.129717939403387,0.48778847655426805,-0.81404660894497,-2.4967023192028366,-0.15430570948289024,1.1629261282568337,0.07178192985158226,-2.499979619158677,-1.0099283783597963,-0.20866740683546953,-1.2713725553000081,-1.5004531175164042,0.9280389877106168,-1.5295643193552795,1.3793034095187395,0.24665735973714437,0.02648352346857129,-0.3723716925856273,1.7407167389351086,-0.2904664042394969,0.8703273669778087,1.8871063314463523,-0.15925783536561067,-0.01232500299030156,1.1049302887625263],\"yaxis\":\"y7\"},{\"line\":{\"color\":\"rgba(128, 128, 128, 1.0)\",\"dash\":\"solid\",\"shape\":\"linear\",\"width\":1.3},\"marker\":{\"size\":2,\"symbol\":\"circle\"},\"mode\":\"markers\",\"name\":\"B\",\"text\":\"\",\"type\":\"scatter\",\"x\":[-0.24928176549246744,0.43766562725607766,0.4911636933927162,1.7523971429861311,-0.9151291254990293,2.526689859980771,0.8306532160373419,-0.5023275214674892,-0.5479546280612896,-2.572183254075991,0.6520516835942008,0.21303230364385592,-2.67353945166175,1.2657924804275693,-0.1638317036376158,0.44283481695950516,0.3249583261002511,-0.09399653505243051,-0.3109384017241319,0.5708256857603644,0.6333611232512597,-0.599135502266844,-0.4929667876360445,-0.06375037377560236,-0.5269909683096622,-0.5575752612499391,-1.2020846724394942,-1.6321549927350116,1.4279114449960255,-0.6144693004074079,-0.21259383781399016,-1.19956866360025,0.03059807861833062,0.42966190674389926,1.5342674171110502,1.401254093534304,1.202427573767034,0.6894921812796692,1.1366594947986572,-0.17889497425348794,0.27240007895803775,0.8146901772806835,0.19264118840852978,-1.1957881697787762,0.7054826975920531,-0.2233060203154685,-0.019753414665292467,1.071013420697468,0.6284635436266129,1.410271681226113,-0.24262105510451937,0.1968420081083256,-0.07855212762629618,1.974354196403117,1.7719427413115192,-0.7774409273732569,-1.624172848941066,1.5028725053057772,0.25673255995404204,0.018310203682808664,1.631494514781497,-1.451764438413754,-0.6008560170876976,-1.1597328111446403,0.1764286053886547,-1.2246949484204448,0.9466888965601424,-1.955648931806292,-1.1262371981967885,0.2577519709661145,-0.8521206497874158,-0.9332922335164483,-0.5306441237488271,1.8990401454111687,-0.3307736735355664,-1.58435537195694,0.35001137772208324,1.1064279284970717,-0.4111550594803613,1.0202158985347134,0.7763283618832962,-0.7013310287608374,-0.17667984159486233,-0.10372497459830986,-0.4686774596973294,-1.3647059645129447,-0.04312159787858875,0.47932113215521155,1.198645942633406,0.6763890844339074,-1.365564667612295,-0.8023448492675859,0.4457650047380639,-1.259166288126855,0.7743706746417458,-0.5256737132389573,-1.573555141918629,1.03783559002227,1.482943710704395,0.4924107255646221],\"xaxis\":\"x8\",\"y\":[-1.1173847502936025,1.746739718699284,0.14685877092398286,-0.46500629752162825,0.4655854906663578,-0.06079797292919306,-0.9935139192431094,-0.9840906486582907,0.3858807133247504,-0.05165981535030882,-0.28153938365960823,1.0444208610245398,2.9552086536453,-0.6360228636743235,-0.7750068348042938,0.3759362444110491,-1.0465943179905126,0.5207368215614654,-1.2645230056565269,-1.6672266527270678,0.8136435929779331,-0.5161670126408316,0.8295781733415212,-0.9370552324792465,-0.9434636737018017,-0.35376129291561254,0.1131341527958107,-0.7791813809558733,-1.5198565256723666,0.08475947400103076,0.5503775638643653,0.3864508203743008,1.24508676785871,-0.5944516877815453,-1.147388038671117,1.6745629245114566,-0.35706174852272393,0.09238182014036393,0.45219988102119246,-0.9982111420135565,-2.364337501067881,-1.5689780423807467,-0.6195922861260792,0.1332476222569659,0.7383518851748205,0.8093449800294485,0.7730083525819172,1.4058264441998591,1.6662888676900314,1.2187622943223144,-0.3569510110710778,0.789056791494699,-0.8914602748284073,1.09081664635188,-1.4903431943146759,-1.4169926866780527,0.8187783046002451,-1.2840812231710845,-0.7474812226213581,-0.18246447267077032,-1.7170896576775119,1.4251919420917685,-0.06684710644568471,2.248776203702825,-1.4497720828871339,0.33515054683217393,0.2572901158489185,-1.8474817915070532,0.07171750340675725,-0.33435320566254173,0.10383275376154216,-0.6284608927287233,0.866890297412042,-1.2024915815630428,0.1822133800005098,1.129717939403387,0.48778847655426805,-0.81404660894497,-2.4967023192028366,-0.15430570948289024,1.1629261282568337,0.07178192985158226,-2.499979619158677,-1.0099283783597963,-0.20866740683546953,-1.2713725553000081,-1.5004531175164042,0.9280389877106168,-1.5295643193552795,1.3793034095187395,0.24665735973714437,0.02648352346857129,-0.3723716925856273,1.7407167389351086,-0.2904664042394969,0.8703273669778087,1.8871063314463523,-0.15925783536561067,-0.01232500299030156,1.1049302887625263],\"yaxis\":\"y8\"},{\"line\":{\"color\":\"rgba(128, 128, 128, 1.0)\",\"dash\":\"solid\",\"shape\":\"linear\",\"width\":1.3},\"marker\":{\"size\":2,\"symbol\":\"circle\"},\"mode\":\"markers\",\"name\":\"C\",\"text\":\"\",\"type\":\"scatter\",\"x\":[-0.8952513651069208,-0.8433675626903279,0.5194375646796255,0.20781533281382147,-0.28787023198130957,1.6626119003563948,0.8455339666282456,-0.004764186067881709,0.4733015021634591,-0.9426534090465928,0.3495407603251051,1.046237290545855,-0.9859596463402309,2.1084983582558596,-0.9317323755961524,0.6494024623069314,-0.3843287632960257,1.1614039215162952,-0.20123156557799382,-0.45298390054834,0.7347549725847721,-0.7677041350495847,0.13258824206569836,1.054969175247717,-1.3104840655184302,-0.8013236099028447,0.8811067964875391,1.37964961408107,-0.6967541155402649,-0.06015481378112143,1.6708711018109184,-0.8025842912977741,-0.015918404685731493,-0.027443107556971016,2.406932617211438,1.3057326517527597,-0.06865890639765183,1.1071268608316913,0.33981602924630167,-1.0872016494434344,-1.5039010182317643,-1.519624037806377,1.4712137408778254,-0.0034193275927080374,-0.6401644852992978,0.4859905760774655,0.0390256747991155,-1.941050095915409,-1.6177636665820099,0.613241988243389,-0.8362331163350449,1.6088686769777236,1.0424803246654821,0.021383677990268142,0.8482607537163633,0.2705487692995969,-0.29215392518076677,-0.10297268388786927,-1.1823360718306772,-0.291903670774597,-0.80294506515156,-0.9072759442656589,-0.8089516008862685,-0.9258452866799369,-0.06216798493213476,1.2447036743884878,0.04545716238838049,-0.5767553684691545,-0.757567169617877,1.5631791168400553,1.479076371008533,0.3313239929669739,-0.8932590257661409,-0.8233805286922103,1.0906334749242377,0.9254639718825185,0.3337368137528734,0.7499843768463412,0.8962171001982022,0.8433026224184019,0.041966578696571485,-0.3215182981515437,-2.126805113291232,-1.6303569601061727,-0.8656966690701975,-0.1959710508555525,-1.4209840585311801,-0.5464709582936679,-0.5121202308271431,-0.2238616074951767,0.3327302146369024,0.31238636848963375,-1.7015350452825535,-0.0549239733602343,0.2474203199269791,-0.36324706968849796,-1.0628515643718848,2.5078501395900497,-1.8677307647196009,0.3231424513059178],\"xaxis\":\"x9\",\"y\":[0.15402014678503842,0.2657263820399731,-0.343402330387866,0.04907397042722276,0.8284594320192139,-1.9597162503039829,0.057464181045583575,-0.28627755991796483,1.3057899377814057,0.2655702491850747,0.4110004604096362,2.127128856286828,-0.004654093825273417,-0.1456494965111229,-0.6448807327848622,0.34487161331259336,-0.8619394979445104,0.45936455722494435,-1.357533739395525,-0.589562354995894,-0.005617720156713443,-0.6127013045377776,0.8119688688762698,0.1636200911848541,-0.6508242248720761,-0.2301188176803608,0.24316836315729567,0.9257298097364508,0.47182097328120637,1.816154359318101,1.2428168506400545,0.2893884384487877,1.068267974309602,-0.6518694789966023,-0.4861247688337598,-0.016089400658961882,1.1009248401427172,0.7266089200181972,0.47492656470023475,0.23989608269697232,-0.10491232495807155,0.8746647007485565,-1.158256479116966,-0.23810768669398752,-0.48821222164675787,-0.08145494286790905,-0.9889200956542998,-0.07257919277033752,-0.14710125498318025,1.5562866047204014,-0.37260912236544264,1.3621931178310318,-0.29352007206031927,-0.9149231445886525,-0.5702276323273853,-1.9939070398381225,0.6033883400895033,-0.12906993160729308,0.12695591032807224,0.4330743892954883,-0.06199264302863122,-1.1530161815695628,0.11700877363256074,0.9222514463738127,-1.0911939258558483,0.12440303317551768,0.20218176421198447,0.48958209851623147,1.0226354116421743,0.6687817773729573,1.4791448129964408,0.4683721477637024,0.6136290063139493,-0.8836654479845644,1.324638138600231,1.0128676363566746,-1.8984076055920722,-0.29352674399317497,-0.49885529916506166,0.822322654340613,-0.308508015034196,1.6632715231451238,0.5640668366446504,0.8400153982759437,0.5726675028836222,0.01600333860851399,1.1709176403694541,-1.0524581681070924,-1.4017372011655806,-0.7410775136615926,0.3450606347378987,1.2812632553883703,-0.3527779303137753,-0.5852734007342651,0.9810235646964258,-1.065973352802771,-0.15146442254221687,-0.3496431410140794,-0.5133867583688282,1.7253378058693758],\"yaxis\":\"y9\"},{\"line\":{\"color\":\"rgba(128, 128, 128, 1.0)\",\"dash\":\"solid\",\"shape\":\"linear\",\"width\":1.3},\"marker\":{\"size\":2,\"symbol\":\"circle\"},\"mode\":\"markers\",\"name\":\"C\",\"text\":\"\",\"type\":\"scatter\",\"x\":[-1.1173847502936025,1.746739718699284,0.14685877092398286,-0.46500629752162825,0.4655854906663578,-0.06079797292919306,-0.9935139192431094,-0.9840906486582907,0.3858807133247504,-0.05165981535030882,-0.28153938365960823,1.0444208610245398,2.9552086536453,-0.6360228636743235,-0.7750068348042938,0.3759362444110491,-1.0465943179905126,0.5207368215614654,-1.2645230056565269,-1.6672266527270678,0.8136435929779331,-0.5161670126408316,0.8295781733415212,-0.9370552324792465,-0.9434636737018017,-0.35376129291561254,0.1131341527958107,-0.7791813809558733,-1.5198565256723666,0.08475947400103076,0.5503775638643653,0.3864508203743008,1.24508676785871,-0.5944516877815453,-1.147388038671117,1.6745629245114566,-0.35706174852272393,0.09238182014036393,0.45219988102119246,-0.9982111420135565,-2.364337501067881,-1.5689780423807467,-0.6195922861260792,0.1332476222569659,0.7383518851748205,0.8093449800294485,0.7730083525819172,1.4058264441998591,1.6662888676900314,1.2187622943223144,-0.3569510110710778,0.789056791494699,-0.8914602748284073,1.09081664635188,-1.4903431943146759,-1.4169926866780527,0.8187783046002451,-1.2840812231710845,-0.7474812226213581,-0.18246447267077032,-1.7170896576775119,1.4251919420917685,-0.06684710644568471,2.248776203702825,-1.4497720828871339,0.33515054683217393,0.2572901158489185,-1.8474817915070532,0.07171750340675725,-0.33435320566254173,0.10383275376154216,-0.6284608927287233,0.866890297412042,-1.2024915815630428,0.1822133800005098,1.129717939403387,0.48778847655426805,-0.81404660894497,-2.4967023192028366,-0.15430570948289024,1.1629261282568337,0.07178192985158226,-2.499979619158677,-1.0099283783597963,-0.20866740683546953,-1.2713725553000081,-1.5004531175164042,0.9280389877106168,-1.5295643193552795,1.3793034095187395,0.24665735973714437,0.02648352346857129,-0.3723716925856273,1.7407167389351086,-0.2904664042394969,0.8703273669778087,1.8871063314463523,-0.15925783536561067,-0.01232500299030156,1.1049302887625263],\"xaxis\":\"x10\",\"y\":[0.15402014678503842,0.2657263820399731,-0.343402330387866,0.04907397042722276,0.8284594320192139,-1.9597162503039829,0.057464181045583575,-0.28627755991796483,1.3057899377814057,0.2655702491850747,0.4110004604096362,2.127128856286828,-0.004654093825273417,-0.1456494965111229,-0.6448807327848622,0.34487161331259336,-0.8619394979445104,0.45936455722494435,-1.357533739395525,-0.589562354995894,-0.005617720156713443,-0.6127013045377776,0.8119688688762698,0.1636200911848541,-0.6508242248720761,-0.2301188176803608,0.24316836315729567,0.9257298097364508,0.47182097328120637,1.816154359318101,1.2428168506400545,0.2893884384487877,1.068267974309602,-0.6518694789966023,-0.4861247688337598,-0.016089400658961882,1.1009248401427172,0.7266089200181972,0.47492656470023475,0.23989608269697232,-0.10491232495807155,0.8746647007485565,-1.158256479116966,-0.23810768669398752,-0.48821222164675787,-0.08145494286790905,-0.9889200956542998,-0.07257919277033752,-0.14710125498318025,1.5562866047204014,-0.37260912236544264,1.3621931178310318,-0.29352007206031927,-0.9149231445886525,-0.5702276323273853,-1.9939070398381225,0.6033883400895033,-0.12906993160729308,0.12695591032807224,0.4330743892954883,-0.06199264302863122,-1.1530161815695628,0.11700877363256074,0.9222514463738127,-1.0911939258558483,0.12440303317551768,0.20218176421198447,0.48958209851623147,1.0226354116421743,0.6687817773729573,1.4791448129964408,0.4683721477637024,0.6136290063139493,-0.8836654479845644,1.324638138600231,1.0128676363566746,-1.8984076055920722,-0.29352674399317497,-0.49885529916506166,0.822322654340613,-0.308508015034196,1.6632715231451238,0.5640668366446504,0.8400153982759437,0.5726675028836222,0.01600333860851399,1.1709176403694541,-1.0524581681070924,-1.4017372011655806,-0.7410775136615926,0.3450606347378987,1.2812632553883703,-0.3527779303137753,-0.5852734007342651,0.9810235646964258,-1.065973352802771,-0.15146442254221687,-0.3496431410140794,-0.5133867583688282,1.7253378058693758],\"yaxis\":\"y10\"},{\"histfunc\":\"count\",\"histnorm\":\"\",\"marker\":{\"color\":\"rgba(50, 171, 96, 1.0)\",\"line\":{\"color\":\"#4D5663\",\"width\":1.3}},\"name\":\"C\",\"nbinsx\":30,\"opacity\":0.8,\"orientation\":\"v\",\"type\":\"histogram\",\"x\":[0.15402014678503842,0.2657263820399731,-0.343402330387866,0.04907397042722276,0.8284594320192139,-1.9597162503039829,0.057464181045583575,-0.28627755991796483,1.3057899377814057,0.2655702491850747,0.4110004604096362,2.127128856286828,-0.004654093825273417,-0.1456494965111229,-0.6448807327848622,0.34487161331259336,-0.8619394979445104,0.45936455722494435,-1.357533739395525,-0.589562354995894,-0.005617720156713443,-0.6127013045377776,0.8119688688762698,0.1636200911848541,-0.6508242248720761,-0.2301188176803608,0.24316836315729567,0.9257298097364508,0.47182097328120637,1.816154359318101,1.2428168506400545,0.2893884384487877,1.068267974309602,-0.6518694789966023,-0.4861247688337598,-0.016089400658961882,1.1009248401427172,0.7266089200181972,0.47492656470023475,0.23989608269697232,-0.10491232495807155,0.8746647007485565,-1.158256479116966,-0.23810768669398752,-0.48821222164675787,-0.08145494286790905,-0.9889200956542998,-0.07257919277033752,-0.14710125498318025,1.5562866047204014,-0.37260912236544264,1.3621931178310318,-0.29352007206031927,-0.9149231445886525,-0.5702276323273853,-1.9939070398381225,0.6033883400895033,-0.12906993160729308,0.12695591032807224,0.4330743892954883,-0.06199264302863122,-1.1530161815695628,0.11700877363256074,0.9222514463738127,-1.0911939258558483,0.12440303317551768,0.20218176421198447,0.48958209851623147,1.0226354116421743,0.6687817773729573,1.4791448129964408,0.4683721477637024,0.6136290063139493,-0.8836654479845644,1.324638138600231,1.0128676363566746,-1.8984076055920722,-0.29352674399317497,-0.49885529916506166,0.822322654340613,-0.308508015034196,1.6632715231451238,0.5640668366446504,0.8400153982759437,0.5726675028836222,0.01600333860851399,1.1709176403694541,-1.0524581681070924,-1.4017372011655806,-0.7410775136615926,0.3450606347378987,1.2812632553883703,-0.3527779303137753,-0.5852734007342651,0.9810235646964258,-1.065973352802771,-0.15146442254221687,-0.3496431410140794,-0.5133867583688282,1.7253378058693758],\"xaxis\":\"x11\",\"yaxis\":\"y11\"},{\"line\":{\"color\":\"rgba(128, 128, 128, 1.0)\",\"dash\":\"solid\",\"shape\":\"linear\",\"width\":1.3},\"marker\":{\"size\":2,\"symbol\":\"circle\"},\"mode\":\"markers\",\"name\":\"C\",\"text\":\"\",\"type\":\"scatter\",\"x\":[-0.24928176549246744,0.43766562725607766,0.4911636933927162,1.7523971429861311,-0.9151291254990293,2.526689859980771,0.8306532160373419,-0.5023275214674892,-0.5479546280612896,-2.572183254075991,0.6520516835942008,0.21303230364385592,-2.67353945166175,1.2657924804275693,-0.1638317036376158,0.44283481695950516,0.3249583261002511,-0.09399653505243051,-0.3109384017241319,0.5708256857603644,0.6333611232512597,-0.599135502266844,-0.4929667876360445,-0.06375037377560236,-0.5269909683096622,-0.5575752612499391,-1.2020846724394942,-1.6321549927350116,1.4279114449960255,-0.6144693004074079,-0.21259383781399016,-1.19956866360025,0.03059807861833062,0.42966190674389926,1.5342674171110502,1.401254093534304,1.202427573767034,0.6894921812796692,1.1366594947986572,-0.17889497425348794,0.27240007895803775,0.8146901772806835,0.19264118840852978,-1.1957881697787762,0.7054826975920531,-0.2233060203154685,-0.019753414665292467,1.071013420697468,0.6284635436266129,1.410271681226113,-0.24262105510451937,0.1968420081083256,-0.07855212762629618,1.974354196403117,1.7719427413115192,-0.7774409273732569,-1.624172848941066,1.5028725053057772,0.25673255995404204,0.018310203682808664,1.631494514781497,-1.451764438413754,-0.6008560170876976,-1.1597328111446403,0.1764286053886547,-1.2246949484204448,0.9466888965601424,-1.955648931806292,-1.1262371981967885,0.2577519709661145,-0.8521206497874158,-0.9332922335164483,-0.5306441237488271,1.8990401454111687,-0.3307736735355664,-1.58435537195694,0.35001137772208324,1.1064279284970717,-0.4111550594803613,1.0202158985347134,0.7763283618832962,-0.7013310287608374,-0.17667984159486233,-0.10372497459830986,-0.4686774596973294,-1.3647059645129447,-0.04312159787858875,0.47932113215521155,1.198645942633406,0.6763890844339074,-1.365564667612295,-0.8023448492675859,0.4457650047380639,-1.259166288126855,0.7743706746417458,-0.5256737132389573,-1.573555141918629,1.03783559002227,1.482943710704395,0.4924107255646221],\"xaxis\":\"x12\",\"y\":[0.15402014678503842,0.2657263820399731,-0.343402330387866,0.04907397042722276,0.8284594320192139,-1.9597162503039829,0.057464181045583575,-0.28627755991796483,1.3057899377814057,0.2655702491850747,0.4110004604096362,2.127128856286828,-0.004654093825273417,-0.1456494965111229,-0.6448807327848622,0.34487161331259336,-0.8619394979445104,0.45936455722494435,-1.357533739395525,-0.589562354995894,-0.005617720156713443,-0.6127013045377776,0.8119688688762698,0.1636200911848541,-0.6508242248720761,-0.2301188176803608,0.24316836315729567,0.9257298097364508,0.47182097328120637,1.816154359318101,1.2428168506400545,0.2893884384487877,1.068267974309602,-0.6518694789966023,-0.4861247688337598,-0.016089400658961882,1.1009248401427172,0.7266089200181972,0.47492656470023475,0.23989608269697232,-0.10491232495807155,0.8746647007485565,-1.158256479116966,-0.23810768669398752,-0.48821222164675787,-0.08145494286790905,-0.9889200956542998,-0.07257919277033752,-0.14710125498318025,1.5562866047204014,-0.37260912236544264,1.3621931178310318,-0.29352007206031927,-0.9149231445886525,-0.5702276323273853,-1.9939070398381225,0.6033883400895033,-0.12906993160729308,0.12695591032807224,0.4330743892954883,-0.06199264302863122,-1.1530161815695628,0.11700877363256074,0.9222514463738127,-1.0911939258558483,0.12440303317551768,0.20218176421198447,0.48958209851623147,1.0226354116421743,0.6687817773729573,1.4791448129964408,0.4683721477637024,0.6136290063139493,-0.8836654479845644,1.324638138600231,1.0128676363566746,-1.8984076055920722,-0.29352674399317497,-0.49885529916506166,0.822322654340613,-0.308508015034196,1.6632715231451238,0.5640668366446504,0.8400153982759437,0.5726675028836222,0.01600333860851399,1.1709176403694541,-1.0524581681070924,-1.4017372011655806,-0.7410775136615926,0.3450606347378987,1.2812632553883703,-0.3527779303137753,-0.5852734007342651,0.9810235646964258,-1.065973352802771,-0.15146442254221687,-0.3496431410140794,-0.5133867583688282,1.7253378058693758],\"yaxis\":\"y12\"},{\"line\":{\"color\":\"rgba(128, 128, 128, 1.0)\",\"dash\":\"solid\",\"shape\":\"linear\",\"width\":1.3},\"marker\":{\"size\":2,\"symbol\":\"circle\"},\"mode\":\"markers\",\"name\":\"D\",\"text\":\"\",\"type\":\"scatter\",\"x\":[-0.8952513651069208,-0.8433675626903279,0.5194375646796255,0.20781533281382147,-0.28787023198130957,1.6626119003563948,0.8455339666282456,-0.004764186067881709,0.4733015021634591,-0.9426534090465928,0.3495407603251051,1.046237290545855,-0.9859596463402309,2.1084983582558596,-0.9317323755961524,0.6494024623069314,-0.3843287632960257,1.1614039215162952,-0.20123156557799382,-0.45298390054834,0.7347549725847721,-0.7677041350495847,0.13258824206569836,1.054969175247717,-1.3104840655184302,-0.8013236099028447,0.8811067964875391,1.37964961408107,-0.6967541155402649,-0.06015481378112143,1.6708711018109184,-0.8025842912977741,-0.015918404685731493,-0.027443107556971016,2.406932617211438,1.3057326517527597,-0.06865890639765183,1.1071268608316913,0.33981602924630167,-1.0872016494434344,-1.5039010182317643,-1.519624037806377,1.4712137408778254,-0.0034193275927080374,-0.6401644852992978,0.4859905760774655,0.0390256747991155,-1.941050095915409,-1.6177636665820099,0.613241988243389,-0.8362331163350449,1.6088686769777236,1.0424803246654821,0.021383677990268142,0.8482607537163633,0.2705487692995969,-0.29215392518076677,-0.10297268388786927,-1.1823360718306772,-0.291903670774597,-0.80294506515156,-0.9072759442656589,-0.8089516008862685,-0.9258452866799369,-0.06216798493213476,1.2447036743884878,0.04545716238838049,-0.5767553684691545,-0.757567169617877,1.5631791168400553,1.479076371008533,0.3313239929669739,-0.8932590257661409,-0.8233805286922103,1.0906334749242377,0.9254639718825185,0.3337368137528734,0.7499843768463412,0.8962171001982022,0.8433026224184019,0.041966578696571485,-0.3215182981515437,-2.126805113291232,-1.6303569601061727,-0.8656966690701975,-0.1959710508555525,-1.4209840585311801,-0.5464709582936679,-0.5121202308271431,-0.2238616074951767,0.3327302146369024,0.31238636848963375,-1.7015350452825535,-0.0549239733602343,0.2474203199269791,-0.36324706968849796,-1.0628515643718848,2.5078501395900497,-1.8677307647196009,0.3231424513059178],\"xaxis\":\"x13\",\"y\":[-0.24928176549246744,0.43766562725607766,0.4911636933927162,1.7523971429861311,-0.9151291254990293,2.526689859980771,0.8306532160373419,-0.5023275214674892,-0.5479546280612896,-2.572183254075991,0.6520516835942008,0.21303230364385592,-2.67353945166175,1.2657924804275693,-0.1638317036376158,0.44283481695950516,0.3249583261002511,-0.09399653505243051,-0.3109384017241319,0.5708256857603644,0.6333611232512597,-0.599135502266844,-0.4929667876360445,-0.06375037377560236,-0.5269909683096622,-0.5575752612499391,-1.2020846724394942,-1.6321549927350116,1.4279114449960255,-0.6144693004074079,-0.21259383781399016,-1.19956866360025,0.03059807861833062,0.42966190674389926,1.5342674171110502,1.401254093534304,1.202427573767034,0.6894921812796692,1.1366594947986572,-0.17889497425348794,0.27240007895803775,0.8146901772806835,0.19264118840852978,-1.1957881697787762,0.7054826975920531,-0.2233060203154685,-0.019753414665292467,1.071013420697468,0.6284635436266129,1.410271681226113,-0.24262105510451937,0.1968420081083256,-0.07855212762629618,1.974354196403117,1.7719427413115192,-0.7774409273732569,-1.624172848941066,1.5028725053057772,0.25673255995404204,0.018310203682808664,1.631494514781497,-1.451764438413754,-0.6008560170876976,-1.1597328111446403,0.1764286053886547,-1.2246949484204448,0.9466888965601424,-1.955648931806292,-1.1262371981967885,0.2577519709661145,-0.8521206497874158,-0.9332922335164483,-0.5306441237488271,1.8990401454111687,-0.3307736735355664,-1.58435537195694,0.35001137772208324,1.1064279284970717,-0.4111550594803613,1.0202158985347134,0.7763283618832962,-0.7013310287608374,-0.17667984159486233,-0.10372497459830986,-0.4686774596973294,-1.3647059645129447,-0.04312159787858875,0.47932113215521155,1.198645942633406,0.6763890844339074,-1.365564667612295,-0.8023448492675859,0.4457650047380639,-1.259166288126855,0.7743706746417458,-0.5256737132389573,-1.573555141918629,1.03783559002227,1.482943710704395,0.4924107255646221],\"yaxis\":\"y13\"},{\"line\":{\"color\":\"rgba(128, 128, 128, 1.0)\",\"dash\":\"solid\",\"shape\":\"linear\",\"width\":1.3},\"marker\":{\"size\":2,\"symbol\":\"circle\"},\"mode\":\"markers\",\"name\":\"D\",\"text\":\"\",\"type\":\"scatter\",\"x\":[-1.1173847502936025,1.746739718699284,0.14685877092398286,-0.46500629752162825,0.4655854906663578,-0.06079797292919306,-0.9935139192431094,-0.9840906486582907,0.3858807133247504,-0.05165981535030882,-0.28153938365960823,1.0444208610245398,2.9552086536453,-0.6360228636743235,-0.7750068348042938,0.3759362444110491,-1.0465943179905126,0.5207368215614654,-1.2645230056565269,-1.6672266527270678,0.8136435929779331,-0.5161670126408316,0.8295781733415212,-0.9370552324792465,-0.9434636737018017,-0.35376129291561254,0.1131341527958107,-0.7791813809558733,-1.5198565256723666,0.08475947400103076,0.5503775638643653,0.3864508203743008,1.24508676785871,-0.5944516877815453,-1.147388038671117,1.6745629245114566,-0.35706174852272393,0.09238182014036393,0.45219988102119246,-0.9982111420135565,-2.364337501067881,-1.5689780423807467,-0.6195922861260792,0.1332476222569659,0.7383518851748205,0.8093449800294485,0.7730083525819172,1.4058264441998591,1.6662888676900314,1.2187622943223144,-0.3569510110710778,0.789056791494699,-0.8914602748284073,1.09081664635188,-1.4903431943146759,-1.4169926866780527,0.8187783046002451,-1.2840812231710845,-0.7474812226213581,-0.18246447267077032,-1.7170896576775119,1.4251919420917685,-0.06684710644568471,2.248776203702825,-1.4497720828871339,0.33515054683217393,0.2572901158489185,-1.8474817915070532,0.07171750340675725,-0.33435320566254173,0.10383275376154216,-0.6284608927287233,0.866890297412042,-1.2024915815630428,0.1822133800005098,1.129717939403387,0.48778847655426805,-0.81404660894497,-2.4967023192028366,-0.15430570948289024,1.1629261282568337,0.07178192985158226,-2.499979619158677,-1.0099283783597963,-0.20866740683546953,-1.2713725553000081,-1.5004531175164042,0.9280389877106168,-1.5295643193552795,1.3793034095187395,0.24665735973714437,0.02648352346857129,-0.3723716925856273,1.7407167389351086,-0.2904664042394969,0.8703273669778087,1.8871063314463523,-0.15925783536561067,-0.01232500299030156,1.1049302887625263],\"xaxis\":\"x14\",\"y\":[-0.24928176549246744,0.43766562725607766,0.4911636933927162,1.7523971429861311,-0.9151291254990293,2.526689859980771,0.8306532160373419,-0.5023275214674892,-0.5479546280612896,-2.572183254075991,0.6520516835942008,0.21303230364385592,-2.67353945166175,1.2657924804275693,-0.1638317036376158,0.44283481695950516,0.3249583261002511,-0.09399653505243051,-0.3109384017241319,0.5708256857603644,0.6333611232512597,-0.599135502266844,-0.4929667876360445,-0.06375037377560236,-0.5269909683096622,-0.5575752612499391,-1.2020846724394942,-1.6321549927350116,1.4279114449960255,-0.6144693004074079,-0.21259383781399016,-1.19956866360025,0.03059807861833062,0.42966190674389926,1.5342674171110502,1.401254093534304,1.202427573767034,0.6894921812796692,1.1366594947986572,-0.17889497425348794,0.27240007895803775,0.8146901772806835,0.19264118840852978,-1.1957881697787762,0.7054826975920531,-0.2233060203154685,-0.019753414665292467,1.071013420697468,0.6284635436266129,1.410271681226113,-0.24262105510451937,0.1968420081083256,-0.07855212762629618,1.974354196403117,1.7719427413115192,-0.7774409273732569,-1.624172848941066,1.5028725053057772,0.25673255995404204,0.018310203682808664,1.631494514781497,-1.451764438413754,-0.6008560170876976,-1.1597328111446403,0.1764286053886547,-1.2246949484204448,0.9466888965601424,-1.955648931806292,-1.1262371981967885,0.2577519709661145,-0.8521206497874158,-0.9332922335164483,-0.5306441237488271,1.8990401454111687,-0.3307736735355664,-1.58435537195694,0.35001137772208324,1.1064279284970717,-0.4111550594803613,1.0202158985347134,0.7763283618832962,-0.7013310287608374,-0.17667984159486233,-0.10372497459830986,-0.4686774596973294,-1.3647059645129447,-0.04312159787858875,0.47932113215521155,1.198645942633406,0.6763890844339074,-1.365564667612295,-0.8023448492675859,0.4457650047380639,-1.259166288126855,0.7743706746417458,-0.5256737132389573,-1.573555141918629,1.03783559002227,1.482943710704395,0.4924107255646221],\"yaxis\":\"y14\"},{\"line\":{\"color\":\"rgba(128, 128, 128, 1.0)\",\"dash\":\"solid\",\"shape\":\"linear\",\"width\":1.3},\"marker\":{\"size\":2,\"symbol\":\"circle\"},\"mode\":\"markers\",\"name\":\"D\",\"text\":\"\",\"type\":\"scatter\",\"x\":[0.15402014678503842,0.2657263820399731,-0.343402330387866,0.04907397042722276,0.8284594320192139,-1.9597162503039829,0.057464181045583575,-0.28627755991796483,1.3057899377814057,0.2655702491850747,0.4110004604096362,2.127128856286828,-0.004654093825273417,-0.1456494965111229,-0.6448807327848622,0.34487161331259336,-0.8619394979445104,0.45936455722494435,-1.357533739395525,-0.589562354995894,-0.005617720156713443,-0.6127013045377776,0.8119688688762698,0.1636200911848541,-0.6508242248720761,-0.2301188176803608,0.24316836315729567,0.9257298097364508,0.47182097328120637,1.816154359318101,1.2428168506400545,0.2893884384487877,1.068267974309602,-0.6518694789966023,-0.4861247688337598,-0.016089400658961882,1.1009248401427172,0.7266089200181972,0.47492656470023475,0.23989608269697232,-0.10491232495807155,0.8746647007485565,-1.158256479116966,-0.23810768669398752,-0.48821222164675787,-0.08145494286790905,-0.9889200956542998,-0.07257919277033752,-0.14710125498318025,1.5562866047204014,-0.37260912236544264,1.3621931178310318,-0.29352007206031927,-0.9149231445886525,-0.5702276323273853,-1.9939070398381225,0.6033883400895033,-0.12906993160729308,0.12695591032807224,0.4330743892954883,-0.06199264302863122,-1.1530161815695628,0.11700877363256074,0.9222514463738127,-1.0911939258558483,0.12440303317551768,0.20218176421198447,0.48958209851623147,1.0226354116421743,0.6687817773729573,1.4791448129964408,0.4683721477637024,0.6136290063139493,-0.8836654479845644,1.324638138600231,1.0128676363566746,-1.8984076055920722,-0.29352674399317497,-0.49885529916506166,0.822322654340613,-0.308508015034196,1.6632715231451238,0.5640668366446504,0.8400153982759437,0.5726675028836222,0.01600333860851399,1.1709176403694541,-1.0524581681070924,-1.4017372011655806,-0.7410775136615926,0.3450606347378987,1.2812632553883703,-0.3527779303137753,-0.5852734007342651,0.9810235646964258,-1.065973352802771,-0.15146442254221687,-0.3496431410140794,-0.5133867583688282,1.7253378058693758],\"xaxis\":\"x15\",\"y\":[-0.24928176549246744,0.43766562725607766,0.4911636933927162,1.7523971429861311,-0.9151291254990293,2.526689859980771,0.8306532160373419,-0.5023275214674892,-0.5479546280612896,-2.572183254075991,0.6520516835942008,0.21303230364385592,-2.67353945166175,1.2657924804275693,-0.1638317036376158,0.44283481695950516,0.3249583261002511,-0.09399653505243051,-0.3109384017241319,0.5708256857603644,0.6333611232512597,-0.599135502266844,-0.4929667876360445,-0.06375037377560236,-0.5269909683096622,-0.5575752612499391,-1.2020846724394942,-1.6321549927350116,1.4279114449960255,-0.6144693004074079,-0.21259383781399016,-1.19956866360025,0.03059807861833062,0.42966190674389926,1.5342674171110502,1.401254093534304,1.202427573767034,0.6894921812796692,1.1366594947986572,-0.17889497425348794,0.27240007895803775,0.8146901772806835,0.19264118840852978,-1.1957881697787762,0.7054826975920531,-0.2233060203154685,-0.019753414665292467,1.071013420697468,0.6284635436266129,1.410271681226113,-0.24262105510451937,0.1968420081083256,-0.07855212762629618,1.974354196403117,1.7719427413115192,-0.7774409273732569,-1.624172848941066,1.5028725053057772,0.25673255995404204,0.018310203682808664,1.631494514781497,-1.451764438413754,-0.6008560170876976,-1.1597328111446403,0.1764286053886547,-1.2246949484204448,0.9466888965601424,-1.955648931806292,-1.1262371981967885,0.2577519709661145,-0.8521206497874158,-0.9332922335164483,-0.5306441237488271,1.8990401454111687,-0.3307736735355664,-1.58435537195694,0.35001137772208324,1.1064279284970717,-0.4111550594803613,1.0202158985347134,0.7763283618832962,-0.7013310287608374,-0.17667984159486233,-0.10372497459830986,-0.4686774596973294,-1.3647059645129447,-0.04312159787858875,0.47932113215521155,1.198645942633406,0.6763890844339074,-1.365564667612295,-0.8023448492675859,0.4457650047380639,-1.259166288126855,0.7743706746417458,-0.5256737132389573,-1.573555141918629,1.03783559002227,1.482943710704395,0.4924107255646221],\"yaxis\":\"y15\"},{\"histfunc\":\"count\",\"histnorm\":\"\",\"marker\":{\"color\":\"rgba(128, 0, 128, 1.0)\",\"line\":{\"color\":\"#4D5663\",\"width\":1.3}},\"name\":\"D\",\"nbinsx\":30,\"opacity\":0.8,\"orientation\":\"v\",\"type\":\"histogram\",\"x\":[-0.24928176549246744,0.43766562725607766,0.4911636933927162,1.7523971429861311,-0.9151291254990293,2.526689859980771,0.8306532160373419,-0.5023275214674892,-0.5479546280612896,-2.572183254075991,0.6520516835942008,0.21303230364385592,-2.67353945166175,1.2657924804275693,-0.1638317036376158,0.44283481695950516,0.3249583261002511,-0.09399653505243051,-0.3109384017241319,0.5708256857603644,0.6333611232512597,-0.599135502266844,-0.4929667876360445,-0.06375037377560236,-0.5269909683096622,-0.5575752612499391,-1.2020846724394942,-1.6321549927350116,1.4279114449960255,-0.6144693004074079,-0.21259383781399016,-1.19956866360025,0.03059807861833062,0.42966190674389926,1.5342674171110502,1.401254093534304,1.202427573767034,0.6894921812796692,1.1366594947986572,-0.17889497425348794,0.27240007895803775,0.8146901772806835,0.19264118840852978,-1.1957881697787762,0.7054826975920531,-0.2233060203154685,-0.019753414665292467,1.071013420697468,0.6284635436266129,1.410271681226113,-0.24262105510451937,0.1968420081083256,-0.07855212762629618,1.974354196403117,1.7719427413115192,-0.7774409273732569,-1.624172848941066,1.5028725053057772,0.25673255995404204,0.018310203682808664,1.631494514781497,-1.451764438413754,-0.6008560170876976,-1.1597328111446403,0.1764286053886547,-1.2246949484204448,0.9466888965601424,-1.955648931806292,-1.1262371981967885,0.2577519709661145,-0.8521206497874158,-0.9332922335164483,-0.5306441237488271,1.8990401454111687,-0.3307736735355664,-1.58435537195694,0.35001137772208324,1.1064279284970717,-0.4111550594803613,1.0202158985347134,0.7763283618832962,-0.7013310287608374,-0.17667984159486233,-0.10372497459830986,-0.4686774596973294,-1.3647059645129447,-0.04312159787858875,0.47932113215521155,1.198645942633406,0.6763890844339074,-1.365564667612295,-0.8023448492675859,0.4457650047380639,-1.259166288126855,0.7743706746417458,-0.5256737132389573,-1.573555141918629,1.03783559002227,1.482943710704395,0.4924107255646221],\"xaxis\":\"x16\",\"yaxis\":\"y16\"}],                        {\"bargap\":0.02,\"legend\":{\"bgcolor\":\"#F5F6F9\",\"font\":{\"color\":\"#4D5663\"}},\"paper_bgcolor\":\"#F5F6F9\",\"plot_bgcolor\":\"#F5F6F9\",\"showlegend\":false,\"template\":{\"data\":{\"bar\":[{\"error_x\":{\"color\":\"#2a3f5f\"},\"error_y\":{\"color\":\"#2a3f5f\"},\"marker\":{\"line\":{\"color\":\"#E5ECF6\",\"width\":0.5},\"pattern\":{\"fillmode\":\"overlay\",\"size\":10,\"solidity\":0.2}},\"type\":\"bar\"}],\"barpolar\":[{\"marker\":{\"line\":{\"color\":\"#E5ECF6\",\"width\":0.5},\"pattern\":{\"fillmode\":\"overlay\",\"size\":10,\"solidity\":0.2}},\"type\":\"barpolar\"}],\"carpet\":[{\"aaxis\":{\"endlinecolor\":\"#2a3f5f\",\"gridcolor\":\"white\",\"linecolor\":\"white\",\"minorgridcolor\":\"white\",\"startlinecolor\":\"#2a3f5f\"},\"baxis\":{\"endlinecolor\":\"#2a3f5f\",\"gridcolor\":\"white\",\"linecolor\":\"white\",\"minorgridcolor\":\"white\",\"startlinecolor\":\"#2a3f5f\"},\"type\":\"carpet\"}],\"choropleth\":[{\"colorbar\":{\"outlinewidth\":0,\"ticks\":\"\"},\"type\":\"choropleth\"}],\"contour\":[{\"colorbar\":{\"outlinewidth\":0,\"ticks\":\"\"},\"colorscale\":[[0.0,\"#0d0887\"],[0.1111111111111111,\"#46039f\"],[0.2222222222222222,\"#7201a8\"],[0.3333333333333333,\"#9c179e\"],[0.4444444444444444,\"#bd3786\"],[0.5555555555555556,\"#d8576b\"],[0.6666666666666666,\"#ed7953\"],[0.7777777777777778,\"#fb9f3a\"],[0.8888888888888888,\"#fdca26\"],[1.0,\"#f0f921\"]],\"type\":\"contour\"}],\"contourcarpet\":[{\"colorbar\":{\"outlinewidth\":0,\"ticks\":\"\"},\"type\":\"contourcarpet\"}],\"heatmap\":[{\"colorbar\":{\"outlinewidth\":0,\"ticks\":\"\"},\"colorscale\":[[0.0,\"#0d0887\"],[0.1111111111111111,\"#46039f\"],[0.2222222222222222,\"#7201a8\"],[0.3333333333333333,\"#9c179e\"],[0.4444444444444444,\"#bd3786\"],[0.5555555555555556,\"#d8576b\"],[0.6666666666666666,\"#ed7953\"],[0.7777777777777778,\"#fb9f3a\"],[0.8888888888888888,\"#fdca26\"],[1.0,\"#f0f921\"]],\"type\":\"heatmap\"}],\"heatmapgl\":[{\"colorbar\":{\"outlinewidth\":0,\"ticks\":\"\"},\"colorscale\":[[0.0,\"#0d0887\"],[0.1111111111111111,\"#46039f\"],[0.2222222222222222,\"#7201a8\"],[0.3333333333333333,\"#9c179e\"],[0.4444444444444444,\"#bd3786\"],[0.5555555555555556,\"#d8576b\"],[0.6666666666666666,\"#ed7953\"],[0.7777777777777778,\"#fb9f3a\"],[0.8888888888888888,\"#fdca26\"],[1.0,\"#f0f921\"]],\"type\":\"heatmapgl\"}],\"histogram\":[{\"marker\":{\"pattern\":{\"fillmode\":\"overlay\",\"size\":10,\"solidity\":0.2}},\"type\":\"histogram\"}],\"histogram2d\":[{\"colorbar\":{\"outlinewidth\":0,\"ticks\":\"\"},\"colorscale\":[[0.0,\"#0d0887\"],[0.1111111111111111,\"#46039f\"],[0.2222222222222222,\"#7201a8\"],[0.3333333333333333,\"#9c179e\"],[0.4444444444444444,\"#bd3786\"],[0.5555555555555556,\"#d8576b\"],[0.6666666666666666,\"#ed7953\"],[0.7777777777777778,\"#fb9f3a\"],[0.8888888888888888,\"#fdca26\"],[1.0,\"#f0f921\"]],\"type\":\"histogram2d\"}],\"histogram2dcontour\":[{\"colorbar\":{\"outlinewidth\":0,\"ticks\":\"\"},\"colorscale\":[[0.0,\"#0d0887\"],[0.1111111111111111,\"#46039f\"],[0.2222222222222222,\"#7201a8\"],[0.3333333333333333,\"#9c179e\"],[0.4444444444444444,\"#bd3786\"],[0.5555555555555556,\"#d8576b\"],[0.6666666666666666,\"#ed7953\"],[0.7777777777777778,\"#fb9f3a\"],[0.8888888888888888,\"#fdca26\"],[1.0,\"#f0f921\"]],\"type\":\"histogram2dcontour\"}],\"mesh3d\":[{\"colorbar\":{\"outlinewidth\":0,\"ticks\":\"\"},\"type\":\"mesh3d\"}],\"parcoords\":[{\"line\":{\"colorbar\":{\"outlinewidth\":0,\"ticks\":\"\"}},\"type\":\"parcoords\"}],\"pie\":[{\"automargin\":true,\"type\":\"pie\"}],\"scatter\":[{\"marker\":{\"colorbar\":{\"outlinewidth\":0,\"ticks\":\"\"}},\"type\":\"scatter\"}],\"scatter3d\":[{\"line\":{\"colorbar\":{\"outlinewidth\":0,\"ticks\":\"\"}},\"marker\":{\"colorbar\":{\"outlinewidth\":0,\"ticks\":\"\"}},\"type\":\"scatter3d\"}],\"scattercarpet\":[{\"marker\":{\"colorbar\":{\"outlinewidth\":0,\"ticks\":\"\"}},\"type\":\"scattercarpet\"}],\"scattergeo\":[{\"marker\":{\"colorbar\":{\"outlinewidth\":0,\"ticks\":\"\"}},\"type\":\"scattergeo\"}],\"scattergl\":[{\"marker\":{\"colorbar\":{\"outlinewidth\":0,\"ticks\":\"\"}},\"type\":\"scattergl\"}],\"scattermapbox\":[{\"marker\":{\"colorbar\":{\"outlinewidth\":0,\"ticks\":\"\"}},\"type\":\"scattermapbox\"}],\"scatterpolar\":[{\"marker\":{\"colorbar\":{\"outlinewidth\":0,\"ticks\":\"\"}},\"type\":\"scatterpolar\"}],\"scatterpolargl\":[{\"marker\":{\"colorbar\":{\"outlinewidth\":0,\"ticks\":\"\"}},\"type\":\"scatterpolargl\"}],\"scatterternary\":[{\"marker\":{\"colorbar\":{\"outlinewidth\":0,\"ticks\":\"\"}},\"type\":\"scatterternary\"}],\"surface\":[{\"colorbar\":{\"outlinewidth\":0,\"ticks\":\"\"},\"colorscale\":[[0.0,\"#0d0887\"],[0.1111111111111111,\"#46039f\"],[0.2222222222222222,\"#7201a8\"],[0.3333333333333333,\"#9c179e\"],[0.4444444444444444,\"#bd3786\"],[0.5555555555555556,\"#d8576b\"],[0.6666666666666666,\"#ed7953\"],[0.7777777777777778,\"#fb9f3a\"],[0.8888888888888888,\"#fdca26\"],[1.0,\"#f0f921\"]],\"type\":\"surface\"}],\"table\":[{\"cells\":{\"fill\":{\"color\":\"#EBF0F8\"},\"line\":{\"color\":\"white\"}},\"header\":{\"fill\":{\"color\":\"#C8D4E3\"},\"line\":{\"color\":\"white\"}},\"type\":\"table\"}]},\"layout\":{\"annotationdefaults\":{\"arrowcolor\":\"#2a3f5f\",\"arrowhead\":0,\"arrowwidth\":1},\"autotypenumbers\":\"strict\",\"coloraxis\":{\"colorbar\":{\"outlinewidth\":0,\"ticks\":\"\"}},\"colorscale\":{\"diverging\":[[0,\"#8e0152\"],[0.1,\"#c51b7d\"],[0.2,\"#de77ae\"],[0.3,\"#f1b6da\"],[0.4,\"#fde0ef\"],[0.5,\"#f7f7f7\"],[0.6,\"#e6f5d0\"],[0.7,\"#b8e186\"],[0.8,\"#7fbc41\"],[0.9,\"#4d9221\"],[1,\"#276419\"]],\"sequential\":[[0.0,\"#0d0887\"],[0.1111111111111111,\"#46039f\"],[0.2222222222222222,\"#7201a8\"],[0.3333333333333333,\"#9c179e\"],[0.4444444444444444,\"#bd3786\"],[0.5555555555555556,\"#d8576b\"],[0.6666666666666666,\"#ed7953\"],[0.7777777777777778,\"#fb9f3a\"],[0.8888888888888888,\"#fdca26\"],[1.0,\"#f0f921\"]],\"sequentialminus\":[[0.0,\"#0d0887\"],[0.1111111111111111,\"#46039f\"],[0.2222222222222222,\"#7201a8\"],[0.3333333333333333,\"#9c179e\"],[0.4444444444444444,\"#bd3786\"],[0.5555555555555556,\"#d8576b\"],[0.6666666666666666,\"#ed7953\"],[0.7777777777777778,\"#fb9f3a\"],[0.8888888888888888,\"#fdca26\"],[1.0,\"#f0f921\"]]},\"colorway\":[\"#636efa\",\"#EF553B\",\"#00cc96\",\"#ab63fa\",\"#FFA15A\",\"#19d3f3\",\"#FF6692\",\"#B6E880\",\"#FF97FF\",\"#FECB52\"],\"font\":{\"color\":\"#2a3f5f\"},\"geo\":{\"bgcolor\":\"white\",\"lakecolor\":\"white\",\"landcolor\":\"#E5ECF6\",\"showlakes\":true,\"showland\":true,\"subunitcolor\":\"white\"},\"hoverlabel\":{\"align\":\"left\"},\"hovermode\":\"closest\",\"mapbox\":{\"style\":\"light\"},\"paper_bgcolor\":\"white\",\"plot_bgcolor\":\"#E5ECF6\",\"polar\":{\"angularaxis\":{\"gridcolor\":\"white\",\"linecolor\":\"white\",\"ticks\":\"\"},\"bgcolor\":\"#E5ECF6\",\"radialaxis\":{\"gridcolor\":\"white\",\"linecolor\":\"white\",\"ticks\":\"\"}},\"scene\":{\"xaxis\":{\"backgroundcolor\":\"#E5ECF6\",\"gridcolor\":\"white\",\"gridwidth\":2,\"linecolor\":\"white\",\"showbackground\":true,\"ticks\":\"\",\"zerolinecolor\":\"white\"},\"yaxis\":{\"backgroundcolor\":\"#E5ECF6\",\"gridcolor\":\"white\",\"gridwidth\":2,\"linecolor\":\"white\",\"showbackground\":true,\"ticks\":\"\",\"zerolinecolor\":\"white\"},\"zaxis\":{\"backgroundcolor\":\"#E5ECF6\",\"gridcolor\":\"white\",\"gridwidth\":2,\"linecolor\":\"white\",\"showbackground\":true,\"ticks\":\"\",\"zerolinecolor\":\"white\"}},\"shapedefaults\":{\"line\":{\"color\":\"#2a3f5f\"}},\"ternary\":{\"aaxis\":{\"gridcolor\":\"white\",\"linecolor\":\"white\",\"ticks\":\"\"},\"baxis\":{\"gridcolor\":\"white\",\"linecolor\":\"white\",\"ticks\":\"\"},\"bgcolor\":\"#E5ECF6\",\"caxis\":{\"gridcolor\":\"white\",\"linecolor\":\"white\",\"ticks\":\"\"}},\"title\":{\"x\":0.05},\"xaxis\":{\"automargin\":true,\"gridcolor\":\"white\",\"linecolor\":\"white\",\"ticks\":\"\",\"title\":{\"standoff\":15},\"zerolinecolor\":\"white\",\"zerolinewidth\":2},\"yaxis\":{\"automargin\":true,\"gridcolor\":\"white\",\"linecolor\":\"white\",\"ticks\":\"\",\"title\":{\"standoff\":15},\"zerolinecolor\":\"white\",\"zerolinewidth\":2}}},\"title\":{\"font\":{\"color\":\"#4D5663\"}},\"xaxis\":{\"anchor\":\"y\",\"domain\":[0.0,0.2125],\"gridcolor\":\"#E1E5ED\",\"showgrid\":false,\"tickfont\":{\"color\":\"#4D5663\"},\"title\":{\"font\":{\"color\":\"#4D5663\"},\"text\":\"\"},\"zerolinecolor\":\"#E1E5ED\"},\"xaxis10\":{\"anchor\":\"y10\",\"domain\":[0.2625,0.475],\"gridcolor\":\"#E1E5ED\",\"showgrid\":false,\"tickfont\":{\"color\":\"#4D5663\"},\"title\":{\"font\":{\"color\":\"#4D5663\"},\"text\":\"\"},\"zerolinecolor\":\"#E1E5ED\"},\"xaxis11\":{\"anchor\":\"y11\",\"domain\":[0.525,0.7375],\"gridcolor\":\"#E1E5ED\",\"showgrid\":false,\"tickfont\":{\"color\":\"#4D5663\"},\"title\":{\"font\":{\"color\":\"#4D5663\"},\"text\":\"\"},\"zerolinecolor\":\"#E1E5ED\"},\"xaxis12\":{\"anchor\":\"y12\",\"domain\":[0.7875,1.0],\"gridcolor\":\"#E1E5ED\",\"showgrid\":false,\"tickfont\":{\"color\":\"#4D5663\"},\"title\":{\"font\":{\"color\":\"#4D5663\"},\"text\":\"\"},\"zerolinecolor\":\"#E1E5ED\"},\"xaxis13\":{\"anchor\":\"y13\",\"domain\":[0.0,0.2125],\"gridcolor\":\"#E1E5ED\",\"showgrid\":false,\"tickfont\":{\"color\":\"#4D5663\"},\"title\":{\"font\":{\"color\":\"#4D5663\"},\"text\":\"\"},\"zerolinecolor\":\"#E1E5ED\"},\"xaxis14\":{\"anchor\":\"y14\",\"domain\":[0.2625,0.475],\"gridcolor\":\"#E1E5ED\",\"showgrid\":false,\"tickfont\":{\"color\":\"#4D5663\"},\"title\":{\"font\":{\"color\":\"#4D5663\"},\"text\":\"\"},\"zerolinecolor\":\"#E1E5ED\"},\"xaxis15\":{\"anchor\":\"y15\",\"domain\":[0.525,0.7375],\"gridcolor\":\"#E1E5ED\",\"showgrid\":false,\"tickfont\":{\"color\":\"#4D5663\"},\"title\":{\"font\":{\"color\":\"#4D5663\"},\"text\":\"\"},\"zerolinecolor\":\"#E1E5ED\"},\"xaxis16\":{\"anchor\":\"y16\",\"domain\":[0.7875,1.0],\"gridcolor\":\"#E1E5ED\",\"showgrid\":false,\"tickfont\":{\"color\":\"#4D5663\"},\"title\":{\"font\":{\"color\":\"#4D5663\"},\"text\":\"\"},\"zerolinecolor\":\"#E1E5ED\"},\"xaxis2\":{\"anchor\":\"y2\",\"domain\":[0.2625,0.475],\"gridcolor\":\"#E1E5ED\",\"showgrid\":false,\"tickfont\":{\"color\":\"#4D5663\"},\"title\":{\"font\":{\"color\":\"#4D5663\"},\"text\":\"\"},\"zerolinecolor\":\"#E1E5ED\"},\"xaxis3\":{\"anchor\":\"y3\",\"domain\":[0.525,0.7375],\"gridcolor\":\"#E1E5ED\",\"showgrid\":false,\"tickfont\":{\"color\":\"#4D5663\"},\"title\":{\"font\":{\"color\":\"#4D5663\"},\"text\":\"\"},\"zerolinecolor\":\"#E1E5ED\"},\"xaxis4\":{\"anchor\":\"y4\",\"domain\":[0.7875,1.0],\"gridcolor\":\"#E1E5ED\",\"showgrid\":false,\"tickfont\":{\"color\":\"#4D5663\"},\"title\":{\"font\":{\"color\":\"#4D5663\"},\"text\":\"\"},\"zerolinecolor\":\"#E1E5ED\"},\"xaxis5\":{\"anchor\":\"y5\",\"domain\":[0.0,0.2125],\"gridcolor\":\"#E1E5ED\",\"showgrid\":false,\"tickfont\":{\"color\":\"#4D5663\"},\"title\":{\"font\":{\"color\":\"#4D5663\"},\"text\":\"\"},\"zerolinecolor\":\"#E1E5ED\"},\"xaxis6\":{\"anchor\":\"y6\",\"domain\":[0.2625,0.475],\"gridcolor\":\"#E1E5ED\",\"showgrid\":false,\"tickfont\":{\"color\":\"#4D5663\"},\"title\":{\"font\":{\"color\":\"#4D5663\"},\"text\":\"\"},\"zerolinecolor\":\"#E1E5ED\"},\"xaxis7\":{\"anchor\":\"y7\",\"domain\":[0.525,0.7375],\"gridcolor\":\"#E1E5ED\",\"showgrid\":false,\"tickfont\":{\"color\":\"#4D5663\"},\"title\":{\"font\":{\"color\":\"#4D5663\"},\"text\":\"\"},\"zerolinecolor\":\"#E1E5ED\"},\"xaxis8\":{\"anchor\":\"y8\",\"domain\":[0.7875,1.0],\"gridcolor\":\"#E1E5ED\",\"showgrid\":false,\"tickfont\":{\"color\":\"#4D5663\"},\"title\":{\"font\":{\"color\":\"#4D5663\"},\"text\":\"\"},\"zerolinecolor\":\"#E1E5ED\"},\"xaxis9\":{\"anchor\":\"y9\",\"domain\":[0.0,0.2125],\"gridcolor\":\"#E1E5ED\",\"showgrid\":false,\"tickfont\":{\"color\":\"#4D5663\"},\"title\":{\"font\":{\"color\":\"#4D5663\"},\"text\":\"\"},\"zerolinecolor\":\"#E1E5ED\"},\"yaxis\":{\"anchor\":\"x\",\"domain\":[0.8025,1.0],\"gridcolor\":\"#E1E5ED\",\"showgrid\":false,\"tickfont\":{\"color\":\"#4D5663\"},\"title\":{\"font\":{\"color\":\"#4D5663\"},\"text\":\"\"},\"zerolinecolor\":\"#E1E5ED\"},\"yaxis10\":{\"anchor\":\"x10\",\"domain\":[0.2675,0.465],\"gridcolor\":\"#E1E5ED\",\"showgrid\":false,\"tickfont\":{\"color\":\"#4D5663\"},\"title\":{\"font\":{\"color\":\"#4D5663\"},\"text\":\"\"},\"zerolinecolor\":\"#E1E5ED\"},\"yaxis11\":{\"anchor\":\"x11\",\"domain\":[0.2675,0.465],\"gridcolor\":\"#E1E5ED\",\"showgrid\":false,\"tickfont\":{\"color\":\"#4D5663\"},\"title\":{\"font\":{\"color\":\"#4D5663\"},\"text\":\"\"},\"zerolinecolor\":\"#E1E5ED\"},\"yaxis12\":{\"anchor\":\"x12\",\"domain\":[0.2675,0.465],\"gridcolor\":\"#E1E5ED\",\"showgrid\":false,\"tickfont\":{\"color\":\"#4D5663\"},\"title\":{\"font\":{\"color\":\"#4D5663\"},\"text\":\"\"},\"zerolinecolor\":\"#E1E5ED\"},\"yaxis13\":{\"anchor\":\"x13\",\"domain\":[0.0,0.1975],\"gridcolor\":\"#E1E5ED\",\"showgrid\":false,\"tickfont\":{\"color\":\"#4D5663\"},\"title\":{\"font\":{\"color\":\"#4D5663\"},\"text\":\"\"},\"zerolinecolor\":\"#E1E5ED\"},\"yaxis14\":{\"anchor\":\"x14\",\"domain\":[0.0,0.1975],\"gridcolor\":\"#E1E5ED\",\"showgrid\":false,\"tickfont\":{\"color\":\"#4D5663\"},\"title\":{\"font\":{\"color\":\"#4D5663\"},\"text\":\"\"},\"zerolinecolor\":\"#E1E5ED\"},\"yaxis15\":{\"anchor\":\"x15\",\"domain\":[0.0,0.1975],\"gridcolor\":\"#E1E5ED\",\"showgrid\":false,\"tickfont\":{\"color\":\"#4D5663\"},\"title\":{\"font\":{\"color\":\"#4D5663\"},\"text\":\"\"},\"zerolinecolor\":\"#E1E5ED\"},\"yaxis16\":{\"anchor\":\"x16\",\"domain\":[0.0,0.1975],\"gridcolor\":\"#E1E5ED\",\"showgrid\":false,\"tickfont\":{\"color\":\"#4D5663\"},\"title\":{\"font\":{\"color\":\"#4D5663\"},\"text\":\"\"},\"zerolinecolor\":\"#E1E5ED\"},\"yaxis2\":{\"anchor\":\"x2\",\"domain\":[0.8025,1.0],\"gridcolor\":\"#E1E5ED\",\"showgrid\":false,\"tickfont\":{\"color\":\"#4D5663\"},\"title\":{\"font\":{\"color\":\"#4D5663\"},\"text\":\"\"},\"zerolinecolor\":\"#E1E5ED\"},\"yaxis3\":{\"anchor\":\"x3\",\"domain\":[0.8025,1.0],\"gridcolor\":\"#E1E5ED\",\"showgrid\":false,\"tickfont\":{\"color\":\"#4D5663\"},\"title\":{\"font\":{\"color\":\"#4D5663\"},\"text\":\"\"},\"zerolinecolor\":\"#E1E5ED\"},\"yaxis4\":{\"anchor\":\"x4\",\"domain\":[0.8025,1.0],\"gridcolor\":\"#E1E5ED\",\"showgrid\":false,\"tickfont\":{\"color\":\"#4D5663\"},\"title\":{\"font\":{\"color\":\"#4D5663\"},\"text\":\"\"},\"zerolinecolor\":\"#E1E5ED\"},\"yaxis5\":{\"anchor\":\"x5\",\"domain\":[0.535,0.7325],\"gridcolor\":\"#E1E5ED\",\"showgrid\":false,\"tickfont\":{\"color\":\"#4D5663\"},\"title\":{\"font\":{\"color\":\"#4D5663\"},\"text\":\"\"},\"zerolinecolor\":\"#E1E5ED\"},\"yaxis6\":{\"anchor\":\"x6\",\"domain\":[0.535,0.7325],\"gridcolor\":\"#E1E5ED\",\"showgrid\":false,\"tickfont\":{\"color\":\"#4D5663\"},\"title\":{\"font\":{\"color\":\"#4D5663\"},\"text\":\"\"},\"zerolinecolor\":\"#E1E5ED\"},\"yaxis7\":{\"anchor\":\"x7\",\"domain\":[0.535,0.7325],\"gridcolor\":\"#E1E5ED\",\"showgrid\":false,\"tickfont\":{\"color\":\"#4D5663\"},\"title\":{\"font\":{\"color\":\"#4D5663\"},\"text\":\"\"},\"zerolinecolor\":\"#E1E5ED\"},\"yaxis8\":{\"anchor\":\"x8\",\"domain\":[0.535,0.7325],\"gridcolor\":\"#E1E5ED\",\"showgrid\":false,\"tickfont\":{\"color\":\"#4D5663\"},\"title\":{\"font\":{\"color\":\"#4D5663\"},\"text\":\"\"},\"zerolinecolor\":\"#E1E5ED\"},\"yaxis9\":{\"anchor\":\"x9\",\"domain\":[0.2675,0.465],\"gridcolor\":\"#E1E5ED\",\"showgrid\":false,\"tickfont\":{\"color\":\"#4D5663\"},\"title\":{\"font\":{\"color\":\"#4D5663\"},\"text\":\"\"},\"zerolinecolor\":\"#E1E5ED\"}},                        {\"showLink\": true, \"linkText\": \"Export to plot.ly\", \"plotlyServerURL\": \"https://plot.ly\", \"responsive\": true}                    ).then(function(){\n",
       "                            \n",
       "var gd = document.getElementById('da60baac-abaf-4599-a867-26ead6614ece');\n",
       "var x = new MutationObserver(function (mutations, observer) {{\n",
       "        var display = window.getComputedStyle(gd).display;\n",
       "        if (!display || display === 'none') {{\n",
       "            console.log([gd, 'removed!']);\n",
       "            Plotly.purge(gd);\n",
       "            observer.disconnect();\n",
       "        }}\n",
       "}});\n",
       "\n",
       "// Listen for the removal of the full notebook cells\n",
       "var notebookContainer = gd.closest('#notebook-container');\n",
       "if (notebookContainer) {{\n",
       "    x.observe(notebookContainer, {childList: true});\n",
       "}}\n",
       "\n",
       "// Listen for the clearing of the current output cell\n",
       "var outputEl = gd.closest('.output');\n",
       "if (outputEl) {{\n",
       "    x.observe(outputEl, {childList: true});\n",
       "}}\n",
       "\n",
       "                        })                };                });            </script>        </div>"
      ]
     },
     "metadata": {},
     "output_type": "display_data"
    },
    {
     "data": {
      "text/plain": [
       "<function matplotlib.pyplot.tight_layout(*, pad=1.08, h_pad=None, w_pad=None, rect=None)>"
      ]
     },
     "execution_count": 27,
     "metadata": {},
     "output_type": "execute_result"
    }
   ],
   "source": [
    "import matplotlib.pyplot as plt\n",
    "df.scatter_matrix(bins=30)\n",
    "plt.tight_layout"
   ]
  },
  {
   "cell_type": "markdown",
   "metadata": {
    "collapsed": true
   },
   "source": [
    "# Great Job!"
   ]
  }
 ],
 "metadata": {
  "kernelspec": {
   "display_name": "Python 3 (ipykernel)",
   "language": "python",
   "name": "python3"
  },
  "language_info": {
   "codemirror_mode": {
    "name": "ipython",
    "version": 3
   },
   "file_extension": ".py",
   "mimetype": "text/x-python",
   "name": "python",
   "nbconvert_exporter": "python",
   "pygments_lexer": "ipython3",
   "version": "3.8.12"
  }
 },
 "nbformat": 4,
 "nbformat_minor": 1
}
